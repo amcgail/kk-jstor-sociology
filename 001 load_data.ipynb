{
 "cells": [
  {
   "cell_type": "markdown",
   "metadata": {},
   "source": [
    "todo: \n",
    "+ split this apart into multiple steps, and document each one.\n",
    "+ get time-series data to Ben\n",
    "+ put this into an AWS instance with 64GB memory and crank the results out (is a lambda practical?)"
   ]
  },
  {
   "cell_type": "code",
   "execution_count": 1,
   "metadata": {},
   "outputs": [],
   "source": [
    "from knowknow import *"
   ]
  },
  {
   "cell_type": "code",
   "execution_count": 2,
   "metadata": {},
   "outputs": [],
   "source": [
    "from knowknow.datasources import jstor"
   ]
  },
  {
   "cell_type": "code",
   "execution_count": 4,
   "metadata": {},
   "outputs": [],
   "source": [
    "class sparse_counter( jstor.jstor_counter ):\n",
    "\n",
    "    def account_for(self, doc):\n",
    "\n",
    "        # year\n",
    "        self.cnt(doc['year'], 'fy', doc['doi'])\n",
    "\n",
    "        # journal\n",
    "        self.cnt(doc['journal'], 'fj', doc['doi'])\n",
    "\n",
    "        # journal year\n",
    "        self.cnt((doc['journal'], doc['year']), 'fj.fy', doc['doi'])\n",
    "\n",
    "        # constructing the tuples set :)\n",
    "        sp = doc['content'].lower() # debating lowercaseing..\n",
    "        sp = re.sub(\"[^a-zA-Z\\s]+\", \"\", sp)  # removing extraneous characters\n",
    "        sp = re.sub(\"\\s+\", \" \", sp)  # removing extra characters\n",
    "        sp = sp.strip()\n",
    "        sp = sp.split()  # splitting into words\n",
    "\n",
    "        sp = [x for x in sp if x not in self.stopwords]  # strip stopwords\n",
    "        sp = [x for x in sp if len(x) >= 3 ] # strip short words\n",
    "\n",
    "        # print(len(tups),c['contextPure'], \"---\", tups)\n",
    "\n",
    "        tups = set(\"-\".join(list(x)) for x in set(zip(sp[:-1], sp[1:])))  # two-word *ordered* tuples\n",
    "        tups.update(sp)  # one-word tuples\n",
    "\n",
    "        if len(self.term_whitelist):\n",
    "            tups = [x for x in tups if x in self.term_whitelist]\n",
    "\n",
    "        # just term count, in case we are using the `basic` mode\n",
    "        for t1 in tups:\n",
    "            # term\n",
    "            self.cnt((t1,), 't', doc['doi'])\n",
    "            # term journal\n",
    "            #self.cnt((doc['journal'], t1), 'fj.t', doc['doi'])\n",
    "            # term year\n",
    "            #self.cnt((doc['year'], t1), 'fy.t', doc['doi'])\n",
    "            \n",
    "            # year\n",
    "            self.cnt(doc['year'], 'fy', doc['doi'])\n",
    "\n",
    "            # journal\n",
    "            self.cnt(doc['journal'], 'fj', doc['doi'])"
   ]
  },
  {
   "cell_type": "code",
   "execution_count": 5,
   "metadata": {},
   "outputs": [],
   "source": [
    "c = sparse_counter(\n",
    "    jstor_zip_base = \"G:/My Drive/2020 ORGANISATION/1. PROJECTS/qualitative analysis of literature/110 CITATION ANALYSIS/000 data/sociology jstor\",\n",
    "    #jstor_zip_base = \"Z:/google_drive/1. PROJECTS/qualitative analysis of literature/110 CITATION ANALYSIS/000 data/sociology jstor\",\n",
    "    output_database = 'sociology-jstor-sparse-simple',\n",
    "    RUN_EVERYTHING=False, SKIP_N = 10*5 - 1\n",
    ")"
   ]
  },
  {
   "cell_type": "code",
   "execution_count": 6,
   "metadata": {},
   "outputs": [
    {
     "name": "stdout",
     "output_type": "stream",
     "text": [
      "Will print updated statistics every 20 documents.\n",
      "Iterating over  248380 documents\n",
      "Document 0 ... 0 journals... 0 cited works... 0 authors... 0 terms used... 0 'social' terms\n",
      "Document 20 ... 12 journals... 0 cited works... 0 authors... 59319 terms used... 15 'social' terms\n",
      "Document 40 ... 17 journals... 0 cited works... 0 authors... 117122 terms used... 28 'social' terms\n",
      "Document 60 ... 24 journals... 0 cited works... 0 authors... 160704 terms used... 41 'social' terms\n",
      "Document 80 ... 28 journals... 0 cited works... 0 authors... 220443 terms used... 56 'social' terms\n",
      "Document 100 ... 31 journals... 0 cited works... 0 authors... 269294 terms used... 68 'social' terms\n",
      "Document 120 ... 31 journals... 0 cited works... 0 authors... 307610 terms used... 81 'social' terms\n",
      "Document 140 ... 33 journals... 0 cited works... 0 authors... 359061 terms used... 96 'social' terms\n",
      "Document 160 ... 35 journals... 0 cited works... 0 authors... 395198 terms used... 109 'social' terms\n",
      "Document 180 ... 37 journals... 0 cited works... 0 authors... 447948 terms used... 126 'social' terms\n",
      "Document 200 ... 38 journals... 0 cited works... 0 authors... 498334 terms used... 142 'social' terms\n",
      "Document 220 ... 38 journals... 0 cited works... 0 authors... 545259 terms used... 158 'social' terms\n",
      "Document 240 ... 39 journals... 0 cited works... 0 authors... 584740 terms used... 172 'social' terms\n",
      "Document 260 ... 39 journals... 0 cited works... 0 authors... 631515 terms used... 187 'social' terms\n",
      "Document 280 ... 39 journals... 0 cited works... 0 authors... 683335 terms used... 203 'social' terms\n",
      "Document 300 ... 40 journals... 0 cited works... 0 authors... 722345 terms used... 217 'social' terms\n",
      "Document 320 ... 40 journals... 0 cited works... 0 authors... 769267 terms used... 235 'social' terms\n",
      "Document 340 ... 41 journals... 0 cited works... 0 authors... 811148 terms used... 250 'social' terms\n",
      "Document 360 ... 41 journals... 0 cited works... 0 authors... 853081 terms used... 264 'social' terms\n",
      "Document 380 ... 42 journals... 0 cited works... 0 authors... 888319 terms used... 279 'social' terms\n",
      "Document 400 ... 42 journals... 0 cited works... 0 authors... 926624 terms used... 294 'social' terms\n",
      "Document 420 ... 42 journals... 0 cited works... 0 authors... 969894 terms used... 309 'social' terms\n",
      "Document 440 ... 42 journals... 0 cited works... 0 authors... 1026302 terms used... 325 'social' terms\n",
      "Document 460 ... 42 journals... 0 cited works... 0 authors... 1071089 terms used... 342 'social' terms\n",
      "Document 480 ... 42 journals... 0 cited works... 0 authors... 1109317 terms used... 357 'social' terms\n",
      "Document 500 ... 42 journals... 0 cited works... 0 authors... 1141041 terms used... 369 'social' terms\n",
      "Document 520 ... 43 journals... 0 cited works... 0 authors... 1173224 terms used... 383 'social' terms\n",
      "Document 540 ... 43 journals... 0 cited works... 0 authors... 1218694 terms used... 399 'social' terms\n",
      "Document 560 ... 43 journals... 0 cited works... 0 authors... 1267412 terms used... 414 'social' terms\n",
      "Document 580 ... 43 journals... 0 cited works... 0 authors... 1304488 terms used... 429 'social' terms\n",
      "Document 600 ... 44 journals... 0 cited works... 0 authors... 1356531 terms used... 446 'social' terms\n",
      "Document 620 ... 44 journals... 0 cited works... 0 authors... 1383766 terms used... 456 'social' terms\n",
      "Document 640 ... 44 journals... 0 cited works... 0 authors... 1418880 terms used... 470 'social' terms\n",
      "Document 660 ... 44 journals... 0 cited works... 0 authors... 1453522 terms used... 484 'social' terms\n",
      "Document 680 ... 44 journals... 0 cited works... 0 authors... 1505723 terms used... 502 'social' terms\n",
      "Document 700 ... 44 journals... 0 cited works... 0 authors... 1547742 terms used... 517 'social' terms\n",
      "Document 720 ... 44 journals... 0 cited works... 0 authors... 1596718 terms used... 535 'social' terms\n",
      "Document 740 ... 44 journals... 0 cited works... 0 authors... 1626020 terms used... 549 'social' terms\n",
      "Document 760 ... 44 journals... 0 cited works... 0 authors... 1671562 terms used... 564 'social' terms\n",
      "Document 780 ... 44 journals... 0 cited works... 0 authors... 1707495 terms used... 581 'social' terms\n",
      "Document 800 ... 44 journals... 0 cited works... 0 authors... 1735215 terms used... 592 'social' terms\n",
      "Document 820 ... 44 journals... 0 cited works... 0 authors... 1762601 terms used... 605 'social' terms\n",
      "Document 840 ... 44 journals... 0 cited works... 0 authors... 1805342 terms used... 622 'social' terms\n",
      "Document 860 ... 44 journals... 0 cited works... 0 authors... 1840542 terms used... 637 'social' terms\n",
      "Document 880 ... 44 journals... 0 cited works... 0 authors... 1858555 terms used... 647 'social' terms\n",
      "Document 900 ... 44 journals... 0 cited works... 0 authors... 1905881 terms used... 665 'social' terms\n",
      "Document 920 ... 45 journals... 0 cited works... 0 authors... 1950944 terms used... 681 'social' terms\n",
      "Document 940 ... 45 journals... 0 cited works... 0 authors... 1982931 terms used... 694 'social' terms\n",
      "Document 960 ... 45 journals... 0 cited works... 0 authors... 2014983 terms used... 709 'social' terms\n",
      "Document 980 ... 45 journals... 0 cited works... 0 authors... 2050871 terms used... 724 'social' terms\n",
      "Document 1000 ... 45 journals... 0 cited works... 0 authors... 2088870 terms used... 739 'social' terms\n",
      "Document 1020 ... 45 journals... 0 cited works... 0 authors... 2130934 terms used... 757 'social' terms\n",
      "Document 1040 ... 45 journals... 0 cited works... 0 authors... 2173991 terms used... 771 'social' terms\n",
      "Document 1060 ... 46 journals... 0 cited works... 0 authors... 2204844 terms used... 783 'social' terms\n",
      "Document 1080 ... 46 journals... 0 cited works... 0 authors... 2248664 terms used... 801 'social' terms\n",
      "Document 1100 ... 46 journals... 0 cited works... 0 authors... 2281995 terms used... 813 'social' terms\n",
      "Document 1120 ... 46 journals... 0 cited works... 0 authors... 2308918 terms used... 827 'social' terms\n",
      "Document 1140 ... 46 journals... 0 cited works... 0 authors... 2341160 terms used... 841 'social' terms\n",
      "Document 1160 ... 46 journals... 0 cited works... 0 authors... 2388998 terms used... 857 'social' terms\n",
      "Document 1180 ... 46 journals... 0 cited works... 0 authors... 2431977 terms used... 872 'social' terms\n",
      "Document 1200 ... 46 journals... 0 cited works... 0 authors... 2464969 terms used... 888 'social' terms\n",
      "Document 1220 ... 46 journals... 0 cited works... 0 authors... 2490193 terms used... 901 'social' terms\n",
      "Document 1240 ... 46 journals... 0 cited works... 0 authors... 2528049 terms used... 916 'social' terms\n",
      "Document 1260 ... 46 journals... 0 cited works... 0 authors... 2567412 terms used... 933 'social' terms\n",
      "Document 1280 ... 46 journals... 0 cited works... 0 authors... 2587319 terms used... 946 'social' terms\n"
     ]
    }
   ],
   "source": [
    "c.count()"
   ]
  },
  {
   "cell_type": "code",
   "execution_count": 7,
   "metadata": {},
   "outputs": [
    {
     "data": {
      "text/plain": [
       "'sociology-jstor-sparse-simple'"
      ]
     },
     "execution_count": 7,
     "metadata": {},
     "output_type": "execute_result"
    }
   ],
   "source": [
    "c.output_database"
   ]
  },
  {
   "cell_type": "code",
   "execution_count": 8,
   "metadata": {},
   "outputs": [
    {
     "data": {
      "text/plain": [
       "2605589"
      ]
     },
     "execution_count": 8,
     "metadata": {},
     "output_type": "execute_result"
    }
   ],
   "source": [
    "len(c.doc['t'])"
   ]
  },
  {
   "cell_type": "code",
   "execution_count": 9,
   "metadata": {},
   "outputs": [
    {
     "name": "stdout",
     "output_type": "stream",
     "text": [
      "loading variable sociology-jstor-sparse-simple/_attributes from disk\n",
      "loading variable sociology-jstor-sparse-simple/groups from disk\n"
     ]
    }
   ],
   "source": [
    "c.save_counters()"
   ]
  },
  {
   "cell_type": "markdown",
   "metadata": {},
   "source": [
    "# setting date range"
   ]
  },
  {
   "cell_type": "code",
   "execution_count": 10,
   "metadata": {},
   "outputs": [],
   "source": [
    "from knowknow import *"
   ]
  },
  {
   "cell_type": "code",
   "execution_count": 11,
   "metadata": {},
   "outputs": [
    {
     "name": "stdout",
     "output_type": "stream",
     "text": [
      "loading variable sociology-jstor-sparse-simple/groups from disk\n"
     ]
    }
   ],
   "source": [
    "c = Dataset('sociology-jstor-sparse-simple')"
   ]
  },
  {
   "cell_type": "code",
   "execution_count": 21,
   "metadata": {},
   "outputs": [
    {
     "data": {
      "text/plain": [
       "[<matplotlib.lines.Line2D at 0x1680bdf0608>]"
      ]
     },
     "execution_count": 21,
     "metadata": {},
     "output_type": "execute_result"
    },
    {
     "data": {
      "image/png": "[encoded data removed]",
      "text/plain": [
       "<Figure size 432x288 with 1 Axes>"
      ]
     },
     "metadata": {},
     "output_type": "display_data"
    }
   ],
   "source": [
    "by_y = c.by('fy').docs\n",
    "ys = sorted(by_y.keys())\n",
    "ys = range(ys[0].fy, ys[-1].fy+1)\n",
    "cs = [by_y[(y,)] for y in ys]\n",
    "\n",
    "plt.plot(ys,cs)"
   ]
  },
  {
   "cell_type": "code",
   "execution_count": 13,
   "metadata": {},
   "outputs": [],
   "source": [
    "c.set_attribute('RELIABLE_DATA_STARTS_HERE', 1970)\n",
    "c.set_attribute('RELIABLE_DATA_ENDS_HERE', 2015)"
   ]
  },
  {
   "cell_type": "markdown",
   "metadata": {},
   "source": [
    "# first filter based on number of times each term was mentioned\n",
    "\n",
    "We want this to be as wide a net we can stand for the next filtering processes.\n",
    "I cannot keep track of yearly counts of all terms, or even simple term counts (at least, not without dynamic consolidation), because of RAM limitations.\n",
    "Remember that I'm keeping track of all words, but also all two-word tuples!\n",
    "So this first stage is only using 1/10 of the documents (see above, SKIP_N)."
   ]
  },
  {
   "cell_type": "markdown",
   "metadata": {},
   "source": [
    "<!--At this point, subsetting the data now that we have a terms list will not help our memory issue.-->\n",
    "The term-term coocurrence network uses N^2 integers, which with 1M terms is 1M^2 = 1TB of memory.\n",
    "If we can limit to ~30,000 terms, approximately the working vocabulary of an adult, this would fit in 1GB of memory.\n",
    "We can filter by term *dynamics* instead of just relying on .\n",
    "We can also limit the 1-tuples and 2-tuples independently, reserving 15,000 terms for each.\n",
    "2-tuples currently make up the majority of our counts, but are not inherently more important than 1-tuples."
   ]
  },
  {
   "cell_type": "code",
   "execution_count": 14,
   "metadata": {},
   "outputs": [],
   "source": [
    "#plt.plot([t._dp[y] for y in range(1950,2015)])"
   ]
  },
  {
   "cell_type": "code",
   "execution_count": 15,
   "metadata": {},
   "outputs": [],
   "source": [
    "target_N = 1000"
   ]
  },
  {
   "cell_type": "code",
   "execution_count": 26,
   "metadata": {},
   "outputs": [
    {
     "name": "stdout",
     "output_type": "stream",
     "text": [
      "loading variable sociology-jstor-sparse-simple/doc ___ t from disk\n"
     ]
    }
   ],
   "source": [
    "cc = c.by('t').docs"
   ]
  },
  {
   "cell_type": "code",
   "execution_count": 27,
   "metadata": {},
   "outputs": [],
   "source": [
    "ndocs = sum(c.by('fy').docs.values())\n",
    "#cutoff_bot = 0.001 # if present in less than 1/1000 of the documents, discard\n",
    "#cutoff_count = 2 # if present in less than 2 documents, discard\n",
    "#cutoff_top = 0.500 # if present in more than 50% of documents, discard\n",
    "\n",
    "assert( not any( c>ndocs for c in cc.values() ) )\n",
    "\n",
    "#ndoc_bot = cutoff_bot*ndocs\n",
    "#ndoc_bot = max(cutoff_count, ndoc_bot)\n",
    "\n",
    "#terms_to_keep = [t for t,c in c.doc['t'].items() if ndoc_bot <= c <= cutoff_top*ndocs]\n",
    "\n",
    "tups1 = sorted(\n",
    "    [x for x in cc if '-' not in x[0]], \n",
    "    key=lambda x:cc[x]\n",
    ")[ -target_N//2: ]\n",
    "\n",
    "tups2 = sorted(\n",
    "    [x for x in cc if '-' in x[0]], \n",
    "    key=lambda x:cc[x]\n",
    ")[ -target_N//2: ]\n",
    "\n",
    "terms_to_keep = tups1 + tups2"
   ]
  },
  {
   "cell_type": "markdown",
   "metadata": {},
   "source": [
    "# entropy over journals"
   ]
  },
  {
   "cell_type": "code",
   "execution_count": 29,
   "metadata": {},
   "outputs": [],
   "source": [
    "from scipy.stats import entropy"
   ]
  },
  {
   "cell_type": "code",
   "execution_count": 30,
   "metadata": {},
   "outputs": [
    {
     "data": {
      "text/plain": [
       "0.6931471805599453"
      ]
     },
     "execution_count": 30,
     "metadata": {},
     "output_type": "execute_result"
    }
   ],
   "source": [
    "entropy([1/2,1/2])"
   ]
  },
  {
   "cell_type": "code",
   "execution_count": 31,
   "metadata": {},
   "outputs": [
    {
     "data": {
      "text/plain": [
       "0.6931471805599453"
      ]
     },
     "execution_count": 31,
     "metadata": {},
     "output_type": "execute_result"
    }
   ],
   "source": [
    "-1 * .5 * np.log(0.5) * 2"
   ]
  },
  {
   "cell_type": "code",
   "execution_count": 32,
   "metadata": {},
   "outputs": [
    {
     "name": "stdout",
     "output_type": "stream",
     "text": [
      "loading variable sociology-jstor-sparse-simple/ind ___ fj from disk\n",
      "loading variable sociology-jstor-sparse-simple/doc ___ fj.t from disk\n"
     ]
    }
   ],
   "source": [
    "journals = c.items('fj')\n",
    "\n",
    "ents = []\n",
    "\n",
    "for (term,) in terms_to_keep:\n",
    "    a = [ c(t=term, fj=JJ).docs for JJ in journals]\n",
    "    ents.append( entropy(a) )"
   ]
  },
  {
   "cell_type": "code",
   "execution_count": 33,
   "metadata": {},
   "outputs": [
    {
     "data": {
      "image/png": "[encoded data removed]",
      "text/plain": [
       "<Figure size 432x288 with 1 Axes>"
      ]
     },
     "metadata": {},
     "output_type": "display_data"
    }
   ],
   "source": [
    "plt.hist(ents, bins=30);"
   ]
  },
  {
   "cell_type": "code",
   "execution_count": 34,
   "metadata": {},
   "outputs": [
    {
     "name": "stdout",
     "output_type": "stream",
     "text": [
      "1.4931160821814595 t(t='carolina-press')\n",
      "1.530901041002346 t(t='key-words')\n",
      "1.8816957207549756 t(t='university-north')\n",
      "1.9157719621028604 t(t='journal-marriage')\n",
      "1.9294248090380695 t(t='direct-correspondence')\n",
      "2.055959141225672 t(t='science-review')\n",
      "2.066456631395096 t(t='scientific-study')\n",
      "2.0852658743579036 t(t='volume-number')\n",
      "2.1809209372410616 t(t='north-carolina')\n",
      "2.2579704209526525 t(t='marriage-family')\n",
      "2.2980082049192228 t(t='human-development')\n",
      "2.299894124001868 t(t='family-structure')\n",
      "2.3234607440687944 t(t='journal-political')\n",
      "2.3288054804545855 t(t='rights-reserved')\n",
      "2.3585056159316116 t(t='quality-life')\n",
      "2.3860430542578563 t(t='american-political')\n",
      "2.405158370502643 t(t='bureau-census')\n",
      "2.411138740415502 t(t='prior-research')\n",
      "2.428223352223742 t(t='test-whether')\n",
      "2.4572778975936753 t(t='human-capital')\n",
      "2.4777178723182454 t(t='sex-differences')\n",
      "2.4878947178518986 t(t='blacks-whites')\n",
      "2.507056611901298 t(t='sociological-quarterly')\n",
      "2.512205421027155 t(t='professor-sociology')\n",
      "2.5449549994828446 t(t='change-time')\n",
      "2.5455506263772576 t(t='chapel-hill')\n",
      "2.5504010407324427 t(t='marital-status')\n",
      "2.5541949793436114 t(t='two-measures')\n",
      "2.562608094355894 t(t='significant-effects')\n",
      "2.5764075984281316 t(t='negative-effects')\n"
     ]
    }
   ],
   "source": [
    "for j in np.argsort(ents)[:30]:\n",
    "    print(ents[j], terms_to_keep[j])"
   ]
  },
  {
   "cell_type": "code",
   "execution_count": 35,
   "metadata": {},
   "outputs": [
    {
     "name": "stdout",
     "output_type": "stream",
     "text": [
      "3.42146214573554 t(t='concept')\n",
      "3.4226313034057068 t(t='say')\n",
      "3.422853957612925 t(t='thought')\n",
      "3.4241339017696792 t(t='always')\n",
      "3.4245696303797795 t(t='social-relations')\n",
      "3.424716967235051 t(t='knowledge')\n",
      "3.424796065063742 t(t='perspective')\n",
      "3.4260708556923456 t(t='never')\n",
      "3.4261854746330287 t(t='culture')\n",
      "3.426849270039543 t(t='situation')\n",
      "3.4274323629875836 t(t='vol')\n",
      "3.429245030259341 t(t='ones')\n",
      "3.4321690242300065 t(t='class')\n",
      "3.432321677623457 t(t='become')\n",
      "3.4329513815816166 t(t='already')\n",
      "3.4337998264761747 t(t='world')\n",
      "3.434703835988382 t(t='like')\n",
      "3.4352466908071038 t(t='sense')\n",
      "3.4363294403273694 t(t='position')\n",
      "3.4377457080802842 t(t='place')\n",
      "3.4377735860880883 t(t='york')\n",
      "3.4379068252485703 t(t='special')\n",
      "3.4384652010868595 t(t='seen')\n",
      "3.43913405694472 t(t='new-york')\n",
      "3.4391617371559433 t(t='whole')\n",
      "3.4411739384961932 t(t='end')\n",
      "3.445159859326719 t(t='history')\n",
      "3.4614270810313976 t(t='give')\n",
      "3.4645037618857386 t(t='introduction')\n",
      "3.4658349866361933 t(t='understand')\n"
     ]
    }
   ],
   "source": [
    "for j in np.argsort(ents)[-30:]:\n",
    "    print(ents[j], terms_to_keep[j])"
   ]
  },
  {
   "cell_type": "markdown",
   "metadata": {},
   "source": [
    "# just number of journals it's mentioned in"
   ]
  },
  {
   "cell_type": "code",
   "execution_count": 36,
   "metadata": {},
   "outputs": [],
   "source": [
    "journals = c.items('fj')\n",
    "\n",
    "counts = []\n",
    "\n",
    "for (term,) in terms_to_keep:\n",
    "    counts.append( sum(\n",
    "        c(t=term, fj=JJ).docs > 0 \n",
    "        for JJ in journals\n",
    "    ) )"
   ]
  },
  {
   "cell_type": "code",
   "execution_count": 37,
   "metadata": {},
   "outputs": [
    {
     "data": {
      "text/plain": [
       "46"
      ]
     },
     "execution_count": 37,
     "metadata": {},
     "output_type": "execute_result"
    }
   ],
   "source": [
    "len(journals)"
   ]
  },
  {
   "cell_type": "code",
   "execution_count": 38,
   "metadata": {},
   "outputs": [
    {
     "data": {
      "text/plain": [
       "(array([  1.,   1.,   1.,   2.,   4.,  13.,  12.,  49.,  48.,  60.,  61.,\n",
       "         63.,  63.,  20.,  44.,  26.,  30.,  70., 198., 234.]),\n",
       " array([ 9.  , 10.85, 12.7 , 14.55, 16.4 , 18.25, 20.1 , 21.95, 23.8 ,\n",
       "        25.65, 27.5 , 29.35, 31.2 , 33.05, 34.9 , 36.75, 38.6 , 40.45,\n",
       "        42.3 , 44.15, 46.  ]),\n",
       " <a list of 20 Patch objects>)"
      ]
     },
     "execution_count": 38,
     "metadata": {},
     "output_type": "execute_result"
    },
    {
     "data": {
      "image/png": "[encoded data removed]",
      "text/plain": [
       "<Figure size 432x288 with 1 Axes>"
      ]
     },
     "metadata": {},
     "output_type": "display_data"
    }
   ],
   "source": [
    "plt.hist(counts, bins=20)"
   ]
  },
  {
   "cell_type": "code",
   "execution_count": 39,
   "metadata": {},
   "outputs": [
    {
     "name": "stdout",
     "output_type": "stream",
     "text": [
      "22 2.781126340749604 t(t='demographic-characteristics')\n",
      "28 2.9297019971395204 t(t='help-explain')\n",
      "27 2.9661292068557166 t(t='political-power')\n",
      "24 2.955643179321068 t(t='time-time')\n",
      "21 2.8136825409708073 t(t='noted-earlier')\n",
      "29 3.1048523758305198 t(t='dependent-upon')\n",
      "23 2.645580774740674 t(t='life-cycle')\n",
      "24 2.8595087768233256 t(t='see-figure')\n",
      "25 2.7819186293430143 t(t='high-rates')\n",
      "26 2.961251539845244 t(t='racial-ethnic')\n"
     ]
    }
   ],
   "source": [
    "cc = np.array(counts)\n",
    "for ii in np.argwhere( (cc>20) & (cc<30) ).flatten()[:10]:\n",
    "    print(counts[ii], ents[ii], terms_to_keep[ii])"
   ]
  },
  {
   "cell_type": "code",
   "execution_count": 40,
   "metadata": {},
   "outputs": [
    {
     "name": "stdout",
     "output_type": "stream",
     "text": [
      "9 1.530901041002346 t(t='key-words')\n",
      "12 2.0852658743579036 t(t='volume-number')\n",
      "14 2.3288054804545855 t(t='rights-reserved')\n",
      "15 1.9294248090380695 t(t='direct-correspondence')\n",
      "16 2.4878947178518986 t(t='blacks-whites')\n",
      "17 2.428223352223742 t(t='test-whether')\n",
      "17 2.066456631395096 t(t='scientific-study')\n",
      "18 2.4777178723182454 t(t='sex-differences')\n",
      "18 2.411138740415502 t(t='prior-research')\n",
      "19 2.5449549994828446 t(t='change-time')\n",
      "46 3.3623505980286623 t(t='understanding')\n",
      "46 3.360995903476422 t(t='groups')\n",
      "46 3.3787794659206134 t(t='sociological')\n",
      "46 3.4080174033354704 t(t='people')\n",
      "46 3.434703835988382 t(t='like')\n",
      "46 3.3960287504258475 t(t='role')\n",
      "46 3.356473069673376 t(t='discussion')\n",
      "46 3.3849474337636623 t(t='state')\n",
      "46 3.4179654039663787 t(t='society')\n",
      "46 3.3814546458177026 t(t='one')\n"
     ]
    }
   ],
   "source": [
    "cc = np.array(counts)\n",
    "for ii in np.argsort( cc )[:10]:\n",
    "    print(counts[ii], ents[ii], terms_to_keep[ii])\n",
    "for ii in np.argsort( cc )[-10:]:\n",
    "    print(counts[ii], ents[ii], terms_to_keep[ii])"
   ]
  },
  {
   "cell_type": "code",
   "execution_count": 41,
   "metadata": {},
   "outputs": [
    {
     "data": {
      "text/plain": [
       "<matplotlib.collections.PathCollection at 0x167d4223d08>"
      ]
     },
     "execution_count": 41,
     "metadata": {},
     "output_type": "execute_result"
    },
    {
     "data": {
      "image/png": "[encoded data removed]",
      "text/plain": [
       "<Figure size 432x288 with 1 Axes>"
      ]
     },
     "metadata": {},
     "output_type": "display_data"
    }
   ],
   "source": [
    "plt.scatter(\n",
    "    counts,\n",
    "    [\n",
    "        c(t=t[0]).docs\n",
    "        for t in terms_to_keep\n",
    "    ]\n",
    ")"
   ]
  },
  {
   "cell_type": "markdown",
   "metadata": {},
   "source": [
    "# let's investigate"
   ]
  },
  {
   "cell_type": "code",
   "execution_count": 43,
   "metadata": {},
   "outputs": [],
   "source": [
    "tinv = sample(terms_to_keep, 5)"
   ]
  },
  {
   "cell_type": "code",
   "execution_count": 45,
   "metadata": {},
   "outputs": [
    {
     "data": {
      "text/plain": [
       "[t(t='data-set'),\n",
       " t(t='expected'),\n",
       " t(t='appears'),\n",
       " t(t='specifically'),\n",
       " t(t='social-behavior')]"
      ]
     },
     "execution_count": 45,
     "metadata": {},
     "output_type": "execute_result"
    }
   ],
   "source": [
    "tinv"
   ]
  },
  {
   "cell_type": "code",
   "execution_count": 46,
   "metadata": {},
   "outputs": [
    {
     "name": "stdout",
     "output_type": "stream",
     "text": [
      "data-set\n"
     ]
    },
    {
     "data": {
      "image/png": "[encoded data removed]",
      "text/plain": [
       "<Figure size 432x288 with 1 Axes>"
      ]
     },
     "metadata": {},
     "output_type": "display_data"
    },
    {
     "name": "stdout",
     "output_type": "stream",
     "text": [
      "expected\n"
     ]
    },
    {
     "data": {
      "image/png": "[encoded data removed]",
      "text/plain": [
       "<Figure size 432x288 with 1 Axes>"
      ]
     },
     "metadata": {},
     "output_type": "display_data"
    },
    {
     "name": "stdout",
     "output_type": "stream",
     "text": [
      "appears\n"
     ]
    },
    {
     "data": {
      "image/png": "[encoded data removed]",
      "text/plain": [
       "<Figure size 432x288 with 1 Axes>"
      ]
     },
     "metadata": {},
     "output_type": "display_data"
    },
    {
     "name": "stdout",
     "output_type": "stream",
     "text": [
      "specifically\n"
     ]
    },
    {
     "data": {
      "image/png": "[encoded data removed]",
      "text/plain": [
       "<Figure size 432x288 with 1 Axes>"
      ]
     },
     "metadata": {},
     "output_type": "display_data"
    },
    {
     "name": "stdout",
     "output_type": "stream",
     "text": [
      "social-behavior\n"
     ]
    },
    {
     "data": {
      "image/png": "[encoded data removed]",
      "text/plain": [
       "<Figure size 432x288 with 1 Axes>"
      ]
     },
     "metadata": {},
     "output_type": "display_data"
    }
   ],
   "source": [
    "for term, in tinv:\n",
    "    t = c.trend('t', term)\n",
    "    print(term)\n",
    "    plt.plot([t._cp[y] for y in range(1950,2015)])\n",
    "    plt.show()"
   ]
  },
  {
   "cell_type": "code",
   "execution_count": 19,
   "metadata": {},
   "outputs": [],
   "source": [
    "term_blacklist = []"
   ]
  },
  {
   "cell_type": "code",
   "execution_count": 20,
   "metadata": {},
   "outputs": [
    {
     "name": "stdout",
     "output_type": "stream",
     "text": [
      "loading variable sociology-jstor-sparse-simple/ind ___ t from disk\n"
     ]
    }
   ],
   "source": [
    "term_blacklist += [x for x in c.items('t') if len(x) <=2]"
   ]
  },
  {
   "cell_type": "code",
   "execution_count": 21,
   "metadata": {},
   "outputs": [
    {
     "data": {
      "text/plain": [
       "659"
      ]
     },
     "execution_count": 21,
     "metadata": {},
     "output_type": "execute_result"
    }
   ],
   "source": [
    "len(term_blacklist)"
   ]
  },
  {
   "cell_type": "code",
   "execution_count": null,
   "metadata": {},
   "outputs": [],
   "source": [
    "term_blacklist"
   ]
  },
  {
   "cell_type": "code",
   "execution_count": null,
   "metadata": {},
   "outputs": [],
   "source": [
    "term_blacklist = set(term_blacklist)"
   ]
  },
  {
   "cell_type": "code",
   "execution_count": 14,
   "metadata": {},
   "outputs": [],
   "source": [
    "terms_to_keep = [x[0] for x in terms_to_keep]"
   ]
  },
  {
   "cell_type": "code",
   "execution_count": 29,
   "metadata": {},
   "outputs": [
    {
     "name": "stdout",
     "output_type": "stream",
     "text": [
      "['indicate', 'one', 'despite', 'recent', 'london-routledge', 'descriptive-statistics', 'ed', 'sociological-theory', 'social-system', 'social-scientists', 'order', 'policy', 'processes', 'article', 'per-cent', 'source', 'sociology-social', 'compared', 'decision-making', 'great-deal', 'high-levels', 'seems', 'cultural', 'j-c', 'seen', 'percent-percent', 'persons', 'among', 'may-seem', 'factor-analysis', 'basis', 'york-mcgrawhill', 'provide', 'two-groups', 'government', 'behavior', 'changing', 'reported-table', 'another-way', 'c-j', 'social-mobility', 'oaks-ca', 'yale-university', 'much-higher', 'provides', 'must', 'literature', 'sample-size', 'institute-social', 'higher-education']\n"
     ]
    }
   ],
   "source": [
    "from random import sample\n",
    "print(sample(terms_to_keep, 50))"
   ]
  },
  {
   "cell_type": "code",
   "execution_count": 31,
   "metadata": {},
   "outputs": [
    {
     "name": "stdout",
     "output_type": "stream",
     "text": [
      "Reducing the number of terms from 2,740,481 to 1,000.\n"
     ]
    }
   ],
   "source": [
    "print(f\"Reducing the number of terms from {len(cc):0,} to {len(terms_to_keep):0,}.\")\n",
    "#print(f\"To those terms present in a minimum of {ndoc_bot} docs, and maximum of {cutoff_top*ndocs} docs.\")"
   ]
  },
  {
   "cell_type": "code",
   "execution_count": 51,
   "metadata": {},
   "outputs": [],
   "source": [
    "import pickle\n",
    "with open('terms.pickle', 'wb') as outf:\n",
    "    pickle.dump([x[0] for x in terms_to_keep],outf)"
   ]
  },
  {
   "cell_type": "code",
   "execution_count": null,
   "metadata": {},
   "outputs": [],
   "source": [
    "raise"
   ]
  },
  {
   "cell_type": "code",
   "execution_count": null,
   "metadata": {},
   "outputs": [],
   "source": [
    "# store terms_to_keep"
   ]
  },
  {
   "cell_type": "markdown",
   "metadata": {},
   "source": [
    "# recount with fuller detail"
   ]
  },
  {
   "cell_type": "markdown",
   "metadata": {},
   "source": [
    "on my desktop computer this takes way too much time"
   ]
  },
  {
   "cell_type": "code",
   "execution_count": 4,
   "metadata": {},
   "outputs": [],
   "source": [
    "from knowknow import *"
   ]
  },
  {
   "cell_type": "code",
   "execution_count": 5,
   "metadata": {},
   "outputs": [],
   "source": [
    "from knowknow.datasources import jstor"
   ]
  },
  {
   "cell_type": "code",
   "execution_count": 6,
   "metadata": {},
   "outputs": [],
   "source": [
    "class full_counter( jstor.jstor_counter ):\n",
    "    \n",
    "    WINDOW = 250\n",
    "\n",
    "    def account_for(self, doc):\n",
    "\n",
    "        # year\n",
    "        self.cnt(doc['year'], 'fy', doc['doi'])\n",
    "\n",
    "        # journal\n",
    "        self.cnt(doc['journal'], 'fj', doc['doi'])\n",
    "\n",
    "        # journal year\n",
    "        self.cnt((doc['journal'], doc['year']), 'fj.fy', doc['doi'])\n",
    "\n",
    "        # constructing the tuples set :)\n",
    "        \n",
    "        sp = doc['content'].lower() # debating lowercaseing..\n",
    "        sp = re.sub(\"[^a-zA-Z\\s]+\", \"\", sp)  # removing extraneous characters\n",
    "        sp = re.sub(\"\\s+\", \" \", sp)  # removing extra characters\n",
    "        sp = sp.strip()\n",
    "        sp = sp.split()  # splitting into words\n",
    "\n",
    "        sp = [x for x in sp if x not in self.stopwords]  # strip stopwords\n",
    "\n",
    "        # print(len(tups),c['contextPure'], \"---\", tups)\n",
    "\n",
    "        # keep everything in order\n",
    "        tups = [\"-\".join(list(x)) for x in zip(sp[:-1], sp[1:])]  # two-word *ordered* tuples\n",
    "        tups = [ sp[i//2] if i%2==0 else tups[(i-1)//2] for i in range(2*len(sp)-1) ]\n",
    "\n",
    "        if len(self.term_whitelist):\n",
    "            tups = [x for x in tups if x in self.term_whitelist]\n",
    "\n",
    "        # just term count, in case we are using the `basic` mode\n",
    "        for i1, t1 in enumerate(tups):\n",
    "            # term\n",
    "            self.cnt((t1,), 't', doc['doi'])\n",
    "\n",
    "            if self.RUN_EVERYTHING:\n",
    "                # term year\n",
    "                self.cnt((doc['year'], t1), 'fy.t', doc['doi'])\n",
    "\n",
    "                # term journal\n",
    "                self.cnt((doc['journal'], t1), 'fj.t', doc['doi'])\n",
    "                \"\"\"\n",
    "                # author loop\n",
    "                for a in doc['authors']:\n",
    "                    # term author\n",
    "                    self.cnt((a, t1), 'fa.t', doc['doi'])\n",
    "                \"\"\"\n",
    "\n",
    "                for t2 in tups[i1+1:i1+1+self.WINDOW]:\n",
    "                    self.cnt((t1, t2), 't1.t2', doc['doi'])\n",
    "                    self.cnt((doc['year'], t1, t2), 'fy.t1.t2', doc['doi'])"
   ]
  },
  {
   "cell_type": "code",
   "execution_count": 7,
   "metadata": {},
   "outputs": [],
   "source": [
    "import pickle\n",
    "\n",
    "with open('terms.pickle', 'rb') as inf:\n",
    "    terms_to_keep = pickle.load(inf)"
   ]
  },
  {
   "cell_type": "code",
   "execution_count": 22,
   "metadata": {},
   "outputs": [],
   "source": [
    "class full_counter_efficient( jstor.jstor_counter ):\n",
    "    \n",
    "    def __init__(self, *args, **kwargs):\n",
    "        nterms = len(kwargs['term_whitelist'])\n",
    "        self.vocab = sorted(kwargs['term_whitelist'])\n",
    "        self.t1t2 = np.zeros((nterms, nterms))\n",
    "        self.t1t2fy = np.zeros((nterms, nterms, 70)) # 1950 - 2020\n",
    "        \n",
    "        self.t2id = {v:i for i,v in enumerate(self.vocab)}\n",
    "        \n",
    "        super(full_counter_efficient, self).__init__(*args, **kwargs)\n",
    "\n",
    "        \n",
    "    WINDOW = 250\n",
    "\n",
    "    def account_for(self, doc):\n",
    "\n",
    "        # year\n",
    "        self.cnt(doc['year'], 'fy', doc['doi'])\n",
    "\n",
    "        # journal\n",
    "        self.cnt(doc['journal'], 'fj', doc['doi'])\n",
    "\n",
    "        # journal year\n",
    "        self.cnt((doc['journal'], doc['year']), 'fj.fy', doc['doi'])\n",
    "\n",
    "        # constructing the tuples set :)\n",
    "        \n",
    "        sp = doc['content'].lower() # debating lowercaseing..\n",
    "        sp = re.sub(\"[^a-zA-Z\\s]+\", \"\", sp)  # removing extraneous characters\n",
    "        sp = re.sub(\"\\s+\", \" \", sp)  # removing extra characters\n",
    "        sp = sp.strip()\n",
    "        sp = sp.split()  # splitting into words\n",
    "\n",
    "        sp = [x for x in sp if x not in self.stopwords]  # strip stopwords\n",
    "\n",
    "        # print(len(tups),c['contextPure'], \"---\", tups)\n",
    "\n",
    "        # keep everything in order\n",
    "        tups = [\"-\".join(list(x)) for x in zip(sp[:-1], sp[1:])]  # two-word *ordered* tuples\n",
    "        tups = [ sp[i//2] if i%2==0 else tups[(i-1)//2] for i in range(2*len(sp)-1) ]\n",
    "\n",
    "        if len(self.term_whitelist):\n",
    "            tups = [x for x in tups if x in self.term_whitelist]\n",
    "\n",
    "        # just term count, in case we are using the `basic` mode\n",
    "        for i1, t1 in enumerate(tups):\n",
    "            # term\n",
    "            self.cnt((t1,), 't', doc['doi'])\n",
    "\n",
    "            if self.RUN_EVERYTHING:\n",
    "                # term year\n",
    "                self.cnt((doc['year'], t1), 'fy.t', doc['doi'])\n",
    "\n",
    "                # term journal\n",
    "                self.cnt((doc['journal'], t1), 'fj.t', doc['doi'])\n",
    "                \"\"\"\n",
    "                # author loop\n",
    "                for a in doc['authors']:\n",
    "                    # term author\n",
    "                    self.cnt((a, t1), 'fa.t', doc['doi'])\n",
    "                \"\"\"\n",
    "\n",
    "                for t2 in tups[i1+1:i1+1+self.WINDOW]:\n",
    "                    self.t1t2[ self.t2id[t1], self.t2id[t2] ] += 1\n",
    "                    \n",
    "                    if 0 <= doc['year']-1950 < 70:\n",
    "                        self.t1t2fy[ self.t2id[t1], self.t2id[t2], doc['year']-1950 ] += 1\n",
    "                    #self.cnt((t1, t2), 't1.t2', doc['doi'])\n",
    "                    #self.cnt((doc['year'], t1, t2), 'fy.t1.t2', doc['doi'])"
   ]
  },
  {
   "cell_type": "code",
   "execution_count": 34,
   "metadata": {},
   "outputs": [
    {
     "data": {
      "text/plain": [
       "(1000, 1000, 70)"
      ]
     },
     "execution_count": 34,
     "metadata": {},
     "output_type": "execute_result"
    }
   ],
   "source": [
    "c2.t1t2fy.shape"
   ]
  },
  {
   "cell_type": "code",
   "execution_count": 37,
   "metadata": {},
   "outputs": [
    {
     "data": {
      "text/plain": [
       "dtype('float64')"
      ]
     },
     "execution_count": 37,
     "metadata": {},
     "output_type": "execute_result"
    }
   ],
   "source": [
    "c2.t1t2fy.dtype"
   ]
  },
  {
   "cell_type": "code",
   "execution_count": 36,
   "metadata": {},
   "outputs": [
    {
     "data": {
      "text/plain": [
       "70.0"
      ]
     },
     "execution_count": 36,
     "metadata": {},
     "output_type": "execute_result"
    }
   ],
   "source": [
    "1000*1000*70 / 1e6"
   ]
  },
  {
   "cell_type": "code",
   "execution_count": 23,
   "metadata": {},
   "outputs": [
    {
     "data": {
      "text/plain": [
       "1000"
      ]
     },
     "execution_count": 23,
     "metadata": {},
     "output_type": "execute_result"
    }
   ],
   "source": [
    "len(terms_to_keep)"
   ]
  },
  {
   "cell_type": "code",
   "execution_count": 24,
   "metadata": {},
   "outputs": [],
   "source": [
    "c2 = full_counter_efficient(\n",
    "    jstor_zip_base = \"G:/My Drive/2020 ORGANISATION/1. PROJECTS/qualitative analysis of literature/110 CITATION ANALYSIS/000 data/sociology jstor\",\n",
    "    output_database = 'sociology-jstor-all',\n",
    "    RUN_EVERYTHING=True, complex_parsing=False,\n",
    "    term_whitelist=terms_to_keep,\n",
    "    SKIP_N=9\n",
    ")"
   ]
  },
  {
   "cell_type": "code",
   "execution_count": 25,
   "metadata": {},
   "outputs": [
    {
     "name": "stdout",
     "output_type": "stream",
     "text": [
      "Will print updated statistics every 100 documents.\n",
      "Iterating over  248380 documents\n",
      "Document 0 ... 0 journals... 0 cited works... 0 authors... 0 terms used... 0 'social' terms\n",
      "Document 100 ... 30 journals... 0 cited works... 0 authors... 998 terms used... 74 'social' terms\n",
      "Document 200 ... 39 journals... 0 cited works... 0 authors... 1000 terms used... 152 'social' terms\n",
      "Document 300 ... 40 journals... 0 cited works... 0 authors... 1000 terms used... 225 'social' terms\n",
      "Document 400 ... 41 journals... 0 cited works... 0 authors... 1000 terms used... 293 'social' terms\n",
      "Document 500 ... 43 journals... 0 cited works... 0 authors... 1000 terms used... 364 'social' terms\n",
      "Document 600 ... 45 journals... 0 cited works... 0 authors... 1000 terms used... 438 'social' terms\n",
      "Document 700 ... 46 journals... 0 cited works... 0 authors... 1000 terms used... 510 'social' terms\n",
      "Document 800 ... 46 journals... 0 cited works... 0 authors... 1000 terms used... 585 'social' terms\n",
      "Document 900 ... 46 journals... 0 cited works... 0 authors... 1000 terms used... 663 'social' terms\n",
      "Document 1000 ... 46 journals... 0 cited works... 0 authors... 1000 terms used... 731 'social' terms\n",
      "Document 1100 ... 47 journals... 0 cited works... 0 authors... 1000 terms used... 809 'social' terms\n",
      "Document 1200 ... 48 journals... 0 cited works... 0 authors... 1000 terms used... 881 'social' terms\n",
      "Document 1300 ... 48 journals... 0 cited works... 0 authors... 1000 terms used... 963 'social' terms\n",
      "Document 1400 ... 48 journals... 0 cited works... 0 authors... 1000 terms used... 1034 'social' terms\n",
      "Document 1500 ... 48 journals... 0 cited works... 0 authors... 1000 terms used... 1113 'social' terms\n",
      "Document 1600 ... 48 journals... 0 cited works... 0 authors... 1000 terms used... 1191 'social' terms\n",
      "Document 1700 ... 48 journals... 0 cited works... 0 authors... 1000 terms used... 1271 'social' terms\n",
      "Document 1800 ... 48 journals... 0 cited works... 0 authors... 1000 terms used... 1343 'social' terms\n",
      "Document 1900 ... 49 journals... 0 cited works... 0 authors... 1000 terms used... 1418 'social' terms\n",
      "Document 2000 ... 49 journals... 0 cited works... 0 authors... 1000 terms used... 1485 'social' terms\n",
      "Document 2100 ... 49 journals... 0 cited works... 0 authors... 1000 terms used... 1554 'social' terms\n",
      "Document 2200 ... 49 journals... 0 cited works... 0 authors... 1000 terms used... 1633 'social' terms\n",
      "Document 2300 ... 49 journals... 0 cited works... 0 authors... 1000 terms used... 1702 'social' terms\n",
      "Document 2400 ... 49 journals... 0 cited works... 0 authors... 1000 terms used... 1773 'social' terms\n",
      "Document 2500 ... 49 journals... 0 cited works... 0 authors... 1000 terms used... 1852 'social' terms\n",
      "Document 2600 ... 49 journals... 0 cited works... 0 authors... 1000 terms used... 1923 'social' terms\n",
      "Document 2700 ... 49 journals... 0 cited works... 0 authors... 1000 terms used... 1990 'social' terms\n",
      "Document 2800 ... 49 journals... 0 cited works... 0 authors... 1000 terms used... 2062 'social' terms\n",
      "Document 2900 ... 49 journals... 0 cited works... 0 authors... 1000 terms used... 2135 'social' terms\n",
      "Document 3000 ... 49 journals... 0 cited works... 0 authors... 1000 terms used... 2203 'social' terms\n",
      "Document 3100 ... 49 journals... 0 cited works... 0 authors... 1000 terms used... 2280 'social' terms\n",
      "Document 3200 ... 49 journals... 0 cited works... 0 authors... 1000 terms used... 2347 'social' terms\n",
      "Document 3300 ... 49 journals... 0 cited works... 0 authors... 1000 terms used... 2416 'social' terms\n",
      "Document 3400 ... 49 journals... 0 cited works... 0 authors... 1000 terms used... 2483 'social' terms\n",
      "Document 3500 ... 49 journals... 0 cited works... 0 authors... 1000 terms used... 2554 'social' terms\n",
      "Document 3600 ... 49 journals... 0 cited works... 0 authors... 1000 terms used... 2627 'social' terms\n",
      "Document 3700 ... 50 journals... 0 cited works... 0 authors... 1000 terms used... 2701 'social' terms\n",
      "Document 3800 ... 50 journals... 0 cited works... 0 authors... 1000 terms used... 2772 'social' terms\n",
      "Document 3900 ... 50 journals... 0 cited works... 0 authors... 1000 terms used... 2838 'social' terms\n",
      "Document 4000 ... 50 journals... 0 cited works... 0 authors... 1000 terms used... 2910 'social' terms\n",
      "Document 4100 ... 50 journals... 0 cited works... 0 authors... 1000 terms used... 2982 'social' terms\n",
      "Document 4200 ... 50 journals... 0 cited works... 0 authors... 1000 terms used... 3053 'social' terms\n",
      "Document 4300 ... 50 journals... 0 cited works... 0 authors... 1000 terms used... 3128 'social' terms\n",
      "Document 4400 ... 50 journals... 0 cited works... 0 authors... 1000 terms used... 3199 'social' terms\n",
      "Document 4500 ... 50 journals... 0 cited works... 0 authors... 1000 terms used... 3274 'social' terms\n",
      "Document 4600 ... 50 journals... 0 cited works... 0 authors... 1000 terms used... 3347 'social' terms\n",
      "Document 4700 ... 50 journals... 0 cited works... 0 authors... 1000 terms used... 3422 'social' terms\n",
      "Document 4800 ... 50 journals... 0 cited works... 0 authors... 1000 terms used... 3499 'social' terms\n",
      "Document 4900 ... 50 journals... 0 cited works... 0 authors... 1000 terms used... 3569 'social' terms\n",
      "Document 5000 ... 50 journals... 0 cited works... 0 authors... 1000 terms used... 3646 'social' terms\n",
      "Document 5100 ... 50 journals... 0 cited works... 0 authors... 1000 terms used... 3723 'social' terms\n",
      "Document 5200 ... 50 journals... 0 cited works... 0 authors... 1000 terms used... 3796 'social' terms\n",
      "Document 5300 ... 50 journals... 0 cited works... 0 authors... 1000 terms used... 3865 'social' terms\n",
      "Document 5400 ... 50 journals... 0 cited works... 0 authors... 1000 terms used... 3938 'social' terms\n",
      "Document 5500 ... 50 journals... 0 cited works... 0 authors... 1000 terms used... 4011 'social' terms\n",
      "Document 5600 ... 50 journals... 0 cited works... 0 authors... 1000 terms used... 4080 'social' terms\n",
      "Document 5700 ... 50 journals... 0 cited works... 0 authors... 1000 terms used... 4152 'social' terms\n",
      "Document 5800 ... 50 journals... 0 cited works... 0 authors... 1000 terms used... 4223 'social' terms\n",
      "Document 5900 ... 50 journals... 0 cited works... 0 authors... 1000 terms used... 4299 'social' terms\n",
      "Document 6000 ... 50 journals... 0 cited works... 0 authors... 1000 terms used... 4372 'social' terms\n",
      "Document 6100 ... 50 journals... 0 cited works... 0 authors... 1000 terms used... 4444 'social' terms\n",
      "Document 6200 ... 50 journals... 0 cited works... 0 authors... 1000 terms used... 4516 'social' terms\n",
      "Document 6300 ... 50 journals... 0 cited works... 0 authors... 1000 terms used... 4588 'social' terms\n",
      "Document 6400 ... 50 journals... 0 cited works... 0 authors... 1000 terms used... 4660 'social' terms\n",
      "Document 6500 ... 50 journals... 0 cited works... 0 authors... 1000 terms used... 4735 'social' terms\n",
      "Document 6600 ... 50 journals... 0 cited works... 0 authors... 1000 terms used... 4805 'social' terms\n",
      "Document 6700 ... 50 journals... 0 cited works... 0 authors... 1000 terms used... 4879 'social' terms\n"
     ]
    }
   ],
   "source": [
    "c2.count()"
   ]
  },
  {
   "cell_type": "code",
   "execution_count": 26,
   "metadata": {},
   "outputs": [
    {
     "data": {
      "text/plain": [
       "2151793382.0"
      ]
     },
     "execution_count": 26,
     "metadata": {},
     "output_type": "execute_result"
    }
   ],
   "source": [
    "np.sum( c2.t1t2 )"
   ]
  },
  {
   "cell_type": "code",
   "execution_count": 9,
   "metadata": {},
   "outputs": [
    {
     "data": {
      "text/plain": [
       "745670"
      ]
     },
     "execution_count": 9,
     "metadata": {},
     "output_type": "execute_result"
    }
   ],
   "source": [
    "len(c2.doc['t1.t2'])"
   ]
  },
  {
   "cell_type": "code",
   "execution_count": 10,
   "metadata": {},
   "outputs": [
    {
     "data": {
      "text/plain": [
       "1000"
      ]
     },
     "execution_count": 10,
     "metadata": {},
     "output_type": "execute_result"
    }
   ],
   "source": [
    "len(c2.doc['t'])"
   ]
  },
  {
   "cell_type": "markdown",
   "metadata": {},
   "source": [
    "# investigating sizes"
   ]
  },
  {
   "cell_type": "code",
   "execution_count": 12,
   "metadata": {},
   "outputs": [
    {
     "data": {
      "text/plain": [
       "0"
      ]
     },
     "execution_count": 12,
     "metadata": {},
     "output_type": "execute_result"
    }
   ],
   "source": [
    "len([x for x in c2.track_doc.values()])"
   ]
  },
  {
   "cell_type": "code",
   "execution_count": 44,
   "metadata": {},
   "outputs": [],
   "source": [
    "# ok... duh... use numpy matrices instead...\n",
    "# that will be HUGE.\n",
    "# then also numpy arrays for each year\n",
    "# I already know the dims..."
   ]
  },
  {
   "cell_type": "code",
   "execution_count": 49,
   "metadata": {},
   "outputs": [
    {
     "data": {
      "text/plain": [
       "['8.0MB', '8.0MB']"
      ]
     },
     "execution_count": 49,
     "metadata": {},
     "output_type": "execute_result"
    }
   ],
   "source": [
    "[f'{size/1e6:0,.1f}MB'\n",
    "for size in [\n",
    "    getsize(np.zeros((1000,1000))),\n",
    "    getsize(np.zeros((1000,1000))),\n",
    "    getsize(np.zeros((1000,1000)))\n",
    "]\n",
    "]"
   ]
  },
  {
   "cell_type": "code",
   "execution_count": 22,
   "metadata": {},
   "outputs": [],
   "source": [
    "import sys\n",
    "from numbers import Number\n",
    "from collections import deque\n",
    "from collections.abc import Set, Mapping\n",
    "\n",
    "\n",
    "ZERO_DEPTH_BASES = (str, bytes, Number, range, bytearray)\n",
    "\n",
    "\n",
    "def getsize(obj_0):\n",
    "    \"\"\"Recursively iterate to sum size of object & members.\"\"\"\n",
    "    _seen_ids = set()\n",
    "    def inner(obj):\n",
    "        obj_id = id(obj)\n",
    "        if obj_id in _seen_ids:\n",
    "            return 0\n",
    "        _seen_ids.add(obj_id)\n",
    "        size = sys.getsizeof(obj)\n",
    "        if isinstance(obj, ZERO_DEPTH_BASES):\n",
    "            pass # bypass remaining control flow and return\n",
    "        elif isinstance(obj, (tuple, list, Set, deque)):\n",
    "            size += sum(inner(i) for i in obj)\n",
    "        elif isinstance(obj, Mapping) or hasattr(obj, 'items'):\n",
    "            size += sum(inner(k) + inner(v) for k, v in getattr(obj, 'items')())\n",
    "        # Check for custom object instances - may subclass above too\n",
    "        if hasattr(obj, '__dict__'):\n",
    "            size += inner(vars(obj))\n",
    "        if hasattr(obj, '__slots__'): # can have __slots__ with __dict__\n",
    "            size += sum(inner(getattr(obj, s)) for s in obj.__slots__ if hasattr(obj, s))\n",
    "        return size\n",
    "    return inner(obj_0)"
   ]
  },
  {
   "cell_type": "code",
   "execution_count": null,
   "metadata": {},
   "outputs": [],
   "source": []
  },
  {
   "cell_type": "code",
   "execution_count": 42,
   "metadata": {},
   "outputs": [
    {
     "data": {
      "text/plain": [
       "['doc: 2.9Gig', 'ind: 2.9Gig']"
      ]
     },
     "execution_count": 42,
     "metadata": {},
     "output_type": "execute_result"
    }
   ],
   "source": [
    "# just the size of the key set...\n",
    "# this is where the issue is...\n",
    "# I could gather LOTS of data\n",
    "[\n",
    "    f\"{key}: {size/1e9:0.1f}Gig\"\n",
    "    for key,size in\n",
    "    [\n",
    "        (kkk,sum([len(x)*getsize( list(x)[0] if len(x) else 0 ) for x in getattr(c2,kkk).values()]))\n",
    "        for kkk in ['doc', 'ind']\n",
    "    ]       \n",
    "]"
   ]
  },
  {
   "cell_type": "code",
   "execution_count": 32,
   "metadata": {},
   "outputs": [
    {
     "name": "stdout",
     "output_type": "stream",
     "text": [
      "stopwords 18512\n",
      "cits 24\n",
      "last_print 24\n",
      "citations_skipped 24\n",
      "no_citations 32\n",
      "jstor_zip_base 1512\n",
      "output_database 72\n",
      "name_blacklist 64\n",
      "RUN_EVERYTHING 32\n",
      "groups 16\n",
      "group_reps 16\n",
      "citations_filter 16\n",
      "journals_filter 16\n",
      "debug 24\n",
      "complex_parsing 24\n",
      "SKIP_N 32\n",
      "CONSOLIDATE_ITERS 24\n",
      "NUM_TERMS_TO_KEEP 32\n"
     ]
    },
    {
     "ename": "KeyboardInterrupt",
     "evalue": "",
     "output_type": "error",
     "traceback": [
      "\u001b[1;31m---------------------------------------------------------------------------\u001b[0m",
      "\u001b[1;31mKeyboardInterrupt\u001b[0m                         Traceback (most recent call last)",
      "\u001b[1;32m<ipython-input-32-ff4218853387>\u001b[0m in \u001b[0;36m<module>\u001b[1;34m\u001b[0m\n\u001b[0;32m      1\u001b[0m \u001b[1;32mimport\u001b[0m \u001b[0msys\u001b[0m\u001b[1;33m\u001b[0m\u001b[1;33m\u001b[0m\u001b[0m\n\u001b[0;32m      2\u001b[0m \u001b[1;32mfor\u001b[0m \u001b[0mk\u001b[0m \u001b[1;32min\u001b[0m \u001b[0mvars\u001b[0m\u001b[1;33m(\u001b[0m\u001b[0mc2\u001b[0m\u001b[1;33m)\u001b[0m\u001b[1;33m:\u001b[0m\u001b[1;33m\u001b[0m\u001b[1;33m\u001b[0m\u001b[0m\n\u001b[1;32m----> 3\u001b[1;33m     \u001b[0mprint\u001b[0m\u001b[1;33m(\u001b[0m\u001b[0mk\u001b[0m\u001b[1;33m,\u001b[0m \u001b[0masizeof\u001b[0m\u001b[1;33m.\u001b[0m\u001b[0masizeof\u001b[0m\u001b[1;33m(\u001b[0m \u001b[0mgetattr\u001b[0m\u001b[1;33m(\u001b[0m\u001b[0mc2\u001b[0m\u001b[1;33m,\u001b[0m\u001b[0mk\u001b[0m\u001b[1;33m)\u001b[0m\u001b[1;33m)\u001b[0m \u001b[1;33m)\u001b[0m\u001b[1;33m\u001b[0m\u001b[1;33m\u001b[0m\u001b[0m\n\u001b[0m",
      "\u001b[1;32m~\\envs\\citation-deaths\\lib\\site-packages\\pympler\\asizeof.py\u001b[0m in \u001b[0;36masizeof\u001b[1;34m(*objs, **opts)\u001b[0m\n\u001b[0;32m   2722\u001b[0m         \u001b[1;32mif\u001b[0m \u001b[0mx\u001b[0m\u001b[1;33m:\u001b[0m  \u001b[1;31m# don't size, profile or rank _getobjects tuple\u001b[0m\u001b[1;33m\u001b[0m\u001b[1;33m\u001b[0m\u001b[0m\n\u001b[0;32m   2723\u001b[0m             \u001b[0m_asizer\u001b[0m\u001b[1;33m.\u001b[0m\u001b[0mexclude_objs\u001b[0m\u001b[1;33m(\u001b[0m\u001b[0mt\u001b[0m\u001b[1;33m)\u001b[0m\u001b[1;33m\u001b[0m\u001b[1;33m\u001b[0m\u001b[0m\n\u001b[1;32m-> 2724\u001b[1;33m         \u001b[0ms\u001b[0m \u001b[1;33m=\u001b[0m \u001b[0m_asizer\u001b[0m\u001b[1;33m.\u001b[0m\u001b[0masizeof\u001b[0m\u001b[1;33m(\u001b[0m\u001b[1;33m*\u001b[0m\u001b[0mt\u001b[0m\u001b[1;33m)\u001b[0m\u001b[1;33m\u001b[0m\u001b[1;33m\u001b[0m\u001b[0m\n\u001b[0m\u001b[0;32m   2725\u001b[0m         \u001b[0m_asizer\u001b[0m\u001b[1;33m.\u001b[0m\u001b[0mprint_stats\u001b[0m\u001b[1;33m(\u001b[0m\u001b[0mobjs\u001b[0m\u001b[1;33m=\u001b[0m\u001b[0mt\u001b[0m\u001b[1;33m,\u001b[0m \u001b[0mopts\u001b[0m\u001b[1;33m=\u001b[0m\u001b[0mopts\u001b[0m\u001b[1;33m)\u001b[0m  \u001b[1;31m# show opts as _kwdstr\u001b[0m\u001b[1;33m\u001b[0m\u001b[1;33m\u001b[0m\u001b[0m\n\u001b[0;32m   2726\u001b[0m         \u001b[0m_asizer\u001b[0m\u001b[1;33m.\u001b[0m\u001b[0m_clear\u001b[0m\u001b[1;33m(\u001b[0m\u001b[1;33m)\u001b[0m\u001b[1;33m\u001b[0m\u001b[1;33m\u001b[0m\u001b[0m\n",
      "\u001b[1;32m~\\envs\\citation-deaths\\lib\\site-packages\\pympler\\asizeof.py\u001b[0m in \u001b[0;36masizeof\u001b[1;34m(self, *objs, **opts)\u001b[0m\n\u001b[0;32m   2151\u001b[0m             \u001b[0mself\u001b[0m\u001b[1;33m.\u001b[0m\u001b[0mset\u001b[0m\u001b[1;33m(\u001b[0m\u001b[1;33m**\u001b[0m\u001b[0mopts\u001b[0m\u001b[1;33m)\u001b[0m\u001b[1;33m\u001b[0m\u001b[1;33m\u001b[0m\u001b[0m\n\u001b[0;32m   2152\u001b[0m         \u001b[0mself\u001b[0m\u001b[1;33m.\u001b[0m\u001b[0mexclude_refs\u001b[0m\u001b[1;33m(\u001b[0m\u001b[1;33m*\u001b[0m\u001b[0mobjs\u001b[0m\u001b[1;33m)\u001b[0m  \u001b[1;31m# skip refs to objs\u001b[0m\u001b[1;33m\u001b[0m\u001b[1;33m\u001b[0m\u001b[0m\n\u001b[1;32m-> 2153\u001b[1;33m         \u001b[1;32mreturn\u001b[0m \u001b[0msum\u001b[0m\u001b[1;33m(\u001b[0m\u001b[0mself\u001b[0m\u001b[1;33m.\u001b[0m\u001b[0m_sizer\u001b[0m\u001b[1;33m(\u001b[0m\u001b[0mo\u001b[0m\u001b[1;33m,\u001b[0m \u001b[1;36m0\u001b[0m\u001b[1;33m,\u001b[0m \u001b[1;36m0\u001b[0m\u001b[1;33m,\u001b[0m \u001b[1;32mNone\u001b[0m\u001b[1;33m)\u001b[0m \u001b[1;32mfor\u001b[0m \u001b[0mo\u001b[0m \u001b[1;32min\u001b[0m \u001b[0mobjs\u001b[0m\u001b[1;33m)\u001b[0m\u001b[1;33m\u001b[0m\u001b[1;33m\u001b[0m\u001b[0m\n\u001b[0m\u001b[0;32m   2154\u001b[0m \u001b[1;33m\u001b[0m\u001b[0m\n\u001b[0;32m   2155\u001b[0m     \u001b[1;32mdef\u001b[0m \u001b[0masizesof\u001b[0m\u001b[1;33m(\u001b[0m\u001b[0mself\u001b[0m\u001b[1;33m,\u001b[0m \u001b[1;33m*\u001b[0m\u001b[0mobjs\u001b[0m\u001b[1;33m,\u001b[0m \u001b[1;33m**\u001b[0m\u001b[0mopts\u001b[0m\u001b[1;33m)\u001b[0m\u001b[1;33m:\u001b[0m\u001b[1;33m\u001b[0m\u001b[1;33m\u001b[0m\u001b[0m\n",
      "\u001b[1;32m~\\envs\\citation-deaths\\lib\\site-packages\\pympler\\asizeof.py\u001b[0m in \u001b[0;36m<genexpr>\u001b[1;34m(.0)\u001b[0m\n\u001b[0;32m   2151\u001b[0m             \u001b[0mself\u001b[0m\u001b[1;33m.\u001b[0m\u001b[0mset\u001b[0m\u001b[1;33m(\u001b[0m\u001b[1;33m**\u001b[0m\u001b[0mopts\u001b[0m\u001b[1;33m)\u001b[0m\u001b[1;33m\u001b[0m\u001b[1;33m\u001b[0m\u001b[0m\n\u001b[0;32m   2152\u001b[0m         \u001b[0mself\u001b[0m\u001b[1;33m.\u001b[0m\u001b[0mexclude_refs\u001b[0m\u001b[1;33m(\u001b[0m\u001b[1;33m*\u001b[0m\u001b[0mobjs\u001b[0m\u001b[1;33m)\u001b[0m  \u001b[1;31m# skip refs to objs\u001b[0m\u001b[1;33m\u001b[0m\u001b[1;33m\u001b[0m\u001b[0m\n\u001b[1;32m-> 2153\u001b[1;33m         \u001b[1;32mreturn\u001b[0m \u001b[0msum\u001b[0m\u001b[1;33m(\u001b[0m\u001b[0mself\u001b[0m\u001b[1;33m.\u001b[0m\u001b[0m_sizer\u001b[0m\u001b[1;33m(\u001b[0m\u001b[0mo\u001b[0m\u001b[1;33m,\u001b[0m \u001b[1;36m0\u001b[0m\u001b[1;33m,\u001b[0m \u001b[1;36m0\u001b[0m\u001b[1;33m,\u001b[0m \u001b[1;32mNone\u001b[0m\u001b[1;33m)\u001b[0m \u001b[1;32mfor\u001b[0m \u001b[0mo\u001b[0m \u001b[1;32min\u001b[0m \u001b[0mobjs\u001b[0m\u001b[1;33m)\u001b[0m\u001b[1;33m\u001b[0m\u001b[1;33m\u001b[0m\u001b[0m\n\u001b[0m\u001b[0;32m   2154\u001b[0m \u001b[1;33m\u001b[0m\u001b[0m\n\u001b[0;32m   2155\u001b[0m     \u001b[1;32mdef\u001b[0m \u001b[0masizesof\u001b[0m\u001b[1;33m(\u001b[0m\u001b[0mself\u001b[0m\u001b[1;33m,\u001b[0m \u001b[1;33m*\u001b[0m\u001b[0mobjs\u001b[0m\u001b[1;33m,\u001b[0m \u001b[1;33m**\u001b[0m\u001b[0mopts\u001b[0m\u001b[1;33m)\u001b[0m\u001b[1;33m:\u001b[0m\u001b[1;33m\u001b[0m\u001b[1;33m\u001b[0m\u001b[0m\n",
      "\u001b[1;32m~\\envs\\citation-deaths\\lib\\site-packages\\pympler\\asizeof.py\u001b[0m in \u001b[0;36m_sizer\u001b[1;34m(self, obj, pid, deep, sized)\u001b[0m\n\u001b[0;32m   2083\u001b[0m                         \u001b[1;32melse\u001b[0m\u001b[1;33m:\u001b[0m  \u001b[1;31m# just size and accumulate\u001b[0m\u001b[1;33m\u001b[0m\u001b[1;33m\u001b[0m\u001b[0m\n\u001b[0;32m   2084\u001b[0m                             \u001b[1;32mfor\u001b[0m \u001b[0mo\u001b[0m \u001b[1;32min\u001b[0m \u001b[0mv\u001b[0m\u001b[1;33m.\u001b[0m\u001b[0mrefs\u001b[0m\u001b[1;33m(\u001b[0m\u001b[0mobj\u001b[0m\u001b[1;33m,\u001b[0m \u001b[1;32mFalse\u001b[0m\u001b[1;33m)\u001b[0m\u001b[1;33m:\u001b[0m\u001b[1;33m\u001b[0m\u001b[1;33m\u001b[0m\u001b[0m\n\u001b[1;32m-> 2085\u001b[1;33m                                 \u001b[0ms\u001b[0m \u001b[1;33m+=\u001b[0m \u001b[0mz\u001b[0m\u001b[1;33m(\u001b[0m\u001b[0mo\u001b[0m\u001b[1;33m,\u001b[0m \u001b[0mi\u001b[0m\u001b[1;33m,\u001b[0m \u001b[0md\u001b[0m\u001b[1;33m,\u001b[0m \u001b[1;32mNone\u001b[0m\u001b[1;33m)\u001b[0m\u001b[1;33m\u001b[0m\u001b[1;33m\u001b[0m\u001b[0m\n\u001b[0m\u001b[0;32m   2086\u001b[0m                         \u001b[1;31m# deepest recursion reached\u001b[0m\u001b[1;33m\u001b[0m\u001b[1;33m\u001b[0m\u001b[1;33m\u001b[0m\u001b[0m\n\u001b[0;32m   2087\u001b[0m                         \u001b[1;32mif\u001b[0m \u001b[0mself\u001b[0m\u001b[1;33m.\u001b[0m\u001b[0m_depth\u001b[0m \u001b[1;33m<\u001b[0m \u001b[0md\u001b[0m\u001b[1;33m:\u001b[0m\u001b[1;33m\u001b[0m\u001b[1;33m\u001b[0m\u001b[0m\n",
      "\u001b[1;32m~\\envs\\citation-deaths\\lib\\site-packages\\pympler\\asizeof.py\u001b[0m in \u001b[0;36m_sizer\u001b[1;34m(self, obj, pid, deep, sized)\u001b[0m\n\u001b[0;32m   2083\u001b[0m                         \u001b[1;32melse\u001b[0m\u001b[1;33m:\u001b[0m  \u001b[1;31m# just size and accumulate\u001b[0m\u001b[1;33m\u001b[0m\u001b[1;33m\u001b[0m\u001b[0m\n\u001b[0;32m   2084\u001b[0m                             \u001b[1;32mfor\u001b[0m \u001b[0mo\u001b[0m \u001b[1;32min\u001b[0m \u001b[0mv\u001b[0m\u001b[1;33m.\u001b[0m\u001b[0mrefs\u001b[0m\u001b[1;33m(\u001b[0m\u001b[0mobj\u001b[0m\u001b[1;33m,\u001b[0m \u001b[1;32mFalse\u001b[0m\u001b[1;33m)\u001b[0m\u001b[1;33m:\u001b[0m\u001b[1;33m\u001b[0m\u001b[1;33m\u001b[0m\u001b[0m\n\u001b[1;32m-> 2085\u001b[1;33m                                 \u001b[0ms\u001b[0m \u001b[1;33m+=\u001b[0m \u001b[0mz\u001b[0m\u001b[1;33m(\u001b[0m\u001b[0mo\u001b[0m\u001b[1;33m,\u001b[0m \u001b[0mi\u001b[0m\u001b[1;33m,\u001b[0m \u001b[0md\u001b[0m\u001b[1;33m,\u001b[0m \u001b[1;32mNone\u001b[0m\u001b[1;33m)\u001b[0m\u001b[1;33m\u001b[0m\u001b[1;33m\u001b[0m\u001b[0m\n\u001b[0m\u001b[0;32m   2086\u001b[0m                         \u001b[1;31m# deepest recursion reached\u001b[0m\u001b[1;33m\u001b[0m\u001b[1;33m\u001b[0m\u001b[1;33m\u001b[0m\u001b[0m\n\u001b[0;32m   2087\u001b[0m                         \u001b[1;32mif\u001b[0m \u001b[0mself\u001b[0m\u001b[1;33m.\u001b[0m\u001b[0m_depth\u001b[0m \u001b[1;33m<\u001b[0m \u001b[0md\u001b[0m\u001b[1;33m:\u001b[0m\u001b[1;33m\u001b[0m\u001b[1;33m\u001b[0m\u001b[0m\n",
      "\u001b[1;32m~\\envs\\citation-deaths\\lib\\site-packages\\pympler\\asizeof.py\u001b[0m in \u001b[0;36m_sizer\u001b[1;34m(self, obj, pid, deep, sized)\u001b[0m\n\u001b[0;32m   2083\u001b[0m                         \u001b[1;32melse\u001b[0m\u001b[1;33m:\u001b[0m  \u001b[1;31m# just size and accumulate\u001b[0m\u001b[1;33m\u001b[0m\u001b[1;33m\u001b[0m\u001b[0m\n\u001b[0;32m   2084\u001b[0m                             \u001b[1;32mfor\u001b[0m \u001b[0mo\u001b[0m \u001b[1;32min\u001b[0m \u001b[0mv\u001b[0m\u001b[1;33m.\u001b[0m\u001b[0mrefs\u001b[0m\u001b[1;33m(\u001b[0m\u001b[0mobj\u001b[0m\u001b[1;33m,\u001b[0m \u001b[1;32mFalse\u001b[0m\u001b[1;33m)\u001b[0m\u001b[1;33m:\u001b[0m\u001b[1;33m\u001b[0m\u001b[1;33m\u001b[0m\u001b[0m\n\u001b[1;32m-> 2085\u001b[1;33m                                 \u001b[0ms\u001b[0m \u001b[1;33m+=\u001b[0m \u001b[0mz\u001b[0m\u001b[1;33m(\u001b[0m\u001b[0mo\u001b[0m\u001b[1;33m,\u001b[0m \u001b[0mi\u001b[0m\u001b[1;33m,\u001b[0m \u001b[0md\u001b[0m\u001b[1;33m,\u001b[0m \u001b[1;32mNone\u001b[0m\u001b[1;33m)\u001b[0m\u001b[1;33m\u001b[0m\u001b[1;33m\u001b[0m\u001b[0m\n\u001b[0m\u001b[0;32m   2086\u001b[0m                         \u001b[1;31m# deepest recursion reached\u001b[0m\u001b[1;33m\u001b[0m\u001b[1;33m\u001b[0m\u001b[1;33m\u001b[0m\u001b[0m\n\u001b[0;32m   2087\u001b[0m                         \u001b[1;32mif\u001b[0m \u001b[0mself\u001b[0m\u001b[1;33m.\u001b[0m\u001b[0m_depth\u001b[0m \u001b[1;33m<\u001b[0m \u001b[0md\u001b[0m\u001b[1;33m:\u001b[0m\u001b[1;33m\u001b[0m\u001b[1;33m\u001b[0m\u001b[0m\n",
      "\u001b[1;31mKeyboardInterrupt\u001b[0m: "
     ]
    }
   ],
   "source": [
    "import sys\n",
    "for k in vars(c2):\n",
    "    print(k, asizeof.asizeof( getattr(c2,k)) )"
   ]
  },
  {
   "cell_type": "code",
   "execution_count": 11,
   "metadata": {},
   "outputs": [
    {
     "data": {
      "text/plain": [
       "[('next', 'simply'),\n",
       " ('years-ago', 'resources'),\n",
       " ('social-forces', 'negative-effect'),\n",
       " ('socioeconomic-status', 'course'),\n",
       " ('history', 'may-lead'),\n",
       " ('variable', 'effect'),\n",
       " ('following', 'appear'),\n",
       " ('independent-variables', 'remain'),\n",
       " ('across', 'per-capita'),\n",
       " ('relationships', 'asked')]"
      ]
     },
     "execution_count": 11,
     "metadata": {},
     "output_type": "execute_result"
    }
   ],
   "source": [
    "sample(list(c2.doc['t1.t2']), 10)"
   ]
  },
  {
   "cell_type": "code",
   "execution_count": 27,
   "metadata": {},
   "outputs": [
    {
     "name": "stdout",
     "output_type": "stream",
     "text": [
      "loading variable sociology-jstor-all/_attributes from disk\n",
      "loading variable sociology-jstor-all/groups from disk\n"
     ]
    }
   ],
   "source": [
    "c2.save_counters()"
   ]
  },
  {
   "cell_type": "code",
   "execution_count": 29,
   "metadata": {},
   "outputs": [
    {
     "name": "stdout",
     "output_type": "stream",
     "text": [
      "loading variable sociology-jstor-all/groups from disk\n"
     ]
    }
   ],
   "source": [
    "db = Dataset(c2.output_database)\n",
    "#.save_variable?"
   ]
  },
  {
   "cell_type": "code",
   "execution_count": 32,
   "metadata": {},
   "outputs": [],
   "source": [
    "db.save_variable('t1.t2', c2.t1t2)"
   ]
  },
  {
   "cell_type": "code",
   "execution_count": 33,
   "metadata": {},
   "outputs": [],
   "source": [
    "db.save_variable('t1.t2.fy', c2.t1t2fy)"
   ]
  },
  {
   "cell_type": "code",
   "execution_count": null,
   "metadata": {},
   "outputs": [],
   "source": [
    "Dataset(c2.output_database).save_variable"
   ]
  },
  {
   "cell_type": "code",
   "execution_count": null,
   "metadata": {},
   "outputs": [],
   "source": [
    "c2.upload()"
   ]
  },
  {
   "cell_type": "markdown",
   "metadata": {},
   "source": [
    "# older and slower sentence-based cooccurrence method"
   ]
  },
  {
   "cell_type": "code",
   "execution_count": null,
   "metadata": {},
   "outputs": [],
   "source": [
    "class full_counter( jstor.jstor_counter ):\n",
    "\n",
    "    def account_for(self, doc):\n",
    "\n",
    "        # year\n",
    "        self.cnt(doc['year'], 'fy', doc['doi'])\n",
    "\n",
    "        # journal\n",
    "        self.cnt(doc['journal'], 'fj', doc['doi'])\n",
    "\n",
    "        # journal year\n",
    "        self.cnt((doc['journal'], doc['year']), 'fj.fy', doc['doi'])\n",
    "\n",
    "        # constructing the tuples set :)\n",
    "        \n",
    "        for sent in nlp(doc['content']).sents:\n",
    "            sent = str(sent)\n",
    "            \n",
    "            sp = sent.lower() # debating lowercaseing..\n",
    "            sp = re.sub(\"[^a-zA-Z\\s]+\", \"\", sp)  # removing extraneous characters\n",
    "            sp = re.sub(\"\\s+\", \" \", sp)  # removing extra characters\n",
    "            sp = sp.strip()\n",
    "            sp = sp.split()  # splitting into words\n",
    "\n",
    "            sp = [x for x in sp if x not in self.stopwords]  # strip stopwords\n",
    "\n",
    "            # print(len(tups),c['contextPure'], \"---\", tups)\n",
    "\n",
    "            tups = set(\"-\".join(list(x)) for x in set(zip(sp[:-1], sp[1:])))  # two-word *ordered* tuples\n",
    "            tups.update(sp)  # one-word tuples\n",
    "\n",
    "            if len(self.term_whitelist):\n",
    "                tups = [x for x in tups if x in self.term_whitelist]\n",
    "\n",
    "            # just term count, in case we are using the `basic` mode\n",
    "            for t1 in tups:\n",
    "                # term\n",
    "                self.cnt((t1,), 't', doc['doi'])\n",
    "\n",
    "                if self.RUN_EVERYTHING:\n",
    "                    # term year\n",
    "                    self.cnt((doc['year'], t1), 'fy.t', doc['doi'])\n",
    "\n",
    "                    # term journal\n",
    "                    self.cnt((doc['journal'], t1), 'fj.t', doc['doi'])\n",
    "\n",
    "                    if False:\n",
    "                        # author loop\n",
    "                        for a in doc['authors']:\n",
    "                            # term author\n",
    "                            self.cnt((a, t1), 'fa.t', doc['doi'])\n",
    "\n",
    "                    if len(self.term_whitelist):  # really don't want to do this too early. wait until it's narrowed down to the 5k\n",
    "                        # term term...\n",
    "                        for t2 in tups:\n",
    "                            # if they intersect each other, continue...\n",
    "                            #if len(set(t1).intersection(set(t2))) >= min(len(t1), len(t2)):\n",
    "                            #    continue\n",
    "\n",
    "                            # term term\n",
    "                            self.cnt((t1, t2), 't1.t2', doc['doi'])"
   ]
  }
 ],
 "metadata": {
  "kernelspec": {
   "display_name": "PyCharm (qualitative analysis of literature)",
   "language": "python",
   "name": "pycharm-b9c7981b"
  },
  "language_info": {
   "codemirror_mode": {
    "name": "ipython",
    "version": 3
   },
   "file_extension": ".py",
   "mimetype": "text/x-python",
   "name": "python",
   "nbconvert_exporter": "python",
   "pygments_lexer": "ipython3",
   "version": "3.7.5"
  }
 },
 "nbformat": 4,
 "nbformat_minor": 4
}
