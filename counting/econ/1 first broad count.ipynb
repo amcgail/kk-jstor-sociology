{
 "cells": [
  {
   "cell_type": "code",
   "execution_count": 5,
   "metadata": {},
   "outputs": [],
   "source": [
    "from load_data import wos_econ\n",
    "from common_imports import *\n",
    "from helpers import *"
   ]
  },
  {
   "cell_type": "code",
   "execution_count": 6,
   "metadata": {},
   "outputs": [
    {
     "name": "stdout",
     "output_type": "stream",
     "text": [
      "Blank counter with no name\n",
      "Record 0\n",
      "[]\n",
      "Record 10,000\n",
      "[(('fy', 't'), (33, 6626)), (('fj', 't'), (151, 6626)), (('fy',), (33,)), (('t',), (6626,)), (('fj',), (151,))]\n",
      "Record 20,000\n",
      "[(('fy', 't'), (63, 10352)), (('fj', 't'), (188, 10352)), (('fy',), (63,)), (('t',), (10352,)), (('fj',), (188,))]\n",
      "Record 30,000\n",
      "[(('fy', 't'), (63, 12940)), (('fj', 't'), (235, 12940)), (('fy',), (63,)), (('t',), (12940,)), (('fj',), (235,))]\n",
      "Record 40,000\n",
      "[(('fy', 't'), (97, 16175)), (('fj', 't'), (366, 16175)), (('fy',), (97,)), (('t',), (16175,)), (('fj',), (366,))]\n",
      "Record 50,000\n",
      "[(('fy', 't'), (97, 16175)), (('fj', 't'), (571, 16175)), (('fy',), (97,)), (('t',), (16175,)), (('fj',), (571,))]\n",
      "Record 60,000\n",
      "[(('fy', 't'), (151, 20218)), (('fj', 't'), (713, 20218)), (('fy',), (151,)), (('t',), (20218,)), (('fj',), (713,))]\n",
      "Record 70,000\n",
      "[(('fy', 't'), (151, 20218)), (('fj', 't'), (713, 20218)), (('fy',), (151,)), (('t',), (20218,)), (('fj',), (713,))]\n"
     ]
    }
   ],
   "source": [
    "cc = counter()\n",
    "\n",
    "# wosfile will read each file in the list in turn and yield each record\n",
    "# for further handling\n",
    "for i, rec in enumerate(wos_econ):\n",
    "    \n",
    "    if i % 10000 == 0:\n",
    "        print(f'Record {i:,}')\n",
    "        cc.summarize()\n",
    "        \n",
    "    # Records are very thin wrappers around a standard Python dict,\n",
    "    # whose keys are the WoS field tags.\n",
    "    # Here we look at the SC field (subject categories) and update our counter\n",
    "    # with the categories in each record.\n",
    "\n",
    "    tups = rec['title'].lower().split(\" \")\n",
    "    \n",
    "    count(\n",
    "        cc,\n",
    "        values = {\n",
    "            'fy': int(rec['year']),\n",
    "            'fj': rec['journal'].lower(),\n",
    "        },\n",
    "        terms = tups,\n",
    "        combinations = [\n",
    "            ('fy','t'),\n",
    "            ('fj','t'),\n",
    "            ('fy',),\n",
    "            ('t',),\n",
    "            ('fj',),\n",
    "            #('t1','t2'),\n",
    "            #('fj','t1','t2'),\n",
    "            #('fy','t1','t2')\n",
    "        ]\n",
    "    )"
   ]
  },
  {
   "cell_type": "code",
   "execution_count": 29,
   "metadata": {},
   "outputs": [],
   "source": [
    "cc.prune_zeros()"
   ]
  },
  {
   "cell_type": "code",
   "execution_count": 30,
   "metadata": {},
   "outputs": [
    {
     "data": {
      "text/plain": [
       "18456"
      ]
     },
     "execution_count": 30,
     "metadata": {},
     "output_type": "execute_result"
    }
   ],
   "source": [
    "len(cc.items('t'))"
   ]
  },
  {
   "cell_type": "code",
   "execution_count": 32,
   "metadata": {},
   "outputs": [],
   "source": [
    "cc.save_counts('wos-econ-20k-titles-all')"
   ]
  }
 ],
 "metadata": {
  "kernelspec": {
   "display_name": "Python 3 (ipykernel)",
   "language": "python",
   "name": "python3"
  },
  "language_info": {
   "codemirror_mode": {
    "name": "ipython",
    "version": 3
   },
   "file_extension": ".py",
   "mimetype": "text/x-python",
   "name": "python",
   "nbconvert_exporter": "python",
   "pygments_lexer": "ipython3",
   "version": "3.9.5"
  },
  "varInspector": {
   "cols": {
    "lenName": 16,
    "lenType": 16,
    "lenVar": 40
   },
   "kernels_config": {
    "python": {
     "delete_cmd_postfix": "",
     "delete_cmd_prefix": "del ",
     "library": "var_list.py",
     "varRefreshCmd": "print(var_dic_list())"
    },
    "r": {
     "delete_cmd_postfix": ") ",
     "delete_cmd_prefix": "rm(",
     "library": "var_list.r",
     "varRefreshCmd": "cat(var_dic_list()) "
    }
   },
   "types_to_exclude": [
    "module",
    "function",
    "builtin_function_or_method",
    "instance",
    "_Feature"
   ],
   "window_display": false
  }
 },
 "nbformat": 4,
 "nbformat_minor": 4
}
