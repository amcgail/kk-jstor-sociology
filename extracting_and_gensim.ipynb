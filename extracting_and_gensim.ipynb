{
 "cells": [
  {
   "cell_type": "markdown",
   "metadata": {},
   "source": [
    "### Create dictionary"
   ]
  },
  {
   "cell_type": "code",
   "execution_count": 1,
   "metadata": {
    "ExecuteTime": {
     "end_time": "2021-11-01T17:51:27.753759Z",
     "start_time": "2021-11-01T17:51:24.260442Z"
    }
   },
   "outputs": [],
   "source": [
    "from counter import doc_iterator\n",
    "from gensim import corpora\n",
    "import gensim\n",
    "from gensim.parsing.preprocessing import remove_stopwords\n",
    "import pickle\n",
    "import nltk\n",
    "import regex as re\n",
    "from pprint import pprint"
   ]
  },
  {
   "cell_type": "code",
   "execution_count": 2,
   "metadata": {
    "ExecuteTime": {
     "end_time": "2021-11-01T17:51:27.768721Z",
     "start_time": "2021-11-01T17:51:27.756755Z"
    }
   },
   "outputs": [],
   "source": [
    "jstor_zip_base = \"C:/Users/benja/OneDrive - Cornell University/Desktop/soc_econ/data\""
   ]
  },
  {
   "cell_type": "code",
   "execution_count": 3,
   "metadata": {
    "ExecuteTime": {
     "end_time": "2021-11-01T17:51:27.783686Z",
     "start_time": "2021-11-01T17:51:27.772710Z"
    }
   },
   "outputs": [],
   "source": [
    "def get_di():\n",
    "    return doc_iterator(\n",
    "        jstor_zip_base,\n",
    "        SKIP_N=99, # samples from entire corpus, takes 1 out of 100 documents\n",
    "    )"
   ]
  },
  {
   "cell_type": "code",
   "execution_count": 7,
   "metadata": {
    "ExecuteTime": {
     "end_time": "2021-11-01T17:55:12.019638Z",
     "start_time": "2021-11-01T17:55:12.002556Z"
    }
   },
   "outputs": [],
   "source": [
    "def text_iterator(it):\n",
    "    for i,(doi, doc) in enumerate(it):\n",
    "        if i%1000 == 0:\n",
    "            print(f\"Document {i}\")\n",
    "        # if i == 0: print(doc['content'])\n",
    "        yield [item for item in re.findall( \"[A-Za-z]+\", remove_stopwords(doc['content'].lower()) ) if len(item)>3] # yield function only temporarily loads the documents into storage"
   ]
  },
  {
   "cell_type": "code",
   "execution_count": 8,
   "metadata": {
    "ExecuteTime": {
     "end_time": "2021-11-01T17:55:13.663994Z",
     "start_time": "2021-11-01T17:55:13.657113Z"
    }
   },
   "outputs": [],
   "source": [
    "di = get_di()"
   ]
  },
  {
   "cell_type": "code",
   "execution_count": 9,
   "metadata": {
    "ExecuteTime": {
     "end_time": "2021-11-01T17:57:48.075745Z",
     "start_time": "2021-11-01T17:55:14.350561Z"
    }
   },
   "outputs": [
    {
     "name": "stdout",
     "output_type": "stream",
     "text": [
      "Found files drive-download-20211101T153841Z-001.zip, receipt-id-1215891-part-001.zip, receipt-id-1383671-part-001.zip, receipt-id-1383681-part-001.zip, receipt-id-1383691-part-001.zip\n",
      "Iterating over  248384 documents\n",
      "Document 0\n"
     ]
    }
   ],
   "source": [
    "dictionary = corpora.Dictionary( text_iterator(di) )"
   ]
  },
  {
   "cell_type": "code",
   "execution_count": 10,
   "metadata": {
    "ExecuteTime": {
     "end_time": "2021-11-01T17:58:52.051196Z",
     "start_time": "2021-11-01T17:58:51.998336Z"
    }
   },
   "outputs": [],
   "source": [
    "outfile = open('gensimdic.pkl', 'wb')\n",
    "pickle.dump(dictionary, outfile)                     \n",
    "outfile.close()"
   ]
  },
  {
   "cell_type": "markdown",
   "metadata": {},
   "source": [
    "### Run LDA"
   ]
  },
  {
   "cell_type": "code",
   "execution_count": 11,
   "metadata": {
    "ExecuteTime": {
     "end_time": "2021-11-01T17:58:55.491151Z",
     "start_time": "2021-11-01T17:58:55.433184Z"
    }
   },
   "outputs": [],
   "source": [
    "infile = open('gensimdic.pkl','rb')\n",
    "dictionary = pickle.load(infile)\n",
    "infile.close()"
   ]
  },
  {
   "cell_type": "code",
   "execution_count": 12,
   "metadata": {
    "ExecuteTime": {
     "end_time": "2021-11-01T17:58:56.902493Z",
     "start_time": "2021-11-01T17:58:56.880610Z"
    }
   },
   "outputs": [],
   "source": [
    "class MyCorpus(object):\n",
    "    def __init__(self):\n",
    "        self.di = get_di()        \n",
    "        self.ti = text_iterator(self.di)\n",
    "    def __iter__(self):\n",
    "        yield dictionary.doc2bow( next(self.ti) )"
   ]
  },
  {
   "cell_type": "code",
   "execution_count": 13,
   "metadata": {
    "ExecuteTime": {
     "end_time": "2021-11-01T17:59:19.856241Z",
     "start_time": "2021-11-01T17:58:57.550028Z"
    }
   },
   "outputs": [
    {
     "name": "stdout",
     "output_type": "stream",
     "text": [
      "Found files receipt-id-1215891-part-001.zip, receipt-id-1383671-part-001.zip, receipt-id-1383681-part-001.zip, receipt-id-1383691-part-001.zip\n",
      "Iterating over  248380 documents\n",
      "Document 0\n"
     ]
    }
   ],
   "source": [
    "# Run LDA by document and update the parameters\n",
    "corpus = MyCorpus()\n",
    "lda = gensim.models.ldamodel.LdaModel(corpus=corpus, \n",
    "                                      id2word=dictionary,\n",
    "                                      num_topics=10,\n",
    "                                      update_every=10,\n",
    "                                      chunksize=10000,\n",
    "                                      passes=10)"
   ]
  },
  {
   "cell_type": "code",
   "execution_count": 14,
   "metadata": {
    "ExecuteTime": {
     "end_time": "2021-11-01T18:00:45.774632Z",
     "start_time": "2021-11-01T18:00:45.689865Z"
    }
   },
   "outputs": [
    {
     "name": "stdout",
     "output_type": "stream",
     "text": [
      "0: data social research study theory effects family differences analysis studies\n",
      "1: rockefeller social bulmer martin ruml ssrc research philanthropy council family\n",
      "2: martin social rockefeller ruml research bulmer philanthropy council foundations ssrc\n",
      "3: rockefeller social ruml martin bulmer philanthropy council research ssrc evidence\n",
      "4: rockefeller bulmer social martin research ruml foundations council ssrc sciences\n",
      "5: rockefeller social research ruml martin bulmer philanthropy foundations evidence fisher\n",
      "6: rockefeller ruml research bulmer social martin philanthropy ssrc council foundations\n",
      "7: social bulmer rockefeller martin research ruml ssrc sciences council philanthropy\n",
      "8: social rockefeller martin bulmer research ssrc ruml philanthropy council sciences\n",
      "9: rockefeller social bulmer research ruml martin philanthropy council ssrc evidence\n"
     ]
    }
   ],
   "source": [
    "for topic_id in range(lda.num_topics):\n",
    "    topk = lda.show_topic(topic_id, 10)\n",
    "    topk_words = [ w for w, _ in topk ]\n",
    "    \n",
    "    print('{}: {}'.format(topic_id, ' '.join(topk_words)))"
   ]
  }
 ],
 "metadata": {
  "kernelspec": {
   "display_name": "Python 3",
   "language": "python",
   "name": "python3"
  },
  "language_info": {
   "codemirror_mode": {
    "name": "ipython",
    "version": 3
   },
   "file_extension": ".py",
   "mimetype": "text/x-python",
   "name": "python",
   "nbconvert_exporter": "python",
   "pygments_lexer": "ipython3",
   "version": "3.9.2"
  },
  "varInspector": {
   "cols": {
    "lenName": 16,
    "lenType": 16,
    "lenVar": 40
   },
   "kernels_config": {
    "python": {
     "delete_cmd_postfix": "",
     "delete_cmd_prefix": "del ",
     "library": "var_list.py",
     "varRefreshCmd": "print(var_dic_list())"
    },
    "r": {
     "delete_cmd_postfix": ") ",
     "delete_cmd_prefix": "rm(",
     "library": "var_list.r",
     "varRefreshCmd": "cat(var_dic_list()) "
    }
   },
   "types_to_exclude": [
    "module",
    "function",
    "builtin_function_or_method",
    "instance",
    "_Feature"
   ],
   "window_display": false
  }
 },
 "nbformat": 4,
 "nbformat_minor": 4
}
