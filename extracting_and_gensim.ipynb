{
 "cells": [
  {
   "cell_type": "code",
   "execution_count": 26,
   "metadata": {},
   "outputs": [],
   "source": [
    "from counter import doc_iterator"
   ]
  },
  {
   "cell_type": "code",
   "execution_count": 27,
   "metadata": {},
   "outputs": [],
   "source": [
    "#jstor_zip_base = \"G:/My Drive/2020 ORGANISATION/1. PROJECTS/qualitative analysis of literature/110 CITATION ANALYSIS/000 data/sociology jstor\"\n",
    "jstor_zip_base = \"Z:/google_drive/1. PROJECTS/qualitative analysis of literature/110 CITATION ANALYSIS/000 data/sociology jstor\"\n",
    "#jstor_zip_base = \"C:/Users/amcga/Desktop/jstor_soc\""
   ]
  },
  {
   "cell_type": "code",
   "execution_count": 28,
   "metadata": {},
   "outputs": [],
   "source": [
    "def get_di():\n",
    "    return doc_iterator(\n",
    "        jstor_zip_base,\n",
    "        SKIP_N=99, # takes 1/100 documents\n",
    "    )"
   ]
  },
  {
   "cell_type": "code",
   "execution_count": 29,
   "metadata": {},
   "outputs": [],
   "source": [
    "import regex as re\n",
    "regexp = r'[\\w\\'`]+'"
   ]
  },
  {
   "cell_type": "code",
   "execution_count": 30,
   "metadata": {},
   "outputs": [
    {
     "name": "stdout",
     "output_type": "stream",
     "text": [
      "Iterating over  248380 documents\n"
     ]
    }
   ],
   "source": [
    "def text_iterator(it):\n",
    "    for i,(doi, doc) in enumerate(it):\n",
    "        if i%1000 == 0:\n",
    "            print(f\"Document {i}\")\n",
    "            \n",
    "        yield re.findall( regexp, doc['content'] )\n",
    "\n",
    "from gensim import corpora\n",
    "\n",
    "di = get_di()\n",
    "dictionary = corpora.Dictionary( text_iterator(di) )"
   ]
  },
  {
   "cell_type": "code",
   "execution_count": 31,
   "metadata": {},
   "outputs": [],
   "source": [
    "import gensim"
   ]
  },
  {
   "cell_type": "code",
   "execution_count": 34,
   "metadata": {},
   "outputs": [
    {
     "name": "stdout",
     "output_type": "stream",
     "text": [
      "Iterating over  248380 documents\n"
     ]
    }
   ],
   "source": [
    "class MyCorpus(object):\n",
    "    def __init__(self):\n",
    "        self.di = get_di()        \n",
    "        self.ti = text_iterator(self.di)\n",
    "    def __iter__(self):\n",
    "        yield dictionary.doc2bow( next(self.ti) )\n",
    "\n",
    "corpus = MyCorpus()\n",
    "lda = gensim.models.ldamodel.LdaModel(corpus=corpus, \n",
    "                                      id2word=dictionary,\n",
    "                                      num_topics=100,\n",
    "                                      update_every=10,\n",
    "                                      chunksize=10000,\n",
    "                                      passes=10)"
   ]
  },
  {
   "cell_type": "code",
   "execution_count": 35,
   "metadata": {},
   "outputs": [
    {
     "data": {
      "text/plain": [
       "[(16,\n",
       "  '0.000*\"the\" + 0.000*\"of\" + 0.000*\"and\" + 0.000*\"in\" + 0.000*\"to\" + 0.000*\"a\" + 0.000*\"on\" + 0.000*\"Ghana\" + 0.000*\"that\" + 0.000*\"clergy\"'),\n",
       " (0,\n",
       "  '0.000*\"ft4\" + 0.000*\"gal\" + 0.000*\"explorative\" + 0.000*\"fendant\" + 0.000*\"fluenced\" + 0.000*\"forcement\" + 0.000*\"fringement\" + 0.000*\"evaluat\" + 0.000*\"haystack\" + 0.000*\"howcess\"'),\n",
       " (59,\n",
       "  '0.000*\"the\" + 0.000*\"of\" + 0.000*\"in\" + 0.000*\"and\" + 0.000*\"to\" + 0.000*\"political\" + 0.000*\"on\" + 0.000*\"clergy\" + 0.000*\"The\" + 0.000*\"that\"'),\n",
       " (48,\n",
       "  '0.000*\"the\" + 0.000*\"of\" + 0.000*\"and\" + 0.000*\"in\" + 0.000*\"to\" + 0.000*\"The\" + 0.000*\"on\" + 0.000*\"political\" + 0.000*\"Ghana\" + 0.000*\"a\"'),\n",
       " (19,\n",
       "  '0.000*\"the\" + 0.000*\"of\" + 0.000*\"and\" + 0.000*\"in\" + 0.000*\"to\" + 0.000*\"The\" + 0.000*\"political\" + 0.000*\"a\" + 0.000*\"on\" + 0.000*\"that\"'),\n",
       " (89,\n",
       "  '0.000*\"the\" + 0.000*\"of\" + 0.000*\"and\" + 0.000*\"in\" + 0.000*\"to\" + 0.000*\"The\" + 0.000*\"on\" + 0.000*\"political\" + 0.000*\"a\" + 0.000*\"that\"'),\n",
       " (97,\n",
       "  '0.000*\"the\" + 0.000*\"of\" + 0.000*\"and\" + 0.000*\"in\" + 0.000*\"to\" + 0.000*\"The\" + 0.000*\"on\" + 0.000*\"a\" + 0.000*\"church\" + 0.000*\"that\"'),\n",
       " (28,\n",
       "  '0.000*\"the\" + 0.000*\"and\" + 0.000*\"of\" + 0.000*\"in\" + 0.000*\"to\" + 0.000*\"The\" + 0.000*\"on\" + 0.000*\"church\" + 0.000*\"a\" + 0.000*\"political\"'),\n",
       " (46,\n",
       "  '0.000*\"the\" + 0.000*\"of\" + 0.000*\"and\" + 0.000*\"in\" + 0.000*\"a\" + 0.000*\"on\" + 0.000*\"to\" + 0.000*\"The\" + 0.000*\"Ghana\" + 0.000*\"that\"'),\n",
       " (50,\n",
       "  '0.000*\"the\" + 0.000*\"and\" + 0.000*\"of\" + 0.000*\"in\" + 0.000*\"to\" + 0.000*\"on\" + 0.000*\"The\" + 0.000*\"clergy\" + 0.000*\"political\" + 0.000*\"that\"'),\n",
       " (94,\n",
       "  '0.000*\"the\" + 0.000*\"in\" + 0.000*\"and\" + 0.000*\"of\" + 0.000*\"to\" + 0.000*\"The\" + 0.000*\"on\" + 0.000*\"a\" + 0.000*\"Ghana\" + 0.000*\"Christian\"'),\n",
       " (92,\n",
       "  '0.000*\"the\" + 0.000*\"of\" + 0.000*\"and\" + 0.000*\"in\" + 0.000*\"to\" + 0.000*\"on\" + 0.000*\"church\" + 0.000*\"that\" + 0.000*\"political\" + 0.000*\"The\"'),\n",
       " (61,\n",
       "  '0.000*\"the\" + 0.000*\"of\" + 0.000*\"in\" + 0.000*\"and\" + 0.000*\"to\" + 0.000*\"political\" + 0.000*\"a\" + 0.000*\"The\" + 0.000*\"on\" + 0.000*\"clergy\"'),\n",
       " (25,\n",
       "  '0.000*\"the\" + 0.000*\"of\" + 0.000*\"and\" + 0.000*\"in\" + 0.000*\"to\" + 0.000*\"The\" + 0.000*\"church\" + 0.000*\"on\" + 0.000*\"Ghana\" + 0.000*\"clergy\"'),\n",
       " (9,\n",
       "  '0.000*\"the\" + 0.000*\"and\" + 0.000*\"of\" + 0.000*\"to\" + 0.000*\"in\" + 0.000*\"a\" + 0.000*\"The\" + 0.000*\"political\" + 0.000*\"politics\" + 0.000*\"clergy\"'),\n",
       " (80,\n",
       "  '0.000*\"of\" + 0.000*\"the\" + 0.000*\"and\" + 0.000*\"in\" + 0.000*\"to\" + 0.000*\"The\" + 0.000*\"a\" + 0.000*\"political\" + 0.000*\"Ghana\" + 0.000*\"on\"'),\n",
       " (78,\n",
       "  '0.000*\"the\" + 0.000*\"and\" + 0.000*\"of\" + 0.000*\"in\" + 0.000*\"to\" + 0.000*\"The\" + 0.000*\"political\" + 0.000*\"a\" + 0.000*\"Ghana\" + 0.000*\"on\"'),\n",
       " (29,\n",
       "  '0.000*\"the\" + 0.000*\"in\" + 0.000*\"of\" + 0.000*\"and\" + 0.000*\"to\" + 0.000*\"on\" + 0.000*\"The\" + 0.000*\"political\" + 0.000*\"church\" + 0.000*\"clergy\"'),\n",
       " (64,\n",
       "  '0.000*\"the\" + 0.000*\"of\" + 0.000*\"and\" + 0.000*\"in\" + 0.000*\"to\" + 0.000*\"a\" + 0.000*\"The\" + 0.000*\"that\" + 0.000*\"politics\" + 0.000*\"Ghana\"'),\n",
       " (53,\n",
       "  '0.000*\"the\" + 0.000*\"and\" + 0.000*\"of\" + 0.000*\"in\" + 0.000*\"to\" + 0.000*\"on\" + 0.000*\"The\" + 0.000*\"church\" + 0.000*\"political\" + 0.000*\"Ghana\"')]"
      ]
     },
     "execution_count": 35,
     "metadata": {},
     "output_type": "execute_result"
    }
   ],
   "source": [
    "lda.print_topics()"
   ]
  }
 ],
 "metadata": {
  "kernelspec": {
   "display_name": "Python 3",
   "language": "python",
   "name": "python3"
  },
  "language_info": {
   "codemirror_mode": {
    "name": "ipython",
    "version": 3
   },
   "file_extension": ".py",
   "mimetype": "text/x-python",
   "name": "python",
   "nbconvert_exporter": "python",
   "pygments_lexer": "ipython3",
   "version": "3.7.5"
  }
 },
 "nbformat": 4,
 "nbformat_minor": 4
}
