{
 "cells": [
  {
   "cell_type": "markdown",
   "metadata": {},
   "source": [
    "### Intersection of sociology and economics"
   ]
  },
  {
   "cell_type": "code",
   "execution_count": 1,
   "metadata": {
    "ExecuteTime": {
     "end_time": "2021-11-30T15:54:33.199876Z",
     "start_time": "2021-11-30T15:54:27.153210Z"
    }
   },
   "outputs": [],
   "source": [
    "import sys\n",
    "sys.path.append(\"./../helper\") # to find scripts\n",
    "from common_imports import *\n",
    "from helpers import *\n",
    "\n",
    "from IPython.core.interactiveshell import InteractiveShell\n",
    "InteractiveShell.ast_node_interactivity = \"all\""
   ]
  },
  {
   "cell_type": "markdown",
   "metadata": {},
   "source": [
    "### Load data"
   ]
  },
  {
   "cell_type": "code",
   "execution_count": 3,
   "metadata": {
    "ExecuteTime": {
     "end_time": "2021-11-30T15:55:42.551422Z",
     "start_time": "2021-11-30T15:54:49.886872Z"
    }
   },
   "outputs": [
    {
     "name": "stdout",
     "output_type": "stream",
     "text": [
      "Loading wos-econ-alltitles-singlecounts from disk...\n",
      "Loading wos-soc-alltitles-singlecounts from disk...\n"
     ]
    }
   ],
   "source": [
    "cc_econ = counter('wos-econ-alltitles-singlecounts')\n",
    "cc_soc = counter('wos-soc-alltitles-singlecounts')"
   ]
  },
  {
   "cell_type": "code",
   "execution_count": 4,
   "metadata": {
    "ExecuteTime": {
     "end_time": "2021-11-30T15:55:45.955579Z",
     "start_time": "2021-11-30T15:55:45.877786Z"
    }
   },
   "outputs": [
    {
     "data": {
      "text/plain": [
       "45289"
      ]
     },
     "execution_count": 4,
     "metadata": {},
     "output_type": "execute_result"
    },
    {
     "data": {
      "text/plain": [
       "29830"
      ]
     },
     "execution_count": 4,
     "metadata": {},
     "output_type": "execute_result"
    }
   ],
   "source": [
    "len(cc_econ.items('t'))\n",
    "len(cc_soc.items('t'))"
   ]
  },
  {
   "cell_type": "markdown",
   "metadata": {},
   "source": [
    "### Create intersection"
   ]
  },
  {
   "cell_type": "code",
   "execution_count": 5,
   "metadata": {
    "ExecuteTime": {
     "end_time": "2021-11-30T16:01:31.604649Z",
     "start_time": "2021-11-30T16:01:30.879082Z"
    }
   },
   "outputs": [],
   "source": [
    "# Retrieve highly frequent words\n",
    "topN = 1000\n",
    "top_ids_econ = np.argsort( cc_econ.counts[('t',)] )[-topN:]\n",
    "top_terms_econ = [k for k,i in cc_econ.ids['t'].items() if i in top_ids_econ] \n",
    "\n",
    "top_ids_soc = np.argsort( cc_soc.counts[('t',)] )[-topN:]\n",
    "top_terms_soc = [k for k,i in cc_soc.ids['t'].items() if i in top_ids_soc] "
   ]
  },
  {
   "cell_type": "code",
   "execution_count": 6,
   "metadata": {
    "ExecuteTime": {
     "end_time": "2021-11-30T16:01:33.062660Z",
     "start_time": "2021-11-30T16:01:33.052686Z"
    }
   },
   "outputs": [],
   "source": [
    "stopwords = [\"among\",\"analysis\",\"based\",\"between\",\"does\",\"from\",\"issues\",\"note\",\"study\",\"test\",\"their\",\"what\",\"when\",\"with\",\"using\",\"aspects\", \"toward\", \"towards\",\"research\", \"matter\", \"some\"]\n",
    "\n",
    "def intersection(l1,l2,stopw):\n",
    "    intsect = list(set(l1) & set(l2))    \n",
    "    intsect.sort()\n",
    "    return([word for word in intsect if word not in stopw])\n",
    "\n",
    "int_socecon = intersection(l1=top_terms_econ, l2=top_terms_soc, stopw=stopwords)\n",
    "\n",
    "#print(\", \".join(int_socecon))"
   ]
  },
  {
   "cell_type": "code",
   "execution_count": 7,
   "metadata": {
    "ExecuteTime": {
     "end_time": "2021-11-30T16:01:34.691725Z",
     "start_time": "2021-11-30T16:01:34.682749Z"
    }
   },
   "outputs": [
    {
     "data": {
      "text/plain": [
       "663"
      ]
     },
     "execution_count": 7,
     "metadata": {},
     "output_type": "execute_result"
    }
   ],
   "source": [
    "len(int_socecon)"
   ]
  },
  {
   "cell_type": "markdown",
   "metadata": {
    "ExecuteTime": {
     "end_time": "2021-11-29T18:52:16.331649Z",
     "start_time": "2021-11-29T18:52:16.314169Z"
    }
   },
   "source": [
    "### Save"
   ]
  },
  {
   "cell_type": "code",
   "execution_count": 8,
   "metadata": {
    "ExecuteTime": {
     "end_time": "2021-11-30T16:01:43.234764Z",
     "start_time": "2021-11-30T16:01:41.898151Z"
    }
   },
   "outputs": [],
   "source": [
    "textfile = open(\"intersection_socecon.txt\", \"w\")\n",
    "for element in int_socecon:\n",
    "    textfile.write(element + \"\\n\");\n",
    "textfile.close();"
   ]
  }
 ],
 "metadata": {
  "kernelspec": {
   "display_name": "Python 3",
   "language": "python",
   "name": "python3"
  },
  "language_info": {
   "codemirror_mode": {
    "name": "ipython",
    "version": 3
   },
   "file_extension": ".py",
   "mimetype": "text/x-python",
   "name": "python",
   "nbconvert_exporter": "python",
   "pygments_lexer": "ipython3",
   "version": "3.7.5"
  },
  "varInspector": {
   "cols": {
    "lenName": 16,
    "lenType": 16,
    "lenVar": 40
   },
   "kernels_config": {
    "python": {
     "delete_cmd_postfix": "",
     "delete_cmd_prefix": "del ",
     "library": "var_list.py",
     "varRefreshCmd": "print(var_dic_list())"
    },
    "r": {
     "delete_cmd_postfix": ") ",
     "delete_cmd_prefix": "rm(",
     "library": "var_list.r",
     "varRefreshCmd": "cat(var_dic_list()) "
    }
   },
   "types_to_exclude": [
    "module",
    "function",
    "builtin_function_or_method",
    "instance",
    "_Feature"
   ],
   "window_display": false
  }
 },
 "nbformat": 4,
 "nbformat_minor": 5
}
