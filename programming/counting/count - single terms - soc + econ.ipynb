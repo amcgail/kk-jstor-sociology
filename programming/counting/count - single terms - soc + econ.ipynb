{
 "cells": [
  {
   "cell_type": "markdown",
   "metadata": {},
   "source": [
    "### Count the frequency of words in titles of econ and soc articles\n",
    "- This notebook creates wos-soc-20k-titles-all.pkl and wos-econ-20k-titles-all.pkl.\n",
    "- Data is loaded in load_data. This notebook then counts all words across all titles seperately by discipline"
   ]
  },
  {
   "cell_type": "code",
   "execution_count": 1,
   "metadata": {
    "ExecuteTime": {
     "end_time": "2021-11-29T16:14:45.419113Z",
     "start_time": "2021-11-29T16:13:55.596486Z"
    }
   },
   "outputs": [
    {
     "name": "stdout",
     "output_type": "stream",
     "text": [
      "148 files\n",
      "73513 econ articles loaded\n",
      "190778 soc articles loaded\n"
     ]
    }
   ],
   "source": [
    "import sys\n",
    "sys.path.append(\"./../helper\") # to find scripts\n",
    "from load_data import wos_soc, wos_econ   # loads data\n",
    "from common_imports import *\n",
    "from helpers import *"
   ]
  },
  {
   "cell_type": "code",
   "execution_count": 16,
   "metadata": {
    "ExecuteTime": {
     "end_time": "2021-11-29T16:26:08.223572Z",
     "start_time": "2021-11-29T16:26:08.202628Z"
    }
   },
   "outputs": [
    {
     "data": {
      "text/plain": [
       "list"
      ]
     },
     "execution_count": 16,
     "metadata": {},
     "output_type": "execute_result"
    }
   ],
   "source": [
    "type(wos_econ)"
   ]
  },
  {
   "cell_type": "code",
   "execution_count": 13,
   "metadata": {
    "ExecuteTime": {
     "end_time": "2021-11-29T16:23:17.092103Z",
     "start_time": "2021-11-29T16:23:17.086147Z"
    }
   },
   "outputs": [],
   "source": [
    "def createCounts(dat):\n",
    "    \n",
    "    \"\"\" This function takes in wos_econ or wos_soc and returns the counts\"\"\"\n",
    "    \n",
    "    cc = counter()\n",
    "\n",
    "    for i, rec in enumerate(dat):\n",
    "\n",
    "        if i % 10000 == 0:\n",
    "            print(f'Record {i:,}')\n",
    "            cc.summarize()\n",
    "\n",
    "        # Records are very thin wrappers around a standard Python dict,\n",
    "        # whose keys are the WoS field tags.\n",
    "        # Here we look at the SC field (subject categories) and update our counter\n",
    "        # with the categories in each record.\n",
    "\n",
    "        tups = rec['title'].lower().split(\" \")\n",
    "\n",
    "        count(\n",
    "            cc,\n",
    "            values = {\n",
    "                'fy': int(rec['year']),\n",
    "                'fj': rec['journal'].lower(),\n",
    "            },\n",
    "            terms = tups,\n",
    "            combinations = [\n",
    "                ('fy','t'),\n",
    "                ('fj','t'),\n",
    "                ('fy',),\n",
    "                ('t',),\n",
    "                ('fj',),\n",
    "                #('t1','t2'),\n",
    "                #('fj','t1','t2'),\n",
    "                #('fy','t1','t2')\n",
    "            ]\n",
    "        )\n",
    "        \n",
    "        cc.prune_zeros()\n",
    "        \n",
    "        return(cc)"
   ]
  },
  {
   "cell_type": "code",
   "execution_count": 15,
   "metadata": {
    "ExecuteTime": {
     "end_time": "2021-11-29T16:24:13.447345Z",
     "start_time": "2021-11-29T16:24:13.439397Z"
    }
   },
   "outputs": [
    {
     "name": "stdout",
     "output_type": "stream",
     "text": [
      "Blank counter with no name\n",
      "Record 0\n",
      "[]\n"
     ]
    }
   ],
   "source": [
    "cc_soc = createCounts(wos_soc)"
   ]
  },
  {
   "cell_type": "markdown",
   "metadata": {
    "ExecuteTime": {
     "end_time": "2021-11-29T16:02:33.022769Z",
     "start_time": "2021-11-29T16:02:32.986328Z"
    }
   },
   "source": [
    "### Save counts"
   ]
  },
  {
   "cell_type": "code",
   "execution_count": 8,
   "metadata": {
    "ExecuteTime": {
     "end_time": "2021-11-29T16:02:44.955179Z",
     "start_time": "2021-11-29T16:02:42.846916Z"
    }
   },
   "outputs": [],
   "source": [
    "cc_soc.save_counts('wos-soc-20k-titles-all')\n",
    "cc_econ.save_counts('wos-econ-20k-titles-all')"
   ]
  }
 ],
 "metadata": {
  "kernelspec": {
   "display_name": "Python 3",
   "language": "python",
   "name": "python3"
  },
  "language_info": {
   "codemirror_mode": {
    "name": "ipython",
    "version": 3
   },
   "file_extension": ".py",
   "mimetype": "text/x-python",
   "name": "python",
   "nbconvert_exporter": "python",
   "pygments_lexer": "ipython3",
   "version": "3.9.2"
  },
  "varInspector": {
   "cols": {
    "lenName": 16,
    "lenType": 16,
    "lenVar": 40
   },
   "kernels_config": {
    "python": {
     "delete_cmd_postfix": "",
     "delete_cmd_prefix": "del ",
     "library": "var_list.py",
     "varRefreshCmd": "print(var_dic_list())"
    },
    "r": {
     "delete_cmd_postfix": ") ",
     "delete_cmd_prefix": "rm(",
     "library": "var_list.r",
     "varRefreshCmd": "cat(var_dic_list()) "
    }
   },
   "types_to_exclude": [
    "module",
    "function",
    "builtin_function_or_method",
    "instance",
    "_Feature"
   ],
   "window_display": false
  }
 },
 "nbformat": 4,
 "nbformat_minor": 4
}
