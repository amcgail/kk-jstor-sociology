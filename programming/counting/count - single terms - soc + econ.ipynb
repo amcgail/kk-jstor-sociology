{
 "cells": [
  {
   "cell_type": "markdown",
   "metadata": {},
   "source": [
    "### Count the frequency of words in titles of econ and soc articles\n",
    "- This notebook creates wos-soc-20k-titles-all.pkl and wos-econ-20k-titles-all.pkl.\n",
    "- Data is loaded in load_data. This notebook then counts all words across all titles seperately by discipline"
   ]
  },
  {
   "cell_type": "code",
   "execution_count": 1,
   "metadata": {
    "ExecuteTime": {
     "end_time": "2021-11-29T16:30:30.252034Z",
     "start_time": "2021-11-29T16:29:40.410121Z"
    }
   },
   "outputs": [
    {
     "name": "stdout",
     "output_type": "stream",
     "text": [
      "148 files\n",
      "73513 econ articles loaded\n",
      "190778 soc articles loaded\n"
     ]
    }
   ],
   "source": [
    "import sys\n",
    "sys.path.append(\"./../helper\") # to find scripts\n",
    "from load_data import wos_soc, wos_econ   # loads data\n",
    "from common_imports import *\n",
    "from helpers import *"
   ]
  },
  {
   "cell_type": "code",
   "execution_count": 5,
   "metadata": {
    "ExecuteTime": {
     "end_time": "2021-11-29T16:31:50.102930Z",
     "start_time": "2021-11-29T16:31:50.095723Z"
    }
   },
   "outputs": [
    {
     "data": {
      "text/plain": [
       "{'id': 1,\n",
       " 'discipline': 'econ',\n",
       " 'title': 'COINTEGRATION ERROR CORRECTION REPRESENTATION ESTIMATION TESTING',\n",
       " 'author': ['ENGLE, RF', 'GRANGER, CWJ'],\n",
       " 'year': '1987',\n",
       " 'journal': 'ECONOMETRICA',\n",
       " 'subjects': ['Economics',\n",
       "  'Mathematics, Interdisciplinary Applications',\n",
       "  'Social Sciences, Mathematical Methods',\n",
       "  'Statistics & Probability']}"
      ]
     },
     "execution_count": 5,
     "metadata": {},
     "output_type": "execute_result"
    }
   ],
   "source": [
    "wos_econ[1]"
   ]
  },
  {
   "cell_type": "code",
   "execution_count": 2,
   "metadata": {
    "ExecuteTime": {
     "end_time": "2021-11-29T16:30:33.250678Z",
     "start_time": "2021-11-29T16:30:33.234706Z"
    }
   },
   "outputs": [],
   "source": [
    "def createCounts(dat):\n",
    "    \n",
    "    \"\"\" This function takes in wos_econ or wos_soc and returns the counts\"\"\"\n",
    "    \n",
    "    cc = counter()\n",
    "\n",
    "    for i, rec in enumerate(dat):\n",
    "        \n",
    "        # i = counter\n",
    "        # rec = article in dict form\n",
    "\n",
    "        if i % 10000 == 0:\n",
    "            print(f'Record {i:,}')\n",
    "            cc.summarize()\n",
    "\n",
    "        tups = rec['title'].lower().split(\" \")\n",
    "\n",
    "        count(\n",
    "            cc,\n",
    "            values = {\n",
    "                'fy': int(rec['year']),       # number of articles per year\n",
    "                'fj': rec['journal'].lower(), # number of articles per journal\n",
    "            },\n",
    "            terms = tups,\n",
    "            combinations = [\n",
    "                ('fy','t'),  # number of times a term occurs per year\n",
    "                ('fj','t'),  # number of times a term occurs per journal\n",
    "                ('fy',),     # total number term occurrences per year\n",
    "                ('t',),      # total number of terms\n",
    "                ('fj',),     # total number of terms per journal\n",
    "                #('t1','t2'),\n",
    "                #('fj','t1','t2'),\n",
    "                #('fy','t1','t2')\n",
    "            ]\n",
    "        )\n",
    "        \n",
    "    cc.prune_zeros()\n",
    "        \n",
    "    return(cc)"
   ]
  },
  {
   "cell_type": "code",
   "execution_count": 6,
   "metadata": {
    "ExecuteTime": {
     "end_time": "2021-11-29T16:41:23.563829Z",
     "start_time": "2021-11-29T16:41:17.236657Z"
    },
    "scrolled": false
   },
   "outputs": [
    {
     "name": "stdout",
     "output_type": "stream",
     "text": [
      "Blank counter with no name\n",
      "Record 0\n",
      "[]\n",
      "Record 10,000\n",
      "[(('fy', 't'), (33, 8282)), (('fj', 't'), (188, 8282)), (('fy',), (33,)), (('t',), (8282,)), (('fj',), (188,))]\n",
      "Record 20,000\n",
      "[(('fy', 't'), (63, 10352)), (('fj', 't'), (235, 10352)), (('fy',), (63,)), (('t',), (10352,)), (('fj',), (235,))]\n",
      "Record 30,000\n",
      "[(('fy', 't'), (63, 12940)), (('fj', 't'), (235, 12940)), (('fy',), (63,)), (('t',), (12940,)), (('fj',), (235,))]\n",
      "Record 40,000\n",
      "[(('fy', 't'), (97, 16175)), (('fj', 't'), (235, 16175)), (('fy',), (97,)), (('t',), (16175,)), (('fj',), (235,))]\n",
      "Record 50,000\n",
      "[(('fy', 't'), (97, 16175)), (('fj', 't'), (235, 16175)), (('fy',), (97,)), (('t',), (16175,)), (('fj',), (235,))]\n",
      "Record 60,000\n",
      "[(('fy', 't'), (151, 20218)), (('fj', 't'), (571, 20218)), (('fy',), (151,)), (('t',), (20218,)), (('fj',), (571,))]\n",
      "Record 70,000\n",
      "[(('fy', 't'), (151, 20218)), (('fj', 't'), (713, 20218)), (('fy',), (151,)), (('t',), (20218,)), (('fj',), (713,))]\n"
     ]
    }
   ],
   "source": [
    "cc_econ = createCounts(wos_econ)"
   ]
  },
  {
   "cell_type": "code",
   "execution_count": 7,
   "metadata": {
    "ExecuteTime": {
     "end_time": "2021-11-29T16:41:28.054622Z",
     "start_time": "2021-11-29T16:41:28.038866Z"
    }
   },
   "outputs": [
    {
     "ename": "TypeError",
     "evalue": "'counter' object is not subscriptable",
     "output_type": "error",
     "traceback": [
      "\u001b[1;31m---------------------------------------------------------------------------\u001b[0m",
      "\u001b[1;31mTypeError\u001b[0m                                 Traceback (most recent call last)",
      "\u001b[1;32m<ipython-input-7-69ac8a9b3d78>\u001b[0m in \u001b[0;36m<module>\u001b[1;34m\u001b[0m\n\u001b[1;32m----> 1\u001b[1;33m \u001b[0mcc_econ\u001b[0m\u001b[1;33m[\u001b[0m\u001b[1;36m1\u001b[0m\u001b[1;33m]\u001b[0m\u001b[1;33m\u001b[0m\u001b[1;33m\u001b[0m\u001b[0m\n\u001b[0m",
      "\u001b[1;31mTypeError\u001b[0m: 'counter' object is not subscriptable"
     ]
    }
   ],
   "source": []
  },
  {
   "cell_type": "markdown",
   "metadata": {
    "ExecuteTime": {
     "end_time": "2021-11-29T16:02:33.022769Z",
     "start_time": "2021-11-29T16:02:32.986328Z"
    }
   },
   "source": [
    "### Save counts"
   ]
  },
  {
   "cell_type": "code",
   "execution_count": 8,
   "metadata": {
    "ExecuteTime": {
     "end_time": "2021-11-29T16:02:44.955179Z",
     "start_time": "2021-11-29T16:02:42.846916Z"
    }
   },
   "outputs": [],
   "source": [
    "cc_soc.save_counts('wos-soc-20k-titles-all')\n",
    "cc_econ.save_counts('wos-econ-20k-titles-all')"
   ]
  }
 ],
 "metadata": {
  "kernelspec": {
   "display_name": "Python 3",
   "language": "python",
   "name": "python3"
  },
  "language_info": {
   "codemirror_mode": {
    "name": "ipython",
    "version": 3
   },
   "file_extension": ".py",
   "mimetype": "text/x-python",
   "name": "python",
   "nbconvert_exporter": "python",
   "pygments_lexer": "ipython3",
   "version": "3.9.2"
  },
  "varInspector": {
   "cols": {
    "lenName": 16,
    "lenType": 16,
    "lenVar": 40
   },
   "kernels_config": {
    "python": {
     "delete_cmd_postfix": "",
     "delete_cmd_prefix": "del ",
     "library": "var_list.py",
     "varRefreshCmd": "print(var_dic_list())"
    },
    "r": {
     "delete_cmd_postfix": ") ",
     "delete_cmd_prefix": "rm(",
     "library": "var_list.r",
     "varRefreshCmd": "cat(var_dic_list()) "
    }
   },
   "types_to_exclude": [
    "module",
    "function",
    "builtin_function_or_method",
    "instance",
    "_Feature"
   ],
   "window_display": false
  }
 },
 "nbformat": 4,
 "nbformat_minor": 4
}
