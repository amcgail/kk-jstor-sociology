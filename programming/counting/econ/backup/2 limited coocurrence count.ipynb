{
 "cells": [
  {
   "cell_type": "code",
   "execution_count": 1,
   "metadata": {
    "ExecuteTime": {
     "end_time": "2021-11-26T17:37:55.089709Z",
     "start_time": "2021-11-26T17:37:53.415186Z"
    }
   },
   "outputs": [],
   "source": [
    "from counter import counter\n",
    "from common_imports import *"
   ]
  },
  {
   "cell_type": "code",
   "execution_count": 2,
   "metadata": {
    "ExecuteTime": {
     "end_time": "2021-11-26T17:37:55.137581Z",
     "start_time": "2021-11-26T17:37:55.123620Z"
    }
   },
   "outputs": [],
   "source": [
    "target_N = 1500"
   ]
  },
  {
   "cell_type": "markdown",
   "metadata": {},
   "source": [
    "### Analyzing counts\n",
    "The function cc() can be used to access the counts. The following parameters are recognized:\n",
    "- cc(t='') - counts of a specific term\n",
    "- cc(fy=) - counts from a specific year\n",
    "- cc(fj=) - counts from a specific journal\n",
    "- cc.summarize() - summary of the dimensions of those matrices"
   ]
  },
  {
   "cell_type": "code",
   "execution_count": 3,
   "metadata": {
    "ExecuteTime": {
     "end_time": "2021-11-26T17:38:00.937011Z",
     "start_time": "2021-11-26T17:37:59.955178Z"
    }
   },
   "outputs": [
    {
     "name": "stdout",
     "output_type": "stream",
     "text": [
      "Loading wos-econ-20k-titles-all from disk...\n"
     ]
    }
   ],
   "source": [
    "cc = counter('wos-econ-20k-titles-all')"
   ]
  },
  {
   "cell_type": "code",
   "execution_count": 4,
   "metadata": {
    "ExecuteTime": {
     "end_time": "2021-11-26T17:38:06.313087Z",
     "start_time": "2021-11-26T17:38:06.300121Z"
    }
   },
   "outputs": [
    {
     "data": {
      "text/plain": [
       "469"
      ]
     },
     "execution_count": 4,
     "metadata": {},
     "output_type": "execute_result"
    }
   ],
   "source": [
    "cc(t='inequality')"
   ]
  },
  {
   "cell_type": "code",
   "execution_count": 5,
   "metadata": {
    "ExecuteTime": {
     "end_time": "2021-11-26T17:42:04.966885Z",
     "start_time": "2021-11-26T17:42:04.954917Z"
    }
   },
   "outputs": [
    {
     "data": {
      "text/plain": [
       "11"
      ]
     },
     "execution_count": 5,
     "metadata": {},
     "output_type": "execute_result"
    }
   ],
   "source": [
    "cc(t='inequality', fy=2000)"
   ]
  },
  {
   "cell_type": "code",
   "execution_count": 6,
   "metadata": {
    "ExecuteTime": {
     "end_time": "2021-11-26T17:42:07.040343Z",
     "start_time": "2021-11-26T17:42:07.034358Z"
    }
   },
   "outputs": [
    {
     "name": "stdout",
     "output_type": "stream",
     "text": [
      "[(('fy', 't'), (123, 18456)), (('fj', 't'), (689, 18456)), (('fy',), (123,)), (('t',), (18456,)), (('fj',), (689,))]\n"
     ]
    }
   ],
   "source": [
    "cc.summarize()"
   ]
  },
  {
   "cell_type": "markdown",
   "metadata": {},
   "source": [
    "### Sort counts\n",
    "In the following, I am retrieving the top 150 words in economics"
   ]
  },
  {
   "cell_type": "code",
   "execution_count": 9,
   "metadata": {
    "ExecuteTime": {
     "end_time": "2021-11-26T17:51:42.610875Z",
     "start_time": "2021-11-26T17:51:42.591924Z"
    }
   },
   "outputs": [
    {
     "data": {
      "text/plain": [
       "array([35, 118, 49, ..., 1, 1, 1], dtype=object)"
      ]
     },
     "execution_count": 9,
     "metadata": {},
     "output_type": "execute_result"
    }
   ],
   "source": [
    "cc.counts[('t',)] # counts of all words"
   ]
  },
  {
   "cell_type": "code",
   "execution_count": 9,
   "metadata": {},
   "outputs": [
    {
     "name": "stdout",
     "output_type": "stream",
     "text": [
      "equilibrium, public, goods, economy, costs, theory, firm, investment, effect, monetary, general, regulation, comment, economics, information, control, consumer, wages, evidence, market, risk, determinants, distribution, rates, economies, approach, problem, growth, real, united, states, income, structure, international, credit, dynamic, price, case, models, with, expectations, work, history, labor, earnings, between, social, welfare, energy, some, test, insurance, efficiency, model, alternative, tests, using, from, functions, exchange, pricing, value, life, demand, agriculture, size, money, economic, cost, american, implications, world, policy, behavior, empirical, effects, analysis, time, health, application, finance, utility, rate, taxation, developing, countries, foreign, competition, industry, farm, management, policies, regional, corporate, british, state, financial, note, prices, trade, unemployment, markets, employment, choice, wage, interest, capital, education, under, impact, research, development, manufacturing, industrial, estimation, production, study, business, firms, urban, inflation, government, land, data, national, problems, optimal, system, consumption, supply, agricultural, long, returns, quality, rural, productivity, change, housing, power, political, stock, uncertainty, technology, environmental, survey, role, performance, bank, labour, china\n"
     ]
    }
   ],
   "source": [
    "topis = np.argsort( cc.counts[('t',)] )[-150:]\n",
    "print(\", \".join( [k for k,i in cc.ids['t'].items() if i in topis] ))"
   ]
  },
  {
   "cell_type": "code",
   "execution_count": 11,
   "metadata": {
    "ExecuteTime": {
     "end_time": "2021-11-26T17:53:54.547772Z",
     "start_time": "2021-11-26T17:53:54.526827Z"
    }
   },
   "outputs": [],
   "source": [
    "terms_to_keepi = set(np.argsort( cc.counts[('t',)] )[-500:])\n",
    "terms_to_keep = [k for k,i in cc.ids['t'].items() if i in terms_to_keepi] "
   ]
  },
  {
   "cell_type": "code",
   "execution_count": 18,
   "metadata": {},
   "outputs": [],
   "source": [
    "# this code makes sense only when there are two-word tuples\n",
    "\n",
    "#tup1 = [x for x in terms if '-' not in x]\n",
    "#tup2 = [x for x in terms if '-' in x]\n",
    "\n",
    "#tup1_top = sorted(tup1, key=lambda x:cdict[x])[-target_N//2: ]\n",
    "#tup2_top = sorted(tup2, key=lambda x:cdict[x])[-target_N//2: ]\n",
    "\n",
    "#terms_to_keep = tup1_top + tup2_top"
   ]
  },
  {
   "cell_type": "code",
   "execution_count": 19,
   "metadata": {},
   "outputs": [],
   "source": [
    "terms_to_keep = sorted(terms, key=lambda x:cdict[x])[-target_N: ]"
   ]
  },
  {
   "cell_type": "code",
   "execution_count": 20,
   "metadata": {},
   "outputs": [
    {
     "data": {
      "text/plain": [
       "1500"
      ]
     },
     "execution_count": 20,
     "metadata": {},
     "output_type": "execute_result"
    }
   ],
   "source": [
    "len(terms_to_keep)"
   ]
  },
  {
   "cell_type": "code",
   "execution_count": 23,
   "metadata": {},
   "outputs": [
    {
     "name": "stdout",
     "output_type": "stream",
     "text": [
      "['foundations', 'exploitation', 'provision', 'part', 'content', 'utility', 'mortgage', 'barriers', 'plant', 'plants', 'numbers', 'premium', 'rent', 'temporary', 'racial', 'training', 'valuing', 'markets', 'immigration', 'fluctuations']\n"
     ]
    }
   ],
   "source": [
    "print(sample(terms_to_keep, 20))"
   ]
  },
  {
   "cell_type": "code",
   "execution_count": 26,
   "metadata": {},
   "outputs": [],
   "source": [
    "with open('terms_to_keep.econ.pickle', 'wb') as outf:\n",
    "    pickle.dump(terms_to_keep, outf)"
   ]
  },
  {
   "cell_type": "code",
   "execution_count": null,
   "metadata": {},
   "outputs": [],
   "source": [
    "terms = cc.items('t')\n",
    "counts = np.array([ cc(t=t) for t in terms ])\n",
    "cdict = {t:cc(t=t) for t in terms}\n",
    "print(len(terms), 'terms, total')\n",
    "plt.hist(counts[counts<500], bins=50, log=True);"
   ]
  },
  {
   "cell_type": "markdown",
   "metadata": {},
   "source": [
    "# Count among these limited set"
   ]
  },
  {
   "cell_type": "code",
   "execution_count": 34,
   "metadata": {},
   "outputs": [],
   "source": [
    "with open('terms_to_keep.econ.pickle', 'rb') as inf:\n",
    "    terms_to_keep = pickle.load(inf)"
   ]
  },
  {
   "cell_type": "code",
   "execution_count": 29,
   "metadata": {},
   "outputs": [],
   "source": [
    "from load_data import wos_econ"
   ]
  },
  {
   "cell_type": "code",
   "execution_count": 30,
   "metadata": {},
   "outputs": [
    {
     "name": "stdout",
     "output_type": "stream",
     "text": [
      "Blank counter with no name\n",
      "Record 0\n",
      "[]\n",
      "Record 10,000\n",
      "[(('fy', 't'), (33, 1738)), (('fj', 't'), (151, 1738)), (('fy',), (33,)), (('t',), (1738,)), (('fj',), (151,)), (('t1', 't2'), (1738, 1738)), (('fy', 't1', 't2'), (33, 1738, 1738))]\n",
      "Record 20,000\n",
      "[(('fy', 't'), (63, 1738)), (('fj', 't'), (188, 1738)), (('fy',), (63,)), (('t',), (1738,)), (('fj',), (188,)), (('t1', 't2'), (1738, 1738)), (('fy', 't1', 't2'), (63, 1738, 1738))]\n",
      "Record 30,000\n",
      "[(('fy', 't'), (63, 1738)), (('fj', 't'), (235, 1738)), (('fy',), (63,)), (('t',), (1738,)), (('fj',), (235,)), (('t1', 't2'), (1738, 1738)), (('fy', 't1', 't2'), (63, 1738, 1738))]\n",
      "Record 40,000\n",
      "[(('fy', 't'), (97, 1738)), (('fj', 't'), (366, 1738)), (('fy',), (97,)), (('t',), (1738,)), (('fj',), (366,)), (('t1', 't2'), (1738, 1738)), (('fy', 't1', 't2'), (97, 1738, 1738))]\n",
      "Record 50,000\n",
      "[(('fy', 't'), (97, 1738)), (('fj', 't'), (571, 1738)), (('fy',), (97,)), (('t',), (1738,)), (('fj',), (571,)), (('t1', 't2'), (1738, 1738)), (('fy', 't1', 't2'), (97, 1738, 1738))]\n",
      "Record 60,000\n",
      "[(('fy', 't'), (151, 1738)), (('fj', 't'), (713, 1738)), (('fy',), (151,)), (('t',), (1738,)), (('fj',), (713,)), (('t1', 't2'), (1738, 1738)), (('fy', 't1', 't2'), (151, 1738, 1738))]\n",
      "Record 70,000\n",
      "[(('fy', 't'), (151, 1738)), (('fj', 't'), (713, 1738)), (('fy',), (151,)), (('t',), (1738,)), (('fj',), (713,)), (('t1', 't2'), (1738, 1738)), (('fy', 't1', 't2'), (151, 1738, 1738))]\n"
     ]
    }
   ],
   "source": [
    "from collections import Counter\n",
    "\n",
    "cc = counter()\n",
    "\n",
    "# wosfile will read each file in the list in turn and yield each record\n",
    "# for further handling\n",
    "for i, rec in enumerate(wos_econ):\n",
    "    \n",
    "    if i % 10000 == 0:\n",
    "        print(f'Record {i:,}')\n",
    "        cc.summarize()\n",
    "        \n",
    "    # Records are very thin wrappers around a standard Python dict,\n",
    "    # whose keys are the WoS field tags.\n",
    "    # Here we look at the SC field (subject categories) and update our counter\n",
    "    # with the categories in each record.\n",
    "\n",
    "    tups = rec['title'].lower().split(\" \")\n",
    "    tups = [t for t in tups if t in terms_to_keep]\n",
    "    \n",
    "    count(\n",
    "        cc,\n",
    "        values = {\n",
    "            'fy': int(rec['year']),\n",
    "            'fj': rec['journal'].lower(),\n",
    "        },\n",
    "        terms = tups,\n",
    "        combinations = [\n",
    "            ('fy','t'),\n",
    "            ('fj','t'),\n",
    "            ('fy',),\n",
    "            ('t',),\n",
    "            ('fj',),\n",
    "            ('t1','t2'),\n",
    "            #('fj','t1','t2'),\n",
    "            ('fy','t1','t2')\n",
    "        ]\n",
    "    )"
   ]
  },
  {
   "cell_type": "code",
   "execution_count": 31,
   "metadata": {},
   "outputs": [],
   "source": [
    "cc.save_counts('wos-econ-20k-titles-limited-cooc')"
   ]
  }
 ],
 "metadata": {
  "kernelspec": {
   "display_name": "Python 3",
   "language": "python",
   "name": "python3"
  },
  "language_info": {
   "codemirror_mode": {
    "name": "ipython",
    "version": 3
   },
   "file_extension": ".py",
   "mimetype": "text/x-python",
   "name": "python",
   "nbconvert_exporter": "python",
   "pygments_lexer": "ipython3",
   "version": "3.9.2"
  },
  "varInspector": {
   "cols": {
    "lenName": 16,
    "lenType": 16,
    "lenVar": 40
   },
   "kernels_config": {
    "python": {
     "delete_cmd_postfix": "",
     "delete_cmd_prefix": "del ",
     "library": "var_list.py",
     "varRefreshCmd": "print(var_dic_list())"
    },
    "r": {
     "delete_cmd_postfix": ") ",
     "delete_cmd_prefix": "rm(",
     "library": "var_list.r",
     "varRefreshCmd": "cat(var_dic_list()) "
    }
   },
   "types_to_exclude": [
    "module",
    "function",
    "builtin_function_or_method",
    "instance",
    "_Feature"
   ],
   "window_display": false
  }
 },
 "nbformat": 4,
 "nbformat_minor": 4
}
