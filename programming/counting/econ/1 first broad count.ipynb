{
 "cells": [
  {
   "cell_type": "markdown",
   "metadata": {},
   "source": [
    "### Create counts\n",
    "This file will create wos-econ-20k-titles-all.pkl.\n",
    "\n",
    "Data is loaded in load_data. This file then counts all words across all titles."
   ]
  },
  {
   "cell_type": "code",
   "execution_count": 3,
   "metadata": {
    "ExecuteTime": {
     "end_time": "2021-11-26T18:44:17.876044Z",
     "start_time": "2021-11-26T18:44:17.847124Z"
    }
   },
   "outputs": [
    {
     "ename": "SyntaxError",
     "evalue": "invalid syntax (counter.py, line 223)",
     "output_type": "error",
     "traceback": [
      "Traceback \u001b[1;36m(most recent call last)\u001b[0m:\n",
      "  File \u001b[0;32m\"C:\\Users\\benja\\miniconda3\\lib\\site-packages\\IPython\\core\\interactiveshell.py\"\u001b[0m, line \u001b[0;32m3437\u001b[0m, in \u001b[0;35mrun_code\u001b[0m\n    exec(code_obj, self.user_global_ns, self.user_ns)\n",
      "  File \u001b[0;32m\"<ipython-input-3-fd07eab0fa16>\"\u001b[0m, line \u001b[0;32m3\u001b[0m, in \u001b[0;35m<module>\u001b[0m\n    from load_data import wos_econ # loads data\n",
      "  File \u001b[0;32m\"./../../helper\\load_data.py\"\u001b[0m, line \u001b[0;32m1\u001b[0m, in \u001b[0;35m<module>\u001b[0m\n    from common_imports import *\n",
      "\u001b[1;36m  File \u001b[1;32m\"./../../helper\\common_imports.py\"\u001b[1;36m, line \u001b[1;32m1\u001b[1;36m, in \u001b[1;35m<module>\u001b[1;36m\u001b[0m\n\u001b[1;33m    from counter import counter\u001b[0m\n",
      "\u001b[1;36m  File \u001b[1;32m\"C:\\Users\\benja\\miniconda3\\lib\\site-packages\\counter.py\"\u001b[1;36m, line \u001b[1;32m223\u001b[0m\n\u001b[1;33m    print doctest.testmod()\u001b[0m\n\u001b[1;37m          ^\u001b[0m\n\u001b[1;31mSyntaxError\u001b[0m\u001b[1;31m:\u001b[0m invalid syntax\n"
     ]
    }
   ],
   "source": [
    "import sys\n",
    "sys.path.append(\"./../../helper\") # to find scripts\n",
    "from load_data import wos_econ # loads data\n",
    "from common_imports import *\n",
    "from helpers import *"
   ]
  },
  {
   "cell_type": "code",
   "execution_count": 3,
   "metadata": {
    "ExecuteTime": {
     "end_time": "2021-11-26T17:32:52.199235Z",
     "start_time": "2021-11-26T17:32:44.745163Z"
    }
   },
   "outputs": [
    {
     "name": "stdout",
     "output_type": "stream",
     "text": [
      "Blank counter with no name\n",
      "Record 0\n",
      "[]\n",
      "Record 10,000\n",
      "[(('fy', 't'), (33, 8282)), (('fj', 't'), (188, 8282)), (('fy',), (33,)), (('t',), (8282,)), (('fj',), (188,))]\n",
      "Record 20,000\n",
      "[(('fy', 't'), (63, 10352)), (('fj', 't'), (235, 10352)), (('fy',), (63,)), (('t',), (10352,)), (('fj',), (235,))]\n",
      "Record 30,000\n",
      "[(('fy', 't'), (63, 12940)), (('fj', 't'), (235, 12940)), (('fy',), (63,)), (('t',), (12940,)), (('fj',), (235,))]\n",
      "Record 40,000\n",
      "[(('fy', 't'), (97, 16175)), (('fj', 't'), (235, 16175)), (('fy',), (97,)), (('t',), (16175,)), (('fj',), (235,))]\n",
      "Record 50,000\n",
      "[(('fy', 't'), (97, 16175)), (('fj', 't'), (235, 16175)), (('fy',), (97,)), (('t',), (16175,)), (('fj',), (235,))]\n",
      "Record 60,000\n",
      "[(('fy', 't'), (151, 20218)), (('fj', 't'), (571, 20218)), (('fy',), (151,)), (('t',), (20218,)), (('fj',), (571,))]\n",
      "Record 70,000\n",
      "[(('fy', 't'), (151, 20218)), (('fj', 't'), (713, 20218)), (('fy',), (151,)), (('t',), (20218,)), (('fj',), (713,))]\n"
     ]
    }
   ],
   "source": [
    "cc = counter()\n",
    "\n",
    "# wosfile will read each file in the list in turn and yield each record\n",
    "# for further handling\n",
    "for i, rec in enumerate(wos_econ):\n",
    "    \n",
    "    if i % 10000 == 0:\n",
    "        print(f'Record {i:,}')\n",
    "        cc.summarize()\n",
    "        \n",
    "    # Records are very thin wrappers around a standard Python dict,\n",
    "    # whose keys are the WoS field tags.\n",
    "    # Here we look at the SC field (subject categories) and update our counter\n",
    "    # with the categories in each record.\n",
    "\n",
    "    tups = rec['title'].lower().split(\" \")\n",
    "    \n",
    "    count(\n",
    "        cc,\n",
    "        values = {\n",
    "            'fy': int(rec['year']),\n",
    "            'fj': rec['journal'].lower(),\n",
    "        },\n",
    "        terms = tups,\n",
    "        combinations = [\n",
    "            ('fy','t'),\n",
    "            ('fj','t'),\n",
    "            ('fy',),\n",
    "            ('t',),\n",
    "            ('fj',),\n",
    "            #('t1','t2'),\n",
    "            #('fj','t1','t2'),\n",
    "            #('fy','t1','t2')\n",
    "        ]\n",
    "    )"
   ]
  },
  {
   "cell_type": "code",
   "execution_count": 4,
   "metadata": {
    "ExecuteTime": {
     "end_time": "2021-11-26T17:32:53.464855Z",
     "start_time": "2021-11-26T17:32:53.122769Z"
    }
   },
   "outputs": [],
   "source": [
    "cc.prune_zeros()"
   ]
  },
  {
   "cell_type": "code",
   "execution_count": 5,
   "metadata": {
    "ExecuteTime": {
     "end_time": "2021-11-26T17:32:55.524347Z",
     "start_time": "2021-11-26T17:32:55.497418Z"
    }
   },
   "outputs": [
    {
     "data": {
      "text/plain": [
       "18456"
      ]
     },
     "execution_count": 5,
     "metadata": {},
     "output_type": "execute_result"
    }
   ],
   "source": [
    "len(cc.items('t'))"
   ]
  },
  {
   "cell_type": "code",
   "execution_count": 6,
   "metadata": {
    "ExecuteTime": {
     "end_time": "2021-11-26T17:33:06.017218Z",
     "start_time": "2021-11-26T17:33:03.942736Z"
    }
   },
   "outputs": [],
   "source": [
    "cc.save_counts('wos-econ-20k-titles-all')"
   ]
  }
 ],
 "metadata": {
  "kernelspec": {
   "display_name": "Python 3",
   "language": "python",
   "name": "python3"
  },
  "language_info": {
   "codemirror_mode": {
    "name": "ipython",
    "version": 3
   },
   "file_extension": ".py",
   "mimetype": "text/x-python",
   "name": "python",
   "nbconvert_exporter": "python",
   "pygments_lexer": "ipython3",
   "version": "3.9.2"
  },
  "varInspector": {
   "cols": {
    "lenName": 16,
    "lenType": 16,
    "lenVar": 40
   },
   "kernels_config": {
    "python": {
     "delete_cmd_postfix": "",
     "delete_cmd_prefix": "del ",
     "library": "var_list.py",
     "varRefreshCmd": "print(var_dic_list())"
    },
    "r": {
     "delete_cmd_postfix": ") ",
     "delete_cmd_prefix": "rm(",
     "library": "var_list.r",
     "varRefreshCmd": "cat(var_dic_list()) "
    }
   },
   "types_to_exclude": [
    "module",
    "function",
    "builtin_function_or_method",
    "instance",
    "_Feature"
   ],
   "window_display": false
  }
 },
 "nbformat": 4,
 "nbformat_minor": 4
}
