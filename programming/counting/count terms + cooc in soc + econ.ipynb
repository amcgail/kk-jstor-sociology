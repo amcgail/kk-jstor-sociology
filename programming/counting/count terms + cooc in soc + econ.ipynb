{
 "cells": [
  {
   "cell_type": "markdown",
   "metadata": {},
   "source": [
    "## Count the frequency of single words in soc and econ articles as well as cooc of words with each other\n",
    "\n",
    "- This notebook creates `wos-soc-alltitles-singlecounts.pkl`, `wos-econ-alltitles-single-counts.pkl`, `wos-econ-limitedtitles-cooc`, `wos-soc-limitedtitles-cooc`\n",
    "\n",
    "The function cc() can be used to access the counts. The following parameters are recognized:\n",
    "- cc(t='') - counts of a specific term\n",
    "- cc(fy=) - counts from a specific year\n",
    "- cc(fj=) - counts from a specific journal\n",
    "- cc.summarize() - summary of the dimensions of those matrices\n",
    "- cc.items('t') - gives the terms"
   ]
  },
  {
   "cell_type": "markdown",
   "metadata": {},
   "source": [
    "### Load data"
   ]
  },
  {
   "cell_type": "code",
   "execution_count": 1,
   "metadata": {
    "ExecuteTime": {
     "end_time": "2021-11-29T23:02:07.032044Z",
     "start_time": "2021-11-29T23:01:02.606345Z"
    }
   },
   "outputs": [
    {
     "name": "stdout",
     "output_type": "stream",
     "text": [
      "Loading articles...\n",
      "73513 econ articles loaded\n",
      "190778 soc articles loaded\n"
     ]
    }
   ],
   "source": [
    "import sys\n",
    "sys.path.append(\"./../helper\") # to find scripts\n",
    "from load_data import wos_soc, wos_econ   # loads data\n",
    "from common_imports import *\n",
    "from helpers import *"
   ]
  },
  {
   "cell_type": "markdown",
   "metadata": {},
   "source": [
    "### Count function"
   ]
  },
  {
   "cell_type": "code",
   "execution_count": 1,
   "metadata": {
    "ExecuteTime": {
     "end_time": "2021-11-30T16:36:55.977148Z",
     "start_time": "2021-11-30T16:36:55.961192Z"
    }
   },
   "outputs": [],
   "source": [
    "def createCounts(dat, top_terms=False, cooc=False):\n",
    "       \n",
    "    \"\"\" \n",
    "    This function takes in wos_econ or wos_soc and returns the counts. \n",
    "    If top_terms is not False, only terms that are in the list top_terms will be counted.\n",
    "    If cooc is True, co-occurrences are also counted. \n",
    "    \"\"\"\n",
    "    \n",
    "    cc = counter()\n",
    "\n",
    "    for i, rec in enumerate(dat):\n",
    "        \n",
    "        # i = counter\n",
    "        # rec = article in dict form\n",
    "\n",
    "        if i % 10000 == 0:\n",
    "            print(f'Record {i:,}')\n",
    "            cc.summarize()\n",
    "\n",
    "        tups = rec['title'].lower().split(\" \")\n",
    "        if(top_terms): tups = [t for t in tups if t in top_terms]\n",
    "        \n",
    "        if(cooc):\n",
    "            count(\n",
    "                cc,\n",
    "                values = {\n",
    "                    'fy': tryInt(rec['year']),    # number of articles per year\n",
    "                    'fj': tryStr(rec['journal']), # number of articles per journal\n",
    "                },\n",
    "                terms = tups,\n",
    "                combinations = [\n",
    "                    ('fy','t'),  # number of times a term occurs per year\n",
    "                    ('fj','t'),  # number of times a term occurs per journal\n",
    "                    ('fy',),     # total number term occurrences per year\n",
    "                    ('t',),      # total number of terms\n",
    "                    ('fj',),     # total number of terms per journal\n",
    "                    ('t1','t2'),\n",
    "                    #('fj','t1','t2'),\n",
    "                    ('fy','t1','t2')\n",
    "                ]\n",
    "            )\n",
    "        else:\n",
    "            count(\n",
    "                cc,\n",
    "                values = {\n",
    "                    'fy': tryInt(rec['year']),    \n",
    "                    'fj': tryStr(rec['journal']), \n",
    "                },\n",
    "                terms = tups,\n",
    "                combinations = [\n",
    "                    ('fy','t'), \n",
    "                    ('fj','t'),  \n",
    "                    ('fy',),     \n",
    "                    ('t',),      \n",
    "                    ('fj',)      \n",
    "                    #('t1','t2'),\n",
    "                    #('fj','t1','t2'),\n",
    "                    #('fy','t1','t2')\n",
    "                ]\n",
    "            )\n",
    "\n",
    "    if not cooc: cc.prune_zeros()\n",
    "        \n",
    "    return(cc)"
   ]
  },
  {
   "cell_type": "markdown",
   "metadata": {},
   "source": [
    "### Count single terms"
   ]
  },
  {
   "cell_type": "code",
   "execution_count": 3,
   "metadata": {
    "ExecuteTime": {
     "end_time": "2021-11-29T23:04:31.347576Z",
     "start_time": "2021-11-29T23:02:07.054043Z"
    },
    "scrolled": false
   },
   "outputs": [
    {
     "name": "stdout",
     "output_type": "stream",
     "text": [
      "Blank counter with no name\n",
      "Record 0\n",
      "[]\n",
      "Record 10,000\n",
      "[(('fy', 't'), (10, 31590)), (('fj', 't'), (571, 31590)), (('fy',), (10,)), (('t',), (31590,)), (('fj',), (571,))]\n",
      "Record 20,000\n",
      "[(('fy', 't'), (22, 49358)), (('fj', 't'), (891, 49358)), (('fy',), (22,)), (('t',), (49358,)), (('fj',), (891,))]\n",
      "Record 30,000\n",
      "[(('fy', 't'), (33, 61697)), (('fj', 't'), (1391, 61697)), (('fy',), (33,)), (('t',), (61697,)), (('fj',), (1391,))]\n",
      "Record 40,000\n",
      "[(('fy', 't'), (33, 61697)), (('fj', 't'), (1738, 61697)), (('fy',), (33,)), (('t',), (61697,)), (('fj',), (1738,))]\n",
      "Record 50,000\n",
      "[(('fy', 't'), (41, 77121)), (('fj', 't'), (2172, 77121)), (('fy',), (41,)), (('t',), (77121,)), (('fj',), (2172,))]\n",
      "Record 60,000\n",
      "[(('fy', 't'), (41, 77121)), (('fj', 't'), (2715, 77121)), (('fy',), (41,)), (('t',), (77121,)), (('fj',), (2715,))]\n",
      "Record 70,000\n",
      "[(('fy', 't'), (41, 77121)), (('fj', 't'), (2715, 77121)), (('fy',), (41,)), (('t',), (77121,)), (('fj',), (2715,))]\n",
      "Record 80,000\n",
      "[(('fy', 't'), (41, 77121)), (('fj', 't'), (3393, 77121)), (('fy',), (41,)), (('t',), (77121,)), (('fj',), (3393,))]\n",
      "Record 90,000\n",
      "[(('fy', 't'), (51, 77121)), (('fj', 't'), (4241, 77121)), (('fy',), (51,)), (('t',), (77121,)), (('fj',), (4241,))]\n",
      "Record 100,000\n",
      "[(('fy', 't'), (51, 77121)), (('fj', 't'), (4241, 77121)), (('fy',), (51,)), (('t',), (77121,)), (('fj',), (4241,))]\n",
      "Record 110,000\n",
      "[(('fy', 't'), (63, 77121)), (('fj', 't'), (4241, 77121)), (('fy',), (63,)), (('t',), (77121,)), (('fj',), (4241,))]\n",
      "Record 120,000\n",
      "[(('fy', 't'), (63, 96401)), (('fj', 't'), (4241, 96401)), (('fy',), (63,)), (('t',), (96401,)), (('fj',), (4241,))]\n",
      "Record 130,000\n",
      "[(('fy', 't'), (63, 96401)), (('fj', 't'), (4241, 96401)), (('fy',), (63,)), (('t',), (96401,)), (('fj',), (4241,))]\n",
      "Record 140,000\n",
      "[(('fy', 't'), (78, 96401)), (('fj', 't'), (4241, 96401)), (('fy',), (78,)), (('t',), (96401,)), (('fj',), (4241,))]\n",
      "Record 150,000\n",
      "[(('fy', 't'), (78, 96401)), (('fj', 't'), (4241, 96401)), (('fy',), (78,)), (('t',), (96401,)), (('fj',), (4241,))]\n",
      "Record 160,000\n",
      "[(('fy', 't'), (78, 96401)), (('fj', 't'), (4241, 96401)), (('fy',), (78,)), (('t',), (96401,)), (('fj',), (4241,))]\n",
      "Record 170,000\n",
      "[(('fy', 't'), (97, 96401)), (('fj', 't'), (4241, 96401)), (('fy',), (97,)), (('t',), (96401,)), (('fj',), (4241,))]\n",
      "Record 180,000\n",
      "[(('fy', 't'), (97, 96401)), (('fj', 't'), (4241, 96401)), (('fy',), (97,)), (('t',), (96401,)), (('fj',), (4241,))]\n",
      "Record 190,000\n",
      "[(('fy', 't'), (151, 96401)), (('fj', 't'), (4241, 96401)), (('fy',), (151,)), (('t',), (96401,)), (('fj',), (4241,))]\n",
      "Blank counter with no name\n",
      "Record 0\n",
      "[]\n",
      "Record 10,000\n",
      "[(('fy', 't'), (33, 8282)), (('fj', 't'), (188, 8282)), (('fy',), (33,)), (('t',), (8282,)), (('fj',), (188,))]\n",
      "Record 20,000\n",
      "[(('fy', 't'), (63, 10352)), (('fj', 't'), (235, 10352)), (('fy',), (63,)), (('t',), (10352,)), (('fj',), (235,))]\n",
      "Record 30,000\n",
      "[(('fy', 't'), (63, 12940)), (('fj', 't'), (235, 12940)), (('fy',), (63,)), (('t',), (12940,)), (('fj',), (235,))]\n",
      "Record 40,000\n",
      "[(('fy', 't'), (97, 12940)), (('fj', 't'), (235, 12940)), (('fy',), (97,)), (('t',), (12940,)), (('fj',), (235,))]\n",
      "Record 50,000\n",
      "[(('fy', 't'), (97, 16175)), (('fj', 't'), (235, 16175)), (('fy',), (97,)), (('t',), (16175,)), (('fj',), (235,))]\n",
      "Record 60,000\n",
      "[(('fy', 't'), (151, 20218)), (('fj', 't'), (571, 20218)), (('fy',), (151,)), (('t',), (20218,)), (('fj',), (571,))]\n",
      "Record 70,000\n",
      "[(('fy', 't'), (151, 20218)), (('fj', 't'), (713, 20218)), (('fy',), (151,)), (('t',), (20218,)), (('fj',), (713,))]\n"
     ]
    }
   ],
   "source": [
    "cc_soc_single = createCounts(wos_soc)\n",
    "cc_econ_single = createCounts(wos_econ)\n",
    "\n",
    "cc_soc_single.save_counts('wos-soc-alltitles-singlecounts')\n",
    "cc_econ_single.save_counts('wos-econ-alltitles-singlecounts')"
   ]
  },
  {
   "cell_type": "code",
   "execution_count": 4,
   "metadata": {
    "ExecuteTime": {
     "end_time": "2021-11-29T23:04:32.104482Z",
     "start_time": "2021-11-29T23:04:31.347576Z"
    }
   },
   "outputs": [
    {
     "name": "stdout",
     "output_type": "stream",
     "text": [
      "SOC:  women, family, social, gender, cultural, policy, american, theory, political, class, politics, health, public, community, life, education, work, state, case, sociol\n",
      "ECON:  united, economic, growth, theory, price, models, effects, model, market, economics, capital, evidence, labor, industry, demand, trade, policy, states, social, income\n"
     ]
    }
   ],
   "source": [
    "# Let's look at the top 20 words\n",
    "\n",
    "topN = 20\n",
    "\n",
    "top_ids_soc = np.argsort( cc_soc_single.counts[('t',)] )[-topN:]\n",
    "top_terms_soc = [k for k,i in cc_soc_single.ids['t'].items() if i in top_ids_soc] \n",
    "\n",
    "top_ids_econ = np.argsort( cc_econ_single.counts[('t',)] )[-topN:]\n",
    "top_terms_econ = [k for k,i in cc_econ_single.ids['t'].items() if i in top_ids_econ] \n",
    "\n",
    "print(\"SOC: \", \", \".join( top_terms_soc ))\n",
    "print(\"ECON: \", \", \".join( top_terms_econ ))"
   ]
  },
  {
   "cell_type": "markdown",
   "metadata": {
    "ExecuteTime": {
     "end_time": "2021-11-29T16:02:33.022769Z",
     "start_time": "2021-11-29T16:02:32.986328Z"
    }
   },
   "source": [
    "### Count co-occurences\n",
    "\n",
    "- To count cooc, we first needs to reduce the number of words as otherwise, the matrices will blow up\n",
    "- Then we count cooc among the limited set of words"
   ]
  },
  {
   "cell_type": "code",
   "execution_count": 5,
   "metadata": {
    "ExecuteTime": {
     "end_time": "2021-11-29T23:04:33.225830Z",
     "start_time": "2021-11-29T23:04:32.108740Z"
    }
   },
   "outputs": [],
   "source": [
    "def topTerms(dat, topN):\n",
    "    \n",
    "    # Get topN terms  \n",
    "    terms = dat.items('t') # all terms\n",
    "    cdict = {t: dat(t=t) for t in terms} # term/count dictionary\n",
    "    \n",
    "    top_terms = sorted(terms, key=lambda x:cdict[x])[-topN: ] # sort dicitonary by counts and return terms\n",
    "    \n",
    "    return(top_terms)\n",
    "\n",
    "top_soc = topTerms(cc_soc_single, 1000) # get top X words\n",
    "top_econ = topTerms(cc_econ_single, 1000) "
   ]
  },
  {
   "cell_type": "code",
   "execution_count": 6,
   "metadata": {
    "ExecuteTime": {
     "end_time": "2021-11-30T00:16:06.615592Z",
     "start_time": "2021-11-29T23:04:33.225830Z"
    }
   },
   "outputs": [
    {
     "name": "stdout",
     "output_type": "stream",
     "text": [
      "Blank counter with no name\n",
      "Record 0\n",
      "[]\n",
      "Record 10,000\n",
      "[(('fy', 't'), (10, 1113)), (('fj', 't'), (571, 1113)), (('fy',), (10,)), (('t',), (1113,)), (('fj',), (571,)), (('t1', 't2'), (1113, 1113)), (('fy', 't1', 't2'), (10, 1113, 1113))]\n",
      "Record 20,000\n",
      "[(('fy', 't'), (22, 1113)), (('fj', 't'), (891, 1113)), (('fy',), (22,)), (('t',), (1113,)), (('fj',), (891,)), (('t1', 't2'), (1113, 1113)), (('fy', 't1', 't2'), (22, 1113, 1113))]\n",
      "Record 30,000\n",
      "[(('fy', 't'), (33, 1113)), (('fj', 't'), (1391, 1113)), (('fy',), (33,)), (('t',), (1113,)), (('fj',), (1391,)), (('t1', 't2'), (1113, 1113)), (('fy', 't1', 't2'), (33, 1113, 1113))]\n",
      "Record 40,000\n",
      "[(('fy', 't'), (33, 1113)), (('fj', 't'), (1738, 1113)), (('fy',), (33,)), (('t',), (1113,)), (('fj',), (1738,)), (('t1', 't2'), (1113, 1113)), (('fy', 't1', 't2'), (33, 1113, 1113))]\n",
      "Record 50,000\n",
      "[(('fy', 't'), (41, 1113)), (('fj', 't'), (2172, 1113)), (('fy',), (41,)), (('t',), (1113,)), (('fj',), (2172,)), (('t1', 't2'), (1113, 1113)), (('fy', 't1', 't2'), (41, 1113, 1113))]\n",
      "Record 60,000\n",
      "[(('fy', 't'), (41, 1113)), (('fj', 't'), (2715, 1113)), (('fy',), (41,)), (('t',), (1113,)), (('fj',), (2715,)), (('t1', 't2'), (1113, 1113)), (('fy', 't1', 't2'), (41, 1113, 1113))]\n",
      "Record 70,000\n",
      "[(('fy', 't'), (41, 1113)), (('fj', 't'), (2715, 1113)), (('fy',), (41,)), (('t',), (1113,)), (('fj',), (2715,)), (('t1', 't2'), (1113, 1113)), (('fy', 't1', 't2'), (41, 1113, 1113))]\n",
      "Record 80,000\n",
      "[(('fy', 't'), (41, 1113)), (('fj', 't'), (3393, 1113)), (('fy',), (41,)), (('t',), (1113,)), (('fj',), (3393,)), (('t1', 't2'), (1113, 1113)), (('fy', 't1', 't2'), (41, 1113, 1113))]\n",
      "Record 90,000\n",
      "[(('fy', 't'), (51, 1113)), (('fj', 't'), (4241, 1113)), (('fy',), (51,)), (('t',), (1113,)), (('fj',), (4241,)), (('t1', 't2'), (1113, 1113)), (('fy', 't1', 't2'), (51, 1113, 1113))]\n",
      "Record 100,000\n",
      "[(('fy', 't'), (51, 1113)), (('fj', 't'), (4241, 1113)), (('fy',), (51,)), (('t',), (1113,)), (('fj',), (4241,)), (('t1', 't2'), (1113, 1113)), (('fy', 't1', 't2'), (51, 1113, 1113))]\n",
      "Record 110,000\n",
      "[(('fy', 't'), (63, 1113)), (('fj', 't'), (4241, 1113)), (('fy',), (63,)), (('t',), (1113,)), (('fj',), (4241,)), (('t1', 't2'), (1113, 1113)), (('fy', 't1', 't2'), (63, 1113, 1113))]\n",
      "Record 120,000\n",
      "[(('fy', 't'), (63, 1113)), (('fj', 't'), (4241, 1113)), (('fy',), (63,)), (('t',), (1113,)), (('fj',), (4241,)), (('t1', 't2'), (1113, 1113)), (('fy', 't1', 't2'), (63, 1113, 1113))]\n",
      "Record 130,000\n",
      "[(('fy', 't'), (63, 1113)), (('fj', 't'), (4241, 1113)), (('fy',), (63,)), (('t',), (1113,)), (('fj',), (4241,)), (('t1', 't2'), (1113, 1113)), (('fy', 't1', 't2'), (63, 1113, 1113))]\n",
      "Record 140,000\n",
      "[(('fy', 't'), (78, 1113)), (('fj', 't'), (4241, 1113)), (('fy',), (78,)), (('t',), (1113,)), (('fj',), (4241,)), (('t1', 't2'), (1113, 1113)), (('fy', 't1', 't2'), (78, 1113, 1113))]\n",
      "Record 150,000\n",
      "[(('fy', 't'), (78, 1113)), (('fj', 't'), (4241, 1113)), (('fy',), (78,)), (('t',), (1113,)), (('fj',), (4241,)), (('t1', 't2'), (1113, 1113)), (('fy', 't1', 't2'), (78, 1113, 1113))]\n",
      "Record 160,000\n",
      "[(('fy', 't'), (78, 1113)), (('fj', 't'), (4241, 1113)), (('fy',), (78,)), (('t',), (1113,)), (('fj',), (4241,)), (('t1', 't2'), (1113, 1113)), (('fy', 't1', 't2'), (78, 1113, 1113))]\n",
      "Record 170,000\n",
      "[(('fy', 't'), (97, 1113)), (('fj', 't'), (4241, 1113)), (('fy',), (97,)), (('t',), (1113,)), (('fj',), (4241,)), (('t1', 't2'), (1113, 1113)), (('fy', 't1', 't2'), (97, 1113, 1113))]\n",
      "Record 180,000\n",
      "[(('fy', 't'), (97, 1113)), (('fj', 't'), (4241, 1113)), (('fy',), (97,)), (('t',), (1113,)), (('fj',), (4241,)), (('t1', 't2'), (1113, 1113)), (('fy', 't1', 't2'), (97, 1113, 1113))]\n",
      "Record 190,000\n",
      "[(('fy', 't'), (151, 1113)), (('fj', 't'), (4241, 1113)), (('fy',), (151,)), (('t',), (1113,)), (('fj',), (4241,)), (('t1', 't2'), (1113, 1113)), (('fy', 't1', 't2'), (151, 1113, 1113))]\n",
      "Blank counter with no name\n",
      "Record 0\n",
      "[]\n",
      "Record 10,000\n",
      "[(('fy', 't'), (33, 1113)), (('fj', 't'), (188, 1113)), (('fy',), (33,)), (('t',), (1113,)), (('fj',), (188,)), (('t1', 't2'), (1113, 1113)), (('fy', 't1', 't2'), (33, 1113, 1113))]\n",
      "Record 20,000\n",
      "[(('fy', 't'), (63, 1113)), (('fj', 't'), (235, 1113)), (('fy',), (63,)), (('t',), (1113,)), (('fj',), (235,)), (('t1', 't2'), (1113, 1113)), (('fy', 't1', 't2'), (63, 1113, 1113))]\n",
      "Record 30,000\n",
      "[(('fy', 't'), (63, 1113)), (('fj', 't'), (235, 1113)), (('fy',), (63,)), (('t',), (1113,)), (('fj',), (235,)), (('t1', 't2'), (1113, 1113)), (('fy', 't1', 't2'), (63, 1113, 1113))]\n",
      "Record 40,000\n",
      "[(('fy', 't'), (97, 1113)), (('fj', 't'), (235, 1113)), (('fy',), (97,)), (('t',), (1113,)), (('fj',), (235,)), (('t1', 't2'), (1113, 1113)), (('fy', 't1', 't2'), (97, 1113, 1113))]\n",
      "Record 50,000\n",
      "[(('fy', 't'), (97, 1113)), (('fj', 't'), (235, 1113)), (('fy',), (97,)), (('t',), (1113,)), (('fj',), (235,)), (('t1', 't2'), (1113, 1113)), (('fy', 't1', 't2'), (97, 1113, 1113))]\n",
      "Record 60,000\n",
      "[(('fy', 't'), (151, 1113)), (('fj', 't'), (571, 1113)), (('fy',), (151,)), (('t',), (1113,)), (('fj',), (571,)), (('t1', 't2'), (1113, 1113)), (('fy', 't1', 't2'), (151, 1113, 1113))]\n",
      "Record 70,000\n",
      "[(('fy', 't'), (151, 1113)), (('fj', 't'), (713, 1113)), (('fy',), (151,)), (('t',), (1113,)), (('fj',), (713,)), (('t1', 't2'), (1113, 1113)), (('fy', 't1', 't2'), (151, 1113, 1113))]\n"
     ]
    }
   ],
   "source": [
    "cc_soc_cooc = createCounts(dat=wos_soc, top_terms=top_soc, cooc=True)\n",
    "cc_econ_cooc = createCounts(dat=wos_econ, top_terms=top_econ, cooc=True)\n",
    "\n",
    "cc_soc_cooc.save_counts('wos-soc-limitedtitles-cooc')\n",
    "cc_econ_cooc.save_counts('wos-econ-limitedtitles-cooc')"
   ]
  },
  {
   "cell_type": "code",
   "execution_count": null,
   "metadata": {},
   "outputs": [],
   "source": []
  }
 ],
 "metadata": {
  "kernelspec": {
   "display_name": "Python 3",
   "language": "python",
   "name": "python3"
  },
  "language_info": {
   "codemirror_mode": {
    "name": "ipython",
    "version": 3
   },
   "file_extension": ".py",
   "mimetype": "text/x-python",
   "name": "python",
   "nbconvert_exporter": "python",
   "pygments_lexer": "ipython3",
   "version": "3.9.2"
  },
  "varInspector": {
   "cols": {
    "lenName": 16,
    "lenType": 16,
    "lenVar": 40
   },
   "kernels_config": {
    "python": {
     "delete_cmd_postfix": "",
     "delete_cmd_prefix": "del ",
     "library": "var_list.py",
     "varRefreshCmd": "print(var_dic_list())"
    },
    "r": {
     "delete_cmd_postfix": ") ",
     "delete_cmd_prefix": "rm(",
     "library": "var_list.r",
     "varRefreshCmd": "cat(var_dic_list()) "
    }
   },
   "types_to_exclude": [
    "module",
    "function",
    "builtin_function_or_method",
    "instance",
    "_Feature"
   ],
   "window_display": false
  }
 },
 "nbformat": 4,
 "nbformat_minor": 4
}
