{
 "cells": [
  {
   "cell_type": "markdown",
   "metadata": {},
   "source": [
    "## Count the frequency of single words in soc and econ articles as well as cooc of words with each other\n",
    "\n",
    "- This notebook creates `wos-soc-alltitles-singlecounts.pkl`, `wos-econ-alltitles-single-counts.pkl`, `wos-econ-limitedtitles-cooc`, `wos-soc-limitedtitles-cooc`\n",
    "\n",
    "The function cc() can be used to access the counts. The following parameters are recognized:\n",
    "- cc(t='') - counts of a specific term\n",
    "- cc(fy=) - counts from a specific year\n",
    "- cc(fj=) - counts from a specific journal\n",
    "- cc.summarize() - summary of the dimensions of those matrices\n",
    "- cc.items('t') - gives the terms"
   ]
  },
  {
   "cell_type": "markdown",
   "metadata": {},
   "source": [
    "### Load data"
   ]
  },
  {
   "cell_type": "code",
   "execution_count": 1,
   "metadata": {
    "ExecuteTime": {
     "end_time": "2021-12-16T18:03:47.152341Z",
     "start_time": "2021-12-16T18:03:29.204734Z"
    }
   },
   "outputs": [
    {
     "name": "stderr",
     "output_type": "stream",
     "text": [
      "C:\\Users\\benja\\miniconda3\\lib\\site-packages\\IPython\\core\\interactiveshell.py:3437: DtypeWarning: Columns (2) have mixed types.Specify dtype option on import or set low_memory=False.\n",
      "  exec(code_obj, self.user_global_ns, self.user_ns)\n"
     ]
    }
   ],
   "source": [
    "import sys\n",
    "sys.path.append(\"./../helper\") # to find scripts\n",
    "#from load_data import wos_soc, wos_econ   # loads data\n",
    "from load_constellate import wos_soc, wos_econ   # loads data\n",
    "from common_imports import *\n",
    "from helpers import *"
   ]
  },
  {
   "cell_type": "markdown",
   "metadata": {},
   "source": [
    "### Count function"
   ]
  },
  {
   "cell_type": "code",
   "execution_count": 2,
   "metadata": {
    "ExecuteTime": {
     "end_time": "2021-12-16T18:06:08.312442Z",
     "start_time": "2021-12-16T18:06:08.303499Z"
    }
   },
   "outputs": [],
   "source": [
    "def createCounts(dat, top_terms=False, cooc=False):\n",
    "       \n",
    "    \"\"\" \n",
    "    This function takes in wos_econ or wos_soc and returns the counts. \n",
    "    If top_terms is not False, only terms that are in the list top_terms will be counted.\n",
    "    If cooc is True, co-occurrences are also counted. \n",
    "    \"\"\"\n",
    "    \n",
    "    cc = counter()\n",
    "\n",
    "    for i, rec in enumerate(dat):\n",
    "        \n",
    "        # i = counter\n",
    "        # rec = article in dict form\n",
    "\n",
    "        if i % 10000 == 0:\n",
    "            print(f'Record {i:,}')\n",
    "            cc.summarize()\n",
    "\n",
    "        tups = rec['title'].lower().split(\" \")\n",
    "        if(top_terms): tups = [t for t in tups if t in top_terms]\n",
    "        \n",
    "        if(cooc):\n",
    "            count(\n",
    "                cc,\n",
    "                values = {\n",
    "                    'fy': tryInt(rec['year']),    # number of articles per year\n",
    "                    'fj': tryStr(rec['journal']), # number of articles per journal\n",
    "                },\n",
    "                terms = tups,\n",
    "                combinations = [\n",
    "                    ('fy','t'),  # number of times a term occurs per year\n",
    "                    ('fj','t'),  # number of times a term occurs per journal\n",
    "                    ('fy',),     # total number term occurrences per year\n",
    "                    ('t',),      # total number of terms\n",
    "                    ('fj',),     # total number of terms per journal\n",
    "                    ('t1','t2'),\n",
    "                    #('fj','t1','t2'),\n",
    "                    ('fy','t1','t2')\n",
    "                ]\n",
    "            )\n",
    "        else:\n",
    "            count(\n",
    "                cc,\n",
    "                values = {\n",
    "                    'fy': tryInt(rec['year']),    \n",
    "                    'fj': tryStr(rec['journal']), \n",
    "                },\n",
    "                terms = tups,\n",
    "                combinations = [\n",
    "                    ('fy','t'), \n",
    "                    ('fj','t'),  \n",
    "                    ('fy',),     \n",
    "                    ('t',),      \n",
    "                    ('fj',)      \n",
    "                    #('t1','t2'),\n",
    "                    #('fj','t1','t2'),\n",
    "                    #('fy','t1','t2')\n",
    "                ]\n",
    "            )\n",
    "\n",
    "    if not cooc: cc.prune_zeros()\n",
    "        \n",
    "    return(cc)"
   ]
  },
  {
   "cell_type": "markdown",
   "metadata": {},
   "source": [
    "### Count single terms"
   ]
  },
  {
   "cell_type": "code",
   "execution_count": 5,
   "metadata": {
    "ExecuteTime": {
     "end_time": "2021-12-16T18:06:58.117291Z",
     "start_time": "2021-12-16T18:06:24.205926Z"
    }
   },
   "outputs": [
    {
     "name": "stdout",
     "output_type": "stream",
     "text": [
      "Blank counter with no name\n",
      "Record 0\n",
      "[]\n",
      "Record 10,000\n",
      "[(('fy', 't'), (121, 10352)), (('fj', 't'), (571, 10352)), (('fy',), (121,)), (('t',), (10352,)), (('fj',), (571,))]\n",
      "Record 20,000\n",
      "[(('fy', 't'), (121, 16175)), (('fj', 't'), (891, 16175)), (('fy',), (121,)), (('t',), (16175,)), (('fj',), (891,))]\n",
      "Record 30,000\n",
      "[(('fy', 't'), (121, 20218)), (('fj', 't'), (1113, 20218)), (('fy',), (121,)), (('t',), (20218,)), (('fj',), (1113,))]\n",
      "Record 40,000\n",
      "[(('fy', 't'), (121, 20218)), (('fj', 't'), (1391, 20218)), (('fy',), (121,)), (('t',), (20218,)), (('fj',), (1391,))]\n",
      "Record 50,000\n",
      "[(('fy', 't'), (121, 25272)), (('fj', 't'), (1391, 25272)), (('fy',), (121,)), (('t',), (25272,)), (('fj',), (1391,))]\n",
      "Record 60,000\n",
      "[(('fy', 't'), (121, 25272)), (('fj', 't'), (1738, 25272)), (('fy',), (121,)), (('t',), (25272,)), (('fj',), (1738,))]\n",
      "Record 70,000\n",
      "[(('fy', 't'), (151, 25272)), (('fj', 't'), (1738, 25272)), (('fy',), (151,)), (('t',), (25272,)), (('fj',), (1738,))]\n",
      "Record 80,000\n",
      "[(('fy', 't'), (151, 31590)), (('fj', 't'), (1738, 31590)), (('fy',), (151,)), (('t',), (31590,)), (('fj',), (1738,))]\n",
      "Record 90,000\n",
      "[(('fy', 't'), (151, 31590)), (('fj', 't'), (2172, 31590)), (('fy',), (151,)), (('t',), (31590,)), (('fj',), (2172,))]\n",
      "Record 100,000\n",
      "[(('fy', 't'), (151, 31590)), (('fj', 't'), (2172, 31590)), (('fy',), (151,)), (('t',), (31590,)), (('fj',), (2172,))]\n",
      "Blank counter with no name\n",
      "Record 0\n",
      "[]\n",
      "Record 10,000\n",
      "[(('fy', 't'), (121, 10352)), (('fj', 't'), (571, 10352)), (('fy',), (121,)), (('t',), (10352,)), (('fj',), (571,))]\n",
      "Record 20,000\n",
      "[(('fy', 't'), (121, 12940)), (('fj', 't'), (713, 12940)), (('fy',), (121,)), (('t',), (12940,)), (('fj',), (713,))]\n",
      "Record 30,000\n",
      "[(('fy', 't'), (121, 16175)), (('fj', 't'), (713, 16175)), (('fy',), (121,)), (('t',), (16175,)), (('fj',), (713,))]\n",
      "Record 40,000\n",
      "[(('fy', 't'), (121, 20218)), (('fj', 't'), (891, 20218)), (('fy',), (121,)), (('t',), (20218,)), (('fj',), (891,))]\n",
      "Record 50,000\n",
      "[(('fy', 't'), (121, 20218)), (('fj', 't'), (1113, 20218)), (('fy',), (121,)), (('t',), (20218,)), (('fj',), (1113,))]\n",
      "Record 60,000\n",
      "[(('fy', 't'), (121, 25272)), (('fj', 't'), (1391, 25272)), (('fy',), (121,)), (('t',), (25272,)), (('fj',), (1391,))]\n",
      "Record 70,000\n",
      "[(('fy', 't'), (121, 25272)), (('fj', 't'), (1391, 25272)), (('fy',), (121,)), (('t',), (25272,)), (('fj',), (1391,))]\n",
      "Record 80,000\n",
      "[(('fy', 't'), (121, 25272)), (('fj', 't'), (1391, 25272)), (('fy',), (121,)), (('t',), (25272,)), (('fj',), (1391,))]\n",
      "Record 90,000\n",
      "[(('fy', 't'), (121, 25272)), (('fj', 't'), (1738, 25272)), (('fy',), (121,)), (('t',), (25272,)), (('fj',), (1738,))]\n",
      "Record 100,000\n",
      "[(('fy', 't'), (121, 31590)), (('fj', 't'), (1738, 31590)), (('fy',), (121,)), (('t',), (31590,)), (('fj',), (1738,))]\n",
      "Record 110,000\n",
      "[(('fy', 't'), (121, 31590)), (('fj', 't'), (1738, 31590)), (('fy',), (121,)), (('t',), (31590,)), (('fj',), (1738,))]\n",
      "Record 120,000\n",
      "[(('fy', 't'), (121, 31590)), (('fj', 't'), (1738, 31590)), (('fy',), (121,)), (('t',), (31590,)), (('fj',), (1738,))]\n",
      "Record 130,000\n",
      "[(('fy', 't'), (121, 31590)), (('fj', 't'), (1738, 31590)), (('fy',), (121,)), (('t',), (31590,)), (('fj',), (1738,))]\n",
      "Record 140,000\n",
      "[(('fy', 't'), (121, 31590)), (('fj', 't'), (1738, 31590)), (('fy',), (121,)), (('t',), (31590,)), (('fj',), (1738,))]\n",
      "Record 150,000\n",
      "[(('fy', 't'), (121, 31590)), (('fj', 't'), (1738, 31590)), (('fy',), (121,)), (('t',), (31590,)), (('fj',), (1738,))]\n",
      "Record 160,000\n",
      "[(('fy', 't'), (151, 39487)), (('fj', 't'), (2172, 39487)), (('fy',), (151,)), (('t',), (39487,)), (('fj',), (2172,))]\n",
      "Record 170,000\n",
      "[(('fy', 't'), (151, 39487)), (('fj', 't'), (2172, 39487)), (('fy',), (151,)), (('t',), (39487,)), (('fj',), (2172,))]\n",
      "Record 180,000\n",
      "[(('fy', 't'), (151, 39487)), (('fj', 't'), (2172, 39487)), (('fy',), (151,)), (('t',), (39487,)), (('fj',), (2172,))]\n",
      "Record 190,000\n",
      "[(('fy', 't'), (151, 39487)), (('fj', 't'), (2172, 39487)), (('fy',), (151,)), (('t',), (39487,)), (('fj',), (2172,))]\n",
      "Record 200,000\n",
      "[(('fy', 't'), (151, 39487)), (('fj', 't'), (2172, 39487)), (('fy',), (151,)), (('t',), (39487,)), (('fj',), (2172,))]\n",
      "Record 210,000\n",
      "[(('fy', 't'), (151, 39487)), (('fj', 't'), (2172, 39487)), (('fy',), (151,)), (('t',), (39487,)), (('fj',), (2172,))]\n",
      "Record 220,000\n",
      "[(('fy', 't'), (151, 39487)), (('fj', 't'), (2172, 39487)), (('fy',), (151,)), (('t',), (39487,)), (('fj',), (2172,))]\n",
      "Record 230,000\n",
      "[(('fy', 't'), (151, 39487)), (('fj', 't'), (2715, 39487)), (('fy',), (151,)), (('t',), (39487,)), (('fj',), (2715,))]\n",
      "Record 240,000\n",
      "[(('fy', 't'), (151, 39487)), (('fj', 't'), (2715, 39487)), (('fy',), (151,)), (('t',), (39487,)), (('fj',), (2715,))]\n",
      "Record 250,000\n",
      "[(('fy', 't'), (151, 39487)), (('fj', 't'), (2715, 39487)), (('fy',), (151,)), (('t',), (39487,)), (('fj',), (2715,))]\n",
      "Record 260,000\n",
      "[(('fy', 't'), (151, 39487)), (('fj', 't'), (2715, 39487)), (('fy',), (151,)), (('t',), (39487,)), (('fj',), (2715,))]\n",
      "Record 270,000\n",
      "[(('fy', 't'), (151, 49358)), (('fj', 't'), (2715, 49358)), (('fy',), (151,)), (('t',), (49358,)), (('fj',), (2715,))]\n",
      "Record 280,000\n",
      "[(('fy', 't'), (151, 49358)), (('fj', 't'), (2715, 49358)), (('fy',), (151,)), (('t',), (49358,)), (('fj',), (2715,))]\n",
      "Record 290,000\n",
      "[(('fy', 't'), (151, 49358)), (('fj', 't'), (2715, 49358)), (('fy',), (151,)), (('t',), (49358,)), (('fj',), (2715,))]\n",
      "Record 300,000\n",
      "[(('fy', 't'), (151, 49358)), (('fj', 't'), (2715, 49358)), (('fy',), (151,)), (('t',), (49358,)), (('fj',), (2715,))]\n",
      "Record 310,000\n",
      "[(('fy', 't'), (151, 49358)), (('fj', 't'), (2715, 49358)), (('fy',), (151,)), (('t',), (49358,)), (('fj',), (2715,))]\n",
      "Record 320,000\n",
      "[(('fy', 't'), (151, 49358)), (('fj', 't'), (2715, 49358)), (('fy',), (151,)), (('t',), (49358,)), (('fj',), (2715,))]\n"
     ]
    },
    {
     "ename": "AttributeError",
     "evalue": "'counter' object has no attribute 'prune_counts'",
     "output_type": "error",
     "traceback": [
      "\u001b[1;31m---------------------------------------------------------------------------\u001b[0m",
      "\u001b[1;31mAttributeError\u001b[0m                            Traceback (most recent call last)",
      "\u001b[1;32m<ipython-input-5-b8fc57b56b82>\u001b[0m in \u001b[0;36m<module>\u001b[1;34m\u001b[0m\n\u001b[0;32m      2\u001b[0m \u001b[0mcc_econ_single\u001b[0m \u001b[1;33m=\u001b[0m \u001b[0mcreateCounts\u001b[0m\u001b[1;33m(\u001b[0m\u001b[0mwos_econ\u001b[0m\u001b[1;33m)\u001b[0m\u001b[1;33m\u001b[0m\u001b[1;33m\u001b[0m\u001b[0m\n\u001b[0;32m      3\u001b[0m \u001b[1;33m\u001b[0m\u001b[0m\n\u001b[1;32m----> 4\u001b[1;33m \u001b[0mcc_soc_single\u001b[0m\u001b[1;33m.\u001b[0m\u001b[0mprune_counts\u001b[0m\u001b[1;33m(\u001b[0m\u001b[1;33m)\u001b[0m\u001b[1;33m\u001b[0m\u001b[1;33m\u001b[0m\u001b[0m\n\u001b[0m\u001b[0;32m      5\u001b[0m \u001b[0mcc_econ_single\u001b[0m\u001b[1;33m.\u001b[0m\u001b[0mprune_counts\u001b[0m\u001b[1;33m(\u001b[0m\u001b[1;33m)\u001b[0m\u001b[1;33m\u001b[0m\u001b[1;33m\u001b[0m\u001b[0m\n\u001b[0;32m      6\u001b[0m \u001b[1;33m\u001b[0m\u001b[0m\n",
      "\u001b[1;31mAttributeError\u001b[0m: 'counter' object has no attribute 'prune_counts'"
     ]
    }
   ],
   "source": [
    "cc_soc_single = createCounts(wos_soc)\n",
    "cc_econ_single = createCounts(wos_econ)\n",
    "\n",
    "cc_soc_single.prune_counts()\n",
    "cc_econ_single.prune_counts()\n",
    "\n",
    "cc_soc_single.save_counts('wos-soc-alltitles-singlecounts')\n",
    "cc_econ_single.save_counts('wos-econ-alltitles-singlecounts')"
   ]
  },
  {
   "cell_type": "code",
   "execution_count": 6,
   "metadata": {
    "ExecuteTime": {
     "end_time": "2021-12-16T18:46:04.721561Z",
     "start_time": "2021-12-16T18:46:04.414865Z"
    }
   },
   "outputs": [
    {
     "name": "stdout",
     "output_type": "stream",
     "text": [
      "SOC:  review, article, public, work, family, gender, children, class, effects, social, women, american, life, matter, study, economic, health, education, research, span\n",
      "ECON:  health, income, economy, analysis, case, policy, economic, development, industry, matter, social, evidence, trade, public, review, article, growth, market, labor, international\n"
     ]
    }
   ],
   "source": [
    "# Let's look at the top 20 words\n",
    "\n",
    "topN = 20\n",
    "\n",
    "top_ids_soc = np.argsort( cc_soc_single.counts[('t',)] )[-topN:]\n",
    "top_terms_soc = [k for k,i in cc_soc_single.ids['t'].items() if i in top_ids_soc] \n",
    "\n",
    "top_ids_econ = np.argsort( cc_econ_single.counts[('t',)] )[-topN:]\n",
    "top_terms_econ = [k for k,i in cc_econ_single.ids['t'].items() if i in top_ids_econ] \n",
    "\n",
    "print(\"SOC: \", \", \".join( top_terms_soc ))\n",
    "print(\"ECON: \", \", \".join( top_terms_econ ))"
   ]
  },
  {
   "cell_type": "markdown",
   "metadata": {
    "ExecuteTime": {
     "end_time": "2021-11-29T16:02:33.022769Z",
     "start_time": "2021-11-29T16:02:32.986328Z"
    }
   },
   "source": [
    "### Count co-occurences\n",
    "\n",
    "- To count cooc, we first needs to reduce the number of words as otherwise, the matrices will blow up\n",
    "- Then we count cooc among the limited set of words"
   ]
  },
  {
   "cell_type": "code",
   "execution_count": 7,
   "metadata": {
    "ExecuteTime": {
     "end_time": "2021-12-16T18:46:06.945816Z",
     "start_time": "2021-12-16T18:46:06.546143Z"
    }
   },
   "outputs": [],
   "source": [
    "def topTerms(dat, topN):\n",
    "    \n",
    "    # Get topN terms  \n",
    "    terms = dat.items('t') # all terms\n",
    "    cdict = {t: dat(t=t) for t in terms} # term/count dictionary\n",
    "    \n",
    "    top_terms = sorted(terms, key=lambda x:cdict[x])[-topN: ] # sort dicitonary by counts and return terms\n",
    "    \n",
    "    return(top_terms)\n",
    "\n",
    "top_soc = topTerms(cc_soc_single, 1000) # get top X words\n",
    "top_econ = topTerms(cc_econ_single, 1000) "
   ]
  },
  {
   "cell_type": "code",
   "execution_count": 8,
   "metadata": {
    "ExecuteTime": {
     "end_time": "2021-12-16T18:46:07.679784Z",
     "start_time": "2021-12-16T18:46:07.660795Z"
    }
   },
   "outputs": [],
   "source": [
    "# this one takes just the intersection derived in the other notebook\n",
    "top = open('intersection_socecon.txt', 'r').read().split(\"\\n\")\n",
    "top = top[:-1]"
   ]
  },
  {
   "cell_type": "code",
   "execution_count": 9,
   "metadata": {
    "ExecuteTime": {
     "end_time": "2021-12-16T18:46:08.645299Z",
     "start_time": "2021-12-16T18:46:08.642306Z"
    }
   },
   "outputs": [],
   "source": [
    "top_soc = top_econ = top"
   ]
  },
  {
   "cell_type": "code",
   "execution_count": 10,
   "metadata": {
    "ExecuteTime": {
     "end_time": "2021-12-16T18:48:16.675153Z",
     "start_time": "2021-12-16T18:46:09.497134Z"
    }
   },
   "outputs": [
    {
     "name": "stdout",
     "output_type": "stream",
     "text": [
      "Blank counter with no name\n",
      "Record 0\n",
      "[]\n",
      "Record 10,000\n",
      "[(('fy', 't'), (121, 713)), (('fj', 't'), (571, 713)), (('fy',), (121,)), (('t',), (713,)), (('fj',), (571,)), (('t1', 't2'), (713, 713)), (('fy', 't1', 't2'), (121, 713, 713))]\n",
      "Record 20,000\n",
      "[(('fy', 't'), (121, 713)), (('fj', 't'), (891, 713)), (('fy',), (121,)), (('t',), (713,)), (('fj',), (891,)), (('t1', 't2'), (713, 713)), (('fy', 't1', 't2'), (121, 713, 713))]\n",
      "Record 30,000\n",
      "[(('fy', 't'), (121, 713)), (('fj', 't'), (1113, 713)), (('fy',), (121,)), (('t',), (713,)), (('fj',), (1113,)), (('t1', 't2'), (713, 713)), (('fy', 't1', 't2'), (121, 713, 713))]\n",
      "Record 40,000\n",
      "[(('fy', 't'), (121, 713)), (('fj', 't'), (1391, 713)), (('fy',), (121,)), (('t',), (713,)), (('fj',), (1391,)), (('t1', 't2'), (713, 713)), (('fy', 't1', 't2'), (121, 713, 713))]\n",
      "Record 50,000\n",
      "[(('fy', 't'), (121, 713)), (('fj', 't'), (1391, 713)), (('fy',), (121,)), (('t',), (713,)), (('fj',), (1391,)), (('t1', 't2'), (713, 713)), (('fy', 't1', 't2'), (121, 713, 713))]\n",
      "Record 60,000\n",
      "[(('fy', 't'), (121, 713)), (('fj', 't'), (1738, 713)), (('fy',), (121,)), (('t',), (713,)), (('fj',), (1738,)), (('t1', 't2'), (713, 713)), (('fy', 't1', 't2'), (121, 713, 713))]\n",
      "Record 70,000\n",
      "[(('fy', 't'), (151, 713)), (('fj', 't'), (1738, 713)), (('fy',), (151,)), (('t',), (713,)), (('fj',), (1738,)), (('t1', 't2'), (713, 713)), (('fy', 't1', 't2'), (151, 713, 713))]\n",
      "Record 80,000\n",
      "[(('fy', 't'), (151, 713)), (('fj', 't'), (1738, 713)), (('fy',), (151,)), (('t',), (713,)), (('fj',), (1738,)), (('t1', 't2'), (713, 713)), (('fy', 't1', 't2'), (151, 713, 713))]\n",
      "Record 90,000\n",
      "[(('fy', 't'), (151, 713)), (('fj', 't'), (1738, 713)), (('fy',), (151,)), (('t',), (713,)), (('fj',), (1738,)), (('t1', 't2'), (713, 713)), (('fy', 't1', 't2'), (151, 713, 713))]\n",
      "Record 100,000\n",
      "[(('fy', 't'), (151, 713)), (('fj', 't'), (2172, 713)), (('fy',), (151,)), (('t',), (713,)), (('fj',), (2172,)), (('t1', 't2'), (713, 713)), (('fy', 't1', 't2'), (151, 713, 713))]\n",
      "Blank counter with no name\n",
      "Record 0\n",
      "[]\n",
      "Record 10,000\n",
      "[(('fy', 't'), (121, 713)), (('fj', 't'), (571, 713)), (('fy',), (121,)), (('t',), (713,)), (('fj',), (571,)), (('t1', 't2'), (713, 713)), (('fy', 't1', 't2'), (121, 713, 713))]\n",
      "Record 20,000\n",
      "[(('fy', 't'), (121, 713)), (('fj', 't'), (713, 713)), (('fy',), (121,)), (('t',), (713,)), (('fj',), (713,)), (('t1', 't2'), (713, 713)), (('fy', 't1', 't2'), (121, 713, 713))]\n",
      "Record 30,000\n",
      "[(('fy', 't'), (121, 713)), (('fj', 't'), (713, 713)), (('fy',), (121,)), (('t',), (713,)), (('fj',), (713,)), (('t1', 't2'), (713, 713)), (('fy', 't1', 't2'), (121, 713, 713))]\n",
      "Record 40,000\n",
      "[(('fy', 't'), (121, 713)), (('fj', 't'), (891, 713)), (('fy',), (121,)), (('t',), (713,)), (('fj',), (891,)), (('t1', 't2'), (713, 713)), (('fy', 't1', 't2'), (121, 713, 713))]\n",
      "Record 50,000\n",
      "[(('fy', 't'), (121, 713)), (('fj', 't'), (1113, 713)), (('fy',), (121,)), (('t',), (713,)), (('fj',), (1113,)), (('t1', 't2'), (713, 713)), (('fy', 't1', 't2'), (121, 713, 713))]\n",
      "Record 60,000\n",
      "[(('fy', 't'), (121, 713)), (('fj', 't'), (1113, 713)), (('fy',), (121,)), (('t',), (713,)), (('fj',), (1113,)), (('t1', 't2'), (713, 713)), (('fy', 't1', 't2'), (121, 713, 713))]\n",
      "Record 70,000\n",
      "[(('fy', 't'), (121, 713)), (('fj', 't'), (1391, 713)), (('fy',), (121,)), (('t',), (713,)), (('fj',), (1391,)), (('t1', 't2'), (713, 713)), (('fy', 't1', 't2'), (121, 713, 713))]\n",
      "Record 80,000\n",
      "[(('fy', 't'), (121, 713)), (('fj', 't'), (1391, 713)), (('fy',), (121,)), (('t',), (713,)), (('fj',), (1391,)), (('t1', 't2'), (713, 713)), (('fy', 't1', 't2'), (121, 713, 713))]\n",
      "Record 90,000\n",
      "[(('fy', 't'), (121, 713)), (('fj', 't'), (1391, 713)), (('fy',), (121,)), (('t',), (713,)), (('fj',), (1391,)), (('t1', 't2'), (713, 713)), (('fy', 't1', 't2'), (121, 713, 713))]\n",
      "Record 100,000\n",
      "[(('fy', 't'), (121, 713)), (('fj', 't'), (1738, 713)), (('fy',), (121,)), (('t',), (713,)), (('fj',), (1738,)), (('t1', 't2'), (713, 713)), (('fy', 't1', 't2'), (121, 713, 713))]\n",
      "Record 110,000\n",
      "[(('fy', 't'), (121, 713)), (('fj', 't'), (1738, 713)), (('fy',), (121,)), (('t',), (713,)), (('fj',), (1738,)), (('t1', 't2'), (713, 713)), (('fy', 't1', 't2'), (121, 713, 713))]\n",
      "Record 120,000\n",
      "[(('fy', 't'), (121, 713)), (('fj', 't'), (1738, 713)), (('fy',), (121,)), (('t',), (713,)), (('fj',), (1738,)), (('t1', 't2'), (713, 713)), (('fy', 't1', 't2'), (121, 713, 713))]\n",
      "Record 130,000\n",
      "[(('fy', 't'), (121, 713)), (('fj', 't'), (1738, 713)), (('fy',), (121,)), (('t',), (713,)), (('fj',), (1738,)), (('t1', 't2'), (713, 713)), (('fy', 't1', 't2'), (121, 713, 713))]\n",
      "Record 140,000\n",
      "[(('fy', 't'), (121, 713)), (('fj', 't'), (1738, 713)), (('fy',), (121,)), (('t',), (713,)), (('fj',), (1738,)), (('t1', 't2'), (713, 713)), (('fy', 't1', 't2'), (121, 713, 713))]\n",
      "Record 150,000\n",
      "[(('fy', 't'), (121, 713)), (('fj', 't'), (1738, 713)), (('fy',), (121,)), (('t',), (713,)), (('fj',), (1738,)), (('t1', 't2'), (713, 713)), (('fy', 't1', 't2'), (121, 713, 713))]\n",
      "Record 160,000\n",
      "[(('fy', 't'), (151, 713)), (('fj', 't'), (2172, 713)), (('fy',), (151,)), (('t',), (713,)), (('fj',), (2172,)), (('t1', 't2'), (713, 713)), (('fy', 't1', 't2'), (151, 713, 713))]\n",
      "Record 170,000\n",
      "[(('fy', 't'), (151, 713)), (('fj', 't'), (2172, 713)), (('fy',), (151,)), (('t',), (713,)), (('fj',), (2172,)), (('t1', 't2'), (713, 713)), (('fy', 't1', 't2'), (151, 713, 713))]\n",
      "Record 180,000\n",
      "[(('fy', 't'), (151, 713)), (('fj', 't'), (2172, 713)), (('fy',), (151,)), (('t',), (713,)), (('fj',), (2172,)), (('t1', 't2'), (713, 713)), (('fy', 't1', 't2'), (151, 713, 713))]\n",
      "Record 190,000\n",
      "[(('fy', 't'), (151, 713)), (('fj', 't'), (2172, 713)), (('fy',), (151,)), (('t',), (713,)), (('fj',), (2172,)), (('t1', 't2'), (713, 713)), (('fy', 't1', 't2'), (151, 713, 713))]\n",
      "Record 200,000\n",
      "[(('fy', 't'), (151, 713)), (('fj', 't'), (2172, 713)), (('fy',), (151,)), (('t',), (713,)), (('fj',), (2172,)), (('t1', 't2'), (713, 713)), (('fy', 't1', 't2'), (151, 713, 713))]\n",
      "Record 210,000\n",
      "[(('fy', 't'), (151, 713)), (('fj', 't'), (2172, 713)), (('fy',), (151,)), (('t',), (713,)), (('fj',), (2172,)), (('t1', 't2'), (713, 713)), (('fy', 't1', 't2'), (151, 713, 713))]\n",
      "Record 220,000\n",
      "[(('fy', 't'), (151, 713)), (('fj', 't'), (2172, 713)), (('fy',), (151,)), (('t',), (713,)), (('fj',), (2172,)), (('t1', 't2'), (713, 713)), (('fy', 't1', 't2'), (151, 713, 713))]\n",
      "Record 230,000\n",
      "[(('fy', 't'), (151, 713)), (('fj', 't'), (2172, 713)), (('fy',), (151,)), (('t',), (713,)), (('fj',), (2172,)), (('t1', 't2'), (713, 713)), (('fy', 't1', 't2'), (151, 713, 713))]\n",
      "Record 240,000\n",
      "[(('fy', 't'), (151, 713)), (('fj', 't'), (2715, 713)), (('fy',), (151,)), (('t',), (713,)), (('fj',), (2715,)), (('t1', 't2'), (713, 713)), (('fy', 't1', 't2'), (151, 713, 713))]\n",
      "Record 250,000\n",
      "[(('fy', 't'), (151, 713)), (('fj', 't'), (2715, 713)), (('fy',), (151,)), (('t',), (713,)), (('fj',), (2715,)), (('t1', 't2'), (713, 713)), (('fy', 't1', 't2'), (151, 713, 713))]\n",
      "Record 260,000\n",
      "[(('fy', 't'), (151, 713)), (('fj', 't'), (2715, 713)), (('fy',), (151,)), (('t',), (713,)), (('fj',), (2715,)), (('t1', 't2'), (713, 713)), (('fy', 't1', 't2'), (151, 713, 713))]\n",
      "Record 270,000\n",
      "[(('fy', 't'), (151, 713)), (('fj', 't'), (2715, 713)), (('fy',), (151,)), (('t',), (713,)), (('fj',), (2715,)), (('t1', 't2'), (713, 713)), (('fy', 't1', 't2'), (151, 713, 713))]\n",
      "Record 280,000\n",
      "[(('fy', 't'), (151, 713)), (('fj', 't'), (2715, 713)), (('fy',), (151,)), (('t',), (713,)), (('fj',), (2715,)), (('t1', 't2'), (713, 713)), (('fy', 't1', 't2'), (151, 713, 713))]\n",
      "Record 290,000\n",
      "[(('fy', 't'), (151, 713)), (('fj', 't'), (2715, 713)), (('fy',), (151,)), (('t',), (713,)), (('fj',), (2715,)), (('t1', 't2'), (713, 713)), (('fy', 't1', 't2'), (151, 713, 713))]\n",
      "Record 300,000\n",
      "[(('fy', 't'), (151, 713)), (('fj', 't'), (2715, 713)), (('fy',), (151,)), (('t',), (713,)), (('fj',), (2715,)), (('t1', 't2'), (713, 713)), (('fy', 't1', 't2'), (151, 713, 713))]\n",
      "Record 310,000\n",
      "[(('fy', 't'), (151, 713)), (('fj', 't'), (2715, 713)), (('fy',), (151,)), (('t',), (713,)), (('fj',), (2715,)), (('t1', 't2'), (713, 713)), (('fy', 't1', 't2'), (151, 713, 713))]\n",
      "Record 320,000\n",
      "[(('fy', 't'), (151, 713)), (('fj', 't'), (2715, 713)), (('fy',), (151,)), (('t',), (713,)), (('fj',), (2715,)), (('t1', 't2'), (713, 713)), (('fy', 't1', 't2'), (151, 713, 713))]\n"
     ]
    }
   ],
   "source": [
    "cc_soc_cooc = createCounts(dat=wos_soc, top_terms=top_soc, cooc=True)\n",
    "cc_econ_cooc = createCounts(dat=wos_econ, top_terms=top_econ, cooc=True)\n",
    "\n",
    "cc_soc_cooc.save_counts('wos-soc-limitedtitles-cooc')\n",
    "cc_econ_cooc.save_counts('wos-econ-limitedtitles-cooc')"
   ]
  },
  {
   "cell_type": "code",
   "execution_count": null,
   "metadata": {},
   "outputs": [],
   "source": []
  }
 ],
 "metadata": {
  "kernelspec": {
   "display_name": "Python 3",
   "language": "python",
   "name": "python3"
  },
  "language_info": {
   "codemirror_mode": {
    "name": "ipython",
    "version": 3
   },
   "file_extension": ".py",
   "mimetype": "text/x-python",
   "name": "python",
   "nbconvert_exporter": "python",
   "pygments_lexer": "ipython3",
   "version": "3.9.2"
  },
  "varInspector": {
   "cols": {
    "lenName": 16,
    "lenType": 16,
    "lenVar": 40
   },
   "kernels_config": {
    "python": {
     "delete_cmd_postfix": "",
     "delete_cmd_prefix": "del ",
     "library": "var_list.py",
     "varRefreshCmd": "print(var_dic_list())"
    },
    "r": {
     "delete_cmd_postfix": ") ",
     "delete_cmd_prefix": "rm(",
     "library": "var_list.r",
     "varRefreshCmd": "cat(var_dic_list()) "
    }
   },
   "types_to_exclude": [
    "module",
    "function",
    "builtin_function_or_method",
    "instance",
    "_Feature"
   ],
   "window_display": false
  }
 },
 "nbformat": 4,
 "nbformat_minor": 4
}
