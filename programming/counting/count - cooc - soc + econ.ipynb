{
 "cells": [
  {
   "cell_type": "code",
   "execution_count": 3,
   "metadata": {
    "ExecuteTime": {
     "end_time": "2021-11-29T15:57:10.309140Z",
     "start_time": "2021-11-29T15:57:10.291190Z"
    }
   },
   "outputs": [],
   "source": [
    "import sys\n",
    "sys.path.append(\"./../helper\") # to find scripts\n",
    "from count_helper import counter\n",
    "from common_imports import *\n",
    "from helpers import *"
   ]
  },
  {
   "cell_type": "markdown",
   "metadata": {},
   "source": [
    "### Analyzing counts\n",
    "The function cc() can be used to access the counts. The following parameters are recognized:\n",
    "- cc(t='') - counts of a specific term\n",
    "- cc(fy=) - counts from a specific year\n",
    "- cc(fj=) - counts from a specific journal\n",
    "- cc.summarize() - summary of the dimensions of those matrices\n",
    "- cc.items('t') - gives the terms"
   ]
  },
  {
   "cell_type": "code",
   "execution_count": 4,
   "metadata": {
    "ExecuteTime": {
     "end_time": "2021-11-29T15:57:11.651687Z",
     "start_time": "2021-11-29T15:57:11.637723Z"
    }
   },
   "outputs": [
    {
     "name": "stdout",
     "output_type": "stream",
     "text": [
      "Blank counter with name wos-soc-20k-titles-all\n"
     ]
    }
   ],
   "source": [
    "cc = counter('wos-soc-20k-titles-all')"
   ]
  },
  {
   "cell_type": "code",
   "execution_count": 5,
   "metadata": {
    "ExecuteTime": {
     "end_time": "2021-11-29T15:57:14.553685Z",
     "start_time": "2021-11-29T15:57:13.832872Z"
    }
   },
   "outputs": [
    {
     "ename": "KeyError",
     "evalue": "'t'",
     "output_type": "error",
     "traceback": [
      "\u001b[1;31m---------------------------------------------------------------------------\u001b[0m",
      "\u001b[1;31mKeyError\u001b[0m                                  Traceback (most recent call last)",
      "\u001b[1;32m<ipython-input-5-b010fde7960e>\u001b[0m in \u001b[0;36m<module>\u001b[1;34m\u001b[0m\n\u001b[1;32m----> 1\u001b[1;33m \u001b[0mcc\u001b[0m\u001b[1;33m(\u001b[0m\u001b[0mt\u001b[0m\u001b[1;33m=\u001b[0m\u001b[1;34m'inequality'\u001b[0m\u001b[1;33m)\u001b[0m\u001b[1;33m\u001b[0m\u001b[1;33m\u001b[0m\u001b[0m\n\u001b[0m",
      "\u001b[1;32m~\\OneDrive - Cornell University\\GitHub\\kk-jstor-sociology\\programming\\helper\\count_helper.py\u001b[0m in \u001b[0;36m__call__\u001b[1;34m(self, *args, **kwargs)\u001b[0m\n\u001b[0;32m    718\u001b[0m         \u001b[0mmy_id\u001b[0m \u001b[1;33m=\u001b[0m \u001b[1;33m[\u001b[0m\u001b[1;33m]\u001b[0m\u001b[1;33m\u001b[0m\u001b[1;33m\u001b[0m\u001b[0m\n\u001b[0;32m    719\u001b[0m         \u001b[1;32mfor\u001b[0m \u001b[0mcpart\u001b[0m \u001b[1;32min\u001b[0m \u001b[0mcname\u001b[0m\u001b[1;33m:\u001b[0m\u001b[1;33m\u001b[0m\u001b[1;33m\u001b[0m\u001b[0m\n\u001b[1;32m--> 720\u001b[1;33m             \u001b[1;32mif\u001b[0m \u001b[0mkwargs\u001b[0m\u001b[1;33m[\u001b[0m\u001b[0mcpart\u001b[0m\u001b[1;33m]\u001b[0m \u001b[1;32mnot\u001b[0m \u001b[1;32min\u001b[0m \u001b[0mself\u001b[0m\u001b[1;33m.\u001b[0m\u001b[0mids\u001b[0m\u001b[1;33m[\u001b[0m \u001b[0mcpart\u001b[0m \u001b[1;33m]\u001b[0m\u001b[1;33m:\u001b[0m\u001b[1;33m\u001b[0m\u001b[1;33m\u001b[0m\u001b[0m\n\u001b[0m\u001b[0;32m    721\u001b[0m                 \u001b[1;32mreturn\u001b[0m \u001b[1;36m0\u001b[0m\u001b[1;33m\u001b[0m\u001b[1;33m\u001b[0m\u001b[0m\n\u001b[0;32m    722\u001b[0m             \u001b[0mmy_id\u001b[0m\u001b[1;33m.\u001b[0m\u001b[0mappend\u001b[0m\u001b[1;33m(\u001b[0m \u001b[0mself\u001b[0m\u001b[1;33m.\u001b[0m\u001b[0mids\u001b[0m\u001b[1;33m[\u001b[0m \u001b[0mcpart\u001b[0m \u001b[1;33m]\u001b[0m\u001b[1;33m[\u001b[0m \u001b[0mkwargs\u001b[0m\u001b[1;33m[\u001b[0m\u001b[0mcpart\u001b[0m\u001b[1;33m]\u001b[0m \u001b[1;33m]\u001b[0m \u001b[1;33m)\u001b[0m\u001b[1;33m\u001b[0m\u001b[1;33m\u001b[0m\u001b[0m\n",
      "\u001b[1;31mKeyError\u001b[0m: 't'"
     ]
    }
   ],
   "source": [
    "cc(t='inequality')"
   ]
  },
  {
   "cell_type": "code",
   "execution_count": 5,
   "metadata": {
    "ExecuteTime": {
     "end_time": "2021-11-26T17:42:04.966885Z",
     "start_time": "2021-11-26T17:42:04.954917Z"
    }
   },
   "outputs": [
    {
     "data": {
      "text/plain": [
       "11"
      ]
     },
     "execution_count": 5,
     "metadata": {},
     "output_type": "execute_result"
    }
   ],
   "source": [
    "cc(t='inequality', fy=2000)"
   ]
  },
  {
   "cell_type": "code",
   "execution_count": 6,
   "metadata": {
    "ExecuteTime": {
     "end_time": "2021-11-26T17:42:07.040343Z",
     "start_time": "2021-11-26T17:42:07.034358Z"
    }
   },
   "outputs": [
    {
     "name": "stdout",
     "output_type": "stream",
     "text": [
      "[(('fy', 't'), (123, 18456)), (('fj', 't'), (689, 18456)), (('fy',), (123,)), (('t',), (18456,)), (('fj',), (689,))]\n"
     ]
    }
   ],
   "source": [
    "cc.summarize()"
   ]
  },
  {
   "cell_type": "markdown",
   "metadata": {},
   "source": [
    "### Sorting counts\n",
    "In the following, I am retrieving the top 150 words in economics"
   ]
  },
  {
   "cell_type": "code",
   "execution_count": 9,
   "metadata": {
    "ExecuteTime": {
     "end_time": "2021-11-26T17:51:42.610875Z",
     "start_time": "2021-11-26T17:51:42.591924Z"
    }
   },
   "outputs": [
    {
     "data": {
      "text/plain": [
       "array([35, 118, 49, ..., 1, 1, 1], dtype=object)"
      ]
     },
     "execution_count": 9,
     "metadata": {},
     "output_type": "execute_result"
    }
   ],
   "source": [
    "cc.counts[('t',)] # counts of all words"
   ]
  },
  {
   "cell_type": "code",
   "execution_count": 9,
   "metadata": {
    "scrolled": true
   },
   "outputs": [
    {
     "name": "stdout",
     "output_type": "stream",
     "text": [
      "equilibrium, public, goods, economy, costs, theory, firm, investment, effect, monetary, general, regulation, comment, economics, information, control, consumer, wages, evidence, market, risk, determinants, distribution, rates, economies, approach, problem, growth, real, united, states, income, structure, international, credit, dynamic, price, case, models, with, expectations, work, history, labor, earnings, between, social, welfare, energy, some, test, insurance, efficiency, model, alternative, tests, using, from, functions, exchange, pricing, value, life, demand, agriculture, size, money, economic, cost, american, implications, world, policy, behavior, empirical, effects, analysis, time, health, application, finance, utility, rate, taxation, developing, countries, foreign, competition, industry, farm, management, policies, regional, corporate, british, state, financial, note, prices, trade, unemployment, markets, employment, choice, wage, interest, capital, education, under, impact, research, development, manufacturing, industrial, estimation, production, study, business, firms, urban, inflation, government, land, data, national, problems, optimal, system, consumption, supply, agricultural, long, returns, quality, rural, productivity, change, housing, power, political, stock, uncertainty, technology, environmental, survey, role, performance, bank, labour, china\n"
     ]
    }
   ],
   "source": [
    "topis = np.argsort( cc.counts[('t',)] )[-150:]\n",
    "print(\", \".join( [k for k,i in cc.ids['t'].items() if i in topis] ))"
   ]
  },
  {
   "cell_type": "markdown",
   "metadata": {},
   "source": [
    "### Limiting the total set of words so that co-occurences can be counted\n",
    "Counting co-occurences among all words would result in a too-large dataset. That is why we take a limited set of N words for which we count co-occurrences"
   ]
  },
  {
   "cell_type": "code",
   "execution_count": 28,
   "metadata": {
    "ExecuteTime": {
     "end_time": "2021-11-26T18:07:10.710234Z",
     "start_time": "2021-11-26T18:07:10.700283Z"
    }
   },
   "outputs": [],
   "source": [
    "target_N = 1500"
   ]
  },
  {
   "cell_type": "code",
   "execution_count": 29,
   "metadata": {
    "ExecuteTime": {
     "end_time": "2021-11-26T18:07:11.156075Z",
     "start_time": "2021-11-26T18:07:11.127157Z"
    }
   },
   "outputs": [],
   "source": [
    "terms_to_keepi = set(np.argsort( cc.counts[('t',)] )[-500:])\n",
    "terms_to_keep = [k for k,i in cc.ids['t'].items() if i in terms_to_keepi] "
   ]
  },
  {
   "cell_type": "code",
   "execution_count": 30,
   "metadata": {
    "ExecuteTime": {
     "end_time": "2021-11-26T18:07:11.931969Z",
     "start_time": "2021-11-26T18:07:11.719538Z"
    }
   },
   "outputs": [],
   "source": [
    "terms = cc.items('t') # all terms\n",
    "counts = np.array([ cc(t=t) for t in terms ]) # counts of all terms\n",
    "cdict = {t:cc(t=t) for t in terms} # term/count dictionary"
   ]
  },
  {
   "cell_type": "code",
   "execution_count": 31,
   "metadata": {
    "ExecuteTime": {
     "end_time": "2021-11-26T18:07:12.545361Z",
     "start_time": "2021-11-26T18:07:12.526382Z"
    },
    "scrolled": true
   },
   "outputs": [],
   "source": [
    "terms_to_keep = sorted(terms, key=lambda x:cdict[x])[-target_N: ] # top 1500 words"
   ]
  },
  {
   "cell_type": "code",
   "execution_count": 32,
   "metadata": {
    "ExecuteTime": {
     "end_time": "2021-11-26T18:07:13.195590Z",
     "start_time": "2021-11-26T18:07:13.184621Z"
    }
   },
   "outputs": [
    {
     "data": {
      "text/plain": [
       "1500"
      ]
     },
     "execution_count": 32,
     "metadata": {},
     "output_type": "execute_result"
    }
   ],
   "source": [
    "len(terms_to_keep)"
   ]
  },
  {
   "cell_type": "code",
   "execution_count": 33,
   "metadata": {
    "ExecuteTime": {
     "end_time": "2021-11-26T18:07:13.907688Z",
     "start_time": "2021-11-26T18:07:13.895721Z"
    }
   },
   "outputs": [
    {
     "name": "stdout",
     "output_type": "stream",
     "text": [
      "['repeated', 'womens', 'banks', 'relationships', 'wind', 'machinery', 'skills', 'history', 'facts', 'medical', 'racial', 'policy', 'asset', 'expenditure', 'last', 'rents', 'partial', 'matter', 'complete', 'leontief']\n"
     ]
    }
   ],
   "source": [
    "print(sample(terms_to_keep, 20))"
   ]
  },
  {
   "cell_type": "code",
   "execution_count": 34,
   "metadata": {
    "ExecuteTime": {
     "end_time": "2021-11-26T18:07:15.119819Z",
     "start_time": "2021-11-26T18:07:14.735773Z"
    }
   },
   "outputs": [
    {
     "name": "stdout",
     "output_type": "stream",
     "text": [
      "18456 terms, total\n"
     ]
    },
    {
     "data": {
      "text/plain": [
       "(array([1.4499e+04, 1.3340e+03, 6.0100e+02, 3.8400e+02, 2.4500e+02,\n",
       "        1.6800e+02, 1.2400e+02, 1.1800e+02, 1.0200e+02, 7.9000e+01,\n",
       "        7.1000e+01, 5.6000e+01, 4.3000e+01, 4.1000e+01, 3.4000e+01,\n",
       "        3.9000e+01, 3.2000e+01, 2.2000e+01, 3.4000e+01, 1.5000e+01,\n",
       "        2.0000e+01, 1.1000e+01, 1.6000e+01, 1.5000e+01, 1.3000e+01,\n",
       "        1.2000e+01, 1.2000e+01, 1.1000e+01, 1.5000e+01, 1.3000e+01,\n",
       "        7.0000e+00, 8.0000e+00, 1.0000e+01, 1.0000e+01, 6.0000e+00,\n",
       "        9.0000e+00, 7.0000e+00, 1.2000e+01, 7.0000e+00, 8.0000e+00,\n",
       "        6.0000e+00, 2.0000e+00, 3.0000e+00, 3.0000e+00, 5.0000e+00,\n",
       "        4.0000e+00, 5.0000e+00, 1.0000e+00, 2.0000e+00, 5.0000e+00]),\n",
       " array([  1.  ,  10.96,  20.92,  30.88,  40.84,  50.8 ,  60.76,  70.72,\n",
       "         80.68,  90.64, 100.6 , 110.56, 120.52, 130.48, 140.44, 150.4 ,\n",
       "        160.36, 170.32, 180.28, 190.24, 200.2 , 210.16, 220.12, 230.08,\n",
       "        240.04, 250.  , 259.96, 269.92, 279.88, 289.84, 299.8 , 309.76,\n",
       "        319.72, 329.68, 339.64, 349.6 , 359.56, 369.52, 379.48, 389.44,\n",
       "        399.4 , 409.36, 419.32, 429.28, 439.24, 449.2 , 459.16, 469.12,\n",
       "        479.08, 489.04, 499.  ]),\n",
       " <BarContainer object of 50 artists>)"
      ]
     },
     "execution_count": 34,
     "metadata": {},
     "output_type": "execute_result"
    },
    {
     "data": {
      "image/png": "[encoded data removed]",
      "text/plain": [
       "<Figure size 432x288 with 1 Axes>"
      ]
     },
     "metadata": {
      "needs_background": "light"
     },
     "output_type": "display_data"
    }
   ],
   "source": [
    "print(len(terms), 'terms, total')\n",
    "plt.hist(counts[counts<500], bins=50, log=True) # number of words with 500 occurences or more"
   ]
  },
  {
   "cell_type": "code",
   "execution_count": 35,
   "metadata": {
    "ExecuteTime": {
     "end_time": "2021-11-26T18:07:18.926577Z",
     "start_time": "2021-11-26T18:07:18.905597Z"
    }
   },
   "outputs": [],
   "source": [
    "# Save terms_to_keep\n",
    "with open('terms_to_keep.econ.pickle', 'wb') as outf:\n",
    "    pickle.dump(terms_to_keep, outf)"
   ]
  },
  {
   "cell_type": "markdown",
   "metadata": {},
   "source": [
    "### Counting co-occurrences in the smaller set of words"
   ]
  },
  {
   "cell_type": "code",
   "execution_count": 36,
   "metadata": {
    "ExecuteTime": {
     "end_time": "2021-11-26T18:07:21.799212Z",
     "start_time": "2021-11-26T18:07:21.787246Z"
    }
   },
   "outputs": [],
   "source": [
    "with open('terms_to_keep.econ.pickle', 'rb') as inf:\n",
    "    terms_to_keep = pickle.load(inf)"
   ]
  },
  {
   "cell_type": "code",
   "execution_count": 37,
   "metadata": {
    "ExecuteTime": {
     "end_time": "2021-11-26T18:08:07.608799Z",
     "start_time": "2021-11-26T18:07:23.220414Z"
    }
   },
   "outputs": [
    {
     "name": "stdout",
     "output_type": "stream",
     "text": [
      "148 files\n",
      "73513 econ articles loaded\n",
      "190778 soc articles loaded\n"
     ]
    }
   ],
   "source": [
    "from load_data import wos_econ"
   ]
  },
  {
   "cell_type": "code",
   "execution_count": 40,
   "metadata": {
    "ExecuteTime": {
     "end_time": "2021-11-26T18:09:55.025018Z",
     "start_time": "2021-11-26T18:08:58.062315Z"
    }
   },
   "outputs": [
    {
     "name": "stdout",
     "output_type": "stream",
     "text": [
      "Blank counter with no name\n",
      "Record 0\n",
      "[]\n",
      "Record 10,000\n",
      "[(('fy', 't'), (33, 1738)), (('fj', 't'), (188, 1738)), (('fy',), (33,)), (('t',), (1738,)), (('fj',), (188,)), (('t1', 't2'), (1738, 1738)), (('fy', 't1', 't2'), (33, 1738, 1738))]\n",
      "Record 20,000\n",
      "[(('fy', 't'), (63, 1738)), (('fj', 't'), (235, 1738)), (('fy',), (63,)), (('t',), (1738,)), (('fj',), (235,)), (('t1', 't2'), (1738, 1738)), (('fy', 't1', 't2'), (63, 1738, 1738))]\n",
      "Record 30,000\n",
      "[(('fy', 't'), (63, 1738)), (('fj', 't'), (235, 1738)), (('fy',), (63,)), (('t',), (1738,)), (('fj',), (235,)), (('t1', 't2'), (1738, 1738)), (('fy', 't1', 't2'), (63, 1738, 1738))]\n",
      "Record 40,000\n",
      "[(('fy', 't'), (97, 1738)), (('fj', 't'), (235, 1738)), (('fy',), (97,)), (('t',), (1738,)), (('fj',), (235,)), (('t1', 't2'), (1738, 1738)), (('fy', 't1', 't2'), (97, 1738, 1738))]\n",
      "Record 50,000\n",
      "[(('fy', 't'), (97, 1738)), (('fj', 't'), (235, 1738)), (('fy',), (97,)), (('t',), (1738,)), (('fj',), (235,)), (('t1', 't2'), (1738, 1738)), (('fy', 't1', 't2'), (97, 1738, 1738))]\n",
      "Record 60,000\n",
      "[(('fy', 't'), (151, 1738)), (('fj', 't'), (571, 1738)), (('fy',), (151,)), (('t',), (1738,)), (('fj',), (571,)), (('t1', 't2'), (1738, 1738)), (('fy', 't1', 't2'), (151, 1738, 1738))]\n",
      "Record 70,000\n",
      "[(('fy', 't'), (151, 1738)), (('fj', 't'), (713, 1738)), (('fy',), (151,)), (('t',), (1738,)), (('fj',), (713,)), (('t1', 't2'), (1738, 1738)), (('fy', 't1', 't2'), (151, 1738, 1738))]\n"
     ]
    }
   ],
   "source": [
    "from collections import Counter\n",
    "\n",
    "cc = counter()\n",
    "\n",
    "# wosfile will read each file in the list in turn and yield each record\n",
    "# for further handling\n",
    "for i, rec in enumerate(wos_econ):\n",
    "    \n",
    "    if i % 10000 == 0:\n",
    "        print(f'Record {i:,}')\n",
    "        cc.summarize()\n",
    "        \n",
    "    # Records are very thin wrappers around a standard Python dict,\n",
    "    # whose keys are the WoS field tags.\n",
    "    # Here we look at the SC field (subject categories) and update our counter\n",
    "    # with the categories in each record.\n",
    "\n",
    "    tups = rec['title'].lower().split(\" \")\n",
    "    tups = [t for t in tups if t in terms_to_keep]\n",
    "    \n",
    "    count(\n",
    "        cc,\n",
    "        values = {\n",
    "            'fy': int(rec['year']),\n",
    "            'fj': rec['journal'].lower(),\n",
    "        },\n",
    "        terms = tups,\n",
    "        combinations = [\n",
    "            ('fy','t'),\n",
    "            ('fj','t'),\n",
    "            ('fy',),\n",
    "            ('t',),\n",
    "            ('fj',),\n",
    "            ('t1','t2'),\n",
    "            #('fj','t1','t2'),\n",
    "            ('fy','t1','t2')\n",
    "        ]\n",
    "    )"
   ]
  },
  {
   "cell_type": "code",
   "execution_count": 41,
   "metadata": {
    "ExecuteTime": {
     "end_time": "2021-11-26T18:10:43.313889Z",
     "start_time": "2021-11-26T18:10:02.079351Z"
    }
   },
   "outputs": [],
   "source": [
    "cc.save_counts('wos-econ-20k-titles-limited-cooc')"
   ]
  }
 ],
 "metadata": {
  "kernelspec": {
   "display_name": "Python 3",
   "language": "python",
   "name": "python3"
  },
  "language_info": {
   "codemirror_mode": {
    "name": "ipython",
    "version": 3
   },
   "file_extension": ".py",
   "mimetype": "text/x-python",
   "name": "python",
   "nbconvert_exporter": "python",
   "pygments_lexer": "ipython3",
   "version": "3.9.2"
  },
  "varInspector": {
   "cols": {
    "lenName": 16,
    "lenType": 16,
    "lenVar": 40
   },
   "kernels_config": {
    "python": {
     "delete_cmd_postfix": "",
     "delete_cmd_prefix": "del ",
     "library": "var_list.py",
     "varRefreshCmd": "print(var_dic_list())"
    },
    "r": {
     "delete_cmd_postfix": ") ",
     "delete_cmd_prefix": "rm(",
     "library": "var_list.r",
     "varRefreshCmd": "cat(var_dic_list()) "
    }
   },
   "types_to_exclude": [
    "module",
    "function",
    "builtin_function_or_method",
    "instance",
    "_Feature"
   ],
   "window_display": false
  }
 },
 "nbformat": 4,
 "nbformat_minor": 4
}
