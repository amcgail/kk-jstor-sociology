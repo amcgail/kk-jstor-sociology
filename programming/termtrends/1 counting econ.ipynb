{
 "cells": [
  {
   "cell_type": "code",
   "execution_count": 1,
   "metadata": {},
   "outputs": [],
   "source": [
    "from counter import counter\n",
    "from common_imports import *\n",
    "from pathlib import Path\n",
    "from csv import DictReader"
   ]
  },
  {
   "cell_type": "code",
   "execution_count": 7,
   "metadata": {},
   "outputs": [],
   "source": [
    "from common_imports import *\n",
    "import regex as re"
   ]
  },
  {
   "cell_type": "code",
   "execution_count": 13,
   "metadata": {},
   "outputs": [],
   "source": [
    "path = \"C:/Users/amcga/Downloads/econ WoS stratified top 20k\""
   ]
  },
  {
   "cell_type": "code",
   "execution_count": 8,
   "metadata": {},
   "outputs": [],
   "source": [
    "#%pip install wosfile"
   ]
  },
  {
   "cell_type": "code",
   "execution_count": 9,
   "metadata": {},
   "outputs": [
    {
     "data": {
      "text/plain": [
       "['this-is',\n",
       " 'is-an',\n",
       " 'an-example',\n",
       " 'example',\n",
       " 'example-of',\n",
       " 'of-the',\n",
       " 'the-tuples',\n",
       " 'tuples',\n",
       " 'tuples-we',\n",
       " 'we-are',\n",
       " 'are-processing',\n",
       " 'processing']"
      ]
     },
     "execution_count": 9,
     "metadata": {},
     "output_type": "execute_result"
    }
   ],
   "source": [
    "stopwords = set()\n",
    "\n",
    "def get_tups(s, whitelist=None, stopwords=None):\n",
    "    \n",
    "    if stopwords is None:\n",
    "        stopwords = set()\n",
    "    \n",
    "    sp = s.lower() # debating lowercaseing..\n",
    "    sp = re.sub(\"[^a-zA-Z\\s]+\", \"\", sp)  # removing extraneous characters\n",
    "    sp = re.sub(\"\\s+\", \" \", sp)  # removing extra characters\n",
    "    sp = sp.strip()\n",
    "    sp = sp.split()  # splitting into words\n",
    "\n",
    "    #sp = [x for x in sp if x not in stopwords]  # strip stopwords... not yet though!\n",
    "    # sp = [x for x in sp if len(x) >= 3 ] # strip short words # don't do this now, we need these for tuples.\n",
    "\n",
    "    # print(len(tups),c['contextPure'], \"---\", tups)\n",
    "\n",
    "    # keep everything in order\n",
    "    tups = [\"-\".join(list(x)) for x in zip(sp[:-1], sp[1:])]  # two-word *ordered* tuples\n",
    "    intermingle = [ sp[i//2] if i%2==0 else tups[(i-1)//2] for i in range(2*len(sp)-1) ]\n",
    "    \n",
    "    intermingle = [x for x in intermingle if len(x) >= 5 ] # strip short words\n",
    "    if stopwords is not None:\n",
    "        intermingle = [x for x in intermingle if x not in stopwords]\n",
    "    if whitelist is not None:\n",
    "        intermingle = [x for x in intermingle if x in whitelist]\n",
    "    \n",
    "    return intermingle\n",
    "\n",
    "get_tups(\"This is an example of the tuples we are processing...\")"
   ]
  },
  {
   "cell_type": "code",
   "execution_count": 10,
   "metadata": {},
   "outputs": [],
   "source": [
    "def count(counter, values, terms, combinations):\n",
    "    \n",
    "    term_pair_combinations = [x for x in combinations if ('t1' in x or 't2' in x)]\n",
    "    single_term_combinations = [x for x in combinations if not ('t1' in x or 't2' in x)]\n",
    "    \n",
    "    for i1,t1 in enumerate(terms):\n",
    "        val = dict(values)\n",
    "        val['t'] = t1\n",
    "        cc.cnt(val, combinations=single_term_combinations)\n",
    "\n",
    "        if len(term_pair_combinations):\n",
    "            for t2 in tups[i1+1:i1+1+250]:\n",
    "                val = dict(values)\n",
    "                val['t1'] = t1\n",
    "                val['t2'] = t2\n",
    "                cc.cnt(val, combinations=term_pair_combinations)\n",
    "    "
   ]
  },
  {
   "cell_type": "markdown",
   "metadata": {},
   "source": [
    "# first count"
   ]
  },
  {
   "cell_type": "code",
   "execution_count": 80,
   "metadata": {},
   "outputs": [
    {
     "name": "stdout",
     "output_type": "stream",
     "text": [
      "Blank counter with no name\n"
     ]
    }
   ],
   "source": [
    "import glob\n",
    "import wosfile\n",
    "from collections import Counter\n",
    "\n",
    "# Create a list of all relevant files. Our folder may contain multiple export files.\n",
    "files = glob.glob(path + \"/**/*.txt\")\n",
    "\n",
    "cc = counter()\n",
    "\n",
    "# wosfile will read each file in the list in turn and yield each record\n",
    "# for further handling\n",
    "for rec in wosfile.records_from(files):\n",
    "    # Records are very thin wrappers around a standard Python dict,\n",
    "    # whose keys are the WoS field tags.\n",
    "    # Here we look at the SC field (subject categories) and update our counter\n",
    "    # with the categories in each record.\n",
    "\n",
    "    tups = get_tups( rec.get('TI') )\n",
    "    year = int(rec.get('PY'))\n",
    "    journal = rec.get('SO').lower()\n",
    "    \n",
    "    count(\n",
    "        cc,\n",
    "        values = {\n",
    "            'fy': year,\n",
    "            'fj': journal,\n",
    "        },\n",
    "        terms = tups,\n",
    "        combinations = [\n",
    "            ('fy','t'),\n",
    "            ('fj','t'),\n",
    "            ('fy',),\n",
    "            ('t',),\n",
    "            ('fj',),\n",
    "        ]\n",
    "    )"
   ]
  },
  {
   "cell_type": "code",
   "execution_count": 96,
   "metadata": {},
   "outputs": [],
   "source": [
    "cc.save_counts('count-trends-top20k-strat30-WoS-econ')"
   ]
  }
 ],
 "metadata": {
  "kernelspec": {
   "display_name": "Python 3",
   "language": "python",
   "name": "python3"
  },
  "language_info": {
   "codemirror_mode": {
    "name": "ipython",
    "version": 3
   },
   "file_extension": ".py",
   "mimetype": "text/x-python",
   "name": "python",
   "nbconvert_exporter": "python",
   "pygments_lexer": "ipython3",
   "version": "3.7.5"
  }
 },
 "nbformat": 4,
 "nbformat_minor": 4
}
