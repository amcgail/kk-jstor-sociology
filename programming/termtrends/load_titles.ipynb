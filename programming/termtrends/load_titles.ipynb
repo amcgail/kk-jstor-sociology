{
 "cells": [
  {
   "cell_type": "code",
   "execution_count": 1,
   "id": "4b0456b1-feb7-4cbd-bc7a-d3b97de664d7",
   "metadata": {
    "ExecuteTime": {
     "end_time": "2021-11-13T20:17:22.580346Z",
     "start_time": "2021-11-13T20:17:22.553421Z"
    }
   },
   "outputs": [],
   "source": [
    "from csv import DictReader"
   ]
  },
  {
   "cell_type": "code",
   "execution_count": 2,
   "id": "b34c0581-5607-43cc-abea-d7c6580d5192",
   "metadata": {
    "ExecuteTime": {
     "end_time": "2021-11-13T20:17:23.225621Z",
     "start_time": "2021-11-13T20:17:23.207668Z"
    }
   },
   "outputs": [],
   "source": [
    "from pathlib import Path"
   ]
  },
  {
   "cell_type": "code",
   "execution_count": 3,
   "id": "4d743d32-225c-44b2-b671-5e297843aa91",
   "metadata": {
    "ExecuteTime": {
     "end_time": "2021-11-13T20:17:23.958666Z",
     "start_time": "2021-11-13T20:17:23.776149Z"
    }
   },
   "outputs": [],
   "source": [
    "DictReader?"
   ]
  },
  {
   "cell_type": "code",
   "execution_count": 4,
   "id": "f227fd65-b8e5-4d3d-add8-94746643cd28",
   "metadata": {
    "ExecuteTime": {
     "end_time": "2021-11-13T20:17:25.981111Z",
     "start_time": "2021-11-13T20:17:25.261033Z"
    }
   },
   "outputs": [
    {
     "ename": "NameError",
     "evalue": "name 'sys' is not defined",
     "output_type": "error",
     "traceback": [
      "\u001b[1;31m---------------------------------------------------------------------------\u001b[0m",
      "\u001b[1;31mNameError\u001b[0m                                 Traceback (most recent call last)",
      "\u001b[1;32m<ipython-input-4-2c5a2c531ea0>\u001b[0m in \u001b[0;36m<module>\u001b[1;34m\u001b[0m\n\u001b[1;32m----> 1\u001b[1;33m \u001b[0msys\u001b[0m\u001b[1;33m.\u001b[0m\u001b[0mmaxsize\u001b[0m\u001b[1;33m\u001b[0m\u001b[1;33m\u001b[0m\u001b[0m\n\u001b[0m",
      "\u001b[1;31mNameError\u001b[0m: name 'sys' is not defined"
     ]
    }
   ],
   "source": [
    "sys.maxsize"
   ]
  },
  {
   "cell_type": "code",
   "execution_count": 5,
   "id": "c0a745ab-ff84-4b03-910c-6be08cf6af45",
   "metadata": {
    "ExecuteTime": {
     "end_time": "2021-11-13T20:17:26.136692Z",
     "start_time": "2021-11-13T20:17:26.123727Z"
    }
   },
   "outputs": [],
   "source": [
    "import sys\n",
    "import csv\n",
    "maxInt = sys.maxsize\n",
    "\n",
    "while True:\n",
    "    # decrease the maxInt value by factor 10 \n",
    "    # as long as the OverflowError occurs.\n",
    "\n",
    "    try:\n",
    "        csv.field_size_limit(maxInt)\n",
    "        break\n",
    "    except OverflowError:\n",
    "        maxInt = int(maxInt/10)"
   ]
  },
  {
   "cell_type": "code",
   "execution_count": 7,
   "id": "05cb3734-47ac-4582-ae11-06ac0480a175",
   "metadata": {
    "ExecuteTime": {
     "end_time": "2021-11-13T20:17:45.255779Z",
     "start_time": "2021-11-13T20:17:45.234836Z"
    }
   },
   "outputs": [],
   "source": [
    "def riter():\n",
    "\n",
    "    for fn in Path(\"wos-soc\").glob(\"**/*.txt\"):\n",
    "        with fn.open(encoding='utf8') as f:\n",
    "            rs = list(DictReader(f, delimiter='\\t'))\n",
    "\n",
    "            for r in rs:\n",
    "                r['PT'] = r['\\ufeffPT']\n",
    "                del r['\\ufeffPT']\n",
    "\n",
    "                yield r"
   ]
  },
  {
   "cell_type": "code",
   "execution_count": 10,
   "id": "60365239-527f-4625-b3bd-b0bd3968e83d",
   "metadata": {
    "ExecuteTime": {
     "end_time": "2021-11-13T20:17:55.454749Z",
     "start_time": "2021-11-13T20:17:55.444775Z"
    }
   },
   "outputs": [],
   "source": [
    "for r in riter():\n",
    "    print(r)\n",
    "    break"
   ]
  },
  {
   "cell_type": "code",
   "execution_count": 11,
   "id": "9d0f051b-a5b1-40a3-9741-6aa629345420",
   "metadata": {
    "ExecuteTime": {
     "end_time": "2021-11-13T20:17:56.118968Z",
     "start_time": "2021-11-13T20:17:56.112987Z"
    }
   },
   "outputs": [],
   "source": [
    "titles = []\n",
    "for r in riter():\n",
    "    titles.append(r['TI'])"
   ]
  },
  {
   "cell_type": "code",
   "execution_count": 9,
   "id": "bb6c5e94-7ff6-4afb-8a2b-b3e9592cda5d",
   "metadata": {
    "ExecuteTime": {
     "end_time": "2021-11-13T20:17:52.470470Z",
     "start_time": "2021-11-13T20:17:52.452517Z"
    }
   },
   "outputs": [
    {
     "ename": "NameError",
     "evalue": "name 'titles' is not defined",
     "output_type": "error",
     "traceback": [
      "\u001b[1;31m---------------------------------------------------------------------------\u001b[0m",
      "\u001b[1;31mNameError\u001b[0m                                 Traceback (most recent call last)",
      "\u001b[1;32m<ipython-input-9-eb8450ec7110>\u001b[0m in \u001b[0;36m<module>\u001b[1;34m\u001b[0m\n\u001b[1;32m----> 1\u001b[1;33m \u001b[0mlen\u001b[0m\u001b[1;33m(\u001b[0m\u001b[0mtitles\u001b[0m\u001b[1;33m)\u001b[0m\u001b[1;33m\u001b[0m\u001b[1;33m\u001b[0m\u001b[0m\n\u001b[0m",
      "\u001b[1;31mNameError\u001b[0m: name 'titles' is not defined"
     ]
    }
   ],
   "source": [
    "len(titles)"
   ]
  }
 ],
 "metadata": {
  "kernelspec": {
   "display_name": "Python 3",
   "language": "python",
   "name": "python3"
  },
  "language_info": {
   "codemirror_mode": {
    "name": "ipython",
    "version": 3
   },
   "file_extension": ".py",
   "mimetype": "text/x-python",
   "name": "python",
   "nbconvert_exporter": "python",
   "pygments_lexer": "ipython3",
   "version": "3.9.2"
  },
  "varInspector": {
   "cols": {
    "lenName": 16,
    "lenType": 16,
    "lenVar": 40
   },
   "kernels_config": {
    "python": {
     "delete_cmd_postfix": "",
     "delete_cmd_prefix": "del ",
     "library": "var_list.py",
     "varRefreshCmd": "print(var_dic_list())"
    },
    "r": {
     "delete_cmd_postfix": ") ",
     "delete_cmd_prefix": "rm(",
     "library": "var_list.r",
     "varRefreshCmd": "cat(var_dic_list()) "
    }
   },
   "types_to_exclude": [
    "module",
    "function",
    "builtin_function_or_method",
    "instance",
    "_Feature"
   ],
   "window_display": false
  }
 },
 "nbformat": 4,
 "nbformat_minor": 5
}
