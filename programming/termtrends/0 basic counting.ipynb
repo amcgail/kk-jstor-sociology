{
 "cells": [
  {
   "cell_type": "markdown",
   "metadata": {},
   "source": [
    "[Google Drive link to these ZIP files](https://drive.google.com/drive/folders/1W2GPNJ3g5zkHQ3RAaz_S7-arONyKgCNR?usp=sharing)"
   ]
  },
  {
   "cell_type": "markdown",
   "metadata": {},
   "source": [
    "### Create count2-pruned"
   ]
  },
  {
   "cell_type": "code",
   "execution_count": null,
   "metadata": {
    "ExecuteTime": {
     "end_time": "2021-11-01T15:04:12.108850Z",
     "start_time": "2021-11-01T15:04:12.102866Z"
    }
   },
   "outputs": [],
   "source": [
    "from counter import counter"
   ]
  },
  {
   "cell_type": "code",
   "execution_count": null,
   "metadata": {
    "ExecuteTime": {
     "end_time": "2021-11-01T15:04:12.708249Z",
     "start_time": "2021-11-01T15:04:12.698275Z"
    }
   },
   "outputs": [],
   "source": [
    "cc = counter()"
   ]
  },
  {
   "cell_type": "code",
   "execution_count": null,
   "metadata": {
    "ExecuteTime": {
     "end_time": "2021-11-01T15:04:10.631197Z",
     "start_time": "2021-11-01T15:01:11.694251Z"
    }
   },
   "outputs": [],
   "source": [
    "cc.count(    \n",
    "    jstor_zip_base = \"C:/Users/benja/OneDrive - Cornell University/Desktop/soc_econ/data\",\n",
    "    \n",
    "    SKIP_N = 10*5 - 1,\n",
    "    #MAX_N = 100,\n",
    "    combinations = [\n",
    "        ('fy','t'), # from year, term\n",
    "        ('fj','t'),\n",
    "        #('fj','fy','t'),\n",
    "        ('fy',), # occurences at all\n",
    "        ('t',),\n",
    "        ('fj',),\n",
    "    ]\n",
    "    \n",
    ")"
   ]
  },
  {
   "cell_type": "code",
   "execution_count": null,
   "metadata": {},
   "outputs": [],
   "source": [
    "cc(t='social')"
   ]
  },
  {
   "cell_type": "code",
   "execution_count": null,
   "metadata": {},
   "outputs": [],
   "source": [
    "# prune a bit before dumping it to disk\n",
    "to_delete = [t for t in cc.items('t') if cc(t=t) < 50]\n",
    "\n",
    "cc.delete('t', to_delete)\n",
    "cc.prune_zeros()"
   ]
  },
  {
   "cell_type": "code",
   "execution_count": null,
   "metadata": {},
   "outputs": [],
   "source": [
    "cc(t='social')"
   ]
  },
  {
   "cell_type": "code",
   "execution_count": null,
   "metadata": {},
   "outputs": [],
   "source": [
    "cc.save_counts('count2-pruned')"
   ]
  },
  {
   "cell_type": "markdown",
   "metadata": {},
   "source": [
    "### setting date range"
   ]
  },
  {
   "cell_type": "code",
   "execution_count": null,
   "metadata": {
    "ExecuteTime": {
     "end_time": "2021-11-01T15:04:16.940520Z",
     "start_time": "2021-11-01T15:04:16.933562Z"
    }
   },
   "outputs": [],
   "source": [
    "cc = counter('count2-pruned')"
   ]
  },
  {
   "cell_type": "code",
   "execution_count": null,
   "metadata": {
    "ExecuteTime": {
     "end_time": "2021-11-01T15:04:18.028516Z",
     "start_time": "2021-11-01T15:04:18.013556Z"
    }
   },
   "outputs": [],
   "source": [
    "mny = min(cc.items('fy'))\n",
    "mxy = max(cc.items('fy'))"
   ]
  },
  {
   "cell_type": "code",
   "execution_count": null,
   "metadata": {
    "ExecuteTime": {
     "end_time": "2021-11-01T15:04:29.056334Z",
     "start_time": "2021-11-01T15:04:29.035386Z"
    }
   },
   "outputs": [],
   "source": [
    "ys = range(mny, mxy+1)\n",
    "cs = [cc(fy=y) for y in ys]\n",
    "\n",
    "plt.plot(ys,cs);"
   ]
  },
  {
   "cell_type": "markdown",
   "metadata": {},
   "source": [
    "### first filter based on number of times each term was mentioned\n",
    "\n",
    "We want this to be as wide a net we can stand for the next filtering processes.\n",
    "I cannot keep track of yearly counts of all terms, or even simple term counts (at least, not without dynamic consolidation), because of RAM limitations.\n",
    "Remember that I'm keeping track of all words, but also all two-word tuples!\n",
    "So this first stage is only using 1/10 of the documents (see above, SKIP_N)."
   ]
  },
  {
   "cell_type": "markdown",
   "metadata": {},
   "source": [
    "<!--At this point, subsetting the data now that we have a terms list will not help our memory issue.-->\n",
    "The term-term coocurrence network uses N^2 integers, which with 1M terms is 1M^2 = 1TB of memory.\n",
    "If we can limit to ~30,000 terms, approximately the working vocabulary of an adult, this would fit in 1GB of memory.\n",
    "We can filter by term *dynamics* instead of just relying on .\n",
    "We can also limit the 1-tuples and 2-tuples independently, reserving 15,000 terms for each.\n",
    "2-tuples currently make up the majority of our counts, but are not inherently more important than 1-tuples."
   ]
  },
  {
   "cell_type": "code",
   "execution_count": null,
   "metadata": {},
   "outputs": [],
   "source": [
    "#plt.plot([t._dp[y] for y in range(1950,2015)])"
   ]
  },
  {
   "cell_type": "code",
   "execution_count": null,
   "metadata": {},
   "outputs": [],
   "source": [
    "target_N = 5000"
   ]
  },
  {
   "cell_type": "code",
   "execution_count": null,
   "metadata": {},
   "outputs": [],
   "source": [
    "terms = cc.items('t')\n",
    "counts = np.array([ cc(t=t) for t in terms ])\n",
    "cdict = {t:cc(t=t) for t in terms}"
   ]
  },
  {
   "cell_type": "code",
   "execution_count": null,
   "metadata": {},
   "outputs": [],
   "source": [
    "plt.hist(counts[counts<500], bins=50, log=True);"
   ]
  },
  {
   "cell_type": "code",
   "execution_count": null,
   "metadata": {},
   "outputs": [],
   "source": [
    "tup1 = [x for x in terms if '-' not in x]\n",
    "tup2 = [x for x in terms if '-' in x]"
   ]
  },
  {
   "cell_type": "code",
   "execution_count": null,
   "metadata": {},
   "outputs": [],
   "source": [
    "tup1_top = sorted(tup1, key=lambda x:cdict[x])[-target_N//2: ]\n",
    "tup2_top = sorted(tup2, key=lambda x:cdict[x])[-target_N//2: ]"
   ]
  },
  {
   "cell_type": "code",
   "execution_count": null,
   "metadata": {},
   "outputs": [],
   "source": [
    "terms_to_keep = tup1_top + tup2_top"
   ]
  },
  {
   "cell_type": "code",
   "execution_count": null,
   "metadata": {},
   "outputs": [],
   "source": [
    "import pickle\n",
    "\n",
    "with open('terms2.pickle', 'wb') as outf:\n",
    "    pickle.dump(terms_to_keep, outf)"
   ]
  },
  {
   "cell_type": "code",
   "execution_count": null,
   "metadata": {},
   "outputs": [],
   "source": [
    "sample( terms_to_keep, 10 )"
   ]
  },
  {
   "cell_type": "markdown",
   "metadata": {},
   "source": [
    "### recount with fuller detail"
   ]
  },
  {
   "cell_type": "markdown",
   "metadata": {},
   "source": [
    "on my desktop computer this takes way too much time"
   ]
  },
  {
   "cell_type": "code",
   "execution_count": 22,
   "metadata": {
    "ExecuteTime": {
     "end_time": "2021-11-01T17:59:52.308483Z",
     "start_time": "2021-11-01T17:59:52.304492Z"
    }
   },
   "outputs": [],
   "source": [
    "from counter import counter"
   ]
  },
  {
   "cell_type": "code",
   "execution_count": 23,
   "metadata": {
    "ExecuteTime": {
     "end_time": "2021-11-01T17:59:52.671511Z",
     "start_time": "2021-11-01T17:59:52.657550Z"
    }
   },
   "outputs": [],
   "source": [
    "import pickle\n",
    "\n",
    "with open('terms.pickle', 'rb') as inf:\n",
    "    terms_to_keep = pickle.load(inf)"
   ]
  },
  {
   "cell_type": "code",
   "execution_count": 24,
   "metadata": {
    "ExecuteTime": {
     "end_time": "2021-11-01T17:59:53.082415Z",
     "start_time": "2021-11-01T17:59:53.067453Z"
    }
   },
   "outputs": [
    {
     "name": "stdout",
     "output_type": "stream",
     "text": [
      "Blank counter with no name\n"
     ]
    }
   ],
   "source": [
    "c = counter()"
   ]
  },
  {
   "cell_type": "code",
   "execution_count": 25,
   "metadata": {
    "ExecuteTime": {
     "end_time": "2021-11-01T18:00:26.113345Z",
     "start_time": "2021-11-01T18:00:26.096390Z"
    }
   },
   "outputs": [
    {
     "name": "stdout",
     "output_type": "stream",
     "text": [
      "Will print updated statistics every 20 documents.\n",
      "Found files \n",
      "Iterating over  0 documents\n"
     ]
    }
   ],
   "source": [
    "c.count(    \n",
    "    jstor_zip_base = \"C:/Users/benja/OneDrive - Cornell University/GitHub/kk-jstor-sociology\",\n",
    "\n",
    "    SKIP_N = 50 - 1,\n",
    "    #MAX_N = 100*100,\n",
    "    combinations = [\n",
    "        #('fy','t'),\n",
    "        #('fj','t'),\n",
    "        #('fj','fy','t'),\n",
    "        ('t1', 't2'),\n",
    "        ('t1', 't2', 'fy'),\n",
    "        ('fy',),\n",
    "        ('t',),\n",
    "        #('fj',),\n",
    "    ],\n",
    "\n",
    "    term_whitelist = terms_to_keep,\n",
    "    WINDOW=250\n",
    "\n",
    ")"
   ]
  },
  {
   "cell_type": "code",
   "execution_count": 26,
   "metadata": {
    "ExecuteTime": {
     "end_time": "2021-11-01T18:04:14.826385Z",
     "start_time": "2021-11-01T18:04:14.807517Z"
    }
   },
   "outputs": [
    {
     "ename": "KeyError",
     "evalue": "('t',)",
     "output_type": "error",
     "traceback": [
      "\u001b[1;31m---------------------------------------------------------------------------\u001b[0m",
      "\u001b[1;31mKeyError\u001b[0m                                  Traceback (most recent call last)",
      "\u001b[1;32m<ipython-input-26-e4fd0c51e5cb>\u001b[0m in \u001b[0;36m<module>\u001b[1;34m\u001b[0m\n\u001b[1;32m----> 1\u001b[1;33m \u001b[0mc\u001b[0m\u001b[1;33m.\u001b[0m\u001b[0mcounts\u001b[0m\u001b[1;33m[\u001b[0m\u001b[1;33m(\u001b[0m\u001b[1;34m't'\u001b[0m\u001b[1;33m,\u001b[0m\u001b[1;33m)\u001b[0m\u001b[1;33m]\u001b[0m\u001b[1;33m.\u001b[0m\u001b[0msum\u001b[0m\u001b[1;33m(\u001b[0m\u001b[1;33m)\u001b[0m\u001b[1;33m\u001b[0m\u001b[1;33m\u001b[0m\u001b[0m\n\u001b[0m",
      "\u001b[1;31mKeyError\u001b[0m: ('t',)"
     ]
    }
   ],
   "source": [
    "c.counts[('t',)].sum()"
   ]
  },
  {
   "cell_type": "code",
   "execution_count": 27,
   "metadata": {
    "ExecuteTime": {
     "end_time": "2021-11-01T18:04:16.091392Z",
     "start_time": "2021-11-01T18:04:16.076316Z"
    }
   },
   "outputs": [],
   "source": [
    "c.save_counts('count-cooc-2pct-250')"
   ]
  },
  {
   "cell_type": "code",
   "execution_count": 28,
   "metadata": {
    "ExecuteTime": {
     "end_time": "2021-11-01T18:04:19.746383Z",
     "start_time": "2021-11-01T18:04:19.727684Z"
    }
   },
   "outputs": [
    {
     "name": "stdout",
     "output_type": "stream",
     "text": [
      "Blank counter with no name\n"
     ]
    }
   ],
   "source": [
    "c2 = counter()"
   ]
  },
  {
   "cell_type": "code",
   "execution_count": null,
   "metadata": {},
   "outputs": [],
   "source": [
    "c2.count(    \n",
    "    jstor_zip_base = \"G:/My Drive/2020 ORGANISATION/1. PROJECTS/qualitative analysis of literature/110 CITATION ANALYSIS/000 data/sociology jstor\",\n",
    "\n",
    "    SKIP_N = 50 - 1,\n",
    "    #MAX_N = 100*100,\n",
    "    combinations = [\n",
    "        #('fy','t'),\n",
    "        #('fj','t'),\n",
    "        #('fj','fy','t'),\n",
    "        ('t1', 't2'),\n",
    "        ('t1', 't2', 'fy'),\n",
    "        ('fy',),\n",
    "        ('t',),\n",
    "        #('fj',),\n",
    "    ],\n",
    "\n",
    "    term_whitelist = terms_to_keep,\n",
    "    WINDOW=25\n",
    "\n",
    ")"
   ]
  },
  {
   "cell_type": "code",
   "execution_count": null,
   "metadata": {},
   "outputs": [],
   "source": [
    "c.save_counts('count-cooc-2pct-25')"
   ]
  }
 ],
 "metadata": {
  "kernelspec": {
   "display_name": "Python 3",
   "language": "python",
   "name": "python3"
  },
  "language_info": {
   "codemirror_mode": {
    "name": "ipython",
    "version": 3
   },
   "file_extension": ".py",
   "mimetype": "text/x-python",
   "name": "python",
   "nbconvert_exporter": "python",
   "pygments_lexer": "ipython3",
   "version": "3.7.5"
  },
  "varInspector": {
   "cols": {
    "lenName": 16,
    "lenType": 16,
    "lenVar": 40
   },
   "kernels_config": {
    "python": {
     "delete_cmd_postfix": "",
     "delete_cmd_prefix": "del ",
     "library": "var_list.py",
     "varRefreshCmd": "print(var_dic_list())"
    },
    "r": {
     "delete_cmd_postfix": ") ",
     "delete_cmd_prefix": "rm(",
     "library": "var_list.r",
     "varRefreshCmd": "cat(var_dic_list()) "
    }
   },
   "types_to_exclude": [
    "module",
    "function",
    "builtin_function_or_method",
    "instance",
    "_Feature"
   ],
   "window_display": false
  }
 },
 "nbformat": 4,
 "nbformat_minor": 4
}
