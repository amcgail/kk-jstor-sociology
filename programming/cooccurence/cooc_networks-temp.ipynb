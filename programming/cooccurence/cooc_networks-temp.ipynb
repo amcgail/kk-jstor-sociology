{
 "cells": [
  {
   "cell_type": "code",
   "execution_count": 2,
   "metadata": {
    "ExecuteTime": {
     "end_time": "2021-11-29T15:43:51.683631Z",
     "start_time": "2021-11-29T15:43:30.932950Z"
    }
   },
   "outputs": [],
   "source": [
    "import sys\n",
    "sys.path.append(\"./../helper/\") \n",
    "from common_imports import *\n",
    "from helpers import *\n",
    "import numpy as np\n",
    "from scipy import stats\n",
    "from matplotlib import pyplot as plt\n",
    "import seaborn as sns"
   ]
  },
  {
   "cell_type": "markdown",
   "metadata": {
    "ExecuteTime": {
     "end_time": "2021-11-26T18:16:50.006554Z",
     "start_time": "2021-11-26T18:16:49.997577Z"
    }
   },
   "source": [
    "### Load co-occurence counts"
   ]
  },
  {
   "cell_type": "code",
   "execution_count": 3,
   "metadata": {
    "ExecuteTime": {
     "end_time": "2021-11-29T15:44:26.163904Z",
     "start_time": "2021-11-29T15:43:51.702434Z"
    }
   },
   "outputs": [
    {
     "name": "stdout",
     "output_type": "stream",
     "text": [
      "Loading ../counting/wos-econ-20k-titles-limited-cooc from disk...\n"
     ]
    }
   ],
   "source": [
    "cc = counter('../counting/wos-econ-20k-titles-limited-cooc')"
   ]
  },
  {
   "cell_type": "code",
   "execution_count": 4,
   "metadata": {
    "ExecuteTime": {
     "end_time": "2021-11-29T15:44:26.195491Z",
     "start_time": "2021-11-29T15:44:26.179492Z"
    }
   },
   "outputs": [
    {
     "data": {
      "text/plain": [
       "1500"
      ]
     },
     "execution_count": 4,
     "metadata": {},
     "output_type": "execute_result"
    }
   ],
   "source": [
    "len(cc.items('t'))"
   ]
  },
  {
   "cell_type": "markdown",
   "metadata": {},
   "source": [
    "### How surprising are co-occurrences given their marginal propsensities?"
   ]
  },
  {
   "cell_type": "markdown",
   "metadata": {},
   "source": [
    "If terms are independent, their joint probability is $P(AB) = P(A)P(B)$. The ratio $\\frac{P(AB)}{P(A)P(B)}$, therefore, is a good measure of surprisingness.\n",
    "\n",
    "However, since we don't have probabilities but counts, we need to scale them by the total word count, $T$. Thus: \n",
    "$$\\frac{\\frac{C(AB)}{T}}{ \\frac{C(A)}{T}\\frac{C(B)}{T} } = \\frac{C(AB)T}{C(A)C(B)}$$"
   ]
  },
  {
   "cell_type": "code",
   "execution_count": 68,
   "metadata": {},
   "outputs": [
    {
     "data": {
      "image/png": "[encoded data removed]",
      "text/plain": [
       "<Figure size 432x288 with 1 Axes>"
      ]
     },
     "metadata": {
      "needs_background": "light"
     },
     "output_type": "display_data"
    }
   ],
   "source": [
    "YS = range(1900,2020)\n",
    "plt.plot(YS,\n",
    "         [cc(fy=y) for y in YS]\n",
    ");"
   ]
  },
  {
   "cell_type": "markdown",
   "metadata": {},
   "source": [
    "### Calculate surprisingness ratio"
   ]
  },
  {
   "cell_type": "code",
   "execution_count": 5,
   "metadata": {},
   "outputs": [
    {
     "data": {
      "text/plain": [
       "(1899, 2021)"
      ]
     },
     "execution_count": 5,
     "metadata": {},
     "output_type": "execute_result"
    }
   ],
   "source": [
    "min(cc.items('fy')), max(cc.items('fy'))"
   ]
  },
  {
   "cell_type": "code",
   "execution_count": 6,
   "metadata": {},
   "outputs": [],
   "source": [
    "YWINDOW = 20\n",
    "YMIN = 1920\n",
    "YMAX = 2020"
   ]
  },
  {
   "cell_type": "code",
   "execution_count": 7,
   "metadata": {
    "ExecuteTime": {
     "end_time": "2021-11-29T15:44:26.213074Z",
     "start_time": "2021-11-29T15:44:26.202360Z"
    }
   },
   "outputs": [
    {
     "data": {
      "text/plain": [
       "dict_keys([('fy', 't'), ('fj', 't'), ('fy',), ('t',), ('fj',), ('t1', 't2'), ('fy', 't1', 't2')])"
      ]
     },
     "execution_count": 7,
     "metadata": {},
     "output_type": "execute_result"
    }
   ],
   "source": [
    "cc.counts.keys()"
   ]
  },
  {
   "cell_type": "code",
   "execution_count": 8,
   "metadata": {
    "ExecuteTime": {
     "end_time": "2021-11-29T15:44:26.249746Z",
     "start_time": "2021-11-29T15:44:26.234127Z"
    }
   },
   "outputs": [],
   "source": [
    "tot = cc.counts[('t',)].sum() # sum of counts across all terms\n",
    "terms = cc.items('t') # all terms"
   ]
  },
  {
   "cell_type": "code",
   "execution_count": 9,
   "metadata": {},
   "outputs": [],
   "source": [
    "def get_rat(t1, t2, yfrom, yto):\n",
    "    ca = sum( cc(t=t1, fy=y) for y in range(yfrom, yto) ) # count of t1\n",
    "    cb = sum( cc(t=t2, fy=y) for y in range(yfrom, yto) ) # count of t2\n",
    "    cab = sum( cc(t1=t1, t2=t2, fy=y) for y in range(yfrom, yto) ) # count of them appearing together\n",
    "    #print(t1,t2,ca,cb,cab)\n",
    "\n",
    "    if cab < 3 or ca < 3 or cb < 3:\n",
    "        return 0\n",
    "\n",
    "    rat = tot * cab / (ca * cb) # surprise ratio\n",
    "    return rat"
   ]
  },
  {
   "cell_type": "code",
   "execution_count": 10,
   "metadata": {},
   "outputs": [
    {
     "data": {
      "text/plain": [
       "['changes']"
      ]
     },
     "execution_count": 10,
     "metadata": {},
     "output_type": "execute_result"
    }
   ],
   "source": [
    "[x for x,i in cc.ids['t'].items() if i==60 ]"
   ]
  },
  {
   "cell_type": "code",
   "execution_count": 12,
   "metadata": {},
   "outputs": [
    {
     "data": {
      "text/plain": [
       "777"
      ]
     },
     "execution_count": 12,
     "metadata": {},
     "output_type": "execute_result"
    }
   ],
   "source": [
    "cc(t='change')"
   ]
  },
  {
   "cell_type": "markdown",
   "metadata": {},
   "source": [
    "# temporal change in egonet"
   ]
  },
  {
   "cell_type": "code",
   "execution_count": 13,
   "metadata": {},
   "outputs": [],
   "source": [
    "YMIN=1900"
   ]
  },
  {
   "cell_type": "code",
   "execution_count": 14,
   "metadata": {},
   "outputs": [
    {
     "data": {
      "text/plain": [
       "(1900, 2020, 20)"
      ]
     },
     "execution_count": 14,
     "metadata": {},
     "output_type": "execute_result"
    }
   ],
   "source": [
    "YMIN,YMAX,YWINDOW"
   ]
  },
  {
   "cell_type": "code",
   "execution_count": 57,
   "metadata": {},
   "outputs": [
    {
     "name": "stderr",
     "output_type": "stream",
     "text": [
      "c:\\users\\amcga\\envs\\citation-deaths\\lib\\site-packages\\ipykernel_launcher.py:15: RuntimeWarning: divide by zero encountered in log\n",
      "  from ipykernel import kernelapp as app\n",
      "c:\\users\\amcga\\envs\\citation-deaths\\lib\\site-packages\\scipy\\spatial\\distance.py:720: RuntimeWarning: invalid value encountered in double_scalars\n",
      "  dist = 1.0 - uv / np.sqrt(uu * vv)\n"
     ]
    }
   ],
   "source": [
    "focal = 'europe'\n",
    "YWINDOW=5\n",
    "\n",
    "from scipy.spatial.distance import cosine\n",
    "\n",
    "rels_l = []\n",
    "diffs = []\n",
    "for YY in range(YMIN, YMAX, YWINDOW):\n",
    "    #myrels = [ get_rat(focal, term, YY, YY+YWINDOW) for term in terms ]\n",
    "    \n",
    "    # this sort of analysis with just raw counts is not going to be effective...\n",
    "    # it's not taking into account some words increasing in propensity across the board...\n",
    "    # PMI makes a lot more sense.\n",
    "    myrels = [ \n",
    "        sum( cc(t1=focal, t2=term, fy=y) for y in range(YY, YY+YWINDOW)) \n",
    "        for term in terms \n",
    "    ]\n",
    "    myrels = np.array(myrels)\n",
    "    myrels = np.log(myrels)\n",
    "    myrels[myrels<=0] = 0\n",
    "    \n",
    "    if len(rels_l):\n",
    "        diffs.append( cosine( rels_l[-1], myrels ) )\n",
    "    \n",
    "    rels_l.append(myrels)"
   ]
  },
  {
   "cell_type": "code",
   "execution_count": 58,
   "metadata": {},
   "outputs": [
    {
     "data": {
      "image/png": "[encoded data removed]",
      "text/plain": [
       "<Figure size 432x288 with 1 Axes>"
      ]
     },
     "metadata": {
      "needs_background": "light"
     },
     "output_type": "display_data"
    }
   ],
   "source": [
    "plt.hist(np.array(rels_l).flatten(), bins=100);"
   ]
  },
  {
   "cell_type": "code",
   "execution_count": 59,
   "metadata": {},
   "outputs": [
    {
     "data": {
      "text/plain": [
       "[<matplotlib.lines.Line2D at 0x243b3f347c8>]"
      ]
     },
     "execution_count": 59,
     "metadata": {},
     "output_type": "execute_result"
    },
    {
     "data": {
      "image/png": "[encoded data removed]",
      "text/plain": [
       "<Figure size 432x288 with 1 Axes>"
      ]
     },
     "metadata": {
      "needs_background": "light"
     },
     "output_type": "display_data"
    }
   ],
   "source": [
    "plt.plot(np.sum(np.array(rels_l), axis=0))"
   ]
  },
  {
   "cell_type": "code",
   "execution_count": 60,
   "metadata": {},
   "outputs": [
    {
     "data": {
      "text/plain": [
       "[<matplotlib.lines.Line2D at 0x243b41a3688>]"
      ]
     },
     "execution_count": 60,
     "metadata": {},
     "output_type": "execute_result"
    },
    {
     "data": {
      "image/png": "[encoded data removed]",
      "text/plain": [
       "<Figure size 432x288 with 1 Axes>"
      ]
     },
     "metadata": {
      "needs_background": "light"
     },
     "output_type": "display_data"
    }
   ],
   "source": [
    "plt.plot(np.sum(np.array(rels_l), axis=1))"
   ]
  },
  {
   "cell_type": "code",
   "execution_count": 61,
   "metadata": {},
   "outputs": [
    {
     "data": {
      "text/plain": [
       "[<matplotlib.lines.Line2D at 0x243b4448308>]"
      ]
     },
     "execution_count": 61,
     "metadata": {},
     "output_type": "execute_result"
    },
    {
     "data": {
      "image/png": "[encoded data removed]",
      "text/plain": [
       "<Figure size 432x288 with 1 Axes>"
      ]
     },
     "metadata": {
      "needs_background": "light"
     },
     "output_type": "display_data"
    }
   ],
   "source": [
    "plt.plot(\n",
    "    range(YMIN, YMAX-YWINDOW, YWINDOW), \n",
    "    diffs\n",
    ")"
   ]
  },
  {
   "cell_type": "code",
   "execution_count": 62,
   "metadata": {},
   "outputs": [
    {
     "data": {
      "text/plain": [
       "16.0"
      ]
     },
     "execution_count": 62,
     "metadata": {},
     "output_type": "execute_result"
    }
   ],
   "source": [
    "(1980-YMIN)/YWINDOW"
   ]
  },
  {
   "cell_type": "markdown",
   "metadata": {},
   "source": [
    "## which words changed the most in terms of counts"
   ]
  },
  {
   "cell_type": "code",
   "execution_count": 63,
   "metadata": {},
   "outputs": [],
   "source": [
    "def norm(x):\n",
    "    return np.power( (x**2).sum(), 0.5 )"
   ]
  },
  {
   "cell_type": "code",
   "execution_count": 64,
   "metadata": {},
   "outputs": [
    {
     "name": "stdout",
     "output_type": "stream",
     "text": [
      "eastern 0.407484822782196\n",
      "economic 0.3152732951975244\n",
      "economics 0.2498481751834338\n",
      "japan 0.2498481751834338\n",
      "unemployment 0.2498481751834338\n",
      "century 0.1576366475987622\n",
      "there 0.1576366475987622\n",
      "comparative 0.1576366475987622\n",
      "soviet 0.1576366475987622\n",
      "politics 0.1576366475987622\n"
     ]
    }
   ],
   "source": [
    "wdiff = rels_l[17] / norm(rels_l[17]) - rels_l[16] / norm(rels_l[16])\n",
    "\n",
    "for w in np.argsort(wdiff)[::-1][:10]:\n",
    "    print(terms[w], wdiff[w])"
   ]
  },
  {
   "cell_type": "code",
   "execution_count": 65,
   "metadata": {},
   "outputs": [
    {
     "name": "stdout",
     "output_type": "stream",
     "text": [
      "critique 0.33333333333333337\n",
      "analysis 0.33333333333333337\n",
      "nation 0.33333333333333337\n",
      "survey 0.33333333333333337\n",
      "state 0.33333333333333337\n",
      "with 0.33333333333333337\n",
      "western 0.17569668573457117\n",
      "united 0.08348515814989957\n",
      "states 0.08348515814989957\n",
      "exploratory -0.0\n"
     ]
    }
   ],
   "source": [
    "for w in np.argsort(-wdiff)[::-1][:10]:\n",
    "    print(terms[w], -wdiff[w])"
   ]
  }
 ],
 "metadata": {
  "kernelspec": {
   "display_name": "Python 3",
   "language": "python",
   "name": "python3"
  },
  "language_info": {
   "codemirror_mode": {
    "name": "ipython",
    "version": 3
   },
   "file_extension": ".py",
   "mimetype": "text/x-python",
   "name": "python",
   "nbconvert_exporter": "python",
   "pygments_lexer": "ipython3",
   "version": "3.9.2"
  },
  "varInspector": {
   "cols": {
    "lenName": 16,
    "lenType": 16,
    "lenVar": 40
   },
   "kernels_config": {
    "python": {
     "delete_cmd_postfix": "",
     "delete_cmd_prefix": "del ",
     "library": "var_list.py",
     "varRefreshCmd": "print(var_dic_list())"
    },
    "r": {
     "delete_cmd_postfix": ") ",
     "delete_cmd_prefix": "rm(",
     "library": "var_list.r",
     "varRefreshCmd": "cat(var_dic_list()) "
    }
   },
   "types_to_exclude": [
    "module",
    "function",
    "builtin_function_or_method",
    "instance",
    "_Feature"
   ],
   "window_display": false
  }
 },
 "nbformat": 4,
 "nbformat_minor": 4
}
