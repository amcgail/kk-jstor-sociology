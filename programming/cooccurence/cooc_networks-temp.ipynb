{
 "cells": [
  {
   "cell_type": "code",
   "execution_count": 1,
   "metadata": {
    "ExecuteTime": {
     "end_time": "2021-11-29T15:43:51.683631Z",
     "start_time": "2021-11-29T15:43:30.932950Z"
    }
   },
   "outputs": [],
   "source": [
    "import sys\n",
    "sys.path.append(\"./../helper/\") \n",
    "from common_imports import *\n",
    "from helpers import *\n",
    "import numpy as np\n",
    "from scipy import stats\n",
    "from matplotlib import pyplot as plt\n",
    "import seaborn as sns"
   ]
  },
  {
   "cell_type": "markdown",
   "metadata": {
    "ExecuteTime": {
     "end_time": "2021-11-26T18:16:50.006554Z",
     "start_time": "2021-11-26T18:16:49.997577Z"
    }
   },
   "source": [
    "### Load co-occurence counts"
   ]
  },
  {
   "cell_type": "code",
   "execution_count": 64,
   "metadata": {
    "ExecuteTime": {
     "end_time": "2021-11-29T15:44:26.163904Z",
     "start_time": "2021-11-29T15:43:51.702434Z"
    }
   },
   "outputs": [
    {
     "name": "stdout",
     "output_type": "stream",
     "text": [
      "Loading ../counting/wos-econ-20k-titles-limited-cooc from disk...\n"
     ]
    }
   ],
   "source": [
    "cc = counter('../counting/wos-econ-20k-titles-limited-cooc')"
   ]
  },
  {
   "cell_type": "code",
   "execution_count": 65,
   "metadata": {
    "ExecuteTime": {
     "end_time": "2021-11-29T15:44:26.195491Z",
     "start_time": "2021-11-29T15:44:26.179492Z"
    }
   },
   "outputs": [
    {
     "data": {
      "text/plain": [
       "1500"
      ]
     },
     "execution_count": 65,
     "metadata": {},
     "output_type": "execute_result"
    }
   ],
   "source": [
    "len(cc.items('t'))"
   ]
  },
  {
   "cell_type": "markdown",
   "metadata": {},
   "source": [
    "### How surprising are co-occurrences given their marginal propsensities?"
   ]
  },
  {
   "cell_type": "markdown",
   "metadata": {},
   "source": [
    "If terms are independent, their joint probability is $P(AB) = P(A)P(B)$. The ratio $\\frac{P(AB)}{P(A)P(B)}$, therefore, is a good measure of surprisingness.\n",
    "\n",
    "However, since we don't have probabilities but counts, we need to scale them by the total word count, $T$. Thus: \n",
    "$$\\frac{\\frac{C(AB)}{T}}{ \\frac{C(A)}{T}\\frac{C(B)}{T} } = \\frac{C(AB)T}{C(A)C(B)}$$"
   ]
  },
  {
   "cell_type": "markdown",
   "metadata": {},
   "source": [
    "### Calculate surprisingness ratio"
   ]
  },
  {
   "cell_type": "code",
   "execution_count": 66,
   "metadata": {},
   "outputs": [
    {
     "data": {
      "text/plain": [
       "(1899, 2021)"
      ]
     },
     "execution_count": 66,
     "metadata": {},
     "output_type": "execute_result"
    }
   ],
   "source": [
    "min(cc.items('fy')), max(cc.items('fy'))"
   ]
  },
  {
   "cell_type": "code",
   "execution_count": 67,
   "metadata": {},
   "outputs": [],
   "source": [
    "YWINDOW = 20\n",
    "YMIN = 1920\n",
    "YMAX = 2020"
   ]
  },
  {
   "cell_type": "code",
   "execution_count": 68,
   "metadata": {
    "ExecuteTime": {
     "end_time": "2021-11-29T15:44:26.213074Z",
     "start_time": "2021-11-29T15:44:26.202360Z"
    }
   },
   "outputs": [
    {
     "data": {
      "text/plain": [
       "dict_keys([('fy', 't'), ('fj', 't'), ('fy',), ('t',), ('fj',), ('t1', 't2'), ('fy', 't1', 't2')])"
      ]
     },
     "execution_count": 68,
     "metadata": {},
     "output_type": "execute_result"
    }
   ],
   "source": [
    "cc.counts.keys()"
   ]
  },
  {
   "cell_type": "code",
   "execution_count": 69,
   "metadata": {
    "ExecuteTime": {
     "end_time": "2021-11-29T15:44:26.249746Z",
     "start_time": "2021-11-29T15:44:26.234127Z"
    }
   },
   "outputs": [],
   "source": [
    "tot = cc.counts[('t',)].sum() # sum of counts across all terms\n",
    "terms = cc.items('t') # all terms"
   ]
  },
  {
   "cell_type": "code",
   "execution_count": 70,
   "metadata": {},
   "outputs": [],
   "source": [
    "def get_rat(t1, t2, yfrom, yto):\n",
    "    ca = sum( cc(t=t1, fy=y) for y in range(yfrom, yto) ) # count of t1\n",
    "    cb = sum( cc(t=t2, fy=y) for y in range(yfrom, yto) ) # count of t2\n",
    "    cab = sum( cc(t1=t1, t2=t2, fy=y) for y in range(yfrom, yto) ) # count of them appearing together\n",
    "    #print(t1,t2,ca,cb,cab)\n",
    "\n",
    "    if cab < 5 or ca < 5 or cb < 5:\n",
    "        return 0\n",
    "\n",
    "    rat = tot * cab / (ca * cb) # surprise ratio\n",
    "    return rat"
   ]
  },
  {
   "cell_type": "code",
   "execution_count": 73,
   "metadata": {},
   "outputs": [
    {
     "data": {
      "text/plain": [
       "['changes']"
      ]
     },
     "execution_count": 73,
     "metadata": {},
     "output_type": "execute_result"
    }
   ],
   "source": [
    "[x for x,i in cc.ids['t'].items() if i==60 ]"
   ]
  },
  {
   "cell_type": "code",
   "execution_count": 72,
   "metadata": {},
   "outputs": [
    {
     "data": {
      "text/plain": [
       "[(60, 96),\n",
       " (15, 76),\n",
       " (119, 76),\n",
       " (22, 70),\n",
       " (365, 68),\n",
       " (171, 45),\n",
       " (45, 44),\n",
       " (958, 42),\n",
       " (1254, 39),\n",
       " (901, 35)]"
      ]
     },
     "execution_count": 72,
     "metadata": {},
     "output_type": "execute_result"
    }
   ],
   "source": [
    "from collections import Counter\n",
    "Counter([ z for YY in pairs.keys() for (a,b), r in zip(pairs[YY], rats[YY]) for z in [a,b]]).most_common(10)"
   ]
  },
  {
   "cell_type": "markdown",
   "metadata": {},
   "source": [
    "# temporal change in egonet"
   ]
  },
  {
   "cell_type": "code",
   "execution_count": 74,
   "metadata": {},
   "outputs": [],
   "source": [
    "focal = 'changes'\n",
    "YWINDOW=5\n",
    "\n",
    "from scipy.spatial.distance import cosine\n",
    "\n",
    "rels_l = []\n",
    "diffs = []\n",
    "for YY in range(YMIN, YMAX, YWINDOW):\n",
    "    myrels = [ get_rat(focal, term, YY, YY+YWINDOW) for term in terms ]\n",
    "    myrels = np.array(myrels)\n",
    "    \n",
    "    if len(rels_l):\n",
    "        diffs.append( cosine( rels_l[-1], myrels ) )\n",
    "    \n",
    "    rels_l.append(myrels)"
   ]
  },
  {
   "cell_type": "code",
   "execution_count": 76,
   "metadata": {},
   "outputs": [
    {
     "data": {
      "text/plain": [
       "[<matplotlib.lines.Line2D at 0x2144ad1c388>]"
      ]
     },
     "execution_count": 76,
     "metadata": {},
     "output_type": "execute_result"
    },
    {
     "data": {
      "image/png": "[encoded data removed]",
      "text/plain": [
       "<Figure size 432x288 with 1 Axes>"
      ]
     },
     "metadata": {
      "needs_background": "light"
     },
     "output_type": "display_data"
    }
   ],
   "source": [
    "plt.plot(range(YMIN, YMAX-YWINDOW, YWINDOW), diffs)"
   ]
  }
 ],
 "metadata": {
  "kernelspec": {
   "display_name": "Python 3",
   "language": "python",
   "name": "python3"
  },
  "language_info": {
   "codemirror_mode": {
    "name": "ipython",
    "version": 3
   },
   "file_extension": ".py",
   "mimetype": "text/x-python",
   "name": "python",
   "nbconvert_exporter": "python",
   "pygments_lexer": "ipython3",
   "version": "3.7.5"
  },
  "varInspector": {
   "cols": {
    "lenName": 16,
    "lenType": 16,
    "lenVar": 40
   },
   "kernels_config": {
    "python": {
     "delete_cmd_postfix": "",
     "delete_cmd_prefix": "del ",
     "library": "var_list.py",
     "varRefreshCmd": "print(var_dic_list())"
    },
    "r": {
     "delete_cmd_postfix": ") ",
     "delete_cmd_prefix": "rm(",
     "library": "var_list.r",
     "varRefreshCmd": "cat(var_dic_list()) "
    }
   },
   "types_to_exclude": [
    "module",
    "function",
    "builtin_function_or_method",
    "instance",
    "_Feature"
   ],
   "window_display": false
  }
 },
 "nbformat": 4,
 "nbformat_minor": 4
}
