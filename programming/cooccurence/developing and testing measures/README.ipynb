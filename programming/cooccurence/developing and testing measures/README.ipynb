{
 "cells": [
  {
   "cell_type": "markdown",
   "metadata": {},
   "source": [
    "# motivation\n",
    "\n",
    "I'd like to narrow in on the best way to measure the difference in cooccurrence networks, of the same token.\n",
    "Current methods:\n",
    "\n",
    "+ Jaccard\n",
    "+ Cosine distance of adjacency matrix\n",
    "\n",
    "And the construction of these networks from coocurrence counts in the first place.\n",
    "\n",
    "+ ratio: $P(A&B) / (P(A) * P(B)$\n",
    "+ PMI - pointwise mutual information (same ordering): $log[ P(A&B) / (P(A) * P(B) ]$. Used all over the place.\n",
    "+ chi2 [scikit-learn looks confusing](https://scikit-learn.org/stable/modules/generated/sklearn.feature_selection.chi2.html), and [SO](https://stats.stackexchange.com/questions/97653/chi-square-approach-to-calculate-if-two-words-occur-together-by-chance) is way more clear\n",
    "    + very fast\n",
    "    + discounts when there are less counts for A and B"
   ]
  }
 ],
 "metadata": {
  "kernelspec": {
   "display_name": "Python 3",
   "language": "python",
   "name": "python3"
  },
  "language_info": {
   "codemirror_mode": {
    "name": "ipython",
    "version": 3
   },
   "file_extension": ".py",
   "mimetype": "text/x-python",
   "name": "python",
   "nbconvert_exporter": "python",
   "pygments_lexer": "ipython3",
   "version": "3.7.5"
  }
 },
 "nbformat": 4,
 "nbformat_minor": 4
}
