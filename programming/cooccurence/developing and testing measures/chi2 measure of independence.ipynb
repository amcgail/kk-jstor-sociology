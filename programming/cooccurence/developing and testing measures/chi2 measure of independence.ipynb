{
 "cells": [
  {
   "cell_type": "code",
   "execution_count": 4,
   "metadata": {},
   "outputs": [
    {
     "name": "stdout",
     "output_type": "stream",
     "text": [
      "Loading ..\\..\\counting\\wos-soc-limitedtitles-cooc from disk...\n",
      "Loading ..\\..\\counting\\wos-econ-limitedtitles-cooc from disk...\n",
      "1000 1000 terms from soc, econ\n"
     ]
    }
   ],
   "source": [
    "from temporal_default import *"
   ]
  },
  {
   "cell_type": "code",
   "execution_count": 5,
   "metadata": {},
   "outputs": [],
   "source": [
    "YWINDOW = 10\n",
    "YSTEP = 1"
   ]
  },
  {
   "cell_type": "code",
   "execution_count": 6,
   "metadata": {},
   "outputs": [
    {
     "data": {
      "text/plain": [
       "'\\nPearson, Karl. “On the criterion that a given system of deviations from the probable in the case of a correlated system of variables is such that it can be reasonably supposed to have arisen from random sampling”, Philosophical Magazine. Series 5. 50 (1900), pp. 157-175.\\n\\nAccording to [3], the total number of samples is recommended to be greater than 13, \\n    otherwise exact tests (such as Barnard’s Exact test) should be used because they do not overreject.\\n'"
      ]
     },
     "execution_count": 6,
     "metadata": {},
     "output_type": "execute_result"
    }
   ],
   "source": [
    "\"\"\"\n",
    "Pearson, Karl. “On the criterion that a given system of deviations from the probable in the case of a correlated system of variables is such that it can be reasonably supposed to have arisen from random sampling”, Philosophical Magazine. Series 5. 50 (1900), pp. 157-175.\n",
    "\n",
    "According to [3], the total number of samples is recommended to be greater than 13, \n",
    "    otherwise exact tests (such as Barnard’s Exact test) should be used because they do not overreject.\n",
    "\"\"\""
   ]
  },
  {
   "cell_type": "code",
   "execution_count": 7,
   "metadata": {},
   "outputs": [],
   "source": [
    "from scipy.stats import chisquare\n",
    "from scipy.stats import chi2_contingency"
   ]
  },
  {
   "cell_type": "code",
   "execution_count": 41,
   "metadata": {},
   "outputs": [],
   "source": [
    "# contingency and expected table\n",
    "def chi_stat(counter, t1, t2, yfrom, yto):\n",
    "    \n",
    "    ys = range(yfrom, yto)\n",
    "    total = sum( counter(fy=y) for y in ys ) # accounting for undirected nature...\n",
    "    \n",
    "    ca = sum( counter(t=t1, fy=y) for y in ys ) # count of t1\n",
    "    cb = sum( counter(t=t2, fy=y) for y in ys ) # count of t2\n",
    "    cab = sum( counter(t1=t1, t2=t2, fy=y) for y in ys ) # count of them appearing together\n",
    "    \n",
    "    contingency = np.array([ \n",
    "        [cab, ca - cab],\n",
    "        [cb - cab, total-(ca+cb)+cab]\n",
    "    ])\n",
    "    \n",
    "    if np.any(contingency < 5):\n",
    "        return +1.33\n",
    "    \n",
    "    if False:\n",
    "        # I got different answers than chi2_contingency.\n",
    "        # should check this method carefully before proceeding\n",
    "\n",
    "        r = contingency.sum(axis=1)\n",
    "        c = contingency.sum(axis=0)\n",
    "        N = np.sum(r+c)\n",
    "\n",
    "        expected = np.array([\n",
    "            [ r[0]*c[0]/(N/2), r[0]*c[1]/(N/2) ],\n",
    "            [ r[1]*c[0]/(N/2), r[1]*c[1]/(N/2) ]\n",
    "        ])\n",
    "        \n",
    "        return np.sum( np.power(contingency - expected, 2) / expected )\n",
    "    \n",
    "    chi2, p, dof, expected = chi2_contingency(contingency)\n",
    "    \n",
    "    diff = contingency / expected\n",
    "    if diff[0,0] > diff[1,1]:\n",
    "        sgn = +1 # together\n",
    "    else:\n",
    "        sgn = -1 # apart\n",
    "    \n",
    "    return sgn*p"
   ]
  },
  {
   "cell_type": "code",
   "execution_count": 42,
   "metadata": {},
   "outputs": [],
   "source": [
    "def get_tnets( counter, focal ):\n",
    "    rels_l = []\n",
    "    for YY in range(YMIN, YMAX, YSTEP):\n",
    "        myrels = [ chi_stat(counter, focal, term, YY, YY+YWINDOW) for term in counter.terms ]\n",
    "        rels_l.append(myrels)\n",
    "        \n",
    "    return [np.array(x) for x in rels_l]"
   ]
  },
  {
   "cell_type": "code",
   "execution_count": 43,
   "metadata": {},
   "outputs": [],
   "source": [
    "focal = 'behavior'"
   ]
  },
  {
   "cell_type": "code",
   "execution_count": 44,
   "metadata": {},
   "outputs": [],
   "source": [
    "tn = get_tnets(cc_soc, focal)"
   ]
  },
  {
   "cell_type": "code",
   "execution_count": 45,
   "metadata": {},
   "outputs": [],
   "source": [
    "tns = np.concatenate(tn)"
   ]
  },
  {
   "cell_type": "code",
   "execution_count": 102,
   "metadata": {},
   "outputs": [
    {
     "data": {
      "image/png": "[encoded data removed]",
      "text/plain": [
       "<Figure size 432x288 with 1 Axes>"
      ]
     },
     "metadata": {
      "needs_background": "light"
     },
     "output_type": "display_data"
    }
   ],
   "source": [
    "plt.hist(tns[np.abs(tns) < 0.01], bins=50);"
   ]
  },
  {
   "cell_type": "code",
   "execution_count": 103,
   "metadata": {},
   "outputs": [
    {
     "name": "stdout",
     "output_type": "stream",
     "text": [
      "1920 - 1930\n",
      "\n",
      "\n",
      "1921 - 1931\n",
      "\n",
      "\n",
      "1922 - 1932\n",
      "\n",
      "\n",
      "1923 - 1933\n",
      "\n",
      "\n",
      "1924 - 1934\n",
      "\n",
      "\n",
      "1925 - 1935\n",
      "\n",
      "\n",
      "1926 - 1936\n",
      "\n",
      "\n",
      "1927 - 1937\n",
      "\n",
      "\n",
      "1928 - 1938\n",
      "\n",
      "\n",
      "1929 - 1939\n",
      "\n",
      "\n",
      "1930 - 1940\n",
      "\n",
      "\n",
      "1931 - 1941\n",
      "\n",
      "\n",
      "1932 - 1942\n",
      "\n",
      "\n",
      "1933 - 1943\n",
      "\n",
      "\n",
      "1934 - 1944\n",
      "\n",
      "\n",
      "1935 - 1945\n",
      "\n",
      "\n",
      "1936 - 1946\n",
      "\n",
      "\n",
      "1937 - 1947\n",
      "\n",
      "\n",
      "1938 - 1948\n",
      "\n",
      "\n",
      "1939 - 1949\n",
      "\n",
      "\n",
      "1940 - 1950\n",
      "\n",
      "\n",
      "1941 - 1951\n",
      "\n",
      "\n",
      "1942 - 1952\n",
      "\n",
      "\n",
      "1943 - 1953\n",
      "\n",
      "\n",
      "1944 - 1954\n",
      "\n",
      "\n",
      "1945 - 1955\n",
      "\n",
      "\n",
      "1946 - 1956\n",
      "study\n",
      "\n",
      "1947 - 1957\n",
      "study\n",
      "\n",
      "1948 - 1958\n",
      "study\n",
      "\n",
      "1949 - 1959\n",
      "study\n",
      "\n",
      "1950 - 1960\n",
      "\n",
      "\n",
      "1951 - 1961\n",
      "attitudes, political, some, study\n",
      "\n",
      "1952 - 1962\n",
      "attitudes, political, study, theory\n",
      "\n",
      "1953 - 1963\n",
      "attitudes, political, premarital, some, study, theory\n",
      "\n",
      "1954 - 1964\n",
      "attitudes, political, some, theory\n",
      "\n",
      "1955 - 1965\n",
      "attitudes, political, theory, voting\n",
      "\n",
      "1956 - 1966\n",
      "attitudes, effects, political, sexual, study, theory, voting\n",
      "\n",
      "1957 - 1967\n",
      "attitudes, effects, religious, sexual, theory, voting\n",
      "\n",
      "1958 - 1968\n",
      "adolescent, attitudes, differences, religious, sexual, theory, voting\n",
      "\n",
      "1959 - 1969\n",
      "adolescent, attitudes, differences, effects, organizational, religious, sexual, theory, voting\n",
      "\n",
      "1960 - 1970\n",
      "adolescent, attitudes, differences, effects, factors, political, religious, sexual\n",
      "\n",
      "1961 - 1971\n",
      "adolescent, attitudes, differences, illness, parental, political, religious, sexual, theory\n",
      "\n",
      "1962 - 1972\n",
      "adolescent, attitudes, dimensions, effects, factors, influence, parental, political, religious, sexual, students, voting\n",
      "\n",
      "1963 - 1973\n",
      "adolescent, attitudes, differences, dimensions, effects, model, parental, political, religious, role, sexual, students, voting\n",
      "\n",
      "1964 - 1974\n",
      "adolescent, attitude, attitudes, college, decision, dimensions, effects, health, model, parental, political, process, religious, role, sexual, students, study\n",
      "\n",
      "1965 - 1975\n",
      "adolescent, attitude, attitudes, decision, dimensions, effects, health, model, parental, political, religious, role, sexual, students\n",
      "\n",
      "1966 - 1976\n",
      "adolescent, attitude, attitudes, decision, dimensions, effects, health, model, models, organizational, parental, political, relationships, religious, sexual, students\n",
      "\n",
      "1967 - 1977\n",
      "adolescent, attitude, attitudes, demographic, dimensions, effects, health, impact, model, models, organizational, parental, perceived, political, reference, relationships, religious, sexual, students\n",
      "\n",
      "1968 - 1978\n",
      "adolescent, analysis, attitude, attitudes, collective, demographic, effects, health, leadership, model, models, organizational, parental, perceived, political, premarital, reference, religious, sexual, students\n",
      "\n",
      "1969 - 1979\n",
      "adolescent, attitude, attitudes, collective, demographic, effects, factors, from, health, illness, leadership, model, organizational, parental, perceived, political, premarital, reference, religious, sexual, students, versus\n",
      "\n",
      "1970 - 1980\n",
      "adolescent, analysis, attitude, attitudes, collective, demographic, determinants, health, illness, individual, leadership, model, organizational, parental, perceived, premarital, reference, religious, sexual, students, versus\n",
      "\n",
      "1971 - 1981\n",
      "adolescent, analysis, attitude, attitudes, behavior, collective, demographic, determinants, effects, health, individual, leadership, model, organizational, parental, perceived, premarital, reference, relationship, relationships, sexual, social, students, versus\n",
      "\n",
      "1972 - 1982\n",
      "adolescent, analysis, approach, attitude, attitudes, collective, couples, demographic, determinants, effects, health, leadership, model, organizational, perceived, premarital, reference, relationship, relationships, sexual, social, versus\n",
      "\n",
      "1973 - 1983\n",
      "adolescent, analysis, approach, attitude, attitudes, couples, determinants, effects, leadership, managerial, model, organizational, perceived, premarital, relationship, research, sexual, social, versus\n",
      "\n",
      "1974 - 1984\n",
      "adolescent, analysis, attitude, attitudes, couples, demographic, determinants, drinking, effects, factors, leadership, model, models, organizational, perceived, premarital, relationship, research, sexual, social, students, versus\n",
      "\n",
      "1975 - 1985\n",
      "adolescent, analysis, attitude, attitudes, choice, correlates, determinants, drinking, effect, effects, human, impact, leadership, model, organizational, perceived, predicting, premarital, relationship, research, sexual, social, students, task, versus, voting\n",
      "\n",
      "1976 - 1986\n",
      "adolescent, analysis, attitude, attitudes, choice, correlates, determinants, drinking, effect, effects, influence, leadership, learning, model, organizational, perceived, predicting, premarital, relationship, research, sexual, social, students, versus, voting\n",
      "\n",
      "1977 - 1987\n",
      "adolescent, analysis, attitude, attitudes, choice, determinants, drinking, effect, effects, groups, human, influence, learning, married, model, organizational, predicting, premarital, relationship, research, sexual, social, students, their, toward, voting\n",
      "\n",
      "1978 - 1988\n",
      "adolescent, analysis, attitude, attitudes, behavior, children, criminal, determinants, drinking, effect, effects, experimental, groups, human, illness, influence, learning, married, model, organizational, parental, predicting, premarital, relationship, research, results, sexual, social, students, study, task, their, theory, versus, voting\n",
      "\n",
      "1979 - 1989\n",
      "adolescent, analysis, attitude, attitudes, behavior, choice, criminal, determinants, drinking, effect, effects, experimental, factors, group, groups, influence, learning, model, organizational, parent, parental, premarital, relationship, research, results, sexual, social, status, students, study, task, test, theory, voting\n",
      "\n",
      "1980 - 1990\n",
      "adolescent, analysis, attitude, attitudes, behavior, choice, college, criminal, determinants, effect, effects, employee, experimental, factors, group, groups, human, influence, model, organizational, parent, parental, premarital, relationship, research, results, role, social, students, study, theory, toward, voting\n",
      "\n",
      "1981 - 1991\n",
      "adolescent, analysis, attitude, attitudes, between, children, choice, college, criminal, determinants, effects, employee, experimental, group, groups, human, implications, influence, marriage, model, organizational, parent, parental, premarital, relationship, research, results, role, social, status, students, study, task, theory, toward, voting, young\n",
      "\n",
      "1982 - 1992\n",
      "adolescent, adolescents, analysis, attitude, attitudes, behavior, between, children, choice, collective, college, criminal, determinants, differences, effect, effects, experimental, group, groups, implications, influence, marriage, mexican, model, organizational, parental, premarital, relationship, research, results, role, social, students, study, task, theory, toward, voting, young\n",
      "\n",
      "1983 - 1993\n",
      "adolescent, adolescents, aids, analysis, attitude, attitudes, behavior, children, collective, college, control, determinants, effect, effects, group, groups, high, identity, implications, influence, marriage, maternal, mexican, model, organizational, parental, premarital, relationship, research, risk, role, school, self, social, students, task, theory, toward, voting, young\n",
      "\n",
      "1984 - 1994\n",
      "adolescent, adolescents, aids, analysis, attitude, attitudes, behavior, children, collective, college, control, determinants, effect, effects, france, group, groups, high, identity, implications, influence, longitudinal, marriage, maternal, mexican, model, mothers, organizational, parent, parental, parenting, premarital, relationship, risk, role, school, self, social, students, task, theory, toward, voting, young\n",
      "\n",
      "1985 - 1995\n",
      "adolescent, adolescents, aids, analysis, attitude, attitudes, behavior, children, collective, college, control, determinants, differences, effects, factors, france, group, groups, high, identity, implications, individual, influence, marriage, maternal, model, mothers, organizational, parent, parental, parenting, power, premarital, relationship, risk, role, school, self, social, students, study, theory, women, young\n",
      "\n",
      "1986 - 1996\n",
      "adolescent, adolescents, aids, among, analysis, attitude, attitudes, behavior, children, collective, college, control, determinants, effects, factors, group, groups, high, human, implications, individual, influence, marriage, maternal, model, mothers, organizational, parent, parental, parenting, problem, relationship, risk, role, self, social, students, study, theory, women, young\n",
      "\n",
      "1987 - 1997\n",
      "adolescent, adolescents, aids, among, analysis, attitude, attitudes, behavior, children, college, control, determinants, effects, factors, group, groups, high, implications, individual, influence, maternal, model, organizational, parental, parenting, problem, relationship, religious, risk, role, social, students, study, theory, women, young\n",
      "\n",
      "1988 - 1998\n",
      "adolescent, adolescents, aids, among, attitudes, children, citizenship, college, control, determinants, effects, family, group, high, individual, maternal, model, mothers, organizational, parental, parenting, problem, relation, relationship, religious, risk, role, social, students, women, young\n",
      "\n",
      "1989 - 1999\n",
      "adolescent, adolescents, attitudes, children, citizenship, determinants, drinking, effects, family, group, high, individual, maternal, model, mothers, organizational, parental, parenting, problem, relationship, religious, risk, role, social, women, young\n",
      "\n",
      "1990 - 2000\n",
      "adolescent, adolescents, attitudes, children, citizenship, determinants, drinking, effects, high, individual, influence, maternal, model, mothers, organizational, parental, parenting, problem, problems, relationship, religious, risk, role, social, task, women, young\n",
      "\n",
      "1991 - 2001\n",
      "adolescent, adolescents, attitudes, children, citizenship, determinants, drinking, effects, high, individual, maternal, model, mothers, organizational, parental, parenting, problem, problems, relationship, religious, risk, role, social, women\n",
      "\n",
      "1992 - 2002\n",
      "adolescent, adolescents, attitudes, changes, changing, children, citizenship, determinants, drinking, effects, family, high, individual, influence, mothers, organizational, parental, parenting, problem, problems, relationship, religious, risk, role, social, theory, women\n",
      "\n",
      "1993 - 2003\n",
      "adolescent, adolescents, attitudes, changing, children, citizenship, drinking, effects, emotional, family, high, individual, influence, mothers, organizational, parental, parenting, problem, problems, relationship, religious, risk, social, theory, women\n",
      "\n",
      "1994 - 2004\n",
      "adolescent, american, changing, children, citizenship, drinking, effects, emotional, family, individual, influence, organizational, parental, problem, relationship, religious, risk, women\n",
      "\n",
      "1995 - 2005\n",
      "adolescent, american, changing, citizenship, drinking, effects, emotional, family, influence, organizational, parental, problem, relationship, religious, risk, role, sexual, women\n",
      "\n",
      "1996 - 2006\n",
      "adolescent, african, american, based, changing, citizenship, economic, effects, emotional, family, influence, organizational, parental, problem, relationship, religious, risk, role, students, understanding, women\n",
      "\n",
      "1997 - 2007\n",
      "adolescent, adolescents, african, american, attitudes, based, children, citizenship, effects, emotional, evidence, family, influence, organizational, parental, parents, performance, perspective, problem, relationship, religious, risk, role, social, students, support, theory, understanding, women\n",
      "\n",
      "1998 - 2008\n",
      "adolescent, adolescents, african, attitudes, based, citizenship, economic, effects, emotional, evidence, family, influence, organizational, parental, parents, performance, problem, relationship, religious, risk, role, social, students, theory, understanding, women\n",
      "\n",
      "1999 - 2009\n",
      "adolescent, adolescents, african, american, based, citizenship, economic, effects, emotional, evidence, family, influence, organizational, orientation, parental, problem, psychological, relationship, religious, risk, role, social, students, understanding\n",
      "\n",
      "2000 - 2010\n",
      "adolescent, adolescents, african, american, attitudes, based, childhood, children, citizenship, early, economic, effects, emotional, evidence, family, influence, organizational, orientation, parental, performance, problem, relationship, religious, risk, role, social, students, team, understanding\n",
      "\n",
      "2001 - 2011\n",
      "adolescent, adolescents, african, american, approach, attitudes, based, child, childhood, children, citizenship, early, economic, effects, emotional, evidence, family, from, influence, organizational, orientation, parental, performance, problem, psychological, relationship, relationships, religious, risk, role, social, students, team, understanding, young\n",
      "\n",
      "2002 - 2012\n",
      "adolescent, adolescents, american, approach, attitudes, based, child, childhood, children, citizenship, early, economic, effect, effects, evidence, identity, income, influence, marital, organizational, orientation, parental, parenting, performance, problem, psychological, relationship, relationships, religion, religious, risk, role, school, social, students, team, understanding, young\n",
      "\n",
      "2003 - 2013\n",
      "adolescent, adolescents, affect, african, american, attitudes, based, child, childhood, children, differences, early, effects, evidence, identity, income, influence, marital, orientation, parental, parenting, performance, problem, problems, psychological, relationship, relationships, religion, religious, risk, role, school, self, social, students, team, understanding, voting, young\n",
      "\n",
      "2004 - 2014\n",
      "adolescent, adolescents, adults, affect, american, attitudes, between, characteristics, child, childhood, children, early, effects, employee, evidence, gender, identity, influence, latino, marital, orientation, parental, parenting, performance, problem, problems, psychological, relationship, relationships, religion, religious, risk, role, school, seeking, social, status, students, toward, understanding, violence, voting, work, young\n",
      "\n",
      "2005 - 2015\n",
      "adolescent, adolescents, adults, affect, american, attitudes, between, child, childhood, children, citizenship, early, effects, employee, evidence, health, identity, influence, latino, marital, orientation, parental, parents, performance, problems, psychological, relationship, relationships, religion, religious, risk, role, school, seeking, social, status, toward, understanding, violence, voting, young\n",
      "\n",
      "2006 - 2016\n",
      "adolescent, adolescents, adults, affect, american, attitudes, between, child, childhood, children, citizenship, early, effects, gender, identity, influence, latino, marital, orientation, parental, parenting, parents, performance, problems, psychological, relationship, relationships, religious, risk, role, school, social, status, toward, understanding, violence, voting, young\n",
      "\n",
      "2007 - 2017\n",
      "adolescent, adults, affect, attitudes, between, child, childhood, children, citizenship, early, effect, effects, gender, identity, influence, marital, orientation, parental, parenting, performance, problems, psychological, relationship, relationships, risk, role, school, status, toward, violence, voting, work, young, youth\n",
      "\n",
      "2008 - 2018\n",
      "adolescent, adults, affect, american, attitudes, between, child, childhood, children, citizenship, early, effect, effects, gender, health, identity, impact, influence, marital, orientation, parental, parenting, performance, problems, relationship, relationships, religious, risk, role, school, social, status, toward, violence, voting, young, youth\n",
      "\n",
      "2009 - 2019\n",
      "adolescent, affect, attitudes, between, child, childhood, children, citizenship, early, effect, effects, families, gender, health, identity, impact, influence, parental, parenting, performance, problems, relationship, relationships, risk, role, school, sexual, social, status, toward, violence, voting\n",
      "\n",
      "2010 - 2020\n",
      "affect, attitudes, between, child, children, effects, families, gender, health, identity, impact, problems, relationship, relationships, risk, role, school, sexual, social, status, toward, violence, voting\n",
      "\n",
      "2011 - 2021\n",
      "attitudes, between, child, children, families, gender, health, identity, impact, problems, relationship, role, school, sexual, social, toward\n",
      "\n",
      "2012 - 2022\n",
      "attitudes, child, children, gender, problems, relationship, role, sexual\n",
      "\n",
      "2013 - 2023\n",
      "attitudes, child, children, gender, role\n",
      "\n",
      "2014 - 2024\n",
      "\n",
      "\n",
      "2015 - 2025\n",
      "\n",
      "\n",
      "2016 - 2026\n",
      "\n",
      "\n",
      "2017 - 2027\n",
      "\n",
      "\n",
      "2018 - 2028\n",
      "\n",
      "\n",
      "2019 - 2029\n",
      "\n",
      "\n"
     ]
    }
   ],
   "source": [
    "for ti,t in enumerate(tn):\n",
    "    print( YMIN + ti*YSTEP, \"-\", YMIN + ti*YSTEP + YWINDOW )\n",
    "    #print(\", \".join( [w for i,w in enumerate(cc_soc.terms) if 0 > t[i] > -0.00000000001] ))\n",
    "    print(\", \".join( [w for i,w in enumerate(cc_soc.terms) if 0 < t[i] < 0.00000000001] ))\n",
    "    print()"
   ]
  },
  {
   "cell_type": "code",
   "execution_count": 104,
   "metadata": {},
   "outputs": [],
   "source": [
    "ws = set()\n",
    "wsets = []\n",
    "for ti,t in enumerate(tn):\n",
    "    myws = [w for i,w in enumerate(cc_soc.terms) if 0 < np.abs( t[i] ) < 0.000001]\n",
    "    wsets.append(myws)\n",
    "    \n",
    "    ws.update(myws)"
   ]
  },
  {
   "cell_type": "code",
   "execution_count": 105,
   "metadata": {},
   "outputs": [],
   "source": [
    "ws = sorted(ws)"
   ]
  },
  {
   "cell_type": "code",
   "execution_count": 106,
   "metadata": {},
   "outputs": [],
   "source": [
    "ys = list(range(YMIN,YMAX,YSTEP))"
   ]
  },
  {
   "cell_type": "code",
   "execution_count": 107,
   "metadata": {},
   "outputs": [],
   "source": [
    "w2i = {w:ws.index(w) for w in ws}"
   ]
  },
  {
   "cell_type": "code",
   "execution_count": 52,
   "metadata": {},
   "outputs": [],
   "source": [
    "mat = np.zeros( ( len(ys), len(ws) ) )\n",
    "for si,s in enumerate(wsets):\n",
    "    for w in s:\n",
    "        mat[ si, w2i[w] ] = 1"
   ]
  },
  {
   "cell_type": "code",
   "execution_count": 53,
   "metadata": {},
   "outputs": [
    {
     "data": {
      "text/plain": [
       "Text(0.5, 1.0, 'behavior')"
      ]
     },
     "execution_count": 53,
     "metadata": {},
     "output_type": "execute_result"
    },
    {
     "data": {
      "image/png": "[encoded data removed]",
      "text/plain": [
       "<Figure size 720x720 with 1 Axes>"
      ]
     },
     "metadata": {
      "needs_background": "light"
     },
     "output_type": "display_data"
    }
   ],
   "source": [
    "plt.figure(figsize=(10,10))\n",
    "plt.imshow(mat, interpolation='none', aspect='auto')\n",
    "plt.ylabel('year')\n",
    "plt.yticks(\n",
    "    range(0,mat.shape[0],10),\n",
    "    ys[::10]\n",
    ");\n",
    "plt.title(focal)"
   ]
  },
  {
   "cell_type": "code",
   "execution_count": 56,
   "metadata": {},
   "outputs": [],
   "source": [
    "from sklearn.metrics.pairwise import euclidean_distances"
   ]
  },
  {
   "cell_type": "code",
   "execution_count": 167,
   "metadata": {},
   "outputs": [],
   "source": [
    "ws = set()\n",
    "wsets = []\n",
    "for ti,t in enumerate(tn):\n",
    "    myws = [w for i,w in enumerate(cc_soc.terms) if 0 < np.abs( t[i] ) < 0.001]\n",
    "    wsets.append(myws)\n",
    "    \n",
    "    ws.update(myws)\n",
    "ws = sorted(ws)\n",
    "\n",
    "w2i = {w:ws.index(w) for w in ws}"
   ]
  },
  {
   "cell_type": "code",
   "execution_count": 206,
   "metadata": {},
   "outputs": [],
   "source": [
    "mat = np.zeros( ( len(ys), len(ws) ) )\n",
    "for si,s in enumerate(wsets):\n",
    "    for w in s:\n",
    "        mat[ si, w2i[w] ] = tn[ si ][ cc_soc.terms.index(w) ]"
   ]
  },
  {
   "cell_type": "code",
   "execution_count": 207,
   "metadata": {},
   "outputs": [],
   "source": [
    "mat = mat / mat.max()"
   ]
  },
  {
   "cell_type": "code",
   "execution_count": 208,
   "metadata": {},
   "outputs": [
    {
     "name": "stderr",
     "output_type": "stream",
     "text": [
      "c:\\users\\amcga\\envs\\citation-deaths\\lib\\site-packages\\ipykernel_launcher.py:1: RuntimeWarning: divide by zero encountered in log\n",
      "  \"\"\"Entry point for launching an IPython kernel.\n"
     ]
    }
   ],
   "source": [
    "mat = -np.log( mat )"
   ]
  },
  {
   "cell_type": "code",
   "execution_count": 209,
   "metadata": {},
   "outputs": [],
   "source": [
    "#mat[np.isinf(mat)] = mat[~np.isinf(mat)].max()\n",
    "mat[np.isinf(mat)] = 0"
   ]
  },
  {
   "cell_type": "code",
   "execution_count": 210,
   "metadata": {},
   "outputs": [
    {
     "data": {
      "text/plain": [
       "(array([1.3667e+04, 3.2500e+02, 9.8000e+01, 5.6000e+01, 1.8000e+01,\n",
       "        7.0000e+00, 6.0000e+00, 9.0000e+00, 5.0000e+00, 9.0000e+00]),\n",
       " array([  0.        ,  68.57660463, 137.15320926, 205.72981389,\n",
       "        274.30641852, 342.88302316, 411.45962779, 480.03623242,\n",
       "        548.61283705, 617.18944168, 685.76604631]),\n",
       " <a list of 10 Patch objects>)"
      ]
     },
     "execution_count": 210,
     "metadata": {},
     "output_type": "execute_result"
    },
    {
     "data": {
      "image/png": "[encoded data removed]",
      "text/plain": [
       "<Figure size 432x288 with 1 Axes>"
      ]
     },
     "metadata": {
      "needs_background": "light"
     },
     "output_type": "display_data"
    }
   ],
   "source": [
    "plt.hist(mat.flatten())"
   ]
  },
  {
   "cell_type": "code",
   "execution_count": 211,
   "metadata": {},
   "outputs": [],
   "source": [
    "d = euclidean_distances(mat.T)"
   ]
  },
  {
   "cell_type": "code",
   "execution_count": 212,
   "metadata": {},
   "outputs": [
    {
     "data": {
      "text/plain": [
       "(142, 142)"
      ]
     },
     "execution_count": 212,
     "metadata": {},
     "output_type": "execute_result"
    }
   ],
   "source": [
    "d.shape"
   ]
  },
  {
   "cell_type": "code",
   "execution_count": 213,
   "metadata": {},
   "outputs": [],
   "source": [
    "# reorder intelligently\n",
    "order = [0]\n",
    "\n",
    "while len(order) < mat.shape[1]:\n",
    "    last = order[-1]\n",
    "    sorts = list(np.argsort( d[order] ).flatten())\n",
    "    cand = [x for x in sorts if x!=last and x not in order]\n",
    "    order.append(cand[0])"
   ]
  },
  {
   "cell_type": "code",
   "execution_count": 214,
   "metadata": {},
   "outputs": [
    {
     "data": {
      "text/plain": [
       "(100, 142)"
      ]
     },
     "execution_count": 214,
     "metadata": {},
     "output_type": "execute_result"
    }
   ],
   "source": [
    "mat.shape"
   ]
  },
  {
   "cell_type": "code",
   "execution_count": 215,
   "metadata": {},
   "outputs": [],
   "source": [
    "mat_sort = mat[:, order]"
   ]
  },
  {
   "cell_type": "code",
   "execution_count": 216,
   "metadata": {},
   "outputs": [
    {
     "data": {
      "text/plain": [
       "<matplotlib.colorbar.Colorbar at 0x2a68144a988>"
      ]
     },
     "execution_count": 216,
     "metadata": {},
     "output_type": "execute_result"
    },
    {
     "data": {
      "image/png": "[encoded data removed]",
      "text/plain": [
       "<Figure size 2160x720 with 2 Axes>"
      ]
     },
     "metadata": {
      "needs_background": "light"
     },
     "output_type": "display_data"
    }
   ],
   "source": [
    "plt.figure(figsize=(30,10))\n",
    "\n",
    "plt.imshow(mat_sort, interpolation='none', aspect='auto')\n",
    "plt.ylabel('year')\n",
    "plt.yticks(\n",
    "    range(0,mat_sort.shape[0],10),\n",
    "    ys[::10]\n",
    ");\n",
    "plt.xticks(\n",
    "    range(mat.shape[1]),\n",
    "    [ws[order[i]] for i in range(mat.shape[1])],\n",
    "    rotation=90,\n",
    "    fontsize=10\n",
    ");\n",
    "plt.title(focal)\n",
    "plt.colorbar()"
   ]
  },
  {
   "cell_type": "code",
   "execution_count": 217,
   "metadata": {},
   "outputs": [
    {
     "data": {
      "text/plain": [
       "(1, 8, 5)"
      ]
     },
     "execution_count": 217,
     "metadata": {},
     "output_type": "execute_result"
    }
   ],
   "source": [
    "(\n",
    "    np.sum( [cc_soc(t1='behavior', t2='attitudes', fy=YY) for YY in range(YMIN,YMIN+YWINDOW) ]),\n",
    "    np.sum( [cc_soc(t='behavior', fy=YY) for YY in range(YMIN,YMIN+YWINDOW) ]),\n",
    "    np.sum( [cc_soc(t='attitudes', fy=YY) for YY in range(YMIN,YMIN+YWINDOW)] )\n",
    ")"
   ]
  },
  {
   "cell_type": "code",
   "execution_count": 55,
   "metadata": {},
   "outputs": [
    {
     "data": {
      "text/plain": [
       "99"
      ]
     },
     "execution_count": 55,
     "metadata": {},
     "output_type": "execute_result"
    }
   ],
   "source": [
    "yi"
   ]
  },
  {
   "cell_type": "code",
   "execution_count": 40,
   "metadata": {},
   "outputs": [
    {
     "name": "stderr",
     "output_type": "stream",
     "text": [
      "c:\\users\\amcga\\envs\\citation-deaths\\lib\\site-packages\\ipykernel_launcher.py:11: RuntimeWarning: invalid value encountered in log\n",
      "  # This is added back by InteractiveShellApp.init_path()\n"
     ]
    }
   ],
   "source": [
    "with open(f'chi2.temp.focal-{focal}.soc.csv', 'w', encoding='utf8') as outf:\n",
    "    w = csv.writer(outf)\n",
    "    w.writerow([ 't1','t2','p', 'neglogp', 'sign','y_start','y_end'])\n",
    "    for YS in range(YMIN,YMAX,YSTEP):\n",
    "        yi = (YS-YMIN)//YSTEP\n",
    "        for ti,t in enumerate(cc_soc.terms):\n",
    "            pvalue = tn[yi][ti]\n",
    "            if not( 0 < np.abs(pvalue) < 0.00000000001 ):\n",
    "                continue\n",
    "                \n",
    "            w.writerow([focal, t, pvalue, -np.log(pvalue*1e6), int(np.sign(pvalue)), YS, YS+YWINDOW])"
   ]
  }
 ],
 "metadata": {
  "kernelspec": {
   "display_name": "Python 3",
   "language": "python",
   "name": "python3"
  },
  "language_info": {
   "codemirror_mode": {
    "name": "ipython",
    "version": 3
   },
   "file_extension": ".py",
   "mimetype": "text/x-python",
   "name": "python",
   "nbconvert_exporter": "python",
   "pygments_lexer": "ipython3",
   "version": "3.7.5"
  }
 },
 "nbformat": 4,
 "nbformat_minor": 4
}
