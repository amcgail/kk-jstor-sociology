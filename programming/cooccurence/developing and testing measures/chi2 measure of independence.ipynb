{
 "cells": [
  {
   "cell_type": "code",
   "execution_count": 5,
   "metadata": {},
   "outputs": [
    {
     "name": "stdout",
     "output_type": "stream",
     "text": [
      "Loading ../../counting/wos-soc-limitedtitles-cooc from disk...\n",
      "Loading ../../counting/wos-econ-limitedtitles-cooc from disk...\n",
      "1000 1000 terms from soc, econ\n"
     ]
    }
   ],
   "source": [
    "from temporal_networks import *"
   ]
  },
  {
   "cell_type": "code",
   "execution_count": 6,
   "metadata": {},
   "outputs": [],
   "source": [
    "YWINDOW = 5\n",
    "YSTEP = 5"
   ]
  },
  {
   "cell_type": "code",
   "execution_count": 7,
   "metadata": {},
   "outputs": [],
   "source": [
    "\"\"\"\n",
    "Pearson, Karl. “On the criterion that a given system of deviations from the probable in the case of a correlated system of variables is such that it can be reasonably supposed to have arisen from random sampling”, Philosophical Magazine. Series 5. 50 (1900), pp. 157-175.\n",
    "\n",
    "According to [3], the total number of samples is recommended to be greater than 13, \n",
    "    otherwise exact tests (such as Barnard’s Exact test) should be used because they do not overreject.\n",
    "\"\"\";"
   ]
  },
  {
   "cell_type": "code",
   "execution_count": 8,
   "metadata": {},
   "outputs": [],
   "source": [
    "from scipy.stats import chisquare\n",
    "from scipy.stats import chi2_contingency"
   ]
  },
  {
   "cell_type": "code",
   "execution_count": 9,
   "metadata": {},
   "outputs": [],
   "source": [
    "# contingency and expected table\n",
    "def chi_stat(counter, t1, t2, yfrom, yto):\n",
    "    \n",
    "    ys = range(yfrom, yto)\n",
    "    total = sum( counter(fy=y) for y in ys ) # accounting for undirected nature...\n",
    "    \n",
    "    ca = sum( counter(t=t1, fy=y) for y in ys ) # count of t1\n",
    "    cb = sum( counter(t=t2, fy=y) for y in ys ) # count of t2\n",
    "    cab = sum( counter(t1=t1, t2=t2, fy=y) for y in ys ) # count of them appearing together\n",
    "    \n",
    "    contingency = np.array([ \n",
    "        [cab, ca - cab],\n",
    "        [cb - cab, total-(ca+cb)+cab]\n",
    "    ])\n",
    "    \n",
    "    if np.any(contingency < 5):\n",
    "        return +1.33\n",
    "    \n",
    "    if False:\n",
    "        # I got different answers than chi2_contingency.\n",
    "        # should check this method carefully before proceeding\n",
    "\n",
    "        r = contingency.sum(axis=1)\n",
    "        c = contingency.sum(axis=0)\n",
    "        N = np.sum(r+c)\n",
    "\n",
    "        expected = np.array([\n",
    "            [ r[0]*c[0]/(N/2), r[0]*c[1]/(N/2) ],\n",
    "            [ r[1]*c[0]/(N/2), r[1]*c[1]/(N/2) ]\n",
    "        ])\n",
    "        \n",
    "        return np.sum( np.power(contingency - expected, 2) / expected )\n",
    "    \n",
    "    chi2, p, dof, expected = chi2_contingency(contingency)\n",
    "    \n",
    "    diff = contingency / expected\n",
    "    if diff[0,0] > diff[1,1]:\n",
    "        sgn = +1 # together\n",
    "    else:\n",
    "        sgn = -1 # apart\n",
    "    \n",
    "    return sgn*p"
   ]
  },
  {
   "cell_type": "code",
   "execution_count": 10,
   "metadata": {},
   "outputs": [],
   "source": [
    "def get_tnets( counter, focal ):\n",
    "    rels_l = []\n",
    "    for YY in range(YMIN, YMAX, YSTEP):\n",
    "        myrels = [ chi_stat(counter, focal, term, YY, YY+YWINDOW) for term in counter.terms ]\n",
    "        rels_l.append(myrels)\n",
    "        \n",
    "    return [np.array(x) for x in rels_l]"
   ]
  },
  {
   "cell_type": "code",
   "execution_count": 16,
   "metadata": {},
   "outputs": [],
   "source": [
    "focal = 'behavior'"
   ]
  },
  {
   "cell_type": "code",
   "execution_count": 17,
   "metadata": {},
   "outputs": [],
   "source": [
    "tn = get_tnets(cc_soc, focal)"
   ]
  },
  {
   "cell_type": "code",
   "execution_count": 18,
   "metadata": {},
   "outputs": [],
   "source": [
    "tns = np.concatenate(tn)"
   ]
  },
  {
   "cell_type": "code",
   "execution_count": 19,
   "metadata": {},
   "outputs": [
    {
     "data": {
      "image/png": "[encoded data removed]",
      "text/plain": [
       "<Figure size 432x288 with 1 Axes>"
      ]
     },
     "metadata": {
      "needs_background": "light"
     },
     "output_type": "display_data"
    }
   ],
   "source": [
    "plt.hist(tns[np.abs(tns) < 0.01], bins=50);"
   ]
  },
  {
   "cell_type": "code",
   "execution_count": 20,
   "metadata": {},
   "outputs": [
    {
     "name": "stdout",
     "output_type": "stream",
     "text": [
      "1920 - 1925\n",
      "\n",
      "\n",
      "1925 - 1930\n",
      "\n",
      "\n",
      "1930 - 1935\n",
      "\n",
      "\n",
      "1935 - 1940\n",
      "\n",
      "\n",
      "1940 - 1945\n",
      "\n",
      "\n",
      "1945 - 1950\n",
      "\n",
      "\n",
      "1950 - 1955\n",
      "\n",
      "\n",
      "1955 - 1960\n",
      "\n",
      "\n",
      "1960 - 1965\n",
      "attitudes\n",
      "\n",
      "1965 - 1970\n",
      "attitudes, religious, sexual\n",
      "\n",
      "1970 - 1975\n",
      "adolescent, attitude, attitudes, health, model, parental, political, process, religious, sexual\n",
      "\n",
      "1975 - 1980\n",
      "attitude, attitudes, determinants, leadership, organizational, perceived, sexual, versus\n",
      "\n",
      "1980 - 1985\n",
      "analysis, attitude, children, effect, effects, influence, model, organizational, relationship, research, sexual, social, voting\n",
      "\n",
      "1985 - 1990\n",
      "adolescent, analysis, attitudes, control, determinants, effects, group, groups, influence, marriage, model, organizational, parental, premarital, relationship, role, sexual, social, students, theory\n",
      "\n",
      "1990 - 1995\n",
      "adolescent, attitudes, children, determinants, effects, employment, maternal, model, mothers, parenting, relationship, risk, social, young\n",
      "\n",
      "1995 - 2000\n",
      "citizenship, organizational, religious, risk, sexual, women\n",
      "\n",
      "2000 - 2005\n",
      "adolescent, family, problem, relationship, role, sexual\n",
      "\n",
      "2005 - 2010\n",
      "adolescent, adolescents, african, attitudes, children, early, economic, effects, influence, orientation, parental, performance, religious, role, sexual, social, understanding\n",
      "\n",
      "2010 - 2015\n",
      "between, child, children, effects, health, identity, problems, relationship, relationships, risk, role, school, sexual, social, status, violence, voting\n",
      "\n",
      "2015 - 2020\n",
      "\n",
      "\n"
     ]
    }
   ],
   "source": [
    "for ti,t in enumerate(tn):\n",
    "    print( YMIN + ti*YSTEP, \"-\", YMIN + ti*YSTEP + YWINDOW )\n",
    "    #print(\", \".join( [w for i,w in enumerate(cc_soc.terms) if 0 > t[i] > -0.00000000001] ))\n",
    "    print(\", \".join( [w for i,w in enumerate(cc_soc.terms) if 0 < t[i] < 0.00000000001] ))\n",
    "    print()"
   ]
  },
  {
   "cell_type": "code",
   "execution_count": null,
   "metadata": {},
   "outputs": [],
   "source": [
    "ws = set()\n",
    "wsets = []\n",
    "for ti,t in enumerate(tn):\n",
    "    myws = [w for i,w in enumerate(cc_soc.terms) if 0 < np.abs( t[i] ) < 0.000001]\n",
    "    wsets.append(myws)\n",
    "    \n",
    "    ws.update(myws)"
   ]
  },
  {
   "cell_type": "code",
   "execution_count": null,
   "metadata": {},
   "outputs": [],
   "source": [
    "ws = sorted(ws)"
   ]
  },
  {
   "cell_type": "code",
   "execution_count": null,
   "metadata": {},
   "outputs": [],
   "source": [
    "ys = list(range(YMIN,YMAX,YSTEP))"
   ]
  },
  {
   "cell_type": "code",
   "execution_count": null,
   "metadata": {},
   "outputs": [],
   "source": [
    "w2i = {w:ws.index(w) for w in ws}"
   ]
  },
  {
   "cell_type": "code",
   "execution_count": null,
   "metadata": {},
   "outputs": [],
   "source": [
    "mat = np.zeros( ( len(ys), len(ws) ) )\n",
    "for si,s in enumerate(wsets):\n",
    "    for w in s:\n",
    "        mat[ si, w2i[w] ] = 1"
   ]
  },
  {
   "cell_type": "code",
   "execution_count": 26,
   "metadata": {},
   "outputs": [
    {
     "data": {
      "text/plain": [
       "Text(0.5, 1.0, 'behavior')"
      ]
     },
     "execution_count": 26,
     "metadata": {},
     "output_type": "execute_result"
    },
    {
     "data": {
      "image/png": "[encoded data removed]",
      "text/plain": [
       "<Figure size 720x720 with 1 Axes>"
      ]
     },
     "metadata": {
      "needs_background": "light"
     },
     "output_type": "display_data"
    }
   ],
   "source": [
    "plt.figure(figsize=(10,10))\n",
    "plt.imshow(mat, interpolation='none', aspect='auto')\n",
    "plt.ylabel('year')\n",
    "plt.yticks(\n",
    "    range(0,mat.shape[0],10),\n",
    "    ys[::10]\n",
    ");\n",
    "plt.title(focal)"
   ]
  },
  {
   "cell_type": "code",
   "execution_count": 27,
   "metadata": {},
   "outputs": [],
   "source": [
    "from sklearn.metrics.pairwise import euclidean_distances"
   ]
  },
  {
   "cell_type": "code",
   "execution_count": 28,
   "metadata": {},
   "outputs": [],
   "source": [
    "ws = set()\n",
    "wsets = []\n",
    "for ti,t in enumerate(tn):\n",
    "    myws = [w for i,w in enumerate(cc_soc.terms) if 0 < np.abs( t[i] ) < 0.001]\n",
    "    wsets.append(myws)\n",
    "    \n",
    "    ws.update(myws)\n",
    "ws = sorted(ws)\n",
    "\n",
    "w2i = {w:ws.index(w) for w in ws}"
   ]
  },
  {
   "cell_type": "code",
   "execution_count": 49,
   "metadata": {},
   "outputs": [],
   "source": [
    "mat = np.zeros( ( len(ys), len(ws) ) )\n",
    "for si,s in enumerate(wsets):\n",
    "    for w in s:\n",
    "        mat[ si, w2i[w] ] = tn[ si ][ cc_soc.terms.index(w) ]"
   ]
  },
  {
   "cell_type": "code",
   "execution_count": 50,
   "metadata": {},
   "outputs": [],
   "source": [
    "mat = mat / mat.max()"
   ]
  },
  {
   "cell_type": "code",
   "execution_count": 31,
   "metadata": {},
   "outputs": [
    {
     "name": "stderr",
     "output_type": "stream",
     "text": [
      "/var/folders/p5/2p583dmn5fg70h33tc5c2hy80000gn/T/ipykernel_1714/1398610594.py:1: RuntimeWarning: divide by zero encountered in log\n",
      "  mat = -np.log( mat )\n"
     ]
    }
   ],
   "source": [
    "mat = -np.log( mat )"
   ]
  },
  {
   "cell_type": "code",
   "execution_count": 32,
   "metadata": {},
   "outputs": [],
   "source": [
    "#mat[np.isinf(mat)] = mat[~np.isinf(mat)].max()\n",
    "mat[np.isinf(mat)] = 0"
   ]
  },
  {
   "cell_type": "code",
   "execution_count": 33,
   "metadata": {},
   "outputs": [
    {
     "data": {
      "text/plain": [
       "(array([1.266e+03, 2.800e+01, 8.000e+00, 1.000e+01, 0.000e+00, 3.000e+00,\n",
       "        0.000e+00, 2.000e+00, 1.000e+00, 2.000e+00]),\n",
       " array([  0.        ,  56.45683451, 112.91366903, 169.37050354,\n",
       "        225.82733806, 282.28417257, 338.74100709, 395.1978416 ,\n",
       "        451.65467612, 508.11151063, 564.56834515]),\n",
       " <BarContainer object of 10 artists>)"
      ]
     },
     "execution_count": 33,
     "metadata": {},
     "output_type": "execute_result"
    },
    {
     "data": {
      "image/png": "[encoded data removed]",
      "text/plain": [
       "<Figure size 432x288 with 1 Axes>"
      ]
     },
     "metadata": {
      "needs_background": "light"
     },
     "output_type": "display_data"
    }
   ],
   "source": [
    "plt.hist(mat.flatten())"
   ]
  },
  {
   "cell_type": "code",
   "execution_count": 34,
   "metadata": {},
   "outputs": [],
   "source": [
    "d = euclidean_distances(mat.T)"
   ]
  },
  {
   "cell_type": "code",
   "execution_count": 35,
   "metadata": {},
   "outputs": [
    {
     "data": {
      "text/plain": [
       "(66, 66)"
      ]
     },
     "execution_count": 35,
     "metadata": {},
     "output_type": "execute_result"
    }
   ],
   "source": [
    "d.shape"
   ]
  },
  {
   "cell_type": "code",
   "execution_count": 36,
   "metadata": {},
   "outputs": [],
   "source": [
    "# reorder intelligently\n",
    "order = [0]\n",
    "\n",
    "while len(order) < mat.shape[1]:\n",
    "    last = order[-1]\n",
    "    sorts = list(np.argsort( d[order] ).flatten())\n",
    "    cand = [x for x in sorts if x!=last and x not in order]\n",
    "    order.append(cand[0])"
   ]
  },
  {
   "cell_type": "code",
   "execution_count": 37,
   "metadata": {},
   "outputs": [
    {
     "data": {
      "text/plain": [
       "(20, 66)"
      ]
     },
     "execution_count": 37,
     "metadata": {},
     "output_type": "execute_result"
    }
   ],
   "source": [
    "mat.shape"
   ]
  },
  {
   "cell_type": "code",
   "execution_count": 38,
   "metadata": {},
   "outputs": [],
   "source": [
    "mat_sort = mat[:, order]"
   ]
  },
  {
   "cell_type": "code",
   "execution_count": 39,
   "metadata": {},
   "outputs": [
    {
     "data": {
      "text/plain": [
       "<matplotlib.colorbar.Colorbar at 0x150228cd0>"
      ]
     },
     "execution_count": 39,
     "metadata": {},
     "output_type": "execute_result"
    },
    {
     "data": {
      "image/png": "[encoded data removed]",
      "text/plain": [
       "<Figure size 2160x720 with 2 Axes>"
      ]
     },
     "metadata": {
      "needs_background": "light"
     },
     "output_type": "display_data"
    }
   ],
   "source": [
    "plt.figure(figsize=(30,10))\n",
    "\n",
    "plt.imshow(mat_sort, interpolation='none', aspect='auto')\n",
    "plt.ylabel('year')\n",
    "plt.yticks(\n",
    "    range(0,mat_sort.shape[0],10),\n",
    "    ys[::10]\n",
    ");\n",
    "plt.xticks(\n",
    "    range(mat.shape[1]),\n",
    "    [ws[order[i]] for i in range(mat.shape[1])],\n",
    "    rotation=90,\n",
    "    fontsize=10\n",
    ");\n",
    "plt.title(focal)\n",
    "plt.colorbar()"
   ]
  },
  {
   "cell_type": "code",
   "execution_count": 40,
   "metadata": {},
   "outputs": [
    {
     "data": {
      "text/plain": [
       "(0, 4, 0)"
      ]
     },
     "execution_count": 40,
     "metadata": {},
     "output_type": "execute_result"
    }
   ],
   "source": [
    "(\n",
    "    np.sum( [cc_soc(t1='behavior', t2='attitudes', fy=YY) for YY in range(YMIN,YMIN+YWINDOW) ]),\n",
    "    np.sum( [cc_soc(t='behavior', fy=YY) for YY in range(YMIN,YMIN+YWINDOW) ]),\n",
    "    np.sum( [cc_soc(t='attitudes', fy=YY) for YY in range(YMIN,YMIN+YWINDOW)] )\n",
    ")"
   ]
  },
  {
   "cell_type": "code",
   "execution_count": 42,
   "metadata": {},
   "outputs": [],
   "source": [
    "with open(f'chi2.temp.focal-{focal}.soc.csv', 'w', encoding='utf8') as outf:\n",
    "    w = csv.writer(outf)\n",
    "    w.writerow([ 't1','t2','p', 'neglogp', 'sign','y_start','y_end'])\n",
    "    for YS in range(YMIN,YMAX,YSTEP):\n",
    "        yi = (YS-YMIN)//YSTEP\n",
    "        for ti,t in enumerate(cc_soc.terms):\n",
    "            pvalue = tn[yi][ti]\n",
    "            if not( 0 < np.abs(pvalue) < 0.00000000001 ):\n",
    "                continue\n",
    "                \n",
    "            w.writerow([focal, t, pvalue, -np.log(pvalue*1e6), int(np.sign(pvalue)), YS, YS+YWINDOW])"
   ]
  }
 ],
 "metadata": {
  "kernelspec": {
   "display_name": "Python 3 (ipykernel)",
   "language": "python",
   "name": "python3"
  },
  "language_info": {
   "codemirror_mode": {
    "name": "ipython",
    "version": 3
   },
   "file_extension": ".py",
   "mimetype": "text/x-python",
   "name": "python",
   "nbconvert_exporter": "python",
   "pygments_lexer": "ipython3",
   "version": "3.8.9"
  }
 },
 "nbformat": 4,
 "nbformat_minor": 4
}
