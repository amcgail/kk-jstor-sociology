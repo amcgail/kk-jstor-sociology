{
 "cells": [
  {
   "cell_type": "code",
   "execution_count": null,
   "id": "01778c02-ba68-41b5-aa3b-c5846cd466b3",
   "metadata": {},
   "outputs": [],
   "source": [
    "# the goal is a systematic comparison of the two disciplines.\n",
    "# how do their concepts' connections influence the others'\n",
    "# this is impossible, but we can get descriptives that at least get close"
   ]
  }
 ],
 "metadata": {
  "kernelspec": {
   "display_name": "Python 3 (ipykernel)",
   "language": "python",
   "name": "python3"
  },
  "language_info": {
   "codemirror_mode": {
    "name": "ipython",
    "version": 3
   },
   "file_extension": ".py",
   "mimetype": "text/x-python",
   "name": "python",
   "nbconvert_exporter": "python",
   "pygments_lexer": "ipython3",
   "version": "3.8.9"
  }
 },
 "nbformat": 4,
 "nbformat_minor": 5
}
