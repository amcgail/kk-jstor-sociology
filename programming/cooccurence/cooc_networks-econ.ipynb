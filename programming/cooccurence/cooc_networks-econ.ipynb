{
 "cells": [
  {
   "cell_type": "code",
   "execution_count": 6,
   "metadata": {
    "ExecuteTime": {
     "end_time": "2021-11-26T18:42:22.966960Z",
     "start_time": "2021-11-26T18:42:22.942028Z"
    }
   },
   "outputs": [
    {
     "ename": "SyntaxError",
     "evalue": "invalid syntax (counter.py, line 223)",
     "output_type": "error",
     "traceback": [
      "Traceback \u001b[1;36m(most recent call last)\u001b[0m:\n",
      "  File \u001b[0;32m\"C:\\Users\\benja\\miniconda3\\lib\\site-packages\\IPython\\core\\interactiveshell.py\"\u001b[0m, line \u001b[0;32m3437\u001b[0m, in \u001b[0;35mrun_code\u001b[0m\n    exec(code_obj, self.user_global_ns, self.user_ns)\n",
      "\u001b[1;36m  File \u001b[1;32m\"<ipython-input-6-fd334234b450>\"\u001b[1;36m, line \u001b[1;32m3\u001b[1;36m, in \u001b[1;35m<module>\u001b[1;36m\u001b[0m\n\u001b[1;33m    from counter import counter\u001b[0m\n",
      "\u001b[1;36m  File \u001b[1;32m\"C:\\Users\\benja\\miniconda3\\lib\\site-packages\\counter.py\"\u001b[1;36m, line \u001b[1;32m223\u001b[0m\n\u001b[1;33m    print doctest.testmod()\u001b[0m\n\u001b[1;37m          ^\u001b[0m\n\u001b[1;31mSyntaxError\u001b[0m\u001b[1;31m:\u001b[0m invalid syntax\n"
     ]
    }
   ],
   "source": [
    "import sys\n",
    "sys.path.append(\"./../helper/\") \n",
    "from counter import counter\n",
    "from common_imports import *\n",
    "from helpers import *\n",
    "import numpy as np\n",
    "from matplotlib import pyplot as plt"
   ]
  },
  {
   "cell_type": "code",
   "execution_count": 10,
   "metadata": {
    "ExecuteTime": {
     "end_time": "2021-11-26T18:43:14.399911Z",
     "start_time": "2021-11-26T18:43:14.348783Z"
    }
   },
   "outputs": [
    {
     "name": "stdout",
     "output_type": "stream",
     "text": [
      " Volume in drive C is OS\n",
      " Volume Serial Number is 6826-13B5\n",
      "\n",
      " Directory of C:\\Users\\benja\\OneDrive - Cornell University\\GitHub\\kk-jstor-sociology\\programming\n",
      "\n",
      "11/26/2021  01:36 PM    <DIR>          .\n",
      "11/26/2021  01:36 PM    <DIR>          ..\n",
      "10/30/2021  04:22 PM                68 .gitattributes\n",
      "10/30/2021  04:22 PM                58 .gitignore\n",
      "11/18/2021  04:00 PM    <DIR>          .ipynb_checkpoints\n",
      "11/01/2021  01:04 PM    <DIR>          __pycache__\n",
      "10/30/2021  04:22 PM    <DIR>          backup\n",
      "11/26/2021  01:42 PM    <DIR>          cooccurence\n",
      "11/26/2021  01:34 PM    <DIR>          counting\n",
      "11/26/2021  12:35 PM    <DIR>          data\n",
      "11/26/2021  01:37 PM    <DIR>          data-created\n",
      "11/26/2021  01:41 PM    <DIR>          helper\n",
      "11/15/2021  12:42 PM    <DIR>          termtrends\n",
      "11/13/2021  01:57 PM    <DIR>          topicmodel\n",
      "               2 File(s)            126 bytes\n",
      "              12 Dir(s)  280,458,661,888 bytes free\n"
     ]
    }
   ],
   "source": [
    "ls"
   ]
  },
  {
   "cell_type": "markdown",
   "metadata": {
    "ExecuteTime": {
     "end_time": "2021-11-26T18:16:50.006554Z",
     "start_time": "2021-11-26T18:16:49.997577Z"
    }
   },
   "source": [
    "### Load co-occurence counts"
   ]
  },
  {
   "cell_type": "code",
   "execution_count": 17,
   "metadata": {
    "ExecuteTime": {
     "end_time": "2021-11-26T18:31:08.560814Z",
     "start_time": "2021-11-26T18:31:08.542863Z"
    }
   },
   "outputs": [
    {
     "name": "stdout",
     "output_type": "stream",
     "text": [
      "Blank counter with name wos-econ-20k-titles-limited-cooc.counts\n"
     ]
    }
   ],
   "source": [
    "cc = counter('wos-econ-20k-titles-limited-cooc.counts')"
   ]
  },
  {
   "cell_type": "code",
   "execution_count": 18,
   "metadata": {
    "ExecuteTime": {
     "end_time": "2021-11-26T18:31:10.049029Z",
     "start_time": "2021-11-26T18:31:10.023100Z"
    }
   },
   "outputs": [
    {
     "ename": "KeyError",
     "evalue": "'t'",
     "output_type": "error",
     "traceback": [
      "\u001b[1;31m---------------------------------------------------------------------------\u001b[0m",
      "\u001b[1;31mKeyError\u001b[0m                                  Traceback (most recent call last)",
      "\u001b[1;32m<ipython-input-18-69bb637b58c3>\u001b[0m in \u001b[0;36m<module>\u001b[1;34m\u001b[0m\n\u001b[1;32m----> 1\u001b[1;33m \u001b[0mlen\u001b[0m\u001b[1;33m(\u001b[0m\u001b[0mcc\u001b[0m\u001b[1;33m.\u001b[0m\u001b[0mitems\u001b[0m\u001b[1;33m(\u001b[0m\u001b[1;34m't'\u001b[0m\u001b[1;33m)\u001b[0m\u001b[1;33m)\u001b[0m\u001b[1;33m\u001b[0m\u001b[1;33m\u001b[0m\u001b[0m\n\u001b[0m",
      "\u001b[1;32m~\\OneDrive - Cornell University\\GitHub\\kk-jstor-sociology\\cooccurence\\counter.py\u001b[0m in \u001b[0;36mitems\u001b[1;34m(self, typ)\u001b[0m\n",
      "\u001b[1;31mKeyError\u001b[0m: 't'"
     ]
    }
   ],
   "source": [
    "len(cc.items('t'))"
   ]
  },
  {
   "cell_type": "markdown",
   "metadata": {},
   "source": [
    "# the math"
   ]
  },
  {
   "cell_type": "markdown",
   "metadata": {},
   "source": [
    "$$ \\frac{ \\text{count-t}(a) }{ \\sum \\text{count-t}(a) } = 1 $$\n",
    "$$ \\sum_b{ \\text{count-t.t}(a,b) } = 5 \\sum \\text{count-t}(a) $$\n",
    "\n",
    "$$ P( \\text{b shows up after a} ) = 1 - \\prod_N{ \\left[ 1 - P( w_{j+N} = b | w_j = a ) \\right] } $$\n",
    "\n",
    "$$ P( w_{j+N} = b | w_j = a ) = ?? $$\n",
    "\n",
    "$$ \\frac{ \\text{count-t.t}(a,b) }{ \\text{count-t}(a) } = \\sum_{N=1}^5 P( w_{j+N} = b | w_j = a ) \\in [0, 5] $$"
   ]
  },
  {
   "cell_type": "markdown",
   "metadata": {},
   "source": [
    "Now I want to measure how surprising a given connection is compared to the individual propensities.\n",
    "Something similar to // independence indicates that\n",
    "\n",
    "$$P(A \\& B) = P(A) * P(B|A) = P(A) * P(B)$$\n",
    "\n",
    "Where the last equality expresses the independence assumption. The extent to which the leftmost and rightmost quantities differ is a good measure for the relevance of a single tie between events.\n",
    "So, assume $a$ and $b$ are independent events. From above we know that\n",
    "\n",
    "$$P(a \\to b) = \\prod_N{ \\left[ 1 - P( w_{j+N} = b | w_j = a ) \\right] }$$\n",
    "\n",
    "And by independence this is just\n",
    "\n",
    "$$ \\prod_N{ \\left[ 1 - P( w_{j+N} = b ) \\right] } $$\n",
    "\n",
    "$$ P( w_{j+N} = b ) = \\text{count-t}(b) * 5 $$"
   ]
  },
  {
   "cell_type": "markdown",
   "metadata": {},
   "source": [
    "So we almost get what we want... Let's try another combo of formulas...\n",
    "\n",
    "$$ \\frac{ \\text{count-t.t}(a,b) }{ \\text{count-t}(a) } = \\sum_{N=1}^5 P( w_{j+N} = b | w_j = a ) $$\n",
    "$$ = \\sum_{N=1}^5 P( w_{j+N} = b ) = \\sum_{N=1}^5 \\frac{ \\text{count-t}(b) }{ \\sum_b{\\text{count-t}(b)} } = \\frac{ 5 * \\text{count-t}(b) }{ \\sum_b{\\text{count-t}(b)} }  $$\n",
    "\n",
    "By this math the relevant ratio is\n",
    "\n",
    "$$ \\frac{ \\text{count-t.t}(a,b) * \\sum_b{\\text{count-t}(b)} }{ \\text{count-t}(a) * \\text{count-t}(b) } = 5 $$"
   ]
  },
  {
   "cell_type": "markdown",
   "metadata": {},
   "source": [
    "# generate the network"
   ]
  },
  {
   "cell_type": "code",
   "execution_count": 5,
   "metadata": {},
   "outputs": [
    {
     "data": {
      "text/plain": [
       "dict_keys([('fy', 't'), ('fj', 't'), ('fy',), ('t',), ('fj',), ('t1', 't2'), ('fy', 't1', 't2')])"
      ]
     },
     "execution_count": 5,
     "metadata": {},
     "output_type": "execute_result"
    }
   ],
   "source": [
    "cc.counts.keys()"
   ]
  },
  {
   "cell_type": "code",
   "execution_count": 6,
   "metadata": {},
   "outputs": [],
   "source": [
    "tot = cc.counts[('t',)].sum()\n",
    "terms = cc.items('t')"
   ]
  },
  {
   "cell_type": "code",
   "execution_count": 7,
   "metadata": {},
   "outputs": [],
   "source": [
    "rats = []\n",
    "pairs = []\n",
    "\n",
    "for t1 in terms:\n",
    "    for t2 in terms:\n",
    "        if t1 == t2:\n",
    "            continue\n",
    "        \n",
    "        ca = cc(t=t1)\n",
    "        cb = cc(t=t2)\n",
    "        cab = cc(t1=t1, t2=t2)\n",
    "        \n",
    "        if cab < 10 or ca < 10 or cb < 10:\n",
    "            continue\n",
    "\n",
    "        rat = tot * cab / (ca * cb)\n",
    "        pairs.append( (cc.ids['t'][t1], cc.ids['t'][t2]) )\n",
    "        rats.append( rat )"
   ]
  },
  {
   "cell_type": "code",
   "execution_count": 8,
   "metadata": {},
   "outputs": [],
   "source": [
    "rats = np.array(rats)"
   ]
  },
  {
   "cell_type": "code",
   "execution_count": 9,
   "metadata": {},
   "outputs": [
    {
     "data": {
      "text/plain": [
       "(1173, 1)"
      ]
     },
     "execution_count": 9,
     "metadata": {},
     "output_type": "execute_result"
    }
   ],
   "source": [
    "np.argwhere( rats > 250 ).shape"
   ]
  },
  {
   "cell_type": "code",
   "execution_count": 10,
   "metadata": {},
   "outputs": [
    {
     "data": {
      "text/plain": [
       "(11410, 1)"
      ]
     },
     "execution_count": 10,
     "metadata": {},
     "output_type": "execute_result"
    }
   ],
   "source": [
    "np.argwhere( rats < 250 ).shape"
   ]
  },
  {
   "cell_type": "code",
   "execution_count": 11,
   "metadata": {},
   "outputs": [
    {
     "data": {
      "image/png": "[encoded data removed]",
      "text/plain": [
       "<Figure size 432x288 with 1 Axes>"
      ]
     },
     "metadata": {
      "needs_background": "light"
     },
     "output_type": "display_data"
    }
   ],
   "source": [
    "plt.hist( rats[(rats<250+400)&(rats>0)], bins=100 );"
   ]
  },
  {
   "cell_type": "code",
   "execution_count": 12,
   "metadata": {},
   "outputs": [
    {
     "data": {
      "text/plain": [
       "101.46262940701719"
      ]
     },
     "execution_count": 12,
     "metadata": {},
     "output_type": "execute_result"
    }
   ],
   "source": [
    "np.mean(rats)"
   ]
  },
  {
   "cell_type": "code",
   "execution_count": 13,
   "metadata": {},
   "outputs": [
    {
     "data": {
      "text/plain": [
       "226.89770129716564"
      ]
     },
     "execution_count": 13,
     "metadata": {},
     "output_type": "execute_result"
    }
   ],
   "source": [
    "np.quantile(rats, 0.9)"
   ]
  },
  {
   "cell_type": "code",
   "execution_count": 14,
   "metadata": {},
   "outputs": [],
   "source": [
    "from random import sample"
   ]
  },
  {
   "cell_type": "code",
   "execution_count": 15,
   "metadata": {},
   "outputs": [
    {
     "name": "stdout",
     "output_type": "stream",
     "text": [
      "('with-special', 'special', 1986.861111111111, 105, 180, 0, 1)\n",
      "('an-international', 'international-comparison', 2248.216250196448, 101, 63, 0, 1)\n",
      "('returns-to', 'to-scale', 1818.9364248317129, 191, 70, 0, 1)\n",
      "('the-business', 'business-cycle', 2218.475538389513, 89, 96, 0, 1)\n",
      "('the-future', 'future-of', 3076.430107526882, 90, 62, 1, 2)\n",
      "('nd-edition', 'edition', 2249.276729559748, 63, 159, 0, 0)\n",
      "('the-term', 'of-interestrates', 2097.565982404692, 77, 62, 0, 0)\n",
      "('applications', 'applications-to', 1986.861111111111, 180, 67, 0, 0)\n",
      "('the-present', 'present', 2055.3735632183907, 77, 174, 0, 0)\n",
      "('measure', 'measure-of', 2231.1088127134226, 162, 94, 0, 0)\n",
      "('contribution', 'contribution-to', 2572.9136690647483, 139, 64, 56, 0)\n",
      "('in-australia', 'australia', 2554.535714285714, 84, 140, 0, 0)\n",
      "('the-pricing', 'pricing-of', 2714.1941964285716, 60, 112, 0, 0)\n",
      "('time-series', 'series', 2802.8391857506363, 75, 131, 0, 0)\n",
      "('the-importance', 'importance', 2861.08, 70, 125, 0, 0)\n",
      "('economies-of', 'of-scale', 2336.3311968445705, 133, 122, 0, 0)\n",
      "('willingness-to', 'to-pay', 3744.576496327551, 79, 81, 0, 0)\n",
      "('shocks', 'shocks-and', 1843.479381443299, 194, 60, 2, 1)\n",
      "('years', 'years-of', 1928.7348552009457, 188, 72, 0, 0)\n",
      "('contingent', 'contingent-valuation', 2810.2005789909017, 130, 93, 0, 0)\n",
      "('an-introduction', 'introduction-to', 1937.031673142588, 114, 149, 0, 0)\n",
      "('of-nations', 'nations', 3271.5051975051974, 65, 111, 0, 0)\n",
      "('significance', 'significance-of', 3311.435185185185, 108, 66, 0, 0)\n",
      "('foreign-direct', 'direct-investment', 3019.87252008526, 107, 114, 1, 1)\n",
      "('provision', 'provision-of', 3406.0476190476193, 105, 69, 0, 0)\n",
      "('presence', 'presence-of', 2955.6611570247933, 121, 116, 0, 0)\n",
      "('is-there', 'there-a', 3488.833498677249, 96, 63, 0, 5)\n",
      "('impacts', 'impacts-of', 1997.9608938547485, 179, 124, 0, 0)\n",
      "('elasticity', 'elasticity-of', 2536.418439716312, 141, 106, 0, 0)\n",
      "('the-dynamics', 'dynamics-of', 2337.483660130719, 77, 153, 1, 0)\n",
      "('a-casestudy', 'casestudy', 2772.3643410852715, 82, 129, 0, 0)\n",
      "('an-empiricalanalysis', 'empiricalanalysis-of', 2602.559126743481, 97, 68, 0, 0)\n",
      "('adoption', 'adoption-of', 2544.151422764228, 144, 82, 0, 0)\n",
      "('the-financial', 'financial-crisis', 1873.7003549095825, 97, 61, 0, 0)\n",
      "('the-evolution', 'evolution-of', 1897.2679045092839, 145, 182, 0, 0)\n",
      "('approaches', 'approaches-to', 2569.358938933407, 141, 77, 0, 0)\n",
      "('a-case', 'case-study', 2034.4941080861438, 92, 107, 0, 0)\n",
      "('properties', 'properties-of', 1975.8839779005525, 181, 149, 0, 0)\n",
      "('the-nature', 'nature-and', 2029.454602774275, 104, 61, 0, 2)\n",
      "('causes', 'causes-of', 1834.025641025641, 195, 93, 0, 1)\n",
      "('importance', 'importance-of', 2861.08, 125, 112, 3, 0)\n",
      "('in-japan', 'japan', 2055.3735632183907, 85, 174, 0, 0)\n",
      "('a-casestudy', 'casestudy-of', 2907.60162601626, 82, 66, 0, 0)\n",
      "('a-critical', 'critical', 2154.4277108433735, 91, 166, 0, 0)\n",
      "('gains', 'gains-from', 2116.183431952663, 169, 77, 0, 0)\n",
      "('empiricalanalysis', 'empiricalanalysis-of', 2368.4437086092717, 151, 68, 0, 0)\n",
      "('property-rights', 'rights', 2043.6285714285714, 72, 175, 0, 0)\n",
      "('wage-differentials', 'differentials', 2360.375771769214, 61, 154, 0, 0)\n",
      "('persistence', 'persistence-of', 3221.936936936937, 111, 62, 0, 0)\n",
      "('of-payments', 'payments', 2192.3984674329504, 87, 165, 0, 0)\n",
      "('theoretical-and', 'and-empirical', 2239.4601518026566, 62, 85, 0, 0)\n",
      "('there', 'there-a', 2263.512658227848, 158, 63, 0, 2)\n",
      "('applied', 'applied-to', 2483.5763888888887, 144, 76, 3, 0)\n",
      "('diffusion', 'diffusion-of', 2020.5367231638418, 177, 89, 0, 0)\n",
      "('sources', 'sources-of', 2416.4527027027025, 148, 93, 11, 3)\n",
      "('foundations', 'foundations-of', 2931.434426229508, 122, 104, 7, 712)\n",
      "('in-south', 'south-africa', 3114.6490778688526, 64, 61, 0, 0)\n",
      "('renewable', 'renewable-energy', 2485.1142070863434, 153, 95, 0, 0)\n",
      "('nature', 'nature-and', 1790.6298958249213, 203, 61, 0, 2)\n",
      "('the-term', 'term-structure', 2628.345414275647, 77, 129, 1, 0)\n",
      "('origins', 'origins-of', 3373.9150943396226, 106, 71, 0, 0)\n",
      "('incidence', 'incidence-of', 2307.3225806451615, 155, 96, 0, 0)\n",
      "('critique', 'critique-of', 2688.9849624060153, 133, 78, 0, 1)\n",
      "('asymmetric', 'asymmetric-information', 2154.4277108433735, 166, 86, 1, 0)\n",
      "('in-relation', 'relation-to', 3193.1696428571427, 67, 112, 2, 12)\n",
      "('the-law', 'law-of', 1781.3887571157495, 102, 124, 86, 0)\n",
      "('moral', 'moral-hazard', 3251.2272727272725, 110, 70, 0, 0)\n",
      "('towards', 'towards-a', 2167.4848484848485, 165, 69, 0, 0)\n",
      "('the-rise', 'rise-of', 2906.4939682539684, 105, 75, 0, 0)\n",
      "('special', 'special-reference', 1986.861111111111, 180, 91, 0, 0)\n",
      "('in-great', 'great-britain', 2381.5871254162043, 106, 136, 0, 0)\n",
      "('the-relation', 'relation-between', 2523.163051998955, 89, 86, 0, 0)\n",
      "('examination', 'examination-of', 2838.373015873016, 126, 107, 0, 0)\n",
      "('effectiveness', 'effectiveness-of', 2794.0234375, 128, 74, 0, 0)\n",
      "('climate', 'climate-change', 2533.0623443337486, 146, 88, 0, 0)\n",
      "('developments', 'developments-in', 2649.1481481481483, 135, 83, 0, 1)\n",
      "('the-political', 'economy-of', 2123.9959871589085, 70, 89, 0, 0)\n",
      "('an-empiricalanalysis', 'empiricalanalysis', 2368.4437086092717, 97, 151, 0, 0)\n",
      "('special-reference', 'reference-to', 2751.0384615384614, 91, 130, 0, 0)\n",
      "('the-problem', 'problem-of', 2008.606710829493, 124, 168, 0, 0)\n",
      "('after', 'after-the', 1912.4866310160428, 187, 72, 4, 0)\n",
      "('the-concept', 'concept-of', 3086.38619201726, 63, 103, 0, 0)\n",
      "('the-importance', 'importance-of', 3193.1696428571427, 70, 112, 0, 0)\n",
      "('fluctuations', 'fluctuations-in', 2032.0170454545455, 176, 65, 0, 1)\n",
      "('the-size', 'size-of', 2055.3735632183907, 68, 87, 0, 0)\n",
      "('the-concept', 'concept', 1902.313829787234, 63, 188, 25, 45)\n",
      "('reference', 'reference-to', 2384.233333333333, 150, 130, 0, 1)\n",
      "('is-there', 'there', 2287.090915084388, 96, 158, 0, 1)\n",
      "('of-living', 'living', 1968.3256567391388, 137, 187, 0, 0)\n",
      "('the-presence', 'presence', 2955.6611570247933, 97, 121, 0, 0)\n",
      "('terms', 'terms-of', 3030.8050847457625, 118, 88, 0, 1)\n",
      "('casestudy', 'casestudy-of', 2772.3643410852715, 129, 66, 1, 0)\n",
      "('the-influence', 'influence-of', 2154.5467860498534, 111, 163, 2, 7)\n",
      "('the-existence', 'existence-of', 2094.259009009009, 74, 150, 1, 0)\n",
      "('to-scale', 'scale-in', 1959.6438356164383, 70, 73, 0, 0)\n",
      "('concept', 'concept-of', 1902.313829787234, 188, 103, 1, 130)\n",
      "('an-examination', 'examination-of', 3188.11933860532, 65, 107, 0, 0)\n",
      "('assessment', 'assessment-of', 1882.2894736842106, 190, 100, 0, 0)\n",
      "('with-special', 'reference', 2020.9215873015874, 105, 150, 2, 0)\n",
      "('balance-of', 'of-payments', 3092.847837985769, 105, 87, 0, 0)\n"
     ]
    }
   ],
   "source": [
    "tops = np.argwhere( rats > np.quantile(rats, 0.99) ).flatten()\n",
    "tops = list(tops)\n",
    "\n",
    "for i in sample( tops, 100 ):\n",
    "    ai, bi = pairs[i]\n",
    "    at = [x for x,i in cc.ids['t'].items() if i==ai][0]\n",
    "    bt = [x for x,i in cc.ids['t'].items() if i==bi][0]\n",
    "    \n",
    "    ac = cc.counts[('t',)][ai]\n",
    "    bc = cc.counts[('t',)][bi]\n",
    "    abc = cc.counts[('t1','t2')][(ai,bi)]\n",
    "    bac = cc.counts[('t1','t2')][(bi,ai)]\n",
    "    print( (at, bt, rats[i], ac, bc, abc, bac) )"
   ]
  },
  {
   "cell_type": "markdown",
   "metadata": {},
   "source": [
    "# dump network"
   ]
  },
  {
   "cell_type": "code",
   "execution_count": 16,
   "metadata": {},
   "outputs": [],
   "source": [
    "import networkx as nx"
   ]
  },
  {
   "cell_type": "code",
   "execution_count": 17,
   "metadata": {},
   "outputs": [
    {
     "data": {
      "text/plain": [
       "377.5702622060917"
      ]
     },
     "execution_count": 17,
     "metadata": {},
     "output_type": "execute_result"
    }
   ],
   "source": [
    "rats = np.array(rats)\n",
    "cutoff = np.quantile(rats[rats>0], 0.93)\n",
    "cutoff"
   ]
  },
  {
   "cell_type": "code",
   "execution_count": 18,
   "metadata": {},
   "outputs": [],
   "source": [
    "G = nx.DiGraph()\n",
    "\n",
    "edges = []\n",
    "\n",
    "for i, r in enumerate(rats):\n",
    "    if r < cutoff:\n",
    "        continue\n",
    "    \n",
    "    ai,bi = pairs[i]\n",
    "    at = [x for x,i in cc.ids['t'].items() if i==ai][0]\n",
    "    bt = [x for x,i in cc.ids['t'].items() if i==bi][0]\n",
    "    \n",
    "    edges.append( [at,bt,r] )\n",
    "\n",
    "G.add_weighted_edges_from(edges)"
   ]
  },
  {
   "cell_type": "code",
   "execution_count": 19,
   "metadata": {},
   "outputs": [],
   "source": [
    "edges,weights = zip(*[((e1,e2),w) for (e1,e2),w in nx.get_edge_attributes(G,'weight').items()])"
   ]
  },
  {
   "cell_type": "code",
   "execution_count": 20,
   "metadata": {},
   "outputs": [],
   "source": [
    "deg = np.array(list(x[1] for x in G.degree()))"
   ]
  },
  {
   "cell_type": "code",
   "execution_count": 21,
   "metadata": {},
   "outputs": [
    {
     "name": "stdout",
     "output_type": "stream",
     "text": [
      "(481,) (489,)\n"
     ]
    }
   ],
   "source": [
    "DEG_CUTOFF = 2\n",
    "print(\n",
    "    np.where( deg >= DEG_CUTOFF )[0].shape,\n",
    "    np.where( deg < DEG_CUTOFF )[0].shape\n",
    ")\n",
    "\n",
    "G.remove_nodes_from( list(np.where( deg < DEG_CUTOFF )[0]) )"
   ]
  },
  {
   "cell_type": "code",
   "execution_count": 41,
   "metadata": {},
   "outputs": [
    {
     "data": {
      "image/png": "[encoded data removed]",
      "text/plain": [
       "<Figure size 432x432 with 1 Axes>"
      ]
     },
     "metadata": {},
     "output_type": "display_data"
    }
   ],
   "source": [
    "R, C = 1,1\n",
    "\n",
    "nodes_list = list(nx.connected_components(G.to_undirected()))\n",
    "nodes_list = sorted(nodes_list, key=lambda x:-len(x))\n",
    "\n",
    "x_off = 0.1\n",
    "y_off = 0.1\n",
    "\n",
    "plt.figure(figsize=(6*R,6*C))\n",
    "\n",
    "for i,Gcomp_nodes in enumerate(nodes_list[:R*C]):\n",
    "    plt.subplot(R,C,i+1)\n",
    "    Gcomp = nx.subgraph(G, Gcomp_nodes)\n",
    "    pos = nx.spring_layout(Gcomp, iterations=150, k=0.5)\n",
    "    pos_offset = {k:([v[0]+x_off, v[1]+y_off]) for k,v in pos.items()} # not currently used\n",
    "\n",
    "\n",
    "    edges,weights = zip(*[((e1,e2),w) for (e1,e2),w in nx.get_edge_attributes(Gcomp,'weight').items()])\n",
    "\n",
    "    c = np.log(weights)\n",
    "    c /= c.max()\n",
    "\n",
    "    nx.draw_networkx_edges(Gcomp,pos,edgelist=edges,edge_cmap=plt.cm.autumn,edge_color=c,\n",
    "        connectionstyle=\"arc3,rad=0.1\")\n",
    "    nx.draw_networkx_nodes(Gcomp,pos,node_size=1)\n",
    "    nx.draw_networkx_labels(Gcomp,pos)"
   ]
  },
  {
   "cell_type": "markdown",
   "metadata": {},
   "source": [
    "# noticing extreme structural similarity"
   ]
  },
  {
   "cell_type": "markdown",
   "metadata": {},
   "source": [
    "I keep trying to plot these networks and notice multiple nodes which lie exactly on top of each other.\n",
    "They have very strong ties to each other, and the same ties to other blocks.\n",
    "\n",
    "The following simply orders the nodes by pairwise iterative simularity, and shows the reordered matrix using `imshow`.\n",
    "It's clear we need to be clustering all the time."
   ]
  },
  {
   "cell_type": "code",
   "execution_count": 43,
   "metadata": {},
   "outputs": [],
   "source": [
    "from sklearn.metrics import pairwise_distances"
   ]
  },
  {
   "cell_type": "code",
   "execution_count": 69,
   "metadata": {},
   "outputs": [],
   "source": [
    "items = sorted(pos.keys())\n",
    "vals = np.array( [pos[k] for k in items] )"
   ]
  },
  {
   "cell_type": "code",
   "execution_count": 71,
   "metadata": {},
   "outputs": [
    {
     "data": {
      "text/plain": [
       "<matplotlib.colorbar.Colorbar at 0x26d0bb7c388>"
      ]
     },
     "execution_count": 71,
     "metadata": {},
     "output_type": "execute_result"
    },
    {
     "data": {
      "image/png": "[encoded data removed]",
      "text/plain": [
       "<Figure size 432x288 with 2 Axes>"
      ]
     },
     "metadata": {
      "needs_background": "light"
     },
     "output_type": "display_data"
    }
   ],
   "source": [
    "all_ds = pairwise_distances(vals)\n",
    "\n",
    "new_order = [0]\n",
    "while len(new_order) < vals.shape[0]:\n",
    "    ds = all_ds[new_order[-1], :]\n",
    "    for i in np.argsort(ds):\n",
    "        if i == new_order[-1]:\n",
    "            continue\n",
    "        if i in new_order:\n",
    "            continue\n",
    "        new_order.append(i)\n",
    "        break\n",
    "\n",
    "ordered_ds = all_ds[new_order,:]\n",
    "ordered_ds = ordered_ds[:,new_order]\n",
    "plt.imshow(ordered_ds)\n",
    "plt.colorbar()"
   ]
  },
  {
   "cell_type": "code",
   "execution_count": 72,
   "metadata": {},
   "outputs": [
    {
     "data": {
      "text/plain": [
       "['a-panel', 'panel', 'panel-data', 'efficiency-and', 'energy-efficiency']"
      ]
     },
     "execution_count": 72,
     "metadata": {},
     "output_type": "execute_result"
    }
   ],
   "source": [
    "ordered_items = [items[i] for i in new_order]\n",
    "ordered_items[:5]"
   ]
  },
  {
   "cell_type": "code",
   "execution_count": 74,
   "metadata": {},
   "outputs": [],
   "source": [
    "#iterative_d = [ ordered_ds[i,i+1] for i in range(ordered_ds.shape[0]-1) ]\n",
    "clusters = []\n",
    "current_c = [0]\n",
    "for i in range(0,ordered_ds.shape[0]-1):\n",
    "    if ordered_ds[i,i+1] < 0.3:\n",
    "        current_c.append(i+1)\n",
    "    else:\n",
    "        clusters.append(current_c)\n",
    "        current_c = [i+1]"
   ]
  },
  {
   "cell_type": "code",
   "execution_count": 75,
   "metadata": {},
   "outputs": [
    {
     "name": "stdout",
     "output_type": "stream",
     "text": [
      "Cluster 1\n",
      "+ a-panel\n",
      "+ panel\n",
      "+ panel-data\n",
      "\n",
      "Cluster 2\n",
      "+ efficiency-and\n",
      "\n",
      "Cluster 3\n",
      "+ energy-efficiency\n",
      "+ efficiency\n",
      "+ the-efficiency\n",
      "+ efficiency-of\n",
      "\n",
      "Cluster 4\n",
      "+ and-efficiency\n",
      "\n",
      "Cluster 5\n",
      "+ efficiency-in\n",
      "\n",
      "Cluster 6\n",
      "+ field\n",
      "+ experiment\n",
      "\n",
      "Cluster 7\n",
      "+ from-a\n",
      "+ of-energy\n",
      "+ energy\n",
      "+ renewable\n",
      "+ renewable-energy\n",
      "\n",
      "Cluster 8\n",
      "+ energy-consumption\n",
      "\n"
     ]
    }
   ],
   "source": [
    "for ci, c in enumerate(clusters):\n",
    "    print(f\"Cluster {ci+1}\")\n",
    "    for i in c:\n",
    "        print(f\"+ {ordered_items[i]}\")\n",
    "    print(\"\")"
   ]
  }
 ],
 "metadata": {
  "kernelspec": {
   "display_name": "Python 3",
   "language": "python",
   "name": "python3"
  },
  "language_info": {
   "codemirror_mode": {
    "name": "ipython",
    "version": 3
   },
   "file_extension": ".py",
   "mimetype": "text/x-python",
   "name": "python",
   "nbconvert_exporter": "python",
   "pygments_lexer": "ipython3",
   "version": "3.9.2"
  },
  "varInspector": {
   "cols": {
    "lenName": 16,
    "lenType": 16,
    "lenVar": 40
   },
   "kernels_config": {
    "python": {
     "delete_cmd_postfix": "",
     "delete_cmd_prefix": "del ",
     "library": "var_list.py",
     "varRefreshCmd": "print(var_dic_list())"
    },
    "r": {
     "delete_cmd_postfix": ") ",
     "delete_cmd_prefix": "rm(",
     "library": "var_list.r",
     "varRefreshCmd": "cat(var_dic_list()) "
    }
   },
   "types_to_exclude": [
    "module",
    "function",
    "builtin_function_or_method",
    "instance",
    "_Feature"
   ],
   "window_display": false
  }
 },
 "nbformat": 4,
 "nbformat_minor": 4
}
