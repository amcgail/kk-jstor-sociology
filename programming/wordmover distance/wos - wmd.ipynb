{
 "cells": [
  {
   "cell_type": "markdown",
   "id": "4de67f6a",
   "metadata": {},
   "source": [
    "# Web of Science - Word mover distance analysis"
   ]
  },
  {
   "cell_type": "markdown",
   "id": "4776f323",
   "metadata": {},
   "source": [
    "### Load wos_econ, wos_soc\n"
   ]
  },
  {
   "cell_type": "code",
   "execution_count": 1,
   "id": "f9ee7fe2",
   "metadata": {
    "ExecuteTime": {
     "end_time": "2021-12-16T20:02:24.176400Z",
     "start_time": "2021-12-16T20:00:39.807678Z"
    },
    "scrolled": true
   },
   "outputs": [
    {
     "name": "stderr",
     "output_type": "stream",
     "text": [
      "C:\\Users\\benja\\miniconda3\\lib\\site-packages\\IPython\\core\\interactiveshell.py:3437: DtypeWarning: Columns (2) have mixed types.Specify dtype option on import or set low_memory=False.\n",
      "  exec(code_obj, self.user_global_ns, self.user_ns)\n"
     ]
    }
   ],
   "source": [
    "import sys\n",
    "sys.path.append(\"./../helper\") # find scripts\n",
    "maxInt = sys.maxsize\n",
    "\n",
    "from common_imports import *\n",
    "from helpers import *\n",
    "\n",
    "#from load_data import wos_soc, wos_econ   # web of science\n",
    "from load_constellate import wos_soc, wos_econ # constellate\n",
    "\n",
    "import gensim\n",
    "model = gensim.models.KeyedVectors.load_word2vec_format('../data/GoogleNews-vectors-negative300.bin.gz', binary=True)\n",
    "\n",
    "model.init_sims(replace=True) \n",
    "\n",
    "import matplotlib.pyplot as plt\n",
    "\n",
    "from IPython.core.interactiveshell import InteractiveShell\n",
    "InteractiveShell.ast_node_interactivity = \"all\""
   ]
  },
  {
   "cell_type": "markdown",
   "id": "12fe520c",
   "metadata": {},
   "source": [
    "### Create Dataframes"
   ]
  },
  {
   "cell_type": "code",
   "execution_count": 2,
   "id": "ed315650",
   "metadata": {
    "ExecuteTime": {
     "end_time": "2021-12-16T20:02:25.363724Z",
     "start_time": "2021-12-16T20:02:24.195347Z"
    }
   },
   "outputs": [],
   "source": [
    "df_econ = pd.DataFrame.from_dict(wos_econ)\n",
    "df_soc = pd.DataFrame.from_dict(wos_soc)"
   ]
  },
  {
   "cell_type": "markdown",
   "id": "1e7d2c8a",
   "metadata": {},
   "source": [
    "### 3 functions to create do  the word mover distance analysis"
   ]
  },
  {
   "cell_type": "code",
   "execution_count": 3,
   "id": "79486db7",
   "metadata": {
    "ExecuteTime": {
     "end_time": "2021-12-16T20:04:21.402253Z",
     "start_time": "2021-12-16T20:04:21.352988Z"
    }
   },
   "outputs": [],
   "source": [
    "import random\n",
    "\n",
    "def crCorpus(df, y1=None, y2=None, smax=None, term=None):\n",
    "    \n",
    "    \"\"\"\n",
    "    Subset the corpuses by year and term\n",
    "    \"\"\"\n",
    "    \n",
    "    # Subfunction to flatten list\n",
    "    def flatten(t):\n",
    "        return [item for sublist in t for item in sublist]\n",
    "\n",
    "    # Subset by year\n",
    "    if y1 is not None: \n",
    "        if y2 is None: y2 = y1 \n",
    "        df = df[df['year'].between(y1, y2)] \n",
    "    \n",
    "    # Subset by term\n",
    "    if term is not None: df = df[df['title'].str.contains(term)]\n",
    "        \n",
    "    # Sample from df if larger than smax\n",
    "    if smax is not None: \n",
    "        if df.shape[0]>smax: df = df.sample(n=smax, replace=False, random_state=1)\n",
    "\n",
    "    # Create corpus\n",
    "    words = flatten(df['title'].str.split().tolist())\n",
    "    \n",
    "    unique = []\n",
    "    for word in words:\n",
    "        if word not in unique:\n",
    "            unique.append(word)\n",
    "    unique.sort()\n",
    "            \n",
    "    return(unique)\n",
    "\n",
    "\n",
    "def crWMD(t0, t1, iv=1, smax=None, term=None):\n",
    "    \n",
    "    \"\"\"\n",
    "    Calculates the WMD distances over time\n",
    "    \"\"\"\n",
    "    \n",
    "    # Calculate distance by year\n",
    "    \n",
    "    wmd  = [] # save mover distance\n",
    "    istart = 1900 # starting year\n",
    "    \n",
    "    while istart <= (2020-iv):\n",
    "        \n",
    "        iend = istart+iv\n",
    "        \n",
    "        if istart==1900: print(\"...\")\n",
    "        if istart>1980:  print(\"Start: \"+str(istart)+\", End:\"+str(iend))\n",
    "        \n",
    "        t0_corp = crCorpus(t0, y1=istart, y2=iend, smax=smax, term=term)\n",
    "        t1_corp = crCorpus(t1, y1=istart+iv, y2=iend+iv, smax=smax, term=term)\n",
    "        \n",
    "        wmd.append(model.wmdistance(t0_corp, t1_corp))\n",
    "        \n",
    "        istart+=iv\n",
    "    \n",
    "    return wmd\n",
    "\n",
    "\n",
    "def plotWMD(iv=1, smax=100, term=None, autosim=False):\n",
    "    \n",
    "    \"\"\"\n",
    "    Plot the WMD over time\n",
    "    \"\"\"\n",
    "    \n",
    "    # Calculate distances\n",
    "    print(\"soc@t to econ@t+1\")\n",
    "    wmd1 = crWMD(t0=df_soc, t1=df_econ, iv=iv, smax=smax, term=term)\n",
    "    \n",
    "    print(\"econ@t to soc@t+1\")\n",
    "    wmd2 = crWMD(t0=df_econ, t1=df_soc, iv=iv, smax=smax, term=term)\n",
    "    \n",
    "    if autosim is not False: \n",
    "        print(\"soc@t to soc@t+1\")\n",
    "        wmd3 = crWMD(t0=df_soc, t1=df_soc, iv=iv, smax=smax, term=term)\n",
    "        \n",
    "        print(\"econ@t to econ@t+1\")\n",
    "        wmd4 = crWMD(t0=df_econ, t1=df_econ, iv=iv, smax=smax, term=term)\n",
    "    \n",
    "    # Plot results  \n",
    "    \n",
    "    yrs=list(range(1900,2020,iv))\n",
    "        \n",
    "    p = plt.plot(yrs, wmd1, label=\"soc@t to econ@t+1\");\n",
    "    p = plt.plot(yrs, wmd2, label=\"econ@t to soc@t+1\");\n",
    "    \n",
    "    if autosim is not False:\n",
    "        p = plt.plot(yrs, wmd3, label=\"soc@t to soc@t+1\");\n",
    "        p = plt.plot(yrs, wmd4, label=\"econ@t to econ@t+1\");\n",
    "        \n",
    "    p = plt.title(\"Term: \"+str(term))\n",
    "    p = plt.legend()"
   ]
  },
  {
   "cell_type": "markdown",
   "id": "5225798b",
   "metadata": {},
   "source": [
    "### Results\n",
    "- iv: Control the intervals from 1900 to 2020\n",
    "- smax: Number of articles taken from each interval in each discipline\n",
    "- term: Pick a specific term which has to be included in all articles. If None, all articles are chosen.\n",
    "- autosim: Should soc@t to soc@t+1 and econ@t to econ@t+1 also be computed?"
   ]
  },
  {
   "cell_type": "code",
   "execution_count": 5,
   "id": "02ea5b3a",
   "metadata": {
    "ExecuteTime": {
     "end_time": "2021-12-16T21:57:35.487062Z",
     "start_time": "2021-12-16T21:25:16.913179Z"
    },
    "scrolled": false
   },
   "outputs": [
    {
     "name": "stdout",
     "output_type": "stream",
     "text": [
      "soc@t to econ@t+1\n",
      "...\n",
      "Start: 1985, End:1990\n",
      "Start: 1990, End:1995\n",
      "Start: 1995, End:2000\n",
      "Start: 2000, End:2005\n",
      "Start: 2005, End:2010\n",
      "Start: 2010, End:2015\n",
      "Start: 2015, End:2020\n",
      "econ@t to soc@t+1\n",
      "...\n",
      "Start: 1985, End:1990\n",
      "Start: 1990, End:1995\n",
      "Start: 1995, End:2000\n",
      "Start: 2000, End:2005\n",
      "Start: 2005, End:2010\n",
      "Start: 2010, End:2015\n",
      "Start: 2015, End:2020\n"
     ]
    },
    {
     "data": {
      "image/png": "[encoded data removed]",
      "text/plain": [
       "<Figure size 432x288 with 1 Axes>"
      ]
     },
     "metadata": {
      "needs_background": "light"
     },
     "output_type": "display_data"
    }
   ],
   "source": [
    "plotWMD(iv=5, smax=200, autosim=False)"
   ]
  },
  {
   "cell_type": "code",
   "execution_count": 14,
   "id": "f2e456ec",
   "metadata": {
    "ExecuteTime": {
     "end_time": "2021-12-16T22:16:34.780760Z",
     "start_time": "2021-12-16T22:16:06.252013Z"
    }
   },
   "outputs": [
    {
     "name": "stdout",
     "output_type": "stream",
     "text": [
      "soc@t to econ@t+1\n",
      "...\n",
      "Start: 1985, End:1990\n",
      "Start: 1990, End:1995\n",
      "Start: 1995, End:2000\n",
      "Start: 2000, End:2005\n",
      "Start: 2005, End:2010\n",
      "Start: 2010, End:2015\n",
      "Start: 2015, End:2020\n",
      "econ@t to soc@t+1\n",
      "...\n",
      "Start: 1985, End:1990\n",
      "Start: 1990, End:1995\n",
      "Start: 1995, End:2000\n",
      "Start: 2000, End:2005\n",
      "Start: 2005, End:2010\n",
      "Start: 2010, End:2015\n",
      "Start: 2015, End:2020\n"
     ]
    },
    {
     "data": {
      "image/png": "[encoded data removed]",
      "text/plain": [
       "<Figure size 432x288 with 1 Axes>"
      ]
     },
     "metadata": {
      "needs_background": "light"
     },
     "output_type": "display_data"
    }
   ],
   "source": [
    "plotWMD(iv=5, smax=50, term=\"network\")"
   ]
  }
 ],
 "metadata": {
  "kernelspec": {
   "display_name": "Python 3",
   "language": "python",
   "name": "python3"
  },
  "language_info": {
   "codemirror_mode": {
    "name": "ipython",
    "version": 3
   },
   "file_extension": ".py",
   "mimetype": "text/x-python",
   "name": "python",
   "nbconvert_exporter": "python",
   "pygments_lexer": "ipython3",
   "version": "3.9.2"
  },
  "varInspector": {
   "cols": {
    "lenName": 16,
    "lenType": 16,
    "lenVar": 40
   },
   "kernels_config": {
    "python": {
     "delete_cmd_postfix": "",
     "delete_cmd_prefix": "del ",
     "library": "var_list.py",
     "varRefreshCmd": "print(var_dic_list())"
    },
    "r": {
     "delete_cmd_postfix": ") ",
     "delete_cmd_prefix": "rm(",
     "library": "var_list.r",
     "varRefreshCmd": "cat(var_dic_list()) "
    }
   },
   "position": {
    "height": "333.844px",
    "left": "2191px",
    "right": "20px",
    "top": "121px",
    "width": "350px"
   },
   "types_to_exclude": [
    "module",
    "function",
    "builtin_function_or_method",
    "instance",
    "_Feature"
   ],
   "window_display": false
  }
 },
 "nbformat": 4,
 "nbformat_minor": 5
}
