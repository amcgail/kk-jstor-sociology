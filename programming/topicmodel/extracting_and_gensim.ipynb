{
 "cells": [
  {
   "cell_type": "markdown",
   "metadata": {},
   "source": [
    "### Create dictionary"
   ]
  },
  {
   "cell_type": "code",
   "execution_count": 1,
   "metadata": {
    "ExecuteTime": {
     "end_time": "2021-11-01T19:15:04.577884Z",
     "start_time": "2021-11-01T19:15:02.055309Z"
    }
   },
   "outputs": [],
   "source": [
    "from counter import doc_iterator\n",
    "from gensim import corpora\n",
    "import gensim\n",
    "from gensim.parsing.preprocessing import remove_stopwords\n",
    "import pickle\n",
    "import nltk\n",
    "import regex as re\n",
    "from pprint import pprint"
   ]
  },
  {
   "cell_type": "code",
   "execution_count": 2,
   "metadata": {
    "ExecuteTime": {
     "end_time": "2021-11-01T19:15:04.593839Z",
     "start_time": "2021-11-01T19:15:04.579877Z"
    }
   },
   "outputs": [],
   "source": [
    "jstor_zip_base = \"C:/Users/benja/OneDrive - Cornell University/Desktop/soc_econ/data\""
   ]
  },
  {
   "cell_type": "code",
   "execution_count": 3,
   "metadata": {
    "ExecuteTime": {
     "end_time": "2021-11-01T19:15:04.609798Z",
     "start_time": "2021-11-01T19:15:04.595835Z"
    }
   },
   "outputs": [],
   "source": [
    "def get_di():\n",
    "    return doc_iterator(\n",
    "        jstor_zip_base,\n",
    "        SKIP_N=99, # samples from entire corpus, takes 1 out of 100 documents\n",
    "    )"
   ]
  },
  {
   "cell_type": "code",
   "execution_count": 4,
   "metadata": {
    "ExecuteTime": {
     "end_time": "2021-11-01T19:15:04.625756Z",
     "start_time": "2021-11-01T19:15:04.610794Z"
    }
   },
   "outputs": [],
   "source": [
    "def text_iterator(it):\n",
    "    for i,(doi, doc) in enumerate(it):\n",
    "        if i%1000 == 0:\n",
    "            print(f\"Document {i}\")\n",
    "        # if i == 0: print(doc['content'])\n",
    "        yield [item for item in re.findall( \"[A-Za-z]+\", remove_stopwords(doc['content'].lower()) ) if len(item)>3] # yield function only temporarily loads the documents into storage"
   ]
  },
  {
   "cell_type": "code",
   "execution_count": 5,
   "metadata": {
    "ExecuteTime": {
     "end_time": "2021-11-01T19:15:04.640716Z",
     "start_time": "2021-11-01T19:15:04.627749Z"
    }
   },
   "outputs": [],
   "source": [
    "di = get_di()"
   ]
  },
  {
   "cell_type": "code",
   "execution_count": 6,
   "metadata": {
    "ExecuteTime": {
     "end_time": "2021-11-01T19:17:31.479714Z",
     "start_time": "2021-11-01T19:15:04.642709Z"
    }
   },
   "outputs": [
    {
     "name": "stdout",
     "output_type": "stream",
     "text": [
      "Found files receipt-id-1215891-part-001.zip, receipt-id-1383671-part-001.zip, receipt-id-1383681-part-001.zip, receipt-id-1383691-part-001.zip\n",
      "Iterating over  248380 documents\n",
      "Document 0\n"
     ]
    }
   ],
   "source": [
    "dictionary = corpora.Dictionary( text_iterator(di) )"
   ]
  },
  {
   "cell_type": "code",
   "execution_count": 7,
   "metadata": {
    "ExecuteTime": {
     "end_time": "2021-11-01T19:17:31.532014Z",
     "start_time": "2021-11-01T19:17:31.484701Z"
    }
   },
   "outputs": [],
   "source": [
    "outfile = open('gensimdic.pkl', 'wb')\n",
    "pickle.dump(dictionary, outfile)                     \n",
    "outfile.close()"
   ]
  },
  {
   "cell_type": "markdown",
   "metadata": {},
   "source": [
    "### Run LDA"
   ]
  },
  {
   "cell_type": "code",
   "execution_count": 8,
   "metadata": {
    "ExecuteTime": {
     "end_time": "2021-11-01T19:17:31.593648Z",
     "start_time": "2021-11-01T19:17:31.532014Z"
    }
   },
   "outputs": [],
   "source": [
    "infile = open('gensimdic.pkl','rb')\n",
    "dictionary = pickle.load(infile)\n",
    "infile.close()"
   ]
  },
  {
   "cell_type": "code",
   "execution_count": 9,
   "metadata": {
    "ExecuteTime": {
     "end_time": "2021-11-01T19:17:31.609605Z",
     "start_time": "2021-11-01T19:17:31.595643Z"
    }
   },
   "outputs": [],
   "source": [
    "class MyCorpus(object):\n",
    "    def __init__(self):\n",
    "        self.di = get_di()        \n",
    "        self.ti = text_iterator(self.di)\n",
    "    def __iter__(self):\n",
    "        yield dictionary.doc2bow( next(self.ti) )"
   ]
  },
  {
   "cell_type": "code",
   "execution_count": 16,
   "metadata": {
    "ExecuteTime": {
     "end_time": "2021-11-01T19:35:45.502715Z",
     "start_time": "2021-11-01T19:34:27.228126Z"
    }
   },
   "outputs": [
    {
     "name": "stdout",
     "output_type": "stream",
     "text": [
      "Found files receipt-id-1215891-part-001.zip, receipt-id-1383671-part-001.zip, receipt-id-1383681-part-001.zip, receipt-id-1383691-part-001.zip\n",
      "Iterating over  248380 documents\n",
      "Document 0\n"
     ]
    }
   ],
   "source": [
    "# Run LDA by document and update the parameters\n",
    "corpus = MyCorpus()\n",
    "lda = gensim.models.ldamodel.LdaModel(corpus=corpus, \n",
    "                                      id2word=dictionary,\n",
    "                                      num_topics=10,\n",
    "                                      update_every=10,\n",
    "                                      chunksize=10000,\n",
    "                                      passes=100)"
   ]
  },
  {
   "cell_type": "code",
   "execution_count": 17,
   "metadata": {
    "ExecuteTime": {
     "end_time": "2021-11-01T19:36:59.510439Z",
     "start_time": "2021-11-01T19:36:59.412701Z"
    }
   },
   "outputs": [
    {
     "name": "stdout",
     "output_type": "stream",
     "text": [
      "0: girls school education year schools academic encouragement social friends australia\n",
      "1: girls school schools social education academic encouragement composition year queensland\n",
      "2: girls schools school academic education year social coeducational encouragement composition\n",
      "3: children social attitudes child marriage family behavior group parents status\n",
      "4: girls school education schools social academic year queensland composition australian\n",
      "5: girls school schools social education academic year students achievement encouragement\n",
      "6: girls school schools education academic year social australian achievement composition\n",
      "7: girls school education schools social academic students year encouragement composition\n",
      "8: girls palestinian education achievements schools abortion cohabitation college private social\n",
      "9: schools girls school education social year academic australian private queensland\n"
     ]
    }
   ],
   "source": [
    "for topic_id in range(lda.num_topics):\n",
    "    topk = lda.show_topic(topic_id, 10)\n",
    "    topk_words = [ w for w, _ in topk ]\n",
    "    \n",
    "    print('{}: {}'.format(topic_id, ' '.join(topk_words)))"
   ]
  },
  {
   "cell_type": "code",
   "execution_count": 15,
   "metadata": {
    "ExecuteTime": {
     "end_time": "2021-11-01T19:34:09.500424Z",
     "start_time": "2021-11-01T19:34:09.423305Z"
    }
   },
   "outputs": [],
   "source": [
    "?gensim.models.ldamodel.LdaModel"
   ]
  }
 ],
 "metadata": {
  "kernelspec": {
   "display_name": "Python 3",
   "language": "python",
   "name": "python3"
  },
  "language_info": {
   "codemirror_mode": {
    "name": "ipython",
    "version": 3
   },
   "file_extension": ".py",
   "mimetype": "text/x-python",
   "name": "python",
   "nbconvert_exporter": "python",
   "pygments_lexer": "ipython3",
   "version": "3.9.2"
  },
  "varInspector": {
   "cols": {
    "lenName": 16,
    "lenType": 16,
    "lenVar": 40
   },
   "kernels_config": {
    "python": {
     "delete_cmd_postfix": "",
     "delete_cmd_prefix": "del ",
     "library": "var_list.py",
     "varRefreshCmd": "print(var_dic_list())"
    },
    "r": {
     "delete_cmd_postfix": ") ",
     "delete_cmd_prefix": "rm(",
     "library": "var_list.r",
     "varRefreshCmd": "cat(var_dic_list()) "
    }
   },
   "types_to_exclude": [
    "module",
    "function",
    "builtin_function_or_method",
    "instance",
    "_Feature"
   ],
   "window_display": false
  }
 },
 "nbformat": 4,
 "nbformat_minor": 4
}
