{
 "cells": [
  {
   "cell_type": "markdown",
   "id": "4de67f6a",
   "metadata": {},
   "source": [
    "# Web of Science - Fighting words analysis"
   ]
  },
  {
   "cell_type": "markdown",
   "id": "4776f323",
   "metadata": {},
   "source": [
    "### Load wos_econ, wos_soc and join them\n"
   ]
  },
  {
   "cell_type": "code",
   "execution_count": 1,
   "id": "f9ee7fe2",
   "metadata": {
    "ExecuteTime": {
     "end_time": "2021-11-30T20:16:08.957040Z",
     "start_time": "2021-11-30T20:15:47.009708Z"
    },
    "scrolled": true
   },
   "outputs": [
    {
     "name": "stderr",
     "output_type": "stream",
     "text": [
      "C:\\Users\\benja\\miniconda3\\lib\\site-packages\\IPython\\core\\interactiveshell.py:3437: DtypeWarning: Columns (2) have mixed types.Specify dtype option on import or set low_memory=False.\n",
      "  exec(code_obj, self.user_global_ns, self.user_ns)\n"
     ]
    }
   ],
   "source": [
    "import sys\n",
    "sys.path.append(\"./../helper\") # find scripts\n",
    "maxInt = sys.maxsize\n",
    "\n",
    "from common_imports import *\n",
    "from helpers import *\n",
    "\n",
    "#from load_data import wos_soc, wos_econ   # web of science\n",
    "from load_constellate import wos_soc, wos_econ # constellate\n",
    "\n",
    "import convokit\n",
    "from convokit import FightingWords\n",
    "from convokit import Corpus, Utterance, Speaker\n",
    "\n",
    "import matplotlib.pyplot as plt\n",
    "\n",
    "from IPython.core.interactiveshell import InteractiveShell\n",
    "InteractiveShell.ast_node_interactivity = \"all\""
   ]
  },
  {
   "cell_type": "code",
   "execution_count": 4,
   "id": "902d197b",
   "metadata": {
    "ExecuteTime": {
     "end_time": "2021-11-30T20:16:09.004912Z",
     "start_time": "2021-11-30T20:16:08.989953Z"
    }
   },
   "outputs": [],
   "source": [
    "wos = wos_econ+wos_soc"
   ]
  },
  {
   "cell_type": "markdown",
   "id": "eeed30ba",
   "metadata": {},
   "source": [
    "### Create convokit corpuses by decade"
   ]
  },
  {
   "cell_type": "code",
   "execution_count": 5,
   "id": "536eaafb",
   "metadata": {
    "ExecuteTime": {
     "end_time": "2021-11-30T20:16:22.303012Z",
     "start_time": "2021-11-30T20:16:09.005910Z"
    },
    "scrolled": true
   },
   "outputs": [],
   "source": [
    "tstart = 1901\n",
    "corpuses = [] # container to save corpuses by decade\n",
    "\n",
    "while tstart<=2011:\n",
    "    \n",
    "    utterances = [] # container to save utterances by decade\n",
    "    \n",
    "    tend=tstart+9 # last year of decade\n",
    "    \n",
    "    \n",
    "    articles_dec = [article for article in wos if tryInt(article['year']) in range(tstart, tend)]\n",
    "        \n",
    "    for article in articles_dec:\n",
    "        utterances.append( Utterance(id=str(article['id']), conversation_id=str(article['id']), text=article['title'], speaker=Speaker(id=str(article['author'])), meta={'discipline': article['discipline']}) )\n",
    "    \n",
    "    corpuses.append( Corpus(utterances=utterances) )   \n",
    "        \n",
    "    \n",
    "    tstart+=10 # go to next decade"
   ]
  },
  {
   "cell_type": "code",
   "execution_count": 6,
   "id": "dad26e85",
   "metadata": {
    "ExecuteTime": {
     "end_time": "2021-11-30T20:16:22.318939Z",
     "start_time": "2021-11-30T20:16:22.303979Z"
    }
   },
   "outputs": [
    {
     "data": {
      "text/plain": [
       "12"
      ]
     },
     "execution_count": 6,
     "metadata": {},
     "output_type": "execute_result"
    }
   ],
   "source": [
    "len(corpuses)"
   ]
  },
  {
   "cell_type": "code",
   "execution_count": 7,
   "id": "e5a24573",
   "metadata": {
    "ExecuteTime": {
     "end_time": "2021-11-30T20:16:22.540346Z",
     "start_time": "2021-11-30T20:16:22.323926Z"
    }
   },
   "outputs": [
    {
     "data": {
      "text/plain": [
       "Utterance({'obj_type': 'utterance', 'meta': {'discipline': 'econ'}, 'vectors': [], 'speaker': Speaker({'obj_type': 'speaker', 'meta': {}, 'vectors': [], 'owner': None, 'id': ''}), 'conversation_id': '94147', 'reply_to': None, 'timestamp': None, 'text': 'rationale discounted bonus premiums', 'owner': <convokit.model.corpus.Corpus object at 0x0000027D21A11160>, 'id': '94147'})"
      ]
     },
     "execution_count": 7,
     "metadata": {},
     "output_type": "execute_result"
    },
    {
     "data": {
      "text/html": [
       "<div>\n",
       "<style scoped>\n",
       "    .dataframe tbody tr th:only-of-type {\n",
       "        vertical-align: middle;\n",
       "    }\n",
       "\n",
       "    .dataframe tbody tr th {\n",
       "        vertical-align: top;\n",
       "    }\n",
       "\n",
       "    .dataframe thead th {\n",
       "        text-align: right;\n",
       "    }\n",
       "</style>\n",
       "<table border=\"1\" class=\"dataframe\">\n",
       "  <thead>\n",
       "    <tr style=\"text-align: right;\">\n",
       "      <th></th>\n",
       "      <th>timestamp</th>\n",
       "      <th>text</th>\n",
       "      <th>speaker</th>\n",
       "      <th>reply_to</th>\n",
       "      <th>conversation_id</th>\n",
       "      <th>meta.discipline</th>\n",
       "      <th>vectors</th>\n",
       "    </tr>\n",
       "    <tr>\n",
       "      <th>id</th>\n",
       "      <th></th>\n",
       "      <th></th>\n",
       "      <th></th>\n",
       "      <th></th>\n",
       "      <th></th>\n",
       "      <th></th>\n",
       "      <th></th>\n",
       "    </tr>\n",
       "  </thead>\n",
       "  <tbody>\n",
       "    <tr>\n",
       "      <th>29706</th>\n",
       "      <td>None</td>\n",
       "      <td>educational intelligence</td>\n",
       "      <td></td>\n",
       "      <td>None</td>\n",
       "      <td>29706</td>\n",
       "      <td>econ</td>\n",
       "      <td>[]</td>\n",
       "    </tr>\n",
       "    <tr>\n",
       "      <th>29983</th>\n",
       "      <td>None</td>\n",
       "      <td>editorial</td>\n",
       "      <td></td>\n",
       "      <td>None</td>\n",
       "      <td>29983</td>\n",
       "      <td>econ</td>\n",
       "      <td>[]</td>\n",
       "    </tr>\n",
       "    <tr>\n",
       "      <th>30016</th>\n",
       "      <td>None</td>\n",
       "      <td>front matter</td>\n",
       "      <td></td>\n",
       "      <td>None</td>\n",
       "      <td>30016</td>\n",
       "      <td>econ</td>\n",
       "      <td>[]</td>\n",
       "    </tr>\n",
       "    <tr>\n",
       "      <th>30087</th>\n",
       "      <td>None</td>\n",
       "      <td>editorial notes</td>\n",
       "      <td></td>\n",
       "      <td>None</td>\n",
       "      <td>30087</td>\n",
       "      <td>econ</td>\n",
       "      <td>[]</td>\n",
       "    </tr>\n",
       "    <tr>\n",
       "      <th>30881</th>\n",
       "      <td>None</td>\n",
       "      <td>closing exercise</td>\n",
       "      <td></td>\n",
       "      <td>None</td>\n",
       "      <td>30881</td>\n",
       "      <td>econ</td>\n",
       "      <td>[]</td>\n",
       "    </tr>\n",
       "  </tbody>\n",
       "</table>\n",
       "</div>"
      ],
      "text/plain": [
       "      timestamp                      text speaker reply_to conversation_id  \\\n",
       "id                                                                           \n",
       "29706      None  educational intelligence             None           29706   \n",
       "29983      None                 editorial             None           29983   \n",
       "30016      None              front matter             None           30016   \n",
       "30087      None           editorial notes             None           30087   \n",
       "30881      None          closing exercise             None           30881   \n",
       "\n",
       "      meta.discipline vectors  \n",
       "id                             \n",
       "29706            econ      []  \n",
       "29983            econ      []  \n",
       "30016            econ      []  \n",
       "30087            econ      []  \n",
       "30881            econ      []  "
      ]
     },
     "execution_count": 7,
     "metadata": {},
     "output_type": "execute_result"
    }
   ],
   "source": [
    "corpuses[0].random_utterance() # random article from first decade\n",
    "corpuses[0].get_utterances_dataframe().head() # dataframe of articles from first decade"
   ]
  },
  {
   "cell_type": "markdown",
   "id": "415a00ad",
   "metadata": {},
   "source": [
    "### Fighting words analysis by decade"
   ]
  },
  {
   "cell_type": "code",
   "execution_count": 8,
   "id": "2ce23ece",
   "metadata": {
    "ExecuteTime": {
     "end_time": "2021-11-30T20:19:20.044833Z",
     "start_time": "2021-11-30T20:16:22.543338Z"
    }
   },
   "outputs": [
    {
     "name": "stdout",
     "output_type": "stream",
     "text": [
      "0\n",
      "Initializing default CountVectorizer with ngram_range (1, 1)... Done.\n",
      "class1_func returned 446 valid corpus components. class2_func returned 1623 valid corpus components.\n",
      "Vocab size is 168\n",
      "Comparing language...\n",
      "ngram zscores computed.\n"
     ]
    },
    {
     "data": {
      "text/plain": [
       "<convokit.fighting_words.fightingWords.FightingWords at 0x27d523ea070>"
      ]
     },
     "execution_count": 8,
     "metadata": {},
     "output_type": "execute_result"
    },
    {
     "name": "stdout",
     "output_type": "stream",
     "text": [
      "1\n",
      "Initializing default CountVectorizer with ngram_range (1, 1)... Done.\n",
      "class1_func returned 543 valid corpus components. class2_func returned 3439 valid corpus components.\n",
      "Vocab size is 316\n",
      "Comparing language...\n",
      "ngram zscores computed.\n"
     ]
    },
    {
     "data": {
      "text/plain": [
       "<convokit.fighting_words.fightingWords.FightingWords at 0x27d52473190>"
      ]
     },
     "execution_count": 8,
     "metadata": {},
     "output_type": "execute_result"
    },
    {
     "name": "stdout",
     "output_type": "stream",
     "text": [
      "2\n",
      "Initializing default CountVectorizer with ngram_range (1, 1)... Done.\n",
      "class1_func returned 714 valid corpus components. class2_func returned 4755 valid corpus components.\n",
      "Vocab size is 411\n",
      "Comparing language...\n",
      "ngram zscores computed.\n"
     ]
    },
    {
     "data": {
      "text/plain": [
       "<convokit.fighting_words.fightingWords.FightingWords at 0x27d52473be0>"
      ]
     },
     "execution_count": 8,
     "metadata": {},
     "output_type": "execute_result"
    },
    {
     "name": "stdout",
     "output_type": "stream",
     "text": [
      "3\n",
      "Initializing default CountVectorizer with ngram_range (1, 1)... Done.\n",
      "class1_func returned 852 valid corpus components. class2_func returned 8211 valid corpus components.\n",
      "Vocab size is 648\n",
      "Comparing language...\n",
      "ngram zscores computed.\n"
     ]
    },
    {
     "data": {
      "text/plain": [
       "<convokit.fighting_words.fightingWords.FightingWords at 0x27d52473c40>"
      ]
     },
     "execution_count": 8,
     "metadata": {},
     "output_type": "execute_result"
    },
    {
     "name": "stdout",
     "output_type": "stream",
     "text": [
      "4\n",
      "Initializing default CountVectorizer with ngram_range (1, 1)... Done.\n",
      "class1_func returned 1124 valid corpus components. class2_func returned 9199 valid corpus components.\n",
      "Vocab size is 735\n",
      "Comparing language...\n",
      "ngram zscores computed.\n"
     ]
    },
    {
     "data": {
      "text/plain": [
       "<convokit.fighting_words.fightingWords.FightingWords at 0x27d52473700>"
      ]
     },
     "execution_count": 8,
     "metadata": {},
     "output_type": "execute_result"
    },
    {
     "name": "stdout",
     "output_type": "stream",
     "text": [
      "5\n",
      "Initializing default CountVectorizer with ngram_range (1, 1)... Done.\n",
      "class1_func returned 1374 valid corpus components. class2_func returned 12639 valid corpus components.\n",
      "Vocab size is 989\n",
      "Comparing language...\n",
      "ngram zscores computed.\n"
     ]
    },
    {
     "data": {
      "text/plain": [
       "<convokit.fighting_words.fightingWords.FightingWords at 0x27d526af5b0>"
      ]
     },
     "execution_count": 8,
     "metadata": {},
     "output_type": "execute_result"
    },
    {
     "name": "stdout",
     "output_type": "stream",
     "text": [
      "6\n",
      "Initializing default CountVectorizer with ngram_range (1, 1)... Done.\n",
      "class1_func returned 1970 valid corpus components. class2_func returned 18922 valid corpus components.\n",
      "Vocab size is 1417\n",
      "Comparing language...\n",
      "ngram zscores computed.\n"
     ]
    },
    {
     "data": {
      "text/plain": [
       "<convokit.fighting_words.fightingWords.FightingWords at 0x27d526af820>"
      ]
     },
     "execution_count": 8,
     "metadata": {},
     "output_type": "execute_result"
    },
    {
     "name": "stdout",
     "output_type": "stream",
     "text": [
      "7\n",
      "Initializing default CountVectorizer with ngram_range (1, 1)... Done.\n",
      "class1_func returned 3349 valid corpus components. class2_func returned 31751 valid corpus components.\n",
      "Vocab size is 2223\n",
      "Comparing language...\n",
      "ngram zscores computed.\n"
     ]
    },
    {
     "data": {
      "text/plain": [
       "<convokit.fighting_words.fightingWords.FightingWords at 0x27d526af7c0>"
      ]
     },
     "execution_count": 8,
     "metadata": {},
     "output_type": "execute_result"
    },
    {
     "name": "stdout",
     "output_type": "stream",
     "text": [
      "8\n",
      "Initializing default CountVectorizer with ngram_range (1, 1)... Done.\n",
      "class1_func returned 3944 valid corpus components. class2_func returned 40623 valid corpus components.\n",
      "Vocab size is 2918\n",
      "Comparing language...\n",
      "ngram zscores computed.\n"
     ]
    },
    {
     "data": {
      "text/plain": [
       "<convokit.fighting_words.fightingWords.FightingWords at 0x27d526afac0>"
      ]
     },
     "execution_count": 8,
     "metadata": {},
     "output_type": "execute_result"
    },
    {
     "name": "stdout",
     "output_type": "stream",
     "text": [
      "9\n",
      "Initializing default CountVectorizer with ngram_range (1, 1)... Done.\n",
      "class1_func returned 4350 valid corpus components. class2_func returned 46057 valid corpus components.\n",
      "Vocab size is 3387\n",
      "Comparing language...\n",
      "ngram zscores computed.\n"
     ]
    },
    {
     "data": {
      "text/plain": [
       "<convokit.fighting_words.fightingWords.FightingWords at 0x27d526afeb0>"
      ]
     },
     "execution_count": 8,
     "metadata": {},
     "output_type": "execute_result"
    },
    {
     "name": "stdout",
     "output_type": "stream",
     "text": [
      "10\n",
      "Initializing default CountVectorizer with ngram_range (1, 1)... Done.\n",
      "class1_func returned 4571 valid corpus components. class2_func returned 50370 valid corpus components.\n",
      "Vocab size is 4132\n",
      "Comparing language...\n",
      "ngram zscores computed.\n"
     ]
    },
    {
     "data": {
      "text/plain": [
       "<convokit.fighting_words.fightingWords.FightingWords at 0x27d5273e3a0>"
      ]
     },
     "execution_count": 8,
     "metadata": {},
     "output_type": "execute_result"
    },
    {
     "name": "stdout",
     "output_type": "stream",
     "text": [
      "11\n",
      "Initializing default CountVectorizer with ngram_range (1, 1)... Done.\n",
      "class1_func returned 3087 valid corpus components. class2_func returned 37092 valid corpus components.\n",
      "Vocab size is 3607\n",
      "Comparing language...\n",
      "ngram zscores computed.\n"
     ]
    },
    {
     "data": {
      "text/plain": [
       "<convokit.fighting_words.fightingWords.FightingWords at 0x27d5273e7f0>"
      ]
     },
     "execution_count": 8,
     "metadata": {},
     "output_type": "execute_result"
    }
   ],
   "source": [
    "fw = []\n",
    "fw_sum = []\n",
    "for i, corpus in enumerate(corpuses):\n",
    "    print(i)\n",
    "    fw.append( FightingWords(ngram_range=(1,1)) )\n",
    "    fw[i].fit(corpus, class1_func=lambda utt: utt.meta['discipline'] == 'soc',\n",
    "                      class2_func=lambda utt: utt.meta['discipline'] == 'econ')\n",
    "    fw_sum.append( fw[i].summarize(corpus, plot=False, class1_name='soc', class2_name='econ')  ) "
   ]
  },
  {
   "cell_type": "markdown",
   "id": "c6e95e24",
   "metadata": {},
   "source": [
    "### Descriptives"
   ]
  },
  {
   "cell_type": "code",
   "execution_count": 9,
   "id": "613ffb63",
   "metadata": {
    "ExecuteTime": {
     "end_time": "2021-11-30T20:19:20.075750Z",
     "start_time": "2021-11-30T20:19:20.046826Z"
    }
   },
   "outputs": [
    {
     "data": {
      "text/html": [
       "<div>\n",
       "<style scoped>\n",
       "    .dataframe tbody tr th:only-of-type {\n",
       "        vertical-align: middle;\n",
       "    }\n",
       "\n",
       "    .dataframe tbody tr th {\n",
       "        vertical-align: top;\n",
       "    }\n",
       "\n",
       "    .dataframe thead th {\n",
       "        text-align: right;\n",
       "    }\n",
       "</style>\n",
       "<table border=\"1\" class=\"dataframe\">\n",
       "  <thead>\n",
       "    <tr style=\"text-align: right;\">\n",
       "      <th></th>\n",
       "      <th>z-score</th>\n",
       "      <th>class</th>\n",
       "    </tr>\n",
       "    <tr>\n",
       "      <th>ngram</th>\n",
       "      <th></th>\n",
       "      <th></th>\n",
       "    </tr>\n",
       "  </thead>\n",
       "  <tbody>\n",
       "    <tr>\n",
       "      <th>economic</th>\n",
       "      <td>-1.861193</td>\n",
       "      <td>econ</td>\n",
       "    </tr>\n",
       "    <tr>\n",
       "      <th>school</th>\n",
       "      <td>-1.686917</td>\n",
       "      <td>econ</td>\n",
       "    </tr>\n",
       "    <tr>\n",
       "      <th>foreign</th>\n",
       "      <td>-1.654052</td>\n",
       "      <td>econ</td>\n",
       "    </tr>\n",
       "    <tr>\n",
       "      <th>united</th>\n",
       "      <td>-1.524753</td>\n",
       "      <td>econ</td>\n",
       "    </tr>\n",
       "    <tr>\n",
       "      <th>trade</th>\n",
       "      <td>-1.498238</td>\n",
       "      <td>econ</td>\n",
       "    </tr>\n",
       "    <tr>\n",
       "      <th>...</th>\n",
       "      <td>...</td>\n",
       "      <td>...</td>\n",
       "    </tr>\n",
       "    <tr>\n",
       "      <th>front</th>\n",
       "      <td>1.654495</td>\n",
       "      <td>soc</td>\n",
       "    </tr>\n",
       "    <tr>\n",
       "      <th>society</th>\n",
       "      <td>1.818154</td>\n",
       "      <td>soc</td>\n",
       "    </tr>\n",
       "    <tr>\n",
       "      <th>wales</th>\n",
       "      <td>1.936761</td>\n",
       "      <td>soc</td>\n",
       "    </tr>\n",
       "    <tr>\n",
       "      <th>care</th>\n",
       "      <td>1.974936</td>\n",
       "      <td>soc</td>\n",
       "    </tr>\n",
       "    <tr>\n",
       "      <th>scotland</th>\n",
       "      <td>1.982720</td>\n",
       "      <td>soc</td>\n",
       "    </tr>\n",
       "  </tbody>\n",
       "</table>\n",
       "<p>138 rows × 2 columns</p>\n",
       "</div>"
      ],
      "text/plain": [
       "           z-score class\n",
       "ngram                   \n",
       "economic -1.861193  econ\n",
       "school   -1.686917  econ\n",
       "foreign  -1.654052  econ\n",
       "united   -1.524753  econ\n",
       "trade    -1.498238  econ\n",
       "...            ...   ...\n",
       "front     1.654495   soc\n",
       "society   1.818154   soc\n",
       "wales     1.936761   soc\n",
       "care      1.974936   soc\n",
       "scotland  1.982720   soc\n",
       "\n",
       "[138 rows x 2 columns]"
      ]
     },
     "execution_count": 9,
     "metadata": {},
     "output_type": "execute_result"
    }
   ],
   "source": [
    "fw_sum[0][fw_sum[0]['z-score'].between(-2, 2)]"
   ]
  },
  {
   "cell_type": "code",
   "execution_count": 10,
   "id": "9a47aca9",
   "metadata": {
    "ExecuteTime": {
     "end_time": "2021-11-30T20:19:20.106667Z",
     "start_time": "2021-11-30T20:19:20.077743Z"
    }
   },
   "outputs": [
    {
     "data": {
      "text/plain": [
       "(['plague',\n",
       "  'medical',\n",
       "  'social',\n",
       "  'abroad',\n",
       "  'work',\n",
       "  'parliament',\n",
       "  'philanthropy',\n",
       "  'charities',\n",
       "  'nursing',\n",
       "  'fever',\n",
       "  'editorials',\n",
       "  'child',\n",
       "  'indian',\n",
       "  'reports',\n",
       "  'family'],\n",
       " ['article',\n",
       "  'review',\n",
       "  'insurance',\n",
       "  'industries',\n",
       "  'home',\n",
       "  'economic',\n",
       "  'school',\n",
       "  'foreign',\n",
       "  'united',\n",
       "  'trade',\n",
       "  'city',\n",
       "  'prices',\n",
       "  'economics',\n",
       "  'tariff',\n",
       "  'theory'])"
      ]
     },
     "execution_count": 10,
     "metadata": {},
     "output_type": "execute_result"
    }
   ],
   "source": [
    "fw[0].get_top_k_ngrams(15)"
   ]
  },
  {
   "cell_type": "markdown",
   "id": "28b57f49",
   "metadata": {},
   "source": [
    "### Plot selected z-scores across time"
   ]
  },
  {
   "cell_type": "code",
   "execution_count": 11,
   "id": "84b5e137",
   "metadata": {
    "ExecuteTime": {
     "end_time": "2021-11-30T20:19:20.122624Z",
     "start_time": "2021-11-30T20:19:20.108660Z"
    },
    "scrolled": true
   },
   "outputs": [],
   "source": [
    "def pltZ(fw, word):\n",
    "    yrs=np.linspace(start=1900, stop=2020, num=12).astype(np.int32)\n",
    "    p = plt.plot(yrs, [tryInt(scores.get_zscore(word), flt=True) for scores in fw]);\n",
    "    p = plt.axhline(y=0, color='r', linestyle='-');\n",
    "    p = plt.ylabel(\"econ <---> soc\");\n",
    "    return(p)"
   ]
  },
  {
   "cell_type": "code",
   "execution_count": 16,
   "id": "f3b61514",
   "metadata": {
    "ExecuteTime": {
     "end_time": "2021-11-30T20:23:40.301692Z",
     "start_time": "2021-11-30T20:23:40.159042Z"
    }
   },
   "outputs": [
    {
     "data": {
      "text/plain": [
       "Text(0, 0.5, 'econ <---> soc')"
      ]
     },
     "execution_count": 16,
     "metadata": {},
     "output_type": "execute_result"
    },
    {
     "data": {
      "image/png": "[encoded data removed]",
      "text/plain": [
       "<Figure size 432x288 with 1 Axes>"
      ]
     },
     "metadata": {
      "needs_background": "light"
     },
     "output_type": "display_data"
    }
   ],
   "source": [
    "pltZ(fw, \"inequality\")"
   ]
  },
  {
   "cell_type": "code",
   "execution_count": 13,
   "id": "e8732675",
   "metadata": {
    "ExecuteTime": {
     "end_time": "2021-11-30T20:19:20.368965Z",
     "start_time": "2021-11-30T20:19:20.356001Z"
    }
   },
   "outputs": [],
   "source": [
    "# eof"
   ]
  }
 ],
 "metadata": {
  "kernelspec": {
   "display_name": "Python 3",
   "language": "python",
   "name": "python3"
  },
  "language_info": {
   "codemirror_mode": {
    "name": "ipython",
    "version": 3
   },
   "file_extension": ".py",
   "mimetype": "text/x-python",
   "name": "python",
   "nbconvert_exporter": "python",
   "pygments_lexer": "ipython3",
   "version": "3.9.2"
  },
  "varInspector": {
   "cols": {
    "lenName": 16,
    "lenType": 16,
    "lenVar": 40
   },
   "kernels_config": {
    "python": {
     "delete_cmd_postfix": "",
     "delete_cmd_prefix": "del ",
     "library": "var_list.py",
     "varRefreshCmd": "print(var_dic_list())"
    },
    "r": {
     "delete_cmd_postfix": ") ",
     "delete_cmd_prefix": "rm(",
     "library": "var_list.r",
     "varRefreshCmd": "cat(var_dic_list()) "
    }
   },
   "position": {
    "height": "333.844px",
    "left": "2191px",
    "right": "20px",
    "top": "121px",
    "width": "350px"
   },
   "types_to_exclude": [
    "module",
    "function",
    "builtin_function_or_method",
    "instance",
    "_Feature"
   ],
   "window_display": false
  }
 },
 "nbformat": 4,
 "nbformat_minor": 5
}
