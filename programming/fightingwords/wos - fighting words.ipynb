{
 "cells": [
  {
   "cell_type": "markdown",
   "id": "4de67f6a",
   "metadata": {},
   "source": [
    "# Web of Science - Fighting words analysis"
   ]
  },
  {
   "cell_type": "markdown",
   "id": "4776f323",
   "metadata": {},
   "source": [
    "### Load wos_econ, wos_soc and join them\n"
   ]
  },
  {
   "cell_type": "code",
   "execution_count": 6,
   "id": "f9ee7fe2",
   "metadata": {
    "ExecuteTime": {
     "end_time": "2021-12-15T17:59:33.717956Z",
     "start_time": "2021-12-15T17:59:33.697375Z"
    },
    "scrolled": true
   },
   "outputs": [],
   "source": [
    "import sys\n",
    "sys.path.append(\"./../helper\") # find scripts\n",
    "maxInt = sys.maxsize\n",
    "\n",
    "from common_imports import *\n",
    "from helpers import *\n",
    "\n",
    "#from load_data import wos_soc, wos_econ   # web of science\n",
    "from load_constellate import wos_soc, wos_econ # constellate\n",
    "\n",
    "import convokit\n",
    "from convokit import FightingWords\n",
    "from convokit import Corpus, Utterance, Speaker\n",
    "\n",
    "import matplotlib.pyplot as plt\n",
    "\n",
    "from IPython.core.interactiveshell import InteractiveShell\n",
    "InteractiveShell.ast_node_interactivity = \"all\""
   ]
  },
  {
   "cell_type": "code",
   "execution_count": 7,
   "id": "902d197b",
   "metadata": {
    "ExecuteTime": {
     "end_time": "2021-12-15T17:59:34.534709Z",
     "start_time": "2021-12-15T17:59:34.425377Z"
    }
   },
   "outputs": [],
   "source": [
    "wos = wos_econ+wos_soc"
   ]
  },
  {
   "cell_type": "markdown",
   "id": "eeed30ba",
   "metadata": {},
   "source": [
    "### Create convokit corpuses by decade"
   ]
  },
  {
   "cell_type": "code",
   "execution_count": 8,
   "id": "536eaafb",
   "metadata": {
    "ExecuteTime": {
     "end_time": "2021-12-15T18:00:50.130960Z",
     "start_time": "2021-12-15T18:00:30.092620Z"
    },
    "scrolled": true
   },
   "outputs": [],
   "source": [
    "tstart = 1901\n",
    "corpuses = [] # container to save corpuses by decade\n",
    "\n",
    "while tstart<=2011:\n",
    "    \n",
    "    utterances = [] # container to save utterances by decade\n",
    "    \n",
    "    tend=tstart+9 # last year of decade\n",
    "    \n",
    "    \n",
    "    articles_dec = [article for article in wos if tryInt(article['year']) in range(tstart, tend)]\n",
    "        \n",
    "    for article in articles_dec:\n",
    "        utterances.append( Utterance(id=str(article['id']), conversation_id=str(article['id']), text=article['title'], speaker=Speaker(id=str(article['author'])), meta={'discipline': article['discipline']}) )\n",
    "    \n",
    "    corpuses.append( Corpus(utterances=utterances) )   \n",
    "        \n",
    "    \n",
    "    tstart+=10 # go to next decade"
   ]
  },
  {
   "cell_type": "code",
   "execution_count": 9,
   "id": "dad26e85",
   "metadata": {
    "ExecuteTime": {
     "end_time": "2021-12-15T18:00:52.030665Z",
     "start_time": "2021-12-15T18:00:52.016195Z"
    }
   },
   "outputs": [
    {
     "data": {
      "text/plain": [
       "12"
      ]
     },
     "execution_count": 9,
     "metadata": {},
     "output_type": "execute_result"
    }
   ],
   "source": [
    "len(corpuses)"
   ]
  },
  {
   "cell_type": "code",
   "execution_count": 10,
   "id": "e5a24573",
   "metadata": {
    "ExecuteTime": {
     "end_time": "2021-12-15T18:00:53.923658Z",
     "start_time": "2021-12-15T18:00:53.646080Z"
    }
   },
   "outputs": [
    {
     "data": {
      "text/plain": [
       "Utterance({'obj_type': 'utterance', 'meta': {'discipline': 'econ'}, 'vectors': [], 'speaker': Speaker({'obj_type': 'speaker', 'meta': {}, 'vectors': [], 'owner': None, 'id': ''}), 'conversation_id': '190031', 'reply_to': None, 'timestamp': None, 'text': 'analysis profit endowment assurances discussion', 'owner': <convokit.model.corpus.Corpus object at 0x000001DE7C516B50>, 'id': '190031'})"
      ]
     },
     "execution_count": 10,
     "metadata": {},
     "output_type": "execute_result"
    },
    {
     "data": {
      "text/html": [
       "<div>\n",
       "<style scoped>\n",
       "    .dataframe tbody tr th:only-of-type {\n",
       "        vertical-align: middle;\n",
       "    }\n",
       "\n",
       "    .dataframe tbody tr th {\n",
       "        vertical-align: top;\n",
       "    }\n",
       "\n",
       "    .dataframe thead th {\n",
       "        text-align: right;\n",
       "    }\n",
       "</style>\n",
       "<table border=\"1\" class=\"dataframe\">\n",
       "  <thead>\n",
       "    <tr style=\"text-align: right;\">\n",
       "      <th></th>\n",
       "      <th>timestamp</th>\n",
       "      <th>text</th>\n",
       "      <th>speaker</th>\n",
       "      <th>reply_to</th>\n",
       "      <th>conversation_id</th>\n",
       "      <th>meta.discipline</th>\n",
       "      <th>vectors</th>\n",
       "    </tr>\n",
       "    <tr>\n",
       "      <th>id</th>\n",
       "      <th></th>\n",
       "      <th></th>\n",
       "      <th></th>\n",
       "      <th></th>\n",
       "      <th></th>\n",
       "      <th></th>\n",
       "      <th></th>\n",
       "    </tr>\n",
       "  </thead>\n",
       "  <tbody>\n",
       "    <tr>\n",
       "      <th>105714</th>\n",
       "      <td>None</td>\n",
       "      <td>educational intelligence</td>\n",
       "      <td></td>\n",
       "      <td>None</td>\n",
       "      <td>105714</td>\n",
       "      <td>econ</td>\n",
       "      <td>[]</td>\n",
       "    </tr>\n",
       "    <tr>\n",
       "      <th>106035</th>\n",
       "      <td>None</td>\n",
       "      <td>editorial</td>\n",
       "      <td></td>\n",
       "      <td>None</td>\n",
       "      <td>106035</td>\n",
       "      <td>econ</td>\n",
       "      <td>[]</td>\n",
       "    </tr>\n",
       "    <tr>\n",
       "      <th>106072</th>\n",
       "      <td>None</td>\n",
       "      <td>front matter</td>\n",
       "      <td></td>\n",
       "      <td>None</td>\n",
       "      <td>106072</td>\n",
       "      <td>econ</td>\n",
       "      <td>[]</td>\n",
       "    </tr>\n",
       "    <tr>\n",
       "      <th>106153</th>\n",
       "      <td>None</td>\n",
       "      <td>editorial notes</td>\n",
       "      <td></td>\n",
       "      <td>None</td>\n",
       "      <td>106153</td>\n",
       "      <td>econ</td>\n",
       "      <td>[]</td>\n",
       "    </tr>\n",
       "    <tr>\n",
       "      <th>107054</th>\n",
       "      <td>None</td>\n",
       "      <td>closing exercise</td>\n",
       "      <td></td>\n",
       "      <td>None</td>\n",
       "      <td>107054</td>\n",
       "      <td>econ</td>\n",
       "      <td>[]</td>\n",
       "    </tr>\n",
       "  </tbody>\n",
       "</table>\n",
       "</div>"
      ],
      "text/plain": [
       "       timestamp                      text speaker reply_to conversation_id  \\\n",
       "id                                                                            \n",
       "105714      None  educational intelligence             None          105714   \n",
       "106035      None                 editorial             None          106035   \n",
       "106072      None              front matter             None          106072   \n",
       "106153      None           editorial notes             None          106153   \n",
       "107054      None          closing exercise             None          107054   \n",
       "\n",
       "       meta.discipline vectors  \n",
       "id                              \n",
       "105714            econ      []  \n",
       "106035            econ      []  \n",
       "106072            econ      []  \n",
       "106153            econ      []  \n",
       "107054            econ      []  "
      ]
     },
     "execution_count": 10,
     "metadata": {},
     "output_type": "execute_result"
    }
   ],
   "source": [
    "corpuses[0].random_utterance() # random article from first decade\n",
    "corpuses[0].get_utterances_dataframe().head() # dataframe of articles from first decade"
   ]
  },
  {
   "cell_type": "markdown",
   "id": "415a00ad",
   "metadata": {},
   "source": [
    "### Fighting words analysis by decade"
   ]
  },
  {
   "cell_type": "code",
   "execution_count": 11,
   "id": "2ce23ece",
   "metadata": {
    "ExecuteTime": {
     "end_time": "2021-12-15T18:04:58.391527Z",
     "start_time": "2021-12-15T18:01:07.962801Z"
    }
   },
   "outputs": [
    {
     "name": "stdout",
     "output_type": "stream",
     "text": [
      "0\n",
      "Initializing default CountVectorizer with ngram_range (1, 1)... Done.\n",
      "class1_func returned 845 valid corpus components. class2_func returned 1955 valid corpus components.\n",
      "Vocab size is 222\n",
      "Comparing language...\n",
      "ngram zscores computed.\n"
     ]
    },
    {
     "data": {
      "text/plain": [
       "<convokit.fighting_words.fightingWords.FightingWords at 0x1de3701fc40>"
      ]
     },
     "execution_count": 11,
     "metadata": {},
     "output_type": "execute_result"
    },
    {
     "name": "stdout",
     "output_type": "stream",
     "text": [
      "1\n",
      "Initializing default CountVectorizer with ngram_range (1, 1)... Done.\n",
      "class1_func returned 1286 valid corpus components. class2_func returned 3928 valid corpus components.\n",
      "Vocab size is 407\n",
      "Comparing language...\n",
      "ngram zscores computed.\n"
     ]
    },
    {
     "data": {
      "text/plain": [
       "<convokit.fighting_words.fightingWords.FightingWords at 0x1de3703ba30>"
      ]
     },
     "execution_count": 11,
     "metadata": {},
     "output_type": "execute_result"
    },
    {
     "name": "stdout",
     "output_type": "stream",
     "text": [
      "2\n",
      "Initializing default CountVectorizer with ngram_range (1, 1)... Done.\n",
      "class1_func returned 1972 valid corpus components. class2_func returned 5344 valid corpus components.\n",
      "Vocab size is 557\n",
      "Comparing language...\n",
      "ngram zscores computed.\n"
     ]
    },
    {
     "data": {
      "text/plain": [
       "<convokit.fighting_words.fightingWords.FightingWords at 0x1de3703bee0>"
      ]
     },
     "execution_count": 11,
     "metadata": {},
     "output_type": "execute_result"
    },
    {
     "name": "stdout",
     "output_type": "stream",
     "text": [
      "3\n",
      "Initializing default CountVectorizer with ngram_range (1, 1)... Done.\n",
      "class1_func returned 3024 valid corpus components. class2_func returned 9142 valid corpus components.\n",
      "Vocab size is 814\n",
      "Comparing language...\n",
      "ngram zscores computed.\n"
     ]
    },
    {
     "data": {
      "text/plain": [
       "<convokit.fighting_words.fightingWords.FightingWords at 0x1de3703bf70>"
      ]
     },
     "execution_count": 11,
     "metadata": {},
     "output_type": "execute_result"
    },
    {
     "name": "stdout",
     "output_type": "stream",
     "text": [
      "4\n",
      "Initializing default CountVectorizer with ngram_range (1, 1)... Done.\n",
      "class1_func returned 3678 valid corpus components. class2_func returned 10281 valid corpus components.\n",
      "Vocab size is 915\n",
      "Comparing language...\n",
      "ngram zscores computed.\n"
     ]
    },
    {
     "data": {
      "text/plain": [
       "<convokit.fighting_words.fightingWords.FightingWords at 0x1de34c105b0>"
      ]
     },
     "execution_count": 11,
     "metadata": {},
     "output_type": "execute_result"
    },
    {
     "name": "stdout",
     "output_type": "stream",
     "text": [
      "5\n",
      "Initializing default CountVectorizer with ngram_range (1, 1)... Done.\n",
      "class1_func returned 5318 valid corpus components. class2_func returned 14331 valid corpus components.\n",
      "Vocab size is 1289\n",
      "Comparing language...\n",
      "ngram zscores computed.\n"
     ]
    },
    {
     "data": {
      "text/plain": [
       "<convokit.fighting_words.fightingWords.FightingWords at 0x1de34c10880>"
      ]
     },
     "execution_count": 11,
     "metadata": {},
     "output_type": "execute_result"
    },
    {
     "name": "stdout",
     "output_type": "stream",
     "text": [
      "6\n",
      "Initializing default CountVectorizer with ngram_range (1, 1)... Done.\n",
      "class1_func returned 7217 valid corpus components. class2_func returned 20900 valid corpus components.\n",
      "Vocab size is 1785\n",
      "Comparing language...\n",
      "ngram zscores computed.\n"
     ]
    },
    {
     "data": {
      "text/plain": [
       "<convokit.fighting_words.fightingWords.FightingWords at 0x1de34c10910>"
      ]
     },
     "execution_count": 11,
     "metadata": {},
     "output_type": "execute_result"
    },
    {
     "name": "stdout",
     "output_type": "stream",
     "text": [
      "7\n",
      "Initializing default CountVectorizer with ngram_range (1, 1)... Done.\n",
      "class1_func returned 11764 valid corpus components. class2_func returned 34814 valid corpus components.\n",
      "Vocab size is 2792\n",
      "Comparing language...\n",
      "ngram zscores computed.\n"
     ]
    },
    {
     "data": {
      "text/plain": [
       "<convokit.fighting_words.fightingWords.FightingWords at 0x1de34c10f10>"
      ]
     },
     "execution_count": 11,
     "metadata": {},
     "output_type": "execute_result"
    },
    {
     "name": "stdout",
     "output_type": "stream",
     "text": [
      "8\n",
      "Initializing default CountVectorizer with ngram_range (1, 1)... Done.\n",
      "class1_func returned 13492 valid corpus components. class2_func returned 43598 valid corpus components.\n",
      "Vocab size is 3511\n",
      "Comparing language...\n",
      "ngram zscores computed.\n"
     ]
    },
    {
     "data": {
      "text/plain": [
       "<convokit.fighting_words.fightingWords.FightingWords at 0x1de3703bfd0>"
      ]
     },
     "execution_count": 11,
     "metadata": {},
     "output_type": "execute_result"
    },
    {
     "name": "stdout",
     "output_type": "stream",
     "text": [
      "9\n",
      "Initializing default CountVectorizer with ngram_range (1, 1)... Done.\n",
      "class1_func returned 15178 valid corpus components. class2_func returned 49751 valid corpus components.\n",
      "Vocab size is 4072\n",
      "Comparing language...\n",
      "ngram zscores computed.\n"
     ]
    },
    {
     "data": {
      "text/plain": [
       "<convokit.fighting_words.fightingWords.FightingWords at 0x1de39ecf490>"
      ]
     },
     "execution_count": 11,
     "metadata": {},
     "output_type": "execute_result"
    },
    {
     "name": "stdout",
     "output_type": "stream",
     "text": [
      "10\n",
      "Initializing default CountVectorizer with ngram_range (1, 1)... Done.\n",
      "class1_func returned 17514 valid corpus components. class2_func returned 55450 valid corpus components.\n",
      "Vocab size is 4962\n",
      "Comparing language...\n",
      "ngram zscores computed.\n"
     ]
    },
    {
     "data": {
      "text/plain": [
       "<convokit.fighting_words.fightingWords.FightingWords at 0x1de39ecfa90>"
      ]
     },
     "execution_count": 11,
     "metadata": {},
     "output_type": "execute_result"
    },
    {
     "name": "stdout",
     "output_type": "stream",
     "text": [
      "11\n",
      "Initializing default CountVectorizer with ngram_range (1, 1)... Done.\n",
      "class1_func returned 13654 valid corpus components. class2_func returned 40679 valid corpus components.\n",
      "Vocab size is 4420\n",
      "Comparing language...\n",
      "ngram zscores computed.\n"
     ]
    },
    {
     "data": {
      "text/plain": [
       "<convokit.fighting_words.fightingWords.FightingWords at 0x1de375fc6d0>"
      ]
     },
     "execution_count": 11,
     "metadata": {},
     "output_type": "execute_result"
    }
   ],
   "source": [
    "fw = []\n",
    "fw_sum = []\n",
    "for i, corpus in enumerate(corpuses):\n",
    "    print(i)\n",
    "    fw.append( FightingWords(ngram_range=(1,1)) )\n",
    "    fw[i].fit(corpus, class1_func=lambda utt: utt.meta['discipline'] == 'soc',\n",
    "                      class2_func=lambda utt: utt.meta['discipline'] == 'econ')\n",
    "    fw_sum.append( fw[i].summarize(corpus, plot=False, class1_name='soc', class2_name='econ')  ) "
   ]
  },
  {
   "cell_type": "markdown",
   "id": "c6e95e24",
   "metadata": {},
   "source": [
    "### Descriptives"
   ]
  },
  {
   "cell_type": "code",
   "execution_count": 12,
   "id": "613ffb63",
   "metadata": {
    "ExecuteTime": {
     "end_time": "2021-12-15T18:09:26.568467Z",
     "start_time": "2021-12-15T18:09:26.538880Z"
    }
   },
   "outputs": [
    {
     "data": {
      "text/html": [
       "<div>\n",
       "<style scoped>\n",
       "    .dataframe tbody tr th:only-of-type {\n",
       "        vertical-align: middle;\n",
       "    }\n",
       "\n",
       "    .dataframe tbody tr th {\n",
       "        vertical-align: top;\n",
       "    }\n",
       "\n",
       "    .dataframe thead th {\n",
       "        text-align: right;\n",
       "    }\n",
       "</style>\n",
       "<table border=\"1\" class=\"dataframe\">\n",
       "  <thead>\n",
       "    <tr style=\"text-align: right;\">\n",
       "      <th></th>\n",
       "      <th>z-score</th>\n",
       "      <th>class</th>\n",
       "    </tr>\n",
       "    <tr>\n",
       "      <th>ngram</th>\n",
       "      <th></th>\n",
       "      <th></th>\n",
       "    </tr>\n",
       "  </thead>\n",
       "  <tbody>\n",
       "    <tr>\n",
       "      <th>prices</th>\n",
       "      <td>-1.902266</td>\n",
       "      <td>econ</td>\n",
       "    </tr>\n",
       "    <tr>\n",
       "      <th>recent</th>\n",
       "      <td>-1.866614</td>\n",
       "      <td>econ</td>\n",
       "    </tr>\n",
       "    <tr>\n",
       "      <th>economic</th>\n",
       "      <td>-1.841564</td>\n",
       "      <td>econ</td>\n",
       "    </tr>\n",
       "    <tr>\n",
       "      <th>labour</th>\n",
       "      <td>-1.833073</td>\n",
       "      <td>econ</td>\n",
       "    </tr>\n",
       "    <tr>\n",
       "      <th>kingdom</th>\n",
       "      <td>-1.759214</td>\n",
       "      <td>econ</td>\n",
       "    </tr>\n",
       "    <tr>\n",
       "      <th>...</th>\n",
       "      <td>...</td>\n",
       "      <td>...</td>\n",
       "    </tr>\n",
       "    <tr>\n",
       "      <th>philadelphia</th>\n",
       "      <td>1.831985</td>\n",
       "      <td>soc</td>\n",
       "    </tr>\n",
       "    <tr>\n",
       "      <th>development</th>\n",
       "      <td>1.841310</td>\n",
       "      <td>soc</td>\n",
       "    </tr>\n",
       "    <tr>\n",
       "      <th>first</th>\n",
       "      <td>1.897506</td>\n",
       "      <td>soc</td>\n",
       "    </tr>\n",
       "    <tr>\n",
       "      <th>quarantine</th>\n",
       "      <td>1.897506</td>\n",
       "      <td>soc</td>\n",
       "    </tr>\n",
       "    <tr>\n",
       "      <th>philanthropy</th>\n",
       "      <td>1.921258</td>\n",
       "      <td>soc</td>\n",
       "    </tr>\n",
       "  </tbody>\n",
       "</table>\n",
       "<p>190 rows × 2 columns</p>\n",
       "</div>"
      ],
      "text/plain": [
       "               z-score class\n",
       "ngram                       \n",
       "prices       -1.902266  econ\n",
       "recent       -1.866614  econ\n",
       "economic     -1.841564  econ\n",
       "labour       -1.833073  econ\n",
       "kingdom      -1.759214  econ\n",
       "...                ...   ...\n",
       "philadelphia  1.831985   soc\n",
       "development   1.841310   soc\n",
       "first         1.897506   soc\n",
       "quarantine    1.897506   soc\n",
       "philanthropy  1.921258   soc\n",
       "\n",
       "[190 rows x 2 columns]"
      ]
     },
     "execution_count": 12,
     "metadata": {},
     "output_type": "execute_result"
    }
   ],
   "source": [
    "fw_sum[0][fw_sum[0]['z-score'].between(-2, 2)]"
   ]
  },
  {
   "cell_type": "code",
   "execution_count": 14,
   "id": "9a47aca9",
   "metadata": {
    "ExecuteTime": {
     "end_time": "2021-12-15T18:10:10.953859Z",
     "start_time": "2021-12-15T18:10:10.923548Z"
    }
   },
   "outputs": [
    {
     "data": {
      "text/plain": [
       "(['article',\n",
       "  'review',\n",
       "  'social',\n",
       "  'gender',\n",
       "  'women',\n",
       "  'black',\n",
       "  'life',\n",
       "  'sexual',\n",
       "  'being',\n",
       "  'identity',\n",
       "  'family',\n",
       "  'religious',\n",
       "  'well',\n",
       "  'violence',\n",
       "  'community'],\n",
       " ['evidence',\n",
       "  'financial',\n",
       "  'market',\n",
       "  'policy',\n",
       "  'growth',\n",
       "  'trade',\n",
       "  'economic',\n",
       "  'industry',\n",
       "  'insurance',\n",
       "  'investment',\n",
       "  'markets',\n",
       "  'economics',\n",
       "  'price',\n",
       "  'corporate',\n",
       "  'economy'])"
      ]
     },
     "execution_count": 14,
     "metadata": {},
     "output_type": "execute_result"
    }
   ],
   "source": [
    "fw[11].get_top_k_ngrams(15)"
   ]
  },
  {
   "cell_type": "code",
   "execution_count": 15,
   "id": "df415fd5",
   "metadata": {
    "ExecuteTime": {
     "end_time": "2021-12-15T18:10:19.048469Z",
     "start_time": "2021-12-15T18:10:19.031690Z"
    }
   },
   "outputs": [
    {
     "data": {
      "text/plain": [
       "12"
      ]
     },
     "execution_count": 15,
     "metadata": {},
     "output_type": "execute_result"
    }
   ],
   "source": []
  },
  {
   "cell_type": "markdown",
   "id": "28b57f49",
   "metadata": {},
   "source": [
    "### Plot selected z-scores across time"
   ]
  },
  {
   "cell_type": "code",
   "execution_count": 43,
   "id": "84b5e137",
   "metadata": {
    "ExecuteTime": {
     "end_time": "2021-12-15T18:24:06.341942Z",
     "start_time": "2021-12-15T18:24:06.336705Z"
    },
    "scrolled": true
   },
   "outputs": [],
   "source": [
    "def pltZ(fw, word):\n",
    "    yrs=np.linspace(start=1900, stop=2020, num=12).astype(np.int32)\n",
    "    p = plt.plot(yrs, [tryInt(scores.get_zscore(word), flt=True) for scores in fw]);\n",
    "    p = plt.axhline(y=0, color='r', linestyle='-');\n",
    "    p = plt.ylabel(\"econ <---> soc\");\n",
    "    p = plt.title(\"Term: \"+word)\n",
    "    return(p)"
   ]
  },
  {
   "cell_type": "code",
   "execution_count": 101,
   "id": "f3b61514",
   "metadata": {
    "ExecuteTime": {
     "end_time": "2021-12-15T19:14:48.433925Z",
     "start_time": "2021-12-15T19:14:46.979900Z"
    }
   },
   "outputs": [
    {
     "data": {
      "text/plain": [
       "<AxesSubplot:>"
      ]
     },
     "execution_count": 101,
     "metadata": {},
     "output_type": "execute_result"
    },
    {
     "data": {
      "text/plain": [
       "Text(0.5, 1.0, 'Term: family')"
      ]
     },
     "execution_count": 101,
     "metadata": {},
     "output_type": "execute_result"
    },
    {
     "data": {
      "text/plain": [
       "<AxesSubplot:>"
      ]
     },
     "execution_count": 101,
     "metadata": {},
     "output_type": "execute_result"
    },
    {
     "data": {
      "text/plain": [
       "Text(0.5, 1.0, 'Term: education')"
      ]
     },
     "execution_count": 101,
     "metadata": {},
     "output_type": "execute_result"
    },
    {
     "data": {
      "text/plain": [
       "<AxesSubplot:>"
      ]
     },
     "execution_count": 101,
     "metadata": {},
     "output_type": "execute_result"
    },
    {
     "data": {
      "text/plain": [
       "Text(0.5, 1.0, 'Term: women')"
      ]
     },
     "execution_count": 101,
     "metadata": {},
     "output_type": "execute_result"
    },
    {
     "data": {
      "text/plain": [
       "<AxesSubplot:>"
      ]
     },
     "execution_count": 101,
     "metadata": {},
     "output_type": "execute_result"
    },
    {
     "data": {
      "text/plain": [
       "Text(0.5, 1.0, 'Term: organization')"
      ]
     },
     "execution_count": 101,
     "metadata": {},
     "output_type": "execute_result"
    },
    {
     "data": {
      "text/plain": [
       "<AxesSubplot:>"
      ]
     },
     "execution_count": 101,
     "metadata": {},
     "output_type": "execute_result"
    },
    {
     "data": {
      "text/plain": [
       "Text(0.5, 1.0, 'Term: migration')"
      ]
     },
     "execution_count": 101,
     "metadata": {},
     "output_type": "execute_result"
    },
    {
     "data": {
      "text/plain": [
       "<AxesSubplot:>"
      ]
     },
     "execution_count": 101,
     "metadata": {},
     "output_type": "execute_result"
    },
    {
     "data": {
      "text/plain": [
       "Text(0.5, 1.0, 'Term: policy')"
      ]
     },
     "execution_count": 101,
     "metadata": {},
     "output_type": "execute_result"
    },
    {
     "data": {
      "text/plain": [
       "<AxesSubplot:>"
      ]
     },
     "execution_count": 101,
     "metadata": {},
     "output_type": "execute_result"
    },
    {
     "data": {
      "text/plain": [
       "Text(0.5, 1.0, 'Term: government')"
      ]
     },
     "execution_count": 101,
     "metadata": {},
     "output_type": "execute_result"
    },
    {
     "data": {
      "text/plain": [
       "<AxesSubplot:>"
      ]
     },
     "execution_count": 101,
     "metadata": {},
     "output_type": "execute_result"
    },
    {
     "data": {
      "text/plain": [
       "Text(0.5, 1.0, 'Term: inequality')"
      ]
     },
     "execution_count": 101,
     "metadata": {},
     "output_type": "execute_result"
    },
    {
     "data": {
      "text/plain": [
       "<AxesSubplot:>"
      ]
     },
     "execution_count": 101,
     "metadata": {},
     "output_type": "execute_result"
    },
    {
     "data": {
      "text/plain": [
       "Text(0.5, 1.0, 'Term: racial')"
      ]
     },
     "execution_count": 101,
     "metadata": {},
     "output_type": "execute_result"
    },
    {
     "data": {
      "text/plain": [
       "<AxesSubplot:>"
      ]
     },
     "execution_count": 101,
     "metadata": {},
     "output_type": "execute_result"
    },
    {
     "data": {
      "text/plain": [
       "Text(0.5, 1.0, 'Term: ties')"
      ]
     },
     "execution_count": 101,
     "metadata": {},
     "output_type": "execute_result"
    },
    {
     "data": {
      "image/png": "[encoded data removed]",
      "text/plain": [
       "<Figure size 1440x576 with 10 Axes>"
      ]
     },
     "metadata": {
      "needs_background": "light"
     },
     "output_type": "display_data"
    }
   ],
   "source": [
    "import numpy as np\n",
    "import matplotlib.pyplot as plt\n",
    "\n",
    "\n",
    "f = plt.figure(figsize=(20,8))\n",
    "\n",
    "r=2\n",
    "c=5\n",
    "\n",
    "plt.subplot(r, c, 1) \n",
    "pltZ(fw, \"family\")\n",
    "\n",
    "plt.subplot(r, c, 2)\n",
    "pltZ(fw, \"education\")\n",
    "\n",
    "plt.subplot(r, c, 3)\n",
    "pltZ(fw, \"women\")\n",
    "\n",
    "plt.subplot(r, c, 4)\n",
    "pltZ(fw, \"organization\")\n",
    "\n",
    "plt.subplot(r, c, 5)\n",
    "pltZ(fw, \"migration\")\n",
    "\n",
    "plt.subplot(r, c, 6) \n",
    "pltZ(fw, \"policy\")\n",
    "\n",
    "plt.subplot(r, c, 7)\n",
    "pltZ(fw, \"government\")\n",
    "\n",
    "plt.subplot(r, c, 8)\n",
    "pltZ(fw, \"inequality\")\n",
    "\n",
    "plt.subplot(r, c, 9)\n",
    "pltZ(fw, \"racial\")\n",
    "\n",
    "plt.subplot(r, c, 10)\n",
    "pltZ(fw, \"ties\")\n",
    "\n",
    "plt.show()"
   ]
  },
  {
   "cell_type": "code",
   "execution_count": 113,
   "id": "1f42bbf1",
   "metadata": {
    "ExecuteTime": {
     "end_time": "2021-12-15T19:23:22.168599Z",
     "start_time": "2021-12-15T19:23:21.766796Z"
    }
   },
   "outputs": [
    {
     "data": {
      "text/plain": [
       "<AxesSubplot:>"
      ]
     },
     "execution_count": 113,
     "metadata": {},
     "output_type": "execute_result"
    },
    {
     "data": {
      "text/plain": [
       "Text(0.5, 1.0, 'Term: theory')"
      ]
     },
     "execution_count": 113,
     "metadata": {},
     "output_type": "execute_result"
    },
    {
     "data": {
      "text/plain": [
       "<AxesSubplot:>"
      ]
     },
     "execution_count": 113,
     "metadata": {},
     "output_type": "execute_result"
    },
    {
     "data": {
      "text/plain": [
       "Text(0.5, 1.0, 'Term: experiment')"
      ]
     },
     "execution_count": 113,
     "metadata": {},
     "output_type": "execute_result"
    },
    {
     "data": {
      "text/plain": [
       "<AxesSubplot:>"
      ]
     },
     "execution_count": 113,
     "metadata": {},
     "output_type": "execute_result"
    },
    {
     "data": {
      "text/plain": [
       "Text(0.5, 1.0, 'Term: cause')"
      ]
     },
     "execution_count": 113,
     "metadata": {},
     "output_type": "execute_result"
    },
    {
     "data": {
      "text/plain": [
       "<AxesSubplot:>"
      ]
     },
     "execution_count": 113,
     "metadata": {},
     "output_type": "execute_result"
    },
    {
     "data": {
      "text/plain": [
       "Text(0.5, 1.0, 'Term: qualitative')"
      ]
     },
     "execution_count": 113,
     "metadata": {},
     "output_type": "execute_result"
    },
    {
     "data": {
      "image/png": "[encoded data removed]",
      "text/plain": [
       "<Figure size 1080x216 with 4 Axes>"
      ]
     },
     "metadata": {
      "needs_background": "light"
     },
     "output_type": "display_data"
    }
   ],
   "source": [
    "import numpy as np\n",
    "import matplotlib.pyplot as plt\n",
    "\n",
    "\n",
    "f = plt.figure(figsize=(15,3))\n",
    "\n",
    "r=1\n",
    "c=4\n",
    "\n",
    "plt.subplot(r, c, 1) \n",
    "pltZ(fw, \"theory\")\n",
    "\n",
    "plt.subplot(r, c, 2)\n",
    "pltZ(fw, \"experiment\")\n",
    "\n",
    "plt.subplot(r, c, 3)\n",
    "pltZ(fw, \"cause\")\n",
    "\n",
    "plt.subplot(r, c, 4)\n",
    "pltZ(fw, \"qualitative\")\n",
    "\n",
    "plt.show()"
   ]
  },
  {
   "cell_type": "code",
   "execution_count": 13,
   "id": "e8732675",
   "metadata": {
    "ExecuteTime": {
     "end_time": "2021-11-30T20:19:20.368965Z",
     "start_time": "2021-11-30T20:19:20.356001Z"
    }
   },
   "outputs": [],
   "source": [
    "# eof"
   ]
  }
 ],
 "metadata": {
  "kernelspec": {
   "display_name": "Python 3",
   "language": "python",
   "name": "python3"
  },
  "language_info": {
   "codemirror_mode": {
    "name": "ipython",
    "version": 3
   },
   "file_extension": ".py",
   "mimetype": "text/x-python",
   "name": "python",
   "nbconvert_exporter": "python",
   "pygments_lexer": "ipython3",
   "version": "3.9.2"
  },
  "varInspector": {
   "cols": {
    "lenName": 16,
    "lenType": 16,
    "lenVar": 40
   },
   "kernels_config": {
    "python": {
     "delete_cmd_postfix": "",
     "delete_cmd_prefix": "del ",
     "library": "var_list.py",
     "varRefreshCmd": "print(var_dic_list())"
    },
    "r": {
     "delete_cmd_postfix": ") ",
     "delete_cmd_prefix": "rm(",
     "library": "var_list.r",
     "varRefreshCmd": "cat(var_dic_list()) "
    }
   },
   "position": {
    "height": "333.844px",
    "left": "2191px",
    "right": "20px",
    "top": "121px",
    "width": "350px"
   },
   "types_to_exclude": [
    "module",
    "function",
    "builtin_function_or_method",
    "instance",
    "_Feature"
   ],
   "window_display": false
  }
 },
 "nbformat": 4,
 "nbformat_minor": 5
}
