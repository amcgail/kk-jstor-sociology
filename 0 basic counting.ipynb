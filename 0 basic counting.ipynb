{
 "cells": [
  {
   "cell_type": "markdown",
   "metadata": {},
   "source": [
    "[Google Drive link to these ZIP files](https://drive.google.com/drive/folders/1W2GPNJ3g5zkHQ3RAaz_S7-arONyKgCNR?usp=sharing)"
   ]
  },
  {
   "cell_type": "code",
   "execution_count": 9,
   "metadata": {},
   "outputs": [],
   "source": [
    "from counter import counter"
   ]
  },
  {
   "cell_type": "code",
   "execution_count": 10,
   "metadata": {},
   "outputs": [
    {
     "name": "stdout",
     "output_type": "stream",
     "text": [
      "Blank counter with no name\n"
     ]
    }
   ],
   "source": [
    "cc = counter()"
   ]
  },
  {
   "cell_type": "code",
   "execution_count": null,
   "metadata": {},
   "outputs": [
    {
     "name": "stdout",
     "output_type": "stream",
     "text": [
      "Will print updated statistics every 20 documents.\n",
      "Iterating over  248380 documents\n",
      "Document 0 ... \n",
      "\n",
      "Document 20 ... \n",
      "\t('fy', 't'): shape = (18, 96401), avg[>0] = 2.1, total size = 1.7M\n",
      "\t('fj', 't'): shape = (15, 96401), avg[>0] = 2.1, total size = 1.4M\n",
      "\t('fy',): shape = (18,), avg[>0] = 14708.1, total size = 0.0M\n",
      "\t('t',): shape = (96401,), avg[>0] = 2.8, total size = 0.1M\n",
      "\t('fj',): shape = (15,), avg[>0] = 16809.3, total size = 0.0M\n"
     ]
    }
   ],
   "source": [
    "cc.count(    \n",
    "    jstor_zip_base = \"G:/My Drive/2020 ORGANISATION/1. PROJECTS/qualitative analysis of literature/110 CITATION ANALYSIS/000 data/sociology jstor\",\n",
    "    \n",
    "    SKIP_N = 10*5 - 1,\n",
    "    #MAX_N = 100,\n",
    "    combinations = [\n",
    "        ('fy','t'),\n",
    "        ('fj','t'),\n",
    "        #('fj','fy','t'),\n",
    "        ('fy',),\n",
    "        ('t',),\n",
    "        ('fj',),\n",
    "    ]\n",
    "    \n",
    ")"
   ]
  },
  {
   "cell_type": "code",
   "execution_count": 5,
   "metadata": {},
   "outputs": [
    {
     "data": {
      "text/plain": [
       "22677"
      ]
     },
     "execution_count": 5,
     "metadata": {},
     "output_type": "execute_result"
    }
   ],
   "source": [
    "cc(t='social')"
   ]
  },
  {
   "cell_type": "code",
   "execution_count": 7,
   "metadata": {},
   "outputs": [
    {
     "name": "stdout",
     "output_type": "stream",
     "text": [
      "Deleting 1.7M. Leaving 14,297.\n"
     ]
    }
   ],
   "source": [
    "# prune a bit before dumping it to disk\n",
    "to_delete = [t for t in cc.items('t') if cc(t=t) < 50]\n",
    "\n",
    "cc.delete('t', to_delete)\n",
    "cc.prune_zeros()"
   ]
  },
  {
   "cell_type": "code",
   "execution_count": 8,
   "metadata": {},
   "outputs": [
    {
     "data": {
      "text/plain": [
       "22677"
      ]
     },
     "execution_count": 8,
     "metadata": {},
     "output_type": "execute_result"
    }
   ],
   "source": [
    "cc(t='social')"
   ]
  },
  {
   "cell_type": "code",
   "execution_count": 9,
   "metadata": {},
   "outputs": [],
   "source": [
    "cc.save_counts('count2-pruned')"
   ]
  },
  {
   "cell_type": "markdown",
   "metadata": {},
   "source": [
    "# setting date range"
   ]
  },
  {
   "cell_type": "code",
   "execution_count": 4,
   "metadata": {},
   "outputs": [],
   "source": [
    "cc = counter('count2-pruned')"
   ]
  },
  {
   "cell_type": "code",
   "execution_count": 5,
   "metadata": {},
   "outputs": [],
   "source": [
    "mny = min(cc.items('fy'))\n",
    "mxy = max(cc.items('fy'))"
   ]
  },
  {
   "cell_type": "code",
   "execution_count": 8,
   "metadata": {},
   "outputs": [
    {
     "data": {
      "image/png": "[encoded data removed]",
      "text/plain": [
       "<Figure size 432x288 with 1 Axes>"
      ]
     },
     "metadata": {},
     "output_type": "display_data"
    }
   ],
   "source": [
    "ys = range(mny, mxy+1)\n",
    "cs = [cc(fy=y) for y in ys]\n",
    "\n",
    "plt.plot(ys,cs);"
   ]
  },
  {
   "cell_type": "markdown",
   "metadata": {},
   "source": [
    "# first filter based on number of times each term was mentioned\n",
    "\n",
    "We want this to be as wide a net we can stand for the next filtering processes.\n",
    "I cannot keep track of yearly counts of all terms, or even simple term counts (at least, not without dynamic consolidation), because of RAM limitations.\n",
    "Remember that I'm keeping track of all words, but also all two-word tuples!\n",
    "So this first stage is only using 1/10 of the documents (see above, SKIP_N)."
   ]
  },
  {
   "cell_type": "markdown",
   "metadata": {},
   "source": [
    "<!--At this point, subsetting the data now that we have a terms list will not help our memory issue.-->\n",
    "The term-term coocurrence network uses N^2 integers, which with 1M terms is 1M^2 = 1TB of memory.\n",
    "If we can limit to ~30,000 terms, approximately the working vocabulary of an adult, this would fit in 1GB of memory.\n",
    "We can filter by term *dynamics* instead of just relying on .\n",
    "We can also limit the 1-tuples and 2-tuples independently, reserving 15,000 terms for each.\n",
    "2-tuples currently make up the majority of our counts, but are not inherently more important than 1-tuples."
   ]
  },
  {
   "cell_type": "code",
   "execution_count": 9,
   "metadata": {},
   "outputs": [],
   "source": [
    "#plt.plot([t._dp[y] for y in range(1950,2015)])"
   ]
  },
  {
   "cell_type": "code",
   "execution_count": 10,
   "metadata": {},
   "outputs": [],
   "source": [
    "target_N = 5000"
   ]
  },
  {
   "cell_type": "code",
   "execution_count": 11,
   "metadata": {},
   "outputs": [],
   "source": [
    "terms = cc.items('t')\n",
    "counts = np.array([ cc(t=t) for t in terms ])\n",
    "cdict = {t:cc(t=t) for t in terms}"
   ]
  },
  {
   "cell_type": "code",
   "execution_count": 12,
   "metadata": {},
   "outputs": [
    {
     "data": {
      "image/png": "[encoded data removed]",
      "text/plain": [
       "<Figure size 432x288 with 1 Axes>"
      ]
     },
     "metadata": {},
     "output_type": "display_data"
    }
   ],
   "source": [
    "plt.hist(counts[counts<500], bins=50, log=True);"
   ]
  },
  {
   "cell_type": "code",
   "execution_count": 13,
   "metadata": {},
   "outputs": [],
   "source": [
    "tup1 = [x for x in terms if '-' not in x]\n",
    "tup2 = [x for x in terms if '-' in x]"
   ]
  },
  {
   "cell_type": "code",
   "execution_count": 14,
   "metadata": {},
   "outputs": [],
   "source": [
    "tup1_top = sorted(tup1, key=lambda x:cdict[x])[-target_N//2: ]\n",
    "tup2_top = sorted(tup2, key=lambda x:cdict[x])[-target_N//2: ]"
   ]
  },
  {
   "cell_type": "code",
   "execution_count": 15,
   "metadata": {},
   "outputs": [],
   "source": [
    "terms_to_keep = tup1_top + tup2_top"
   ]
  },
  {
   "cell_type": "code",
   "execution_count": 16,
   "metadata": {},
   "outputs": [],
   "source": [
    "import pickle\n",
    "\n",
    "with open('terms2.pickle', 'wb') as outf:\n",
    "    pickle.dump(terms_to_keep, outf)"
   ]
  },
  {
   "cell_type": "code",
   "execution_count": 28,
   "metadata": {},
   "outputs": [
    {
     "data": {
      "text/plain": [
       "['younger',\n",
       " 'order-and',\n",
       " 'growth',\n",
       " 'exists',\n",
       " 'reasoning',\n",
       " 'concerns',\n",
       " 'diffusion',\n",
       " 'model-with',\n",
       " 'are-different',\n",
       " 'emphasis-the']"
      ]
     },
     "execution_count": 28,
     "metadata": {},
     "output_type": "execute_result"
    }
   ],
   "source": [
    "sample( terms_to_keep, 10 )"
   ]
  },
  {
   "cell_type": "markdown",
   "metadata": {},
   "source": [
    "# recount with fuller detail"
   ]
  },
  {
   "cell_type": "markdown",
   "metadata": {},
   "source": [
    "on my desktop computer this takes way too much time"
   ]
  },
  {
   "cell_type": "code",
   "execution_count": 1,
   "metadata": {},
   "outputs": [],
   "source": [
    "from counter import counter"
   ]
  },
  {
   "cell_type": "code",
   "execution_count": 2,
   "metadata": {},
   "outputs": [],
   "source": [
    "import pickle\n",
    "\n",
    "with open('terms.pickle', 'rb') as inf:\n",
    "    terms_to_keep = pickle.load(inf)"
   ]
  },
  {
   "cell_type": "code",
   "execution_count": 4,
   "metadata": {},
   "outputs": [
    {
     "name": "stdout",
     "output_type": "stream",
     "text": [
      "Blank counter with no name\n"
     ]
    }
   ],
   "source": [
    "c = counter()"
   ]
  },
  {
   "cell_type": "code",
   "execution_count": 5,
   "metadata": {},
   "outputs": [
    {
     "name": "stdout",
     "output_type": "stream",
     "text": [
      "Will print updated statistics every 20 documents.\n",
      "Iterating over  248380 documents\n",
      "Document 0 ... \n",
      "\n",
      "Document 20 ... \n",
      "\t('fy',): shape = (18,), avg[>0] = 1630.1, total size = 0.0M\n",
      "\t('t',): shape = (891,), avg[>0] = 31.5, total size = 0.0M\n",
      "\t('t1', 't2'): shape = (891, 891), avg[>0] = 15.5, total size = 0.8M\n",
      "\t('t1', 't2', 'fy'): shape = (891, 891, 18), avg[>0] = 5.5, total size = 14.3M\n",
      "Document 40 ... \n",
      "\t('fy',): shape = (33,), avg[>0] = 1913.2, total size = 0.0M\n",
      "\t('t',): shape = (1113,), avg[>0] = 57.6, total size = 0.0M\n",
      "\t('t1', 't2'): shape = (1113, 1113), avg[>0] = 24.2, total size = 1.2M\n",
      "\t('t1', 't2', 'fy'): shape = (1113, 1113, 33), avg[>0] = 5.9, total size = 40.9M\n",
      "Document 60 ... \n",
      "\t('fy',): shape = (51,), avg[>0] = 2008.2, total size = 0.0M\n",
      "\t('t',): shape = (1113,), avg[>0] = 86.2, total size = 0.0M\n",
      "\t('t1', 't2'): shape = (1113, 1113), avg[>0] = 33.1, total size = 1.2M\n",
      "\t('t1', 't2', 'fy'): shape = (1113, 1113, 51), avg[>0] = 5.9, total size = 63.2M\n",
      "Document 80 ... \n",
      "\t('fy',): shape = (51,), avg[>0] = 2250.1, total size = 0.0M\n",
      "\t('t',): shape = (1113,), avg[>0] = 116.4, total size = 0.0M\n",
      "\t('t1', 't2'): shape = (1113, 1113), avg[>0] = 41.2, total size = 1.2M\n",
      "\t('t1', 't2', 'fy'): shape = (1113, 1113, 51), avg[>0] = 6.0, total size = 63.2M\n",
      "Document 100 ... \n",
      "\t('fy',): shape = (63,), avg[>0] = 2572.9, total size = 0.0M\n",
      "\t('t',): shape = (1113,), avg[>0] = 145.8, total size = 0.0M\n",
      "\t('t1', 't2'): shape = (1113, 1113), avg[>0] = 49.1, total size = 1.2M\n",
      "\t('t1', 't2', 'fy'): shape = (1113, 1113, 63), avg[>0] = 6.2, total size = 78.0M\n",
      "Document 120 ... \n",
      "\t('fy',): shape = (63,), avg[>0] = 2979.3, total size = 0.0M\n",
      "\t('t',): shape = (1113,), avg[>0] = 177.7, total size = 0.0M\n",
      "\t('t1', 't2'): shape = (1113, 1113), avg[>0] = 57.5, total size = 1.2M\n",
      "\t('t1', 't2', 'fy'): shape = (1113, 1113, 63), avg[>0] = 6.5, total size = 78.0M\n",
      "Document 140 ... \n",
      "\t('fy',): shape = (63,), avg[>0] = 3311.0, total size = 0.0M\n",
      "\t('t',): shape = (1113,), avg[>0] = 207.1, total size = 0.0M\n",
      "\t('t1', 't2'): shape = (1113, 1113), avg[>0] = 64.8, total size = 1.2M\n",
      "\t('t1', 't2', 'fy'): shape = (1113, 1113, 63), avg[>0] = 6.7, total size = 78.0M\n",
      "Document 160 ... \n",
      "\t('fy',): shape = (78,), avg[>0] = 3510.7, total size = 0.0M\n",
      "\t('t',): shape = (1113,), avg[>0] = 237.4, total size = 0.0M\n",
      "\t('t1', 't2'): shape = (1113, 1113), avg[>0] = 72.7, total size = 1.2M\n",
      "\t('t1', 't2', 'fy'): shape = (1113, 1113, 78), avg[>0] = 6.8, total size = 96.6M\n",
      "Document 180 ... \n",
      "\t('fy',): shape = (78,), avg[>0] = 3719.8, total size = 0.0M\n",
      "\t('t',): shape = (1113,), avg[>0] = 266.5, total size = 0.0M\n",
      "\t('t1', 't2'): shape = (1113, 1113), avg[>0] = 79.8, total size = 1.2M\n",
      "\t('t1', 't2', 'fy'): shape = (1113, 1113, 78), avg[>0] = 6.8, total size = 96.6M\n",
      "Document 200 ... \n",
      "\t('fy',): shape = (78,), avg[>0] = 4003.4, total size = 0.0M\n",
      "\t('t',): shape = (1113,), avg[>0] = 298.9, total size = 0.0M\n",
      "\t('t1', 't2'): shape = (1113, 1113), avg[>0] = 87.8, total size = 1.2M\n",
      "\t('t1', 't2', 'fy'): shape = (1113, 1113, 78), avg[>0] = 7.1, total size = 96.6M\n",
      "Document 220 ... \n",
      "\t('fy',): shape = (78,), avg[>0] = 4208.1, total size = 0.0M\n",
      "\t('t',): shape = (1113,), avg[>0] = 326.6, total size = 0.0M\n",
      "\t('t1', 't2'): shape = (1113, 1113), avg[>0] = 94.5, total size = 1.2M\n",
      "\t('t1', 't2', 'fy'): shape = (1113, 1113, 78), avg[>0] = 7.2, total size = 96.6M\n",
      "Document 240 ... \n",
      "\t('fy',): shape = (97,), avg[>0] = 4407.1, total size = 0.0M\n",
      "\t('t',): shape = (1113,), avg[>0] = 355.4, total size = 0.0M\n",
      "\t('t1', 't2'): shape = (1113, 1113), avg[>0] = 101.3, total size = 1.2M\n",
      "\t('t1', 't2', 'fy'): shape = (1113, 1113, 97), avg[>0] = 7.3, total size = 120.2M\n",
      "Document 260 ... \n",
      "\t('fy',): shape = (97,), avg[>0] = 4658.7, total size = 0.0M\n",
      "\t('t',): shape = (1113,), avg[>0] = 384.3, total size = 0.0M\n",
      "\t('t1', 't2'): shape = (1113, 1113), avg[>0] = 108.7, total size = 1.2M\n",
      "\t('t1', 't2', 'fy'): shape = (1113, 1113, 97), avg[>0] = 7.4, total size = 120.2M\n",
      "Document 280 ... \n",
      "\t('fy',): shape = (97,), avg[>0] = 4872.8, total size = 0.0M\n",
      "\t('t',): shape = (1113,), avg[>0] = 411.4, total size = 0.0M\n",
      "\t('t1', 't2'): shape = (1113, 1113), avg[>0] = 115.4, total size = 1.2M\n",
      "\t('t1', 't2', 'fy'): shape = (1113, 1113, 97), avg[>0] = 7.6, total size = 120.2M\n",
      "Document 300 ... \n",
      "\t('fy',): shape = (97,), avg[>0] = 5094.9, total size = 0.0M\n",
      "\t('t',): shape = (1113,), avg[>0] = 440.4, total size = 0.0M\n",
      "\t('t1', 't2'): shape = (1113, 1113), avg[>0] = 122.5, total size = 1.2M\n",
      "\t('t1', 't2', 'fy'): shape = (1113, 1113, 97), avg[>0] = 7.7, total size = 120.2M\n",
      "Document 320 ... \n",
      "\t('fy',): shape = (97,), avg[>0] = 5409.7, total size = 0.0M\n",
      "\t('t',): shape = (1113,), avg[>0] = 473.0, total size = 0.0M\n",
      "\t('t1', 't2'): shape = (1113, 1113), avg[>0] = 130.5, total size = 1.2M\n",
      "\t('t1', 't2', 'fy'): shape = (1113, 1113, 97), avg[>0] = 7.9, total size = 120.2M\n",
      "Document 340 ... \n",
      "\t('fy',): shape = (97,), avg[>0] = 5824.1, total size = 0.0M\n",
      "\t('t',): shape = (1113,), avg[>0] = 509.2, total size = 0.0M\n",
      "\t('t1', 't2'): shape = (1113, 1113), avg[>0] = 139.4, total size = 1.2M\n",
      "\t('t1', 't2', 'fy'): shape = (1113, 1113, 97), avg[>0] = 8.2, total size = 120.2M\n",
      "Document 360 ... \n",
      "\t('fy',): shape = (97,), avg[>0] = 6195.0, total size = 0.0M\n",
      "\t('t',): shape = (1113,), avg[>0] = 540.6, total size = 0.0M\n",
      "\t('t1', 't2'): shape = (1113, 1113), avg[>0] = 147.5, total size = 1.2M\n",
      "\t('t1', 't2', 'fy'): shape = (1113, 1113, 97), avg[>0] = 8.4, total size = 120.2M\n",
      "Document 380 ... \n",
      "\t('fy',): shape = (97,), avg[>0] = 6330.4, total size = 0.0M\n",
      "\t('t',): shape = (1113,), avg[>0] = 571.4, total size = 0.0M\n",
      "\t('t1', 't2'): shape = (1113, 1113), avg[>0] = 155.2, total size = 1.2M\n",
      "\t('t1', 't2', 'fy'): shape = (1113, 1113, 97), avg[>0] = 8.6, total size = 120.2M\n",
      "Document 400 ... \n",
      "\t('fy',): shape = (97,), avg[>0] = 6754.4, total size = 0.0M\n",
      "\t('t',): shape = (1113,), avg[>0] = 609.7, total size = 0.0M\n",
      "\t('t1', 't2'): shape = (1113, 1113), avg[>0] = 164.5, total size = 1.2M\n",
      "\t('t1', 't2', 'fy'): shape = (1113, 1113, 97), avg[>0] = 8.8, total size = 120.2M\n",
      "Document 420 ... \n",
      "\t('fy',): shape = (97,), avg[>0] = 7040.4, total size = 0.0M\n",
      "\t('t',): shape = (1113,), avg[>0] = 642.6, total size = 0.0M\n",
      "\t('t1', 't2'): shape = (1113, 1113), avg[>0] = 172.8, total size = 1.2M\n",
      "\t('t1', 't2', 'fy'): shape = (1113, 1113, 97), avg[>0] = 9.1, total size = 120.2M\n",
      "Document 440 ... \n",
      "\t('fy',): shape = (97,), avg[>0] = 7412.0, total size = 0.0M\n",
      "\t('t',): shape = (1113,), avg[>0] = 676.5, total size = 0.0M\n",
      "\t('t1', 't2'): shape = (1113, 1113), avg[>0] = 181.0, total size = 1.2M\n",
      "\t('t1', 't2', 'fy'): shape = (1113, 1113, 97), avg[>0] = 9.3, total size = 120.2M\n",
      "Document 460 ... \n",
      "\t('fy',): shape = (97,), avg[>0] = 7788.9, total size = 0.0M\n",
      "\t('t',): shape = (1113,), avg[>0] = 710.9, total size = 0.0M\n",
      "\t('t1', 't2'): shape = (1113, 1113), avg[>0] = 189.3, total size = 1.2M\n",
      "\t('t1', 't2', 'fy'): shape = (1113, 1113, 97), avg[>0] = 9.6, total size = 120.2M\n",
      "Document 480 ... \n",
      "\t('fy',): shape = (97,), avg[>0] = 7975.1, total size = 0.0M\n",
      "\t('t',): shape = (1113,), avg[>0] = 743.9, total size = 0.0M\n",
      "\t('t1', 't2'): shape = (1113, 1113), avg[>0] = 197.4, total size = 1.2M\n",
      "\t('t1', 't2', 'fy'): shape = (1113, 1113, 97), avg[>0] = 9.8, total size = 120.2M\n",
      "Document 500 ... \n",
      "\t('fy',): shape = (97,), avg[>0] = 8186.2, total size = 0.0M\n",
      "\t('t',): shape = (1113,), avg[>0] = 771.8, total size = 0.0M\n",
      "\t('t1', 't2'): shape = (1113, 1113), avg[>0] = 204.0, total size = 1.2M\n",
      "\t('t1', 't2', 'fy'): shape = (1113, 1113, 97), avg[>0] = 9.9, total size = 120.2M\n",
      "Document 520 ... \n",
      "\t('fy',): shape = (97,), avg[>0] = 8291.6, total size = 0.0M\n",
      "\t('t',): shape = (1113,), avg[>0] = 798.4, total size = 0.0M\n",
      "\t('t1', 't2'): shape = (1113, 1113), avg[>0] = 210.3, total size = 1.2M\n",
      "\t('t1', 't2', 'fy'): shape = (1113, 1113, 97), avg[>0] = 10.0, total size = 120.2M\n",
      "Document 540 ... \n",
      "\t('fy',): shape = (97,), avg[>0] = 8611.4, total size = 0.0M\n",
      "\t('t',): shape = (1113,), avg[>0] = 828.3, total size = 0.0M\n",
      "\t('t1', 't2'): shape = (1113, 1113), avg[>0] = 217.7, total size = 1.2M\n",
      "\t('t1', 't2', 'fy'): shape = (1113, 1113, 97), avg[>0] = 10.1, total size = 120.2M\n",
      "Document 560 ... \n",
      "\t('fy',): shape = (97,), avg[>0] = 8894.3, total size = 0.0M\n",
      "\t('t',): shape = (1113,), avg[>0] = 855.6, total size = 0.0M\n",
      "\t('t1', 't2'): shape = (1113, 1113), avg[>0] = 224.3, total size = 1.2M\n",
      "\t('t1', 't2', 'fy'): shape = (1113, 1113, 97), avg[>0] = 10.3, total size = 120.2M\n",
      "Document 580 ... \n",
      "\t('fy',): shape = (97,), avg[>0] = 9226.2, total size = 0.0M\n",
      "\t('t',): shape = (1113,), avg[>0] = 887.5, total size = 0.0M\n",
      "\t('t1', 't2'): shape = (1113, 1113), avg[>0] = 232.0, total size = 1.2M\n",
      "\t('t1', 't2', 'fy'): shape = (1113, 1113, 97), avg[>0] = 10.4, total size = 120.2M\n",
      "Document 600 ... \n",
      "\t('fy',): shape = (97,), avg[>0] = 9491.1, total size = 0.0M\n",
      "\t('t',): shape = (1113,), avg[>0] = 913.0, total size = 0.0M\n",
      "\t('t1', 't2'): shape = (1113, 1113), avg[>0] = 238.0, total size = 1.2M\n",
      "\t('t1', 't2', 'fy'): shape = (1113, 1113, 97), avg[>0] = 10.5, total size = 120.2M\n",
      "Document 620 ... \n",
      "\t('fy',): shape = (97,), avg[>0] = 9786.8, total size = 0.0M\n",
      "\t('t',): shape = (1113,), avg[>0] = 941.4, total size = 0.0M\n",
      "\t('t1', 't2'): shape = (1113, 1113), avg[>0] = 244.7, total size = 1.2M\n",
      "\t('t1', 't2', 'fy'): shape = (1113, 1113, 97), avg[>0] = 10.7, total size = 120.2M\n",
      "Document 640 ... \n",
      "\t('fy',): shape = (97,), avg[>0] = 10199.1, total size = 0.0M\n",
      "\t('t',): shape = (1113,), avg[>0] = 981.1, total size = 0.0M\n",
      "\t('t1', 't2'): shape = (1113, 1113), avg[>0] = 254.5, total size = 1.2M\n",
      "\t('t1', 't2', 'fy'): shape = (1113, 1113, 97), avg[>0] = 10.9, total size = 120.2M\n",
      "Document 660 ... \n",
      "\t('fy',): shape = (97,), avg[>0] = 10457.2, total size = 0.0M\n",
      "\t('t',): shape = (1113,), avg[>0] = 1016.4, total size = 0.0M\n",
      "\t('t1', 't2'): shape = (1113, 1113), avg[>0] = 263.1, total size = 1.2M\n",
      "\t('t1', 't2', 'fy'): shape = (1113, 1113, 97), avg[>0] = 11.2, total size = 120.2M\n",
      "Document 680 ... \n",
      "\t('fy',): shape = (121,), avg[>0] = 10634.1, total size = 0.0M\n",
      "\t('t',): shape = (1113,), avg[>0] = 1044.2, total size = 0.0M\n",
      "\t('t1', 't2'): shape = (1113, 1113), avg[>0] = 269.7, total size = 1.2M\n",
      "\t('t1', 't2', 'fy'): shape = (1113, 1113, 121), avg[>0] = 11.3, total size = 149.9M\n",
      "Document 700 ... \n",
      "\t('fy',): shape = (121,), avg[>0] = 10843.6, total size = 0.0M\n",
      "\t('t',): shape = (1113,), avg[>0] = 1075.7, total size = 0.0M\n",
      "\t('t1', 't2'): shape = (1113, 1113), avg[>0] = 277.4, total size = 1.2M\n",
      "\t('t1', 't2', 'fy'): shape = (1113, 1113, 121), avg[>0] = 11.4, total size = 149.9M\n",
      "Document 720 ... \n",
      "\t('fy',): shape = (121,), avg[>0] = 11204.2, total size = 0.0M\n",
      "\t('t',): shape = (1113,), avg[>0] = 1111.4, total size = 0.0M\n",
      "\t('t1', 't2'): shape = (1113, 1113), avg[>0] = 286.0, total size = 1.2M\n",
      "\t('t1', 't2', 'fy'): shape = (1113, 1113, 121), avg[>0] = 11.6, total size = 149.9M\n",
      "Document 740 ... \n",
      "\t('fy',): shape = (121,), avg[>0] = 11413.4, total size = 0.0M\n",
      "\t('t',): shape = (1113,), avg[>0] = 1143.6, total size = 0.0M\n",
      "\t('t1', 't2'): shape = (1113, 1113), avg[>0] = 293.7, total size = 1.2M\n",
      "\t('t1', 't2', 'fy'): shape = (1113, 1113, 121), avg[>0] = 11.8, total size = 149.9M\n",
      "Document 760 ... \n",
      "\t('fy',): shape = (121,), avg[>0] = 11697.9, total size = 0.0M\n",
      "\t('t',): shape = (1113,), avg[>0] = 1172.1, total size = 0.0M\n",
      "\t('t1', 't2'): shape = (1113, 1113), avg[>0] = 300.5, total size = 1.2M\n",
      "\t('t1', 't2', 'fy'): shape = (1113, 1113, 121), avg[>0] = 12.0, total size = 149.9M\n",
      "Document 780 ... \n",
      "\t('fy',): shape = (121,), avg[>0] = 12005.6, total size = 0.0M\n",
      "\t('t',): shape = (1113,), avg[>0] = 1203.0, total size = 0.0M\n",
      "\t('t1', 't2'): shape = (1113, 1113), avg[>0] = 307.8, total size = 1.2M\n",
      "\t('t1', 't2', 'fy'): shape = (1113, 1113, 121), avg[>0] = 12.2, total size = 149.9M\n",
      "Document 800 ... \n",
      "\t('fy',): shape = (121,), avg[>0] = 12172.5, total size = 0.0M\n",
      "\t('t',): shape = (1113,), avg[>0] = 1244.1, total size = 0.0M\n",
      "\t('t1', 't2'): shape = (1113, 1113), avg[>0] = 317.8, total size = 1.2M\n",
      "\t('t1', 't2', 'fy'): shape = (1113, 1113, 121), avg[>0] = 12.4, total size = 149.9M\n",
      "Document 820 ... \n",
      "\t('fy',): shape = (121,), avg[>0] = 12495.1, total size = 0.0M\n",
      "\t('t',): shape = (1113,), avg[>0] = 1277.1, total size = 0.0M\n",
      "\t('t1', 't2'): shape = (1113, 1113), avg[>0] = 325.7, total size = 1.2M\n",
      "\t('t1', 't2', 'fy'): shape = (1113, 1113, 121), avg[>0] = 12.5, total size = 149.9M\n",
      "Document 840 ... \n",
      "\t('fy',): shape = (121,), avg[>0] = 12841.5, total size = 0.0M\n",
      "\t('t',): shape = (1113,), avg[>0] = 1312.5, total size = 0.0M\n",
      "\t('t1', 't2'): shape = (1113, 1113), avg[>0] = 334.2, total size = 1.2M\n",
      "\t('t1', 't2', 'fy'): shape = (1113, 1113, 121), avg[>0] = 12.7, total size = 149.9M\n",
      "Document 860 ... \n",
      "\t('fy',): shape = (121,), avg[>0] = 12982.7, total size = 0.0M\n",
      "\t('t',): shape = (1113,), avg[>0] = 1339.9, total size = 0.0M\n",
      "\t('t1', 't2'): shape = (1113, 1113), avg[>0] = 340.6, total size = 1.2M\n",
      "\t('t1', 't2', 'fy'): shape = (1113, 1113, 121), avg[>0] = 12.8, total size = 149.9M\n",
      "Document 880 ... \n",
      "\t('fy',): shape = (121,), avg[>0] = 13011.1, total size = 0.0M\n",
      "\t('t',): shape = (1113,), avg[>0] = 1368.9, total size = 0.0M\n",
      "\t('t1', 't2'): shape = (1113, 1113), avg[>0] = 347.4, total size = 1.2M\n",
      "\t('t1', 't2', 'fy'): shape = (1113, 1113, 121), avg[>0] = 13.0, total size = 149.9M\n",
      "Document 900 ... \n",
      "\t('fy',): shape = (121,), avg[>0] = 13279.3, total size = 0.0M\n",
      "\t('t',): shape = (1113,), avg[>0] = 1397.1, total size = 0.0M\n",
      "\t('t1', 't2'): shape = (1113, 1113), avg[>0] = 354.0, total size = 1.2M\n",
      "\t('t1', 't2', 'fy'): shape = (1113, 1113, 121), avg[>0] = 13.1, total size = 149.9M\n",
      "Document 920 ... \n",
      "\t('fy',): shape = (121,), avg[>0] = 13530.2, total size = 0.0M\n",
      "\t('t',): shape = (1113,), avg[>0] = 1423.5, total size = 0.0M\n",
      "\t('t1', 't2'): shape = (1113, 1113), avg[>0] = 360.2, total size = 1.2M\n",
      "\t('t1', 't2', 'fy'): shape = (1113, 1113, 121), avg[>0] = 13.2, total size = 149.9M\n",
      "Document 940 ... \n",
      "\t('fy',): shape = (121,), avg[>0] = 13844.9, total size = 0.0M\n",
      "\t('t',): shape = (1113,), avg[>0] = 1456.6, total size = 0.0M\n",
      "\t('t1', 't2'): shape = (1113, 1113), avg[>0] = 368.0, total size = 1.2M\n",
      "\t('t1', 't2', 'fy'): shape = (1113, 1113, 121), avg[>0] = 13.3, total size = 149.9M\n",
      "Document 960 ... \n",
      "\t('fy',): shape = (121,), avg[>0] = 14143.3, total size = 0.0M\n",
      "\t('t',): shape = (1113,), avg[>0] = 1488.0, total size = 0.0M\n",
      "\t('t1', 't2'): shape = (1113, 1113), avg[>0] = 375.5, total size = 1.2M\n",
      "\t('t1', 't2', 'fy'): shape = (1113, 1113, 121), avg[>0] = 13.5, total size = 149.9M\n",
      "Document 980 ... \n",
      "\t('fy',): shape = (121,), avg[>0] = 14415.3, total size = 0.0M\n",
      "\t('t',): shape = (1113,), avg[>0] = 1516.6, total size = 0.0M\n",
      "\t('t1', 't2'): shape = (1113, 1113), avg[>0] = 382.2, total size = 1.2M\n",
      "\t('t1', 't2', 'fy'): shape = (1113, 1113, 121), avg[>0] = 13.6, total size = 149.9M\n",
      "Document 1000 ... \n",
      "\t('fy',): shape = (121,), avg[>0] = 14573.9, total size = 0.0M\n",
      "\t('t',): shape = (1113,), avg[>0] = 1547.9, total size = 0.0M\n",
      "\t('t1', 't2'): shape = (1113, 1113), avg[>0] = 389.5, total size = 1.2M\n",
      "\t('t1', 't2', 'fy'): shape = (1113, 1113, 121), avg[>0] = 13.7, total size = 149.9M\n",
      "Document 1020 ... \n",
      "\t('fy',): shape = (121,), avg[>0] = 14891.8, total size = 0.0M\n",
      "\t('t',): shape = (1113,), avg[>0] = 1581.7, total size = 0.0M\n",
      "\t('t1', 't2'): shape = (1113, 1113), avg[>0] = 397.5, total size = 1.2M\n",
      "\t('t1', 't2', 'fy'): shape = (1113, 1113, 121), avg[>0] = 13.9, total size = 149.9M\n",
      "Document 1040 ... \n",
      "\t('fy',): shape = (121,), avg[>0] = 15166.8, total size = 0.0M\n",
      "\t('t',): shape = (1113,), avg[>0] = 1610.9, total size = 0.0M\n",
      "\t('t1', 't2'): shape = (1113, 1113), avg[>0] = 404.1, total size = 1.2M\n",
      "\t('t1', 't2', 'fy'): shape = (1113, 1113, 121), avg[>0] = 14.1, total size = 149.9M\n",
      "Document 1060 ... \n",
      "\t('fy',): shape = (121,), avg[>0] = 15431.1, total size = 0.0M\n",
      "\t('t',): shape = (1113,), avg[>0] = 1639.0, total size = 0.0M\n",
      "\t('t1', 't2'): shape = (1113, 1113), avg[>0] = 410.8, total size = 1.2M\n",
      "\t('t1', 't2', 'fy'): shape = (1113, 1113, 121), avg[>0] = 14.2, total size = 149.9M\n",
      "Document 1080 ... \n",
      "\t('fy',): shape = (121,), avg[>0] = 15594.2, total size = 0.0M\n",
      "\t('t',): shape = (1113,), avg[>0] = 1671.9, total size = 0.0M\n",
      "\t('t1', 't2'): shape = (1113, 1113), avg[>0] = 418.6, total size = 1.2M\n",
      "\t('t1', 't2', 'fy'): shape = (1113, 1113, 121), avg[>0] = 14.4, total size = 149.9M\n",
      "Document 1100 ... \n",
      "\t('fy',): shape = (121,), avg[>0] = 15764.2, total size = 0.0M\n",
      "\t('t',): shape = (1113,), avg[>0] = 1705.9, total size = 0.0M\n",
      "\t('t1', 't2'): shape = (1113, 1113), avg[>0] = 426.6, total size = 1.2M\n",
      "\t('t1', 't2', 'fy'): shape = (1113, 1113, 121), avg[>0] = 14.5, total size = 149.9M\n",
      "Document 1120 ... \n",
      "\t('fy',): shape = (121,), avg[>0] = 15858.3, total size = 0.0M\n",
      "\t('t',): shape = (1113,), avg[>0] = 1732.0, total size = 0.0M\n",
      "\t('t1', 't2'): shape = (1113, 1113), avg[>0] = 432.5, total size = 1.2M\n",
      "\t('t1', 't2', 'fy'): shape = (1113, 1113, 121), avg[>0] = 14.6, total size = 149.9M\n",
      "Document 1140 ... \n",
      "\t('fy',): shape = (121,), avg[>0] = 16115.6, total size = 0.0M\n",
      "\t('t',): shape = (1113,), avg[>0] = 1760.1, total size = 0.0M\n",
      "\t('t1', 't2'): shape = (1113, 1113), avg[>0] = 438.9, total size = 1.2M\n",
      "\t('t1', 't2', 'fy'): shape = (1113, 1113, 121), avg[>0] = 14.7, total size = 149.9M\n",
      "Document 1160 ... \n",
      "\t('fy',): shape = (121,), avg[>0] = 16367.1, total size = 0.0M\n",
      "\t('t',): shape = (1113,), avg[>0] = 1787.6, total size = 0.0M\n",
      "\t('t1', 't2'): shape = (1113, 1113), avg[>0] = 445.3, total size = 1.2M\n",
      "\t('t1', 't2', 'fy'): shape = (1113, 1113, 121), avg[>0] = 14.8, total size = 149.9M\n",
      "Document 1180 ... \n",
      "\t('fy',): shape = (121,), avg[>0] = 16585.3, total size = 0.0M\n",
      "\t('t',): shape = (1113,), avg[>0] = 1811.4, total size = 0.0M\n",
      "\t('t1', 't2'): shape = (1113, 1113), avg[>0] = 450.8, total size = 1.2M\n",
      "\t('t1', 't2', 'fy'): shape = (1113, 1113, 121), avg[>0] = 14.9, total size = 149.9M\n",
      "Document 1200 ... \n",
      "\t('fy',): shape = (121,), avg[>0] = 16887.6, total size = 0.0M\n",
      "\t('t',): shape = (1113,), avg[>0] = 1844.4, total size = 0.0M\n",
      "\t('t1', 't2'): shape = (1113, 1113), avg[>0] = 458.5, total size = 1.2M\n",
      "\t('t1', 't2', 'fy'): shape = (1113, 1113, 121), avg[>0] = 15.0, total size = 149.9M\n",
      "Document 1220 ... \n",
      "\t('fy',): shape = (121,), avg[>0] = 17154.0, total size = 0.0M\n",
      "\t('t',): shape = (1113,), avg[>0] = 1873.5, total size = 0.0M\n",
      "\t('t1', 't2'): shape = (1113, 1113), avg[>0] = 465.2, total size = 1.2M\n",
      "\t('t1', 't2', 'fy'): shape = (1113, 1113, 121), avg[>0] = 15.2, total size = 149.9M\n",
      "Document 1240 ... \n",
      "\t('fy',): shape = (121,), avg[>0] = 17445.8, total size = 0.0M\n",
      "\t('t',): shape = (1113,), avg[>0] = 1905.4, total size = 0.0M\n",
      "\t('t1', 't2'): shape = (1113, 1113), avg[>0] = 472.6, total size = 1.2M\n",
      "\t('t1', 't2', 'fy'): shape = (1113, 1113, 121), avg[>0] = 15.3, total size = 149.9M\n",
      "Document 1260 ... \n",
      "\t('fy',): shape = (121,), avg[>0] = 17715.6, total size = 0.0M\n",
      "\t('t',): shape = (1113,), avg[>0] = 1934.9, total size = 0.0M\n",
      "\t('t1', 't2'): shape = (1113, 1113), avg[>0] = 479.5, total size = 1.2M\n",
      "\t('t1', 't2', 'fy'): shape = (1113, 1113, 121), avg[>0] = 15.4, total size = 149.9M\n",
      "Document 1280 ... \n",
      "\t('fy',): shape = (121,), avg[>0] = 17826.1, total size = 0.0M\n",
      "\t('t',): shape = (1113,), avg[>0] = 1964.8, total size = 0.0M\n",
      "\t('t1', 't2'): shape = (1113, 1113), avg[>0] = 486.5, total size = 1.2M\n",
      "\t('t1', 't2', 'fy'): shape = (1113, 1113, 121), avg[>0] = 15.6, total size = 149.9M\n",
      "Document 1300 ... \n",
      "\t('fy',): shape = (121,), avg[>0] = 17949.0, total size = 0.0M\n",
      "\t('t',): shape = (1113,), avg[>0] = 1996.3, total size = 0.0M\n",
      "\t('t1', 't2'): shape = (1113, 1113), avg[>0] = 493.9, total size = 1.2M\n",
      "\t('t1', 't2', 'fy'): shape = (1113, 1113, 121), avg[>0] = 15.6, total size = 149.9M\n"
     ]
    }
   ],
   "source": [
    "c.count(    \n",
    "    jstor_zip_base = \"G:/My Drive/2020 ORGANISATION/1. PROJECTS/qualitative analysis of literature/110 CITATION ANALYSIS/000 data/sociology jstor\",\n",
    "\n",
    "    SKIP_N = 50 - 1,\n",
    "    #MAX_N = 100*100,\n",
    "    combinations = [\n",
    "        #('fy','t'),\n",
    "        #('fj','t'),\n",
    "        #('fj','fy','t'),\n",
    "        ('t1', 't2'),\n",
    "        ('t1', 't2', 'fy'),\n",
    "        ('fy',),\n",
    "        ('t',),\n",
    "        #('fj',),\n",
    "    ],\n",
    "\n",
    "    term_whitelist = terms_to_keep,\n",
    "    WINDOW=250\n",
    "\n",
    ")"
   ]
  },
  {
   "cell_type": "code",
   "execution_count": 6,
   "metadata": {},
   "outputs": [
    {
     "data": {
      "text/plain": [
       "2009487"
      ]
     },
     "execution_count": 6,
     "metadata": {},
     "output_type": "execute_result"
    }
   ],
   "source": [
    "c.counts[('t',)].sum()"
   ]
  },
  {
   "cell_type": "code",
   "execution_count": 7,
   "metadata": {},
   "outputs": [],
   "source": [
    "c.save_counts('count-cooc-2pct-250')"
   ]
  },
  {
   "cell_type": "code",
   "execution_count": null,
   "metadata": {},
   "outputs": [],
   "source": [
    "c2 = counter()"
   ]
  },
  {
   "cell_type": "code",
   "execution_count": null,
   "metadata": {},
   "outputs": [
    {
     "name": "stdout",
     "output_type": "stream",
     "text": [
      "Will print updated statistics every 20 documents.\n"
     ]
    }
   ],
   "source": [
    "c2.count(    \n",
    "    jstor_zip_base = \"G:/My Drive/2020 ORGANISATION/1. PROJECTS/qualitative analysis of literature/110 CITATION ANALYSIS/000 data/sociology jstor\",\n",
    "\n",
    "    SKIP_N = 50 - 1,\n",
    "    #MAX_N = 100*100,\n",
    "    combinations = [\n",
    "        #('fy','t'),\n",
    "        #('fj','t'),\n",
    "        #('fj','fy','t'),\n",
    "        ('t1', 't2'),\n",
    "        ('t1', 't2', 'fy'),\n",
    "        ('fy',),\n",
    "        ('t',),\n",
    "        #('fj',),\n",
    "    ],\n",
    "\n",
    "    term_whitelist = terms_to_keep,\n",
    "    WINDOW=25\n",
    "\n",
    ")"
   ]
  },
  {
   "cell_type": "code",
   "execution_count": null,
   "metadata": {},
   "outputs": [],
   "source": [
    "c.save_counts('count-cooc-2pct-25')"
   ]
  }
 ],
 "metadata": {
  "kernelspec": {
   "display_name": "PyCharm (qualitative analysis of literature)",
   "language": "python",
   "name": "pycharm-b9c7981b"
  },
  "language_info": {
   "codemirror_mode": {
    "name": "ipython",
    "version": 3
   },
   "file_extension": ".py",
   "mimetype": "text/x-python",
   "name": "python",
   "nbconvert_exporter": "python",
   "pygments_lexer": "ipython3",
   "version": "3.7.5"
  }
 },
 "nbformat": 4,
 "nbformat_minor": 4
}
