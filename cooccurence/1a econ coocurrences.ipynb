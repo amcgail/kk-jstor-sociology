{
 "cells": [
  {
   "cell_type": "code",
   "execution_count": 1,
   "metadata": {
    "ExecuteTime": {
     "end_time": "2021-11-14T22:37:06.918375Z",
     "start_time": "2021-11-14T22:37:06.515453Z"
    }
   },
   "outputs": [
    {
     "ename": "ModuleNotFoundError",
     "evalue": "No module named 'counter'",
     "output_type": "error",
     "traceback": [
      "\u001b[1;31m---------------------------------------------------------------------------\u001b[0m",
      "\u001b[1;31mModuleNotFoundError\u001b[0m                       Traceback (most recent call last)",
      "\u001b[1;32m<ipython-input-1-63c92da1004b>\u001b[0m in \u001b[0;36m<module>\u001b[1;34m\u001b[0m\n\u001b[1;32m----> 1\u001b[1;33m \u001b[1;32mfrom\u001b[0m \u001b[0mcounter\u001b[0m \u001b[1;32mimport\u001b[0m \u001b[0mcounter\u001b[0m\u001b[1;33m\u001b[0m\u001b[1;33m\u001b[0m\u001b[0m\n\u001b[0m\u001b[0;32m      2\u001b[0m \u001b[1;32mfrom\u001b[0m \u001b[0mcommon_imports\u001b[0m \u001b[1;32mimport\u001b[0m \u001b[1;33m*\u001b[0m\u001b[1;33m\u001b[0m\u001b[1;33m\u001b[0m\u001b[0m\n\u001b[0;32m      3\u001b[0m \u001b[1;32mfrom\u001b[0m \u001b[0mpathlib\u001b[0m \u001b[1;32mimport\u001b[0m \u001b[0mPath\u001b[0m\u001b[1;33m\u001b[0m\u001b[1;33m\u001b[0m\u001b[0m\n\u001b[0;32m      4\u001b[0m \u001b[1;32mfrom\u001b[0m \u001b[0mcsv\u001b[0m \u001b[1;32mimport\u001b[0m \u001b[0mDictReader\u001b[0m\u001b[1;33m\u001b[0m\u001b[1;33m\u001b[0m\u001b[0m\n",
      "\u001b[1;31mModuleNotFoundError\u001b[0m: No module named 'counter'"
     ]
    }
   ],
   "source": [
    "from counter import counter\n",
    "from common_imports import *\n",
    "from pathlib import Path\n",
    "from csv import DictReader"
   ]
  },
  {
   "cell_type": "code",
   "execution_count": 9,
   "metadata": {},
   "outputs": [],
   "source": [
    "from common_imports import *\n",
    "import regex as re"
   ]
  },
  {
   "cell_type": "code",
   "execution_count": 10,
   "metadata": {},
   "outputs": [],
   "source": [
    "path = \"C:/Users/amcga/Downloads/econ WoS stratified top 20k\""
   ]
  },
  {
   "cell_type": "code",
   "execution_count": 11,
   "metadata": {},
   "outputs": [],
   "source": [
    "#%pip install wosfile"
   ]
  },
  {
   "cell_type": "code",
   "execution_count": 19,
   "metadata": {},
   "outputs": [],
   "source": [
    "target_N = 1500"
   ]
  },
  {
   "cell_type": "markdown",
   "metadata": {},
   "source": [
    "# what terms"
   ]
  },
  {
   "cell_type": "code",
   "execution_count": 12,
   "metadata": {},
   "outputs": [
    {
     "name": "stdout",
     "output_type": "stream",
     "text": [
      "Loading count-trends-top20k-strat30-WoS-econ from disk...\n"
     ]
    }
   ],
   "source": [
    "cc = counter('count-trends-top20k-strat30-WoS-econ')"
   ]
  },
  {
   "cell_type": "code",
   "execution_count": 13,
   "metadata": {},
   "outputs": [
    {
     "name": "stdout",
     "output_type": "stream",
     "text": [
      "[(('fy', 't'), (151, 235352)), (('fj', 't'), (713, 235352)), (('fy',), (151,)), (('t',), (235352,)), (('fj',), (713,))]\n"
     ]
    }
   ],
   "source": [
    "cc.summarize()"
   ]
  },
  {
   "cell_type": "code",
   "execution_count": 20,
   "metadata": {},
   "outputs": [
    {
     "data": {
      "text/plain": [
       "array([374, 42, 6, ..., 0, 0, 0], dtype=object)"
      ]
     },
     "execution_count": 20,
     "metadata": {},
     "output_type": "execute_result"
    }
   ],
   "source": [
    "cc.counts[('t',)]"
   ]
  },
  {
   "cell_type": "code",
   "execution_count": 21,
   "metadata": {},
   "outputs": [
    {
     "name": "stdout",
     "output_type": "stream",
     "text": [
      "competition, theory, theory-of, to-the, taxation, returns, and-economic, economic, of-the, in-the, social, under, international, utility, quality, prices, problem, demand, approach, american, industrial, business, and-the, problems, market, distribution, on-the, value, between, unemployment, price, changes, economics, economics-of, production, state, capital, investment, analysis, analysis-of, supply, foreign, urban, money, effects, effects-of, trade, labor, policies, banking, states, growth, general, welfare, effect, effect-of, agricultural, behavior, survey, theory-and, change, exchange, british, for-the, public, demand-for, labour, income, financial, monetary, policy, history, corporate, the-united, united, united-states, credit, productivity, pricing, political, economy, application, power, system, study, study-of, the-case, development, wages, government, role-of, industry, costs, evidence, dynamic, rates, history-of, stock, management, research, insurance, world, regulation, employment, national, a-study, equilibrium, migration, control, housing, efficiency, uncertainty, finance, agriculture, health, markets, from-the, inflation, tests, case-of, countries, consumer, model, implications, models, energy, economies, impact, impact-of, earnings, consumption, using, performance, comment, structure, firms, determinants, determinants-of, alternative, choice, empirical, regional, information, environmental, estimation, evidence-from, optimal, model-of, unitedstates, spatial\n"
     ]
    }
   ],
   "source": [
    "topis = np.argsort( cc.counts[('t',)] )[-150:]\n",
    "print(\", \".join( [k for k,i in cc.ids['t'].items() if i in topis] ))"
   ]
  },
  {
   "cell_type": "code",
   "execution_count": 22,
   "metadata": {},
   "outputs": [],
   "source": [
    "terms_to_keepi = set(np.argsort( cc.counts[('t',)] )[-500:])\n",
    "terms_to_keep = [k for k,i in cc.ids['t'].items() if i in terms_to_keepi] "
   ]
  },
  {
   "cell_type": "code",
   "execution_count": 23,
   "metadata": {},
   "outputs": [],
   "source": [
    "terms = cc.items('t')\n",
    "counts = np.array([ cc(t=t) for t in terms ])\n",
    "cdict = {t:cc(t=t) for t in terms}"
   ]
  },
  {
   "cell_type": "code",
   "execution_count": 24,
   "metadata": {},
   "outputs": [
    {
     "name": "stdout",
     "output_type": "stream",
     "text": [
      "201594 terms, total\n"
     ]
    }
   ],
   "source": [
    "print(len(terms), 'terms, total')"
   ]
  },
  {
   "cell_type": "code",
   "execution_count": 25,
   "metadata": {},
   "outputs": [
    {
     "data": {
      "image/png": "[encoded data removed]",
      "text/plain": [
       "<Figure size 432x288 with 1 Axes>"
      ]
     },
     "metadata": {
      "needs_background": "light"
     },
     "output_type": "display_data"
    }
   ],
   "source": [
    "plt.hist(counts[counts<500], bins=50, log=True);"
   ]
  },
  {
   "cell_type": "code",
   "execution_count": 26,
   "metadata": {},
   "outputs": [],
   "source": [
    "tup1 = [x for x in terms if '-' not in x]\n",
    "tup2 = [x for x in terms if '-' in x]"
   ]
  },
  {
   "cell_type": "code",
   "execution_count": 27,
   "metadata": {},
   "outputs": [],
   "source": [
    "tup1_top = sorted(tup1, key=lambda x:cdict[x])[-target_N//2: ]\n",
    "tup2_top = sorted(tup2, key=lambda x:cdict[x])[-target_N//2: ]"
   ]
  },
  {
   "cell_type": "code",
   "execution_count": 28,
   "metadata": {},
   "outputs": [],
   "source": [
    "terms_to_keep = tup1_top + tup2_top"
   ]
  },
  {
   "cell_type": "code",
   "execution_count": 29,
   "metadata": {},
   "outputs": [
    {
     "data": {
      "text/plain": [
       "1500"
      ]
     },
     "execution_count": 29,
     "metadata": {},
     "output_type": "execute_result"
    }
   ],
   "source": [
    "len(terms_to_keep)"
   ]
  },
  {
   "cell_type": "code",
   "execution_count": 30,
   "metadata": {},
   "outputs": [
    {
     "name": "stdout",
     "output_type": "stream",
     "text": [
      "['cooperative', 'workers', 'in-industry', 'india', 'solution', 'cyclical', 'relation-between', 'case-for', 'foreign', 'in-rural', 'special', 'and-industry', 'and-some', 'wealth-and', 'lifecycle', 'the-new', 'supply-and', 'model', 'simultaneous', 'without']\n"
     ]
    }
   ],
   "source": [
    "print(sample(terms_to_keep, 20))"
   ]
  },
  {
   "cell_type": "code",
   "execution_count": 31,
   "metadata": {},
   "outputs": [],
   "source": [
    "with open('terms_to_keep.econ.pickle', 'wb') as outf:\n",
    "    pickle.dump(terms_to_keep, outf)"
   ]
  },
  {
   "cell_type": "markdown",
   "metadata": {},
   "source": [
    "# helper code"
   ]
  },
  {
   "cell_type": "code",
   "execution_count": 32,
   "metadata": {},
   "outputs": [
    {
     "data": {
      "text/plain": [
       "['this-is',\n",
       " 'is-an',\n",
       " 'an-example',\n",
       " 'example',\n",
       " 'example-of',\n",
       " 'of-the',\n",
       " 'the-tuples',\n",
       " 'tuples',\n",
       " 'tuples-we',\n",
       " 'we-are',\n",
       " 'are-processing',\n",
       " 'processing']"
      ]
     },
     "execution_count": 32,
     "metadata": {},
     "output_type": "execute_result"
    }
   ],
   "source": [
    "stopwords = set()\n",
    "\n",
    "def get_tups(s, whitelist=None, stopwords=None):\n",
    "    \n",
    "    if stopwords is None:\n",
    "        stopwords = set()\n",
    "    \n",
    "    sp = s.lower() # debating lowercaseing..\n",
    "    sp = re.sub(\"[^a-zA-Z\\s]+\", \"\", sp)  # removing extraneous characters\n",
    "    sp = re.sub(\"\\s+\", \" \", sp)  # removing extra characters\n",
    "    sp = sp.strip()\n",
    "    sp = sp.split()  # splitting into words\n",
    "\n",
    "    #sp = [x for x in sp if x not in stopwords]  # strip stopwords... not yet though!\n",
    "    # sp = [x for x in sp if len(x) >= 3 ] # strip short words # don't do this now, we need these for tuples.\n",
    "\n",
    "    # print(len(tups),c['contextPure'], \"---\", tups)\n",
    "\n",
    "    # keep everything in order\n",
    "    tups = [\"-\".join(list(x)) for x in zip(sp[:-1], sp[1:])]  # two-word *ordered* tuples\n",
    "    intermingle = [ sp[i//2] if i%2==0 else tups[(i-1)//2] for i in range(2*len(sp)-1) ]\n",
    "    \n",
    "    intermingle = [x for x in intermingle if len(x) >= 5 ] # strip short words\n",
    "    if stopwords is not None:\n",
    "        intermingle = [x for x in intermingle if x not in stopwords]\n",
    "    if whitelist is not None:\n",
    "        intermingle = [x for x in intermingle if x in whitelist]\n",
    "    \n",
    "    return intermingle\n",
    "\n",
    "get_tups(\"This is an example of the tuples we are processing...\")"
   ]
  },
  {
   "cell_type": "code",
   "execution_count": 33,
   "metadata": {},
   "outputs": [],
   "source": [
    "def count(counter, values, terms, combinations):\n",
    "    \n",
    "    term_pair_combinations = [x for x in combinations if ('t1' in x or 't2' in x)]\n",
    "    single_term_combinations = [x for x in combinations if not ('t1' in x or 't2' in x)]\n",
    "    \n",
    "    for i1,t1 in enumerate(terms):\n",
    "        val = dict(values)\n",
    "        val['t'] = t1\n",
    "        cc.cnt(val, combinations=single_term_combinations)\n",
    "\n",
    "        if len(term_pair_combinations):\n",
    "            for t2 in tups[i1+1:i1+1+250]:\n",
    "                val = dict(values)\n",
    "                val['t1'] = t1\n",
    "                val['t2'] = t2\n",
    "                cc.cnt(val, combinations=term_pair_combinations)\n",
    "    "
   ]
  },
  {
   "cell_type": "code",
   "execution_count": 34,
   "metadata": {},
   "outputs": [],
   "source": [
    "with open('terms_to_keep.econ.pickle', 'rb') as inf:\n",
    "    terms_to_keep = pickle.load(inf)"
   ]
  },
  {
   "cell_type": "markdown",
   "metadata": {},
   "source": [
    "# Count"
   ]
  },
  {
   "cell_type": "code",
   "execution_count": 35,
   "metadata": {},
   "outputs": [
    {
     "name": "stdout",
     "output_type": "stream",
     "text": [
      "Blank counter with no name\n",
      "Record 0\n",
      "[]\n",
      "Record 10,000\n",
      "[(('fy', 't'), (33, 1391)), (('fj', 't'), (12, 1391)), (('fy',), (33,)), (('t',), (1391,)), (('fj',), (12,)), (('t1', 't2'), (1391, 1391)), (('fy', 't1', 't2'), (33, 1391, 1391))]\n",
      "Record 20,000\n",
      "[(('fy', 't'), (63, 1738)), (('fj', 't'), (188, 1738)), (('fy',), (63,)), (('t',), (1738,)), (('fj',), (188,)), (('t1', 't2'), (1738, 1738)), (('fy', 't1', 't2'), (63, 1738, 1738))]\n",
      "Record 30,000\n",
      "[(('fy', 't'), (63, 1738)), (('fj', 't'), (235, 1738)), (('fy',), (63,)), (('t',), (1738,)), (('fj',), (235,)), (('t1', 't2'), (1738, 1738)), (('fy', 't1', 't2'), (63, 1738, 1738))]\n",
      "Record 40,000\n",
      "[(('fy', 't'), (97, 1738)), (('fj', 't'), (235, 1738)), (('fy',), (97,)), (('t',), (1738,)), (('fj',), (235,)), (('t1', 't2'), (1738, 1738)), (('fy', 't1', 't2'), (97, 1738, 1738))]\n",
      "Record 50,000\n",
      "[(('fy', 't'), (97, 1738)), (('fj', 't'), (235, 1738)), (('fy',), (97,)), (('t',), (1738,)), (('fj',), (235,)), (('t1', 't2'), (1738, 1738)), (('fy', 't1', 't2'), (97, 1738, 1738))]\n",
      "Record 60,000\n",
      "[(('fy', 't'), (151, 1738)), (('fj', 't'), (571, 1738)), (('fy',), (151,)), (('t',), (1738,)), (('fj',), (571,)), (('t1', 't2'), (1738, 1738)), (('fy', 't1', 't2'), (151, 1738, 1738))]\n",
      "Record 70,000\n",
      "[(('fy', 't'), (151, 1738)), (('fj', 't'), (713, 1738)), (('fy',), (151,)), (('t',), (1738,)), (('fj',), (713,)), (('t1', 't2'), (1738, 1738)), (('fy', 't1', 't2'), (151, 1738, 1738))]\n"
     ]
    }
   ],
   "source": [
    "import glob\n",
    "import wosfile\n",
    "from collections import Counter\n",
    "\n",
    "# Create a list of all relevant files. Our folder may contain multiple export files.\n",
    "files = glob.glob(path + \"/**/*.txt\")\n",
    "\n",
    "cc = counter()\n",
    "\n",
    "# wosfile will read each file in the list in turn and yield each record\n",
    "# for further handling\n",
    "for i, rec in enumerate(wosfile.records_from(files)):\n",
    "    \n",
    "    if i % 10000 == 0:\n",
    "        print(f'Record {i:,}')\n",
    "        cc.summarize()\n",
    "    # Records are very thin wrappers around a standard Python dict,\n",
    "    # whose keys are the WoS field tags.\n",
    "    # Here we look at the SC field (subject categories) and update our counter\n",
    "    # with the categories in each record.\n",
    "\n",
    "    tups = get_tups( rec.get('TI'), whitelist=terms_to_keep )\n",
    "    year = int(rec.get('PY'))\n",
    "    journal = rec.get('SO').lower()\n",
    "    \n",
    "    count(\n",
    "        cc,\n",
    "        values = {\n",
    "            'fy': year,\n",
    "            'fj': journal,\n",
    "        },\n",
    "        terms = tups,\n",
    "        combinations = [\n",
    "            ('fy','t'),\n",
    "            ('fj','t'),\n",
    "            ('fy',),\n",
    "            ('t',),\n",
    "            ('fj',),\n",
    "            ('t1','t2'),\n",
    "            #('fj','t1','t2'),\n",
    "            ('fy','t1','t2')\n",
    "        ]\n",
    "    )"
   ]
  },
  {
   "cell_type": "code",
   "execution_count": 36,
   "metadata": {},
   "outputs": [],
   "source": [
    "cc.save_counts('count-cooc-top20k-strat30-WoS-econ')"
   ]
  }
 ],
 "metadata": {
  "kernelspec": {
   "display_name": "Python 3",
   "language": "python",
   "name": "python3"
  },
  "language_info": {
   "codemirror_mode": {
    "name": "ipython",
    "version": 3
   },
   "file_extension": ".py",
   "mimetype": "text/x-python",
   "name": "python",
   "nbconvert_exporter": "python",
   "pygments_lexer": "ipython3",
   "version": "3.9.2"
  },
  "varInspector": {
   "cols": {
    "lenName": 16,
    "lenType": 16,
    "lenVar": 40
   },
   "kernels_config": {
    "python": {
     "delete_cmd_postfix": "",
     "delete_cmd_prefix": "del ",
     "library": "var_list.py",
     "varRefreshCmd": "print(var_dic_list())"
    },
    "r": {
     "delete_cmd_postfix": ") ",
     "delete_cmd_prefix": "rm(",
     "library": "var_list.r",
     "varRefreshCmd": "cat(var_dic_list()) "
    }
   },
   "types_to_exclude": [
    "module",
    "function",
    "builtin_function_or_method",
    "instance",
    "_Feature"
   ],
   "window_display": false
  }
 },
 "nbformat": 4,
 "nbformat_minor": 4
}
